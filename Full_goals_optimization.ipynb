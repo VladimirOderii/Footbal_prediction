{
 "cells": [
  {
   "cell_type": "code",
   "execution_count": 1,
   "metadata": {},
   "outputs": [],
   "source": [
    "# Import all the necessary libraries\n",
    "\n",
    "import numpy as np\n",
    "import pandas as pd\n",
    "from datetime import datetime as dt\n",
    "import itertools\n",
    "import seaborn as sns\n",
    "import statsmodels.api as sm\n",
    "import statsmodels.formula.api as smf\n",
    "\n",
    "%matplotlib inline"
   ]
  },
  {
   "cell_type": "code",
   "execution_count": 2,
   "metadata": {},
   "outputs": [],
   "source": [
    "# Read data from the CSV into a dataframe\n",
    "\n",
    "loc = 'C:/Users/vova_oderii/Desktop/Data_science/Football_prediction/Data/'\n",
    "\n",
    "raw_data_1 = pd.read_csv(loc + 'League_1_2017_2018.csv')\n",
    "raw_data_2 = pd.read_csv(loc + 'League_1_2018_2019.csv')\n",
    "raw_data_3 = pd.read_csv(loc + 'League_1_2019_2020.csv')\n",
    "raw_data_4 = pd.read_csv(loc + 'League_2_2017_2018.csv')\n",
    "raw_data_5 = pd.read_csv(loc + 'League_2_2018_2019.csv')\n",
    "raw_data_6 = pd.read_csv(loc + 'League_2_2019_2020.csv')\n",
    "raw_data_7 = pd.read_csv(loc + 'Conference_2017_2018.csv')\n",
    "raw_data_8 = pd.read_csv(loc + 'Conference_2018_2019.csv')\n",
    "raw_data_9 = pd.read_csv(loc + 'Conference_2019_2020.csv')\n",
    "raw_data_10 = pd.read_csv(loc + 'Championship_2017_2018.csv')\n",
    "raw_data_11 = pd.read_csv(loc + 'Championship_2018_2019.csv')\n",
    "raw_data_12 = pd.read_csv(loc + 'Championship_2019_2020.csv')\n",
    "raw_data_13 = pd.read_csv(loc + 'Primier_2017_2018.csv')\n",
    "raw_data_14 = pd.read_csv(loc + 'Primier_2018_2019.csv')\n",
    "raw_data_15 = pd.read_csv(loc + 'Primier_2019_2020.csv')\n",
    "raw_data_16 = pd.read_csv(loc + 'B1_2017_2018.csv')\n",
    "raw_data_17 = pd.read_csv(loc + 'B1_2018_2019.csv')\n",
    "raw_data_18 = pd.read_csv(loc + 'B1_2019_2020.csv')\n",
    "raw_data_19 = pd.read_csv(loc + 'D1_2017_2018.csv')\n",
    "raw_data_20 = pd.read_csv(loc + 'D1_2018_2019.csv')\n",
    "raw_data_21 = pd.read_csv(loc + 'D1_2019_2020.csv')\n",
    "raw_data_22 = pd.read_csv(loc + 'D2_2017_2018.csv')\n",
    "raw_data_23 = pd.read_csv(loc + 'D2_2018_2019.csv')\n",
    "raw_data_24 = pd.read_csv(loc + 'D2_2019_2020.csv')\n",
    "raw_data_25 = pd.read_csv(loc + 'F1_2017_2018.csv')\n",
    "raw_data_26 = pd.read_csv(loc + 'F1_2018_2019.csv')\n",
    "raw_data_27 = pd.read_csv(loc + 'F1_2019_2020.csv')\n",
    "raw_data_28 = pd.read_csv(loc + 'F2_2017_2018.csv')\n",
    "raw_data_29 = pd.read_csv(loc + 'F2_2018_2019.csv')\n",
    "raw_data_30 = pd.read_csv(loc + 'F2_2019_2020.csv')\n",
    "raw_data_31 = pd.read_csv(loc + 'G1_2017_2018.csv')\n",
    "raw_data_32 = pd.read_csv(loc + 'G1_2018_2019.csv')\n",
    "raw_data_33 = pd.read_csv(loc + 'G1_2019_2020.csv')\n",
    "raw_data_34 = pd.read_csv(loc + 'I1_2017_2018.csv')\n",
    "raw_data_35 = pd.read_csv(loc + 'I1_2018_2019.csv')\n",
    "raw_data_36 = pd.read_csv(loc + 'I1_2019_2020.csv')\n",
    "raw_data_37 = pd.read_csv(loc + 'I2_2017_2018.csv')\n",
    "raw_data_38 = pd.read_csv(loc + 'I2_2018_2019.csv')\n",
    "raw_data_39 = pd.read_csv(loc + 'I2_2019_2020.csv')\n",
    "raw_data_40 = pd.read_csv(loc + 'N1_2017_2018.csv')\n",
    "raw_data_41 = pd.read_csv(loc + 'N1_2018_2019.csv')\n",
    "raw_data_42 = pd.read_csv(loc + 'N1_2019_2020.csv')\n",
    "raw_data_43 = pd.read_csv(loc + 'P1_2017_2018.csv')\n",
    "raw_data_44 = pd.read_csv(loc + 'P1_2018_2019.csv')\n",
    "raw_data_45 = pd.read_csv(loc + 'P1_2019_2020.csv')\n",
    "raw_data_46 = pd.read_csv(loc + 'SC0_2017_2018.csv')\n",
    "raw_data_47 = pd.read_csv(loc + 'SC0_2018_2019.csv')\n",
    "raw_data_48 = pd.read_csv(loc + 'SC0_2019_2020.csv')\n",
    "raw_data_49 = pd.read_csv(loc + 'SC1_2017_2018.csv')\n",
    "raw_data_50 = pd.read_csv(loc + 'SC1_2018_2019.csv')\n",
    "raw_data_51 = pd.read_csv(loc + 'SC1_2019_2020.csv')\n",
    "raw_data_52 = pd.read_csv(loc + 'SC2_2017_2018.csv')\n",
    "raw_data_53 = pd.read_csv(loc + 'SC2_2018_2019.csv')\n",
    "raw_data_54 = pd.read_csv(loc + 'SC2_2019_2020.csv')\n",
    "raw_data_55 = pd.read_csv(loc + 'SC3_2017_2018.csv')\n",
    "raw_data_56 = pd.read_csv(loc + 'SC3_2018_2019.csv')\n",
    "raw_data_57 = pd.read_csv(loc + 'SC3_2019_2020.csv')\n",
    "raw_data_58 = pd.read_csv(loc + 'SP1_2017_2018.csv')\n",
    "raw_data_59 = pd.read_csv(loc + 'SP1_2018_2019.csv')\n",
    "raw_data_60 = pd.read_csv(loc + 'SP1_2019_2020.csv')\n",
    "raw_data_61 = pd.read_csv(loc + 'SP2_2017_2018.csv')\n",
    "raw_data_62 = pd.read_csv(loc + 'SP2_2018_2019.csv')\n",
    "raw_data_63 = pd.read_csv(loc + 'SP2_2019_2020.csv')\n",
    "raw_data_64 = pd.read_csv(loc + 'T1_2017_2018.csv')\n",
    "raw_data_65 = pd.read_csv(loc + 'T1_2018_2019.csv')\n",
    "raw_data_66 = pd.read_csv(loc + 'T1_2019_2020.csv')"
   ]
  },
  {
   "cell_type": "code",
   "execution_count": 3,
   "metadata": {},
   "outputs": [],
   "source": [
    "# England Leagues1 and 2\n",
    "playing_stat1=pd.DataFrame()\n",
    "playing_stat1 = pd.concat([raw_data_1,\n",
    "                          raw_data_2,raw_data_3,\n",
    "                          raw_data_4,raw_data_5, raw_data_6,raw_data_7, raw_data_8,raw_data_9,raw_data_10,raw_data_11,\n",
    "                          raw_data_12,raw_data_13,raw_data_14,raw_data_15], ignore_index=True, sort=False)"
   ]
  },
  {
   "cell_type": "code",
   "execution_count": 4,
   "metadata": {},
   "outputs": [],
   "source": [
    "# Left only game related data\n",
    "columns = ['HomeTeam',\n",
    " 'AwayTeam',\n",
    " 'HTHG',\n",
    " 'HTAG', 'HTSHR', 'HTSAR', 'FTHG', 'FTAG']"
   ]
  },
  {
   "cell_type": "code",
   "execution_count": 5,
   "metadata": {},
   "outputs": [],
   "source": [
    "#Gets all the statistics related to gameplay\n",
    "playing_stat1['HTSHR']=playing_stat1['FTHG']-playing_stat1['HTHG']\n",
    "playing_stat1['HTSAR']=playing_stat1['FTAG']-playing_stat1['HTAG']\n",
    "playing_stat1 = playing_stat1[columns]\n",
    "playing_stat1=playing_stat1.dropna()"
   ]
  },
  {
   "cell_type": "code",
   "execution_count": 6,
   "metadata": {},
   "outputs": [
    {
     "name": "stdout",
     "output_type": "stream",
     "text": [
      "['E0', 'E1', 'E2', 'E3', 'EC', 'SC0', 'SC1', 'SC2', 'SC3', 'D1', 'D2', 'SP1', 'SP2', 'I1', 'I2', 'F1', 'F2', 'B1', 'N1', 'P1', 'T1', 'G1']\n"
     ]
    }
   ],
   "source": [
    "dfname=pd.ExcelFile(loc + 'all-euro-data-2019-2020.xlsx')\n",
    "print(dfname.sheet_names)\n",
    "Schedule=pd.read_excel(loc + 'all-euro-data-2019-2020.xlsx')\n",
    "for items in dfname.sheet_names[1:]:\n",
    "    dfnew=pd.read_excel(loc + 'all-euro-data-2019-2020.xlsx',sheet_name=items)\n",
    "    Schedule=Schedule.append(dfnew, ignore_index=True, sort=False)"
   ]
  },
  {
   "cell_type": "code",
   "execution_count": 73,
   "metadata": {},
   "outputs": [
    {
     "name": "stdout",
     "output_type": "stream",
     "text": [
      "['E0', 'E1', 'E2', 'E3', 'EC', 'SC0', 'SC1', 'SC2', 'SC3', 'D1', 'D2', 'I1', 'I2', 'SP1', 'SP2', 'F1', 'F2', 'B1', 'N1', 'P1', 'T1', 'G1']\n"
     ]
    }
   ],
   "source": [
    "dfname=pd.ExcelFile(loc + 'all-euro-data-2018-2019.xlsx')\n",
    "print(dfname.sheet_names)\n",
    "for items in dfname.sheet_names:\n",
    "    dfnew=pd.read_excel(loc + 'all-euro-data-2018-2019.xlsx',sheet_name=items)\n",
    "    Schedule=Schedule.append(dfnew, ignore_index=True, sort=False)"
   ]
  },
  {
   "cell_type": "code",
   "execution_count": 74,
   "metadata": {},
   "outputs": [],
   "source": [
    "Schedule = Schedule.sort_values(by = 'Div', ascending = True)"
   ]
  },
  {
   "cell_type": "code",
   "execution_count": 75,
   "metadata": {},
   "outputs": [],
   "source": [
    "Schedule_England=Schedule[(Schedule.Div=='E0')|(Schedule.Div=='E1')|(Schedule.Div=='E2')|(Schedule.Div=='E3')|(Schedule.Div=='EC')]"
   ]
  },
  {
   "cell_type": "code",
   "execution_count": 76,
   "metadata": {},
   "outputs": [],
   "source": [
    "Schedule_Scotland=Schedule[(Schedule.Div=='SC0')|(Schedule.Div=='SC1')|(Schedule.Div=='SC2')|(Schedule.Div=='SC3')]"
   ]
  },
  {
   "cell_type": "code",
   "execution_count": 77,
   "metadata": {},
   "outputs": [],
   "source": [
    "Schedule_Deuchland=Schedule[(Schedule.Div=='D1')|(Schedule.Div=='D2')]"
   ]
  },
  {
   "cell_type": "code",
   "execution_count": 78,
   "metadata": {},
   "outputs": [],
   "source": [
    "Schedule_Spain=Schedule[(Schedule.Div=='SP1')|(Schedule.Div=='SP2')]"
   ]
  },
  {
   "cell_type": "code",
   "execution_count": 79,
   "metadata": {},
   "outputs": [],
   "source": [
    "Schedule_Italy=Schedule[(Schedule.Div=='I1')|(Schedule.Div=='I2')]"
   ]
  },
  {
   "cell_type": "code",
   "execution_count": 80,
   "metadata": {},
   "outputs": [],
   "source": [
    "Schedule_France=Schedule[(Schedule.Div=='F1')|(Schedule.Div=='F2')]"
   ]
  },
  {
   "cell_type": "code",
   "execution_count": 81,
   "metadata": {},
   "outputs": [],
   "source": [
    "Schedule_Belgium=Schedule[(Schedule.Div=='B1')]"
   ]
  },
  {
   "cell_type": "code",
   "execution_count": 82,
   "metadata": {},
   "outputs": [],
   "source": [
    "Schedule_Netherlands=Schedule[(Schedule.Div=='N1')]"
   ]
  },
  {
   "cell_type": "code",
   "execution_count": 83,
   "metadata": {},
   "outputs": [],
   "source": [
    "Schedule_Portugal=Schedule[(Schedule.Div=='P1')]"
   ]
  },
  {
   "cell_type": "code",
   "execution_count": 84,
   "metadata": {},
   "outputs": [],
   "source": [
    "Schedule_Turkey=Schedule[(Schedule.Div=='T1')]"
   ]
  },
  {
   "cell_type": "code",
   "execution_count": 85,
   "metadata": {},
   "outputs": [],
   "source": [
    "Schedule_Greece=Schedule[(Schedule.Div=='G1')]"
   ]
  },
  {
   "cell_type": "code",
   "execution_count": 86,
   "metadata": {},
   "outputs": [],
   "source": [
    "Results=pd.DataFrame()"
   ]
  },
  {
   "cell_type": "code",
   "execution_count": null,
   "metadata": {
    "scrolled": false
   },
   "outputs": [],
   "source": [
    "# Simulation England\n",
    "# England first half\n",
    "goal_model_data_first_half = pd.concat([playing_stat1[['HomeTeam','AwayTeam','HTHG']].assign(home=1).rename(\n",
    "            columns={'HomeTeam':'team', 'AwayTeam':'opponent','HTHG':'goals'}),\n",
    "           playing_stat1[['AwayTeam','HomeTeam','HTAG']].assign(home=0).rename(\n",
    "            columns={'AwayTeam':'team', 'HomeTeam':'opponent','HTAG':'goals'})])\n",
    "\n",
    "poisson_model_first_half = smf.glm(formula=\"goals ~ home + team + opponent\", data=goal_model_data_first_half, \n",
    "                        family=sm.families.Poisson()).fit()\n",
    "# England second half\n",
    "goal_model_data_sec_half = pd.concat([playing_stat1[['HomeTeam','AwayTeam','HTSHR']].assign(home_s=1).rename(\n",
    "            columns={'HomeTeam':'team_s', 'AwayTeam':'opponent_s','HTSHR':'goals_s'}),\n",
    "           playing_stat1[['AwayTeam','HomeTeam','HTSAR']].assign(home_s=0).rename(\n",
    "            columns={'AwayTeam':'team_s', 'HomeTeam':'opponent_s','HTSAR':'goals_s'})])\n",
    "\n",
    "poisson_model_sec_half = smf.glm(formula=\"goals_s ~ home_s + team_s + opponent_s\", data=goal_model_data_sec_half, \n",
    "                        family=sm.families.Poisson()).fit()\n",
    "\n",
    "# England full time\n",
    "goal_model_data_full_match = pd.concat([playing_stat1[['HomeTeam','AwayTeam','FTHG']].assign(home_f=1).rename(\n",
    "            columns={'HomeTeam':'team_f', 'AwayTeam':'opponent_f','FTHG':'goals_f'}),\n",
    "           playing_stat1[['AwayTeam','HomeTeam','FTAG']].assign(home_f=0).rename(\n",
    "            columns={'AwayTeam':'team_f', 'HomeTeam':'opponent_f','FTAG':'goals_f'})])\n",
    "\n",
    "poisson_model_full_match = smf.glm(formula=\"goals_f ~ home_f + team_f + opponent_f\", data=goal_model_data_full_match, \n",
    "                        family=sm.families.Poisson()).fit()\n",
    "\n",
    "# Chances count\n",
    "for i in  range(len(Schedule_England['HomeTeam'])): \n",
    "    try:\n",
    "        Ch1_half_time=poisson_model_first_half.predict(pd.DataFrame(data={'team': Schedule_England['HomeTeam'][i], 'opponent': Schedule_England['AwayTeam'][i],\n",
    "                                      'home':1},index=[1]))\n",
    "        Ch2_half_time=poisson_model_first_half.predict(pd.DataFrame(data={'team': Schedule_England['AwayTeam'][i], 'opponent': Schedule_England['HomeTeam'][i],\n",
    "                                       'home':0},index=[1]))\n",
    "        Ch1_sec_half=poisson_model_sec_half.predict(pd.DataFrame(data={'team_s': Schedule_England['HomeTeam'][i], 'opponent_s': Schedule_England['AwayTeam'][i],\n",
    "                                      'home_s':1},index=[1]))\n",
    "        Ch2_sec_half=poisson_model_sec_half.predict(pd.DataFrame(data={'team_s': Schedule_England['AwayTeam'][i], 'opponent_s': Schedule_England['HomeTeam'][i],\n",
    "                                       'home_s':0},index=[1]))       \n",
    "        Ch1_full_time=poisson_model_full_match.predict(pd.DataFrame(data={'team_f': Schedule_England['HomeTeam'][i], 'opponent_f': Schedule_England['AwayTeam'][i],\n",
    "                                      'home_f':1},index=[1]))\n",
    "        Ch2_full_time=poisson_model_full_match.predict(pd.DataFrame(data={'team_f': Schedule_England['AwayTeam'][i], 'opponent_f': Schedule_England['HomeTeam'][i],\n",
    "                                       'home_f':0},index=[1]))\n",
    "        \n",
    "        Results=Results.append({'Div':Schedule_England['Div'][i], 'Date':Schedule_England['Date'][i],'HomeTeam':Schedule_England['HomeTeam'][i],\n",
    "                                'AwayTeam':Schedule_England['AwayTeam'][i],'Total_Chance_first':Ch1_half_time[1]+Ch2_half_time[1],\n",
    "                                'HT_Chance_first':Ch1_half_time[1], 'AT_Chance_first':Ch2_half_time[1],'Diff_first':Ch1_half_time[1]-Ch2_half_time[1],\n",
    "                                'Total_Chance_sec':Ch1_sec_half[1]+Ch2_sec_half[1],'HT_Chance_sec':Ch1_sec_half[1], 'AT_Chance_sec':Ch2_sec_half[1],\n",
    "                                'Diff_sec':Ch1_sec_half[1]-Ch2_sec_half[1],\n",
    "                                'Total_Chance':Ch1_full_time[1]+Ch2_full_time[1],'HT_Chance_total':Ch1_full_time[1], 'AT_Chance_total':Ch2_full_time[1],\n",
    "                                'Diff_total':Ch1_full_time[1]-Ch2_full_time[1]},ignore_index=True)\n",
    "        \n",
    "            \n",
    "    except Exception:\n",
    "        k=1"
   ]
  },
  {
   "cell_type": "code",
   "execution_count": 20,
   "metadata": {},
   "outputs": [],
   "source": [
    "#Belgium\n",
    "playing_stat2=pd.DataFrame()\n",
    "playing_stat2 = pd.concat([                  \n",
    "                          raw_data_16,raw_data_17,raw_data_18\n",
    "                         ], ignore_index=True,sort=False)\n",
    "playing_stat2['HTSHR']=playing_stat2['FTHG']-playing_stat2['HTHG']\n",
    "playing_stat2['HTSAR']=playing_stat2['FTAG']-playing_stat2['HTAG']\n",
    "playing_stat2 = playing_stat2[columns]\n",
    "playing_stat2=playing_stat2.dropna()"
   ]
  },
  {
   "cell_type": "code",
   "execution_count": 21,
   "metadata": {},
   "outputs": [],
   "source": [
    "#Belgium  first half\n",
    "goal_model_data_first_half = pd.concat([playing_stat2[['HomeTeam','AwayTeam','HTHG']].assign(home=1).rename(\n",
    "            columns={'HomeTeam':'team', 'AwayTeam':'opponent','HTHG':'goals'}),\n",
    "           playing_stat2[['AwayTeam','HomeTeam','HTAG']].assign(home=0).rename(\n",
    "            columns={'AwayTeam':'team', 'HomeTeam':'opponent','HTAG':'goals'})])\n",
    "\n",
    "poisson_model_first_half = smf.glm(formula=\"goals ~ home + team + opponent\", data=goal_model_data_first_half, \n",
    "                        family=sm.families.Poisson()).fit()\n",
    "# Belgium  second half\n",
    "goal_model_data_sec_half = pd.concat([playing_stat2[['HomeTeam','AwayTeam','HTSHR']].assign(home_s=1).rename(\n",
    "            columns={'HomeTeam':'team_s', 'AwayTeam':'opponent_s','HTSHR':'goals_s'}),\n",
    "           playing_stat2[['AwayTeam','HomeTeam','HTSAR']].assign(home_s=0).rename(\n",
    "            columns={'AwayTeam':'team_s', 'HomeTeam':'opponent_s','HTSAR':'goals_s'})])\n",
    "\n",
    "poisson_model_sec_half = smf.glm(formula=\"goals_s ~ home_s + team_s + opponent_s\", data=goal_model_data_sec_half, \n",
    "                        family=sm.families.Poisson()).fit()\n",
    "\n",
    "# Belgium full time\n",
    "goal_model_data_full_match = pd.concat([playing_stat2[['HomeTeam','AwayTeam','FTHG']].assign(home_f=1).rename(\n",
    "            columns={'HomeTeam':'team_f', 'AwayTeam':'opponent_f','FTHG':'goals_f'}),\n",
    "           playing_stat2[['AwayTeam','HomeTeam','FTAG']].assign(home_f=0).rename(\n",
    "            columns={'AwayTeam':'team_f', 'HomeTeam':'opponent_f','FTAG':'goals_f'})])\n",
    "\n",
    "poisson_model_full_match = smf.glm(formula=\"goals_f ~ home_f + team_f + opponent_f\", data=goal_model_data_full_match, \n",
    "                        family=sm.families.Poisson()).fit()\n",
    "\n",
    "# Chances count\n",
    "for i in  range(Schedule_Belgium.index.values.min(),Schedule_Belgium.index.values.max()): \n",
    "    try:\n",
    "        Ch1_half_time=poisson_model_first_half.predict(pd.DataFrame(data={'team': Schedule_Belgium['HomeTeam'][i], 'opponent': Schedule_Belgium['AwayTeam'][i],\n",
    "                                      'home':1},index=[1]))\n",
    "        Ch2_half_time=poisson_model_first_half.predict(pd.DataFrame(data={'team': Schedule_Belgium['AwayTeam'][i], 'opponent': Schedule_Belgium['HomeTeam'][i],\n",
    "                                       'home':0},index=[1]))\n",
    "        Ch1_sec_half=poisson_model_sec_half.predict(pd.DataFrame(data={'team_s': Schedule_Belgium['HomeTeam'][i], 'opponent_s': Schedule_Belgium['AwayTeam'][i],\n",
    "                                      'home_s':1},index=[1]))\n",
    "        Ch2_sec_half=poisson_model_sec_half.predict(pd.DataFrame(data={'team_s': Schedule_Belgium['AwayTeam'][i], 'opponent_s': Schedule_Belgium['HomeTeam'][i],\n",
    "                                       'home_s':0},index=[1]))       \n",
    "        Ch1_full_time=poisson_model_full_match.predict(pd.DataFrame(data={'team_f': Schedule_Belgium['HomeTeam'][i], 'opponent_f': Schedule_Belgium['AwayTeam'][i],\n",
    "                                      'home_f':1},index=[1]))\n",
    "        Ch2_full_time=poisson_model_full_match.predict(pd.DataFrame(data={'team_f': Schedule_Belgium['AwayTeam'][i], 'opponent_f': Schedule_Belgium['HomeTeam'][i],\n",
    "                                       'home_f':0},index=[1]))\n",
    "        \n",
    "        Results=Results.append({'Div':Schedule_Belgium['Div'][i], 'Date':Schedule_Belgium['Date'][i],'HomeTeam':Schedule_Belgium['HomeTeam'][i],\n",
    "                                'AwayTeam':Schedule_Belgium['AwayTeam'][i],'Total_Chance_first':Ch1_half_time[1]+Ch2_half_time[1],\n",
    "                                'HT_Chance_first':Ch1_half_time[1], 'AT_Chance_first':Ch2_half_time[1],'Diff_first':Ch1_half_time[1]-Ch2_half_time[1],\n",
    "                                'Total_Chance_sec':Ch1_sec_half[1]+Ch2_sec_half[1],'HT_Chance_sec':Ch1_sec_half[1], 'AT_Chance_sec':Ch2_sec_half[1],\n",
    "                                'Diff_sec':Ch1_sec_half[1]-Ch2_sec_half[1],\n",
    "                                'Total_Chance':Ch1_full_time[1]+Ch2_full_time[1],'HT_Chance_total':Ch1_full_time[1], 'AT_Chance_total':Ch2_full_time[1],\n",
    "                                'Diff_total':Ch1_full_time[1]-Ch2_full_time[1]},ignore_index=True)\n",
    "        \n",
    "            \n",
    "    except Exception:\n",
    "        k=1"
   ]
  },
  {
   "cell_type": "code",
   "execution_count": 22,
   "metadata": {},
   "outputs": [],
   "source": [
    "#Germany\n",
    "playing_stat12=pd.DataFrame()\n",
    "playing_stat12 = pd.concat([                  \n",
    "                        raw_data_19,\n",
    "                         raw_data_20,raw_data_21,raw_data_22,raw_data_23,\n",
    "                         raw_data_24\n",
    "                         ], ignore_index=True,sort=False)\n",
    "playing_stat12['HTSHR']=playing_stat12['FTHG']-playing_stat12['HTHG']\n",
    "playing_stat12['HTSAR']=playing_stat12['FTAG']-playing_stat12['HTAG']\n",
    "playing_stat12 = playing_stat12[columns]\n",
    "playing_stat12=playing_stat12.dropna()"
   ]
  },
  {
   "cell_type": "code",
   "execution_count": 23,
   "metadata": {},
   "outputs": [],
   "source": [
    "#Germany first half\n",
    "goal_model_data_first_half = pd.concat([playing_stat12[['HomeTeam','AwayTeam','HTHG']].assign(home=1).rename(\n",
    "            columns={'HomeTeam':'team', 'AwayTeam':'opponent','HTHG':'goals'}),\n",
    "           playing_stat12[['AwayTeam','HomeTeam','HTAG']].assign(home=0).rename(\n",
    "            columns={'AwayTeam':'team', 'HomeTeam':'opponent','HTAG':'goals'})])\n",
    "\n",
    "poisson_model_first_half = smf.glm(formula=\"goals ~ home + team + opponent\", data=goal_model_data_first_half, \n",
    "                        family=sm.families.Poisson()).fit()\n",
    "# Germany second half\n",
    "goal_model_data_sec_half = pd.concat([playing_stat12[['HomeTeam','AwayTeam','HTSHR']].assign(home_s=1).rename(\n",
    "            columns={'HomeTeam':'team_s', 'AwayTeam':'opponent_s','HTSHR':'goals_s'}),\n",
    "           playing_stat12[['AwayTeam','HomeTeam','HTSAR']].assign(home_s=0).rename(\n",
    "            columns={'AwayTeam':'team_s', 'HomeTeam':'opponent_s','HTSAR':'goals_s'})])\n",
    "\n",
    "poisson_model_sec_half = smf.glm(formula=\"goals_s ~ home_s + team_s + opponent_s\", data=goal_model_data_sec_half, \n",
    "                        family=sm.families.Poisson()).fit()\n",
    "\n",
    "#  Germany full time\n",
    "goal_model_data_full_match = pd.concat([playing_stat12[['HomeTeam','AwayTeam','FTHG']].assign(home_f=1).rename(\n",
    "            columns={'HomeTeam':'team_f', 'AwayTeam':'opponent_f','FTHG':'goals_f'}),\n",
    "           playing_stat12[['AwayTeam','HomeTeam','FTAG']].assign(home_f=0).rename(\n",
    "            columns={'AwayTeam':'team_f', 'HomeTeam':'opponent_f','FTAG':'goals_f'})])\n",
    "\n",
    "poisson_model_full_match = smf.glm(formula=\"goals_f ~ home_f + team_f + opponent_f\", data=goal_model_data_full_match, \n",
    "                        family=sm.families.Poisson()).fit()\n",
    "\n",
    "# Chances count\n",
    "for i in  range(Schedule_Deuchland.index.values.min(),Schedule_Deuchland.index.values.max()): \n",
    "    try:\n",
    "        Ch1_half_time=poisson_model_first_half.predict(pd.DataFrame(data={'team': Schedule_Deuchland['HomeTeam'][i], 'opponent': Schedule_Deuchland['AwayTeam'][i],\n",
    "                                      'home':1},index=[1]))\n",
    "        Ch2_half_time=poisson_model_first_half.predict(pd.DataFrame(data={'team': Schedule_Deuchland['AwayTeam'][i], 'opponent': Schedule_Deuchland['HomeTeam'][i],\n",
    "                                       'home':0},index=[1]))\n",
    "        Ch1_sec_half=poisson_model_sec_half.predict(pd.DataFrame(data={'team_s': Schedule_Deuchland['HomeTeam'][i], 'opponent_s': Schedule_Deuchland['AwayTeam'][i],\n",
    "                                      'home_s':1},index=[1]))\n",
    "        Ch2_sec_half=poisson_model_sec_half.predict(pd.DataFrame(data={'team_s': Schedule_Deuchland['AwayTeam'][i], 'opponent_s': Schedule_Deuchland['HomeTeam'][i],\n",
    "                                       'home_s':0},index=[1]))       \n",
    "        Ch1_full_time=poisson_model_full_match.predict(pd.DataFrame(data={'team_f': Schedule_Deuchland['HomeTeam'][i], 'opponent_f': Schedule_Deuchland['AwayTeam'][i],\n",
    "                                      'home_f':1},index=[1]))\n",
    "        Ch2_full_time=poisson_model_full_match.predict(pd.DataFrame(data={'team_f': Schedule_Deuchland['AwayTeam'][i], 'opponent_f': Schedule_Deuchland['HomeTeam'][i],\n",
    "                                       'home_f':0},index=[1]))\n",
    "        \n",
    "        Results=Results.append({'Div':Schedule_Deuchland['Div'][i], 'Date':Schedule_Deuchland['Date'][i],'HomeTeam':Schedule_Deuchland['HomeTeam'][i],\n",
    "                                'AwayTeam':Schedule_Deuchland['AwayTeam'][i],'Total_Chance_first':Ch1_half_time[1]+Ch2_half_time[1],\n",
    "                                'HT_Chance_first':Ch1_half_time[1], 'AT_Chance_first':Ch2_half_time[1],'Diff_first':Ch1_half_time[1]-Ch2_half_time[1],\n",
    "                                'Total_Chance_sec':Ch1_sec_half[1]+Ch2_sec_half[1],'HT_Chance_sec':Ch1_sec_half[1], 'AT_Chance_sec':Ch2_sec_half[1],\n",
    "                                'Diff_sec':Ch1_sec_half[1]-Ch2_sec_half[1],\n",
    "                                'Total_Chance':Ch1_full_time[1]+Ch2_full_time[1],'HT_Chance_total':Ch1_full_time[1], 'AT_Chance_total':Ch2_full_time[1],\n",
    "                                'Diff_total':Ch1_full_time[1]-Ch2_full_time[1]},ignore_index=True)\n",
    "        \n",
    "            \n",
    "    except Exception:\n",
    "        k=1"
   ]
  },
  {
   "cell_type": "code",
   "execution_count": 24,
   "metadata": {},
   "outputs": [],
   "source": [
    "#France\n",
    "playing_stat3=pd.DataFrame()\n",
    "playing_stat3 = pd.concat([raw_data_25,raw_data_26,raw_data_27,\n",
    "                         raw_data_28,raw_data_29,raw_data_30\n",
    "                         ], ignore_index=True, sort=False)\n",
    "playing_stat3['HTSHR']=playing_stat3['FTHG']-playing_stat3['HTHG']\n",
    "playing_stat3['HTSAR']=playing_stat3['FTAG']-playing_stat3['HTAG']\n",
    "playing_stat3 = playing_stat3[columns]\n",
    "playing_stat3=playing_stat3.dropna()"
   ]
  },
  {
   "cell_type": "code",
   "execution_count": 25,
   "metadata": {},
   "outputs": [],
   "source": [
    "#France first half\n",
    "goal_model_data_first_half = pd.concat([playing_stat3[['HomeTeam','AwayTeam','HTHG']].assign(home=1).rename(\n",
    "            columns={'HomeTeam':'team', 'AwayTeam':'opponent','HTHG':'goals'}),\n",
    "           playing_stat3[['AwayTeam','HomeTeam','HTAG']].assign(home=0).rename(\n",
    "            columns={'AwayTeam':'team', 'HomeTeam':'opponent','HTAG':'goals'})])\n",
    "\n",
    "poisson_model_first_half = smf.glm(formula=\"goals ~ home + team + opponent\", data=goal_model_data_first_half, \n",
    "                        family=sm.families.Poisson()).fit()\n",
    "# France second half\n",
    "goal_model_data_sec_half = pd.concat([playing_stat3[['HomeTeam','AwayTeam','HTSHR']].assign(home_s=1).rename(\n",
    "            columns={'HomeTeam':'team_s', 'AwayTeam':'opponent_s','HTSHR':'goals_s'}),\n",
    "           playing_stat3[['AwayTeam','HomeTeam','HTSAR']].assign(home_s=0).rename(\n",
    "            columns={'AwayTeam':'team_s', 'HomeTeam':'opponent_s','HTSAR':'goals_s'})])\n",
    "\n",
    "poisson_model_sec_half = smf.glm(formula=\"goals_s ~ home_s + team_s + opponent_s\", data=goal_model_data_sec_half, \n",
    "                        family=sm.families.Poisson()).fit()\n",
    "\n",
    "# France full time\n",
    "goal_model_data_full_match = pd.concat([playing_stat3[['HomeTeam','AwayTeam','FTHG']].assign(home_f=1).rename(\n",
    "            columns={'HomeTeam':'team_f', 'AwayTeam':'opponent_f','FTHG':'goals_f'}),\n",
    "           playing_stat3[['AwayTeam','HomeTeam','FTAG']].assign(home_f=0).rename(\n",
    "            columns={'AwayTeam':'team_f', 'HomeTeam':'opponent_f','FTAG':'goals_f'})])\n",
    "\n",
    "poisson_model_full_match = smf.glm(formula=\"goals_f ~ home_f + team_f + opponent_f\", data=goal_model_data_full_match, \n",
    "                        family=sm.families.Poisson()).fit()\n",
    "\n",
    "# Chances count\n",
    "for i in  range(Schedule_France.index.values.min(),Schedule_France.index.values.max()): \n",
    "    try:\n",
    "        Ch1_half_time=poisson_model_first_half.predict(pd.DataFrame(data={'team': Schedule_France['HomeTeam'][i], 'opponent': Schedule_France['AwayTeam'][i],\n",
    "                                      'home':1},index=[1]))\n",
    "        Ch2_half_time=poisson_model_first_half.predict(pd.DataFrame(data={'team': Schedule_France['AwayTeam'][i], 'opponent': Schedule_France['HomeTeam'][i],\n",
    "                                       'home':0},index=[1]))\n",
    "        Ch1_sec_half=poisson_model_sec_half.predict(pd.DataFrame(data={'team_s': Schedule_France['HomeTeam'][i], 'opponent_s': Schedule_France['AwayTeam'][i],\n",
    "                                      'home_s':1},index=[1]))\n",
    "        Ch2_sec_half=poisson_model_sec_half.predict(pd.DataFrame(data={'team_s': Schedule_France['AwayTeam'][i], 'opponent_s': Schedule_France['HomeTeam'][i],\n",
    "                                       'home_s':0},index=[1]))       \n",
    "        Ch1_full_time=poisson_model_full_match.predict(pd.DataFrame(data={'team_f': Schedule_France['HomeTeam'][i], 'opponent_f': Schedule_France['AwayTeam'][i],\n",
    "                                      'home_f':1},index=[1]))\n",
    "        Ch2_full_time=poisson_model_full_match.predict(pd.DataFrame(data={'team_f': Schedule_France['AwayTeam'][i], 'opponent_f': Schedule_France['HomeTeam'][i],\n",
    "                                       'home_f':0},index=[1]))\n",
    "        \n",
    "        Results=Results.append({'Div':Schedule_France['Div'][i], 'Date':Schedule_France['Date'][i],'HomeTeam':Schedule_France['HomeTeam'][i],\n",
    "                                'AwayTeam':Schedule_France['AwayTeam'][i],'Total_Chance_first':Ch1_half_time[1]+Ch2_half_time[1],\n",
    "                                'HT_Chance_first':Ch1_half_time[1], 'AT_Chance_first':Ch2_half_time[1],'Diff_first':Ch1_half_time[1]-Ch2_half_time[1],\n",
    "                                'Total_Chance_sec':Ch1_sec_half[1]+Ch2_sec_half[1],'HT_Chance_sec':Ch1_sec_half[1], 'AT_Chance_sec':Ch2_sec_half[1],\n",
    "                                'Diff_sec':Ch1_sec_half[1]-Ch2_sec_half[1],\n",
    "                                'Total_Chance':Ch1_full_time[1]+Ch2_full_time[1],'HT_Chance_total':Ch1_full_time[1], 'AT_Chance_total':Ch2_full_time[1],\n",
    "                                'Diff_total':Ch1_full_time[1]-Ch2_full_time[1]},ignore_index=True)\n",
    "        \n",
    "            \n",
    "    except Exception:\n",
    "        k=1"
   ]
  },
  {
   "cell_type": "code",
   "execution_count": 26,
   "metadata": {},
   "outputs": [],
   "source": [
    "#Part_4 Greece\n",
    "playing_stat4=pd.DataFrame()\n",
    "playing_stat4 = pd.concat([raw_data_31,\n",
    "                        raw_data_32,raw_data_33\n",
    "                         ], ignore_index=True, sort=False)\n",
    "playing_stat4['HTSHR']=playing_stat4['FTHG']-playing_stat4['HTHG']\n",
    "playing_stat4['HTSAR']=playing_stat4['FTAG']-playing_stat4['HTAG']\n",
    "playing_stat4 = playing_stat4[columns]\n",
    "playing_stat4=playing_stat4.dropna()"
   ]
  },
  {
   "cell_type": "code",
   "execution_count": 27,
   "metadata": {},
   "outputs": [],
   "source": [
    "#Part_4 Greece first half\n",
    "goal_model_data_first_half = pd.concat([playing_stat4[['HomeTeam','AwayTeam','HTHG']].assign(home=1).rename(\n",
    "            columns={'HomeTeam':'team', 'AwayTeam':'opponent','HTHG':'goals'}),\n",
    "           playing_stat4[['AwayTeam','HomeTeam','HTAG']].assign(home=0).rename(\n",
    "            columns={'AwayTeam':'team', 'HomeTeam':'opponent','HTAG':'goals'})])\n",
    "\n",
    "poisson_model_first_half = smf.glm(formula=\"goals ~ home + team + opponent\", data=goal_model_data_first_half, \n",
    "                        family=sm.families.Poisson()).fit()\n",
    "# Greece second half\n",
    "goal_model_data_sec_half = pd.concat([playing_stat4[['HomeTeam','AwayTeam','HTSHR']].assign(home_s=1).rename(\n",
    "            columns={'HomeTeam':'team_s', 'AwayTeam':'opponent_s','HTSHR':'goals_s'}),\n",
    "           playing_stat4[['AwayTeam','HomeTeam','HTSAR']].assign(home_s=0).rename(\n",
    "            columns={'AwayTeam':'team_s', 'HomeTeam':'opponent_s','HTSAR':'goals_s'})])\n",
    "\n",
    "poisson_model_sec_half = smf.glm(formula=\"goals_s ~ home_s + team_s + opponent_s\", data=goal_model_data_sec_half, \n",
    "                        family=sm.families.Poisson()).fit()\n",
    "\n",
    "# Greece full time\n",
    "goal_model_data_full_match = pd.concat([playing_stat4[['HomeTeam','AwayTeam','FTHG']].assign(home_f=1).rename(\n",
    "            columns={'HomeTeam':'team_f', 'AwayTeam':'opponent_f','FTHG':'goals_f'}),\n",
    "           playing_stat4[['AwayTeam','HomeTeam','FTAG']].assign(home_f=0).rename(\n",
    "            columns={'AwayTeam':'team_f', 'HomeTeam':'opponent_f','FTAG':'goals_f'})])\n",
    "\n",
    "poisson_model_full_match = smf.glm(formula=\"goals_f ~ home_f + team_f + opponent_f\", data=goal_model_data_full_match, \n",
    "                        family=sm.families.Poisson()).fit()\n",
    "\n",
    "# Chances count\n",
    "for i in  range(Schedule_Greece.index.values.min(),Schedule_Greece.index.values.max()): \n",
    "    try:\n",
    "        Ch1_half_time=poisson_model_first_half.predict(pd.DataFrame(data={'team': Schedule_Greece['HomeTeam'][i], 'opponent': Schedule_Greece['AwayTeam'][i],\n",
    "                                      'home':1},index=[1]))\n",
    "        Ch2_half_time=poisson_model_first_half.predict(pd.DataFrame(data={'team': Schedule_Greece['AwayTeam'][i], 'opponent': Schedule_Greece['HomeTeam'][i],\n",
    "                                       'home':0},index=[1]))\n",
    "        Ch1_sec_half=poisson_model_sec_half.predict(pd.DataFrame(data={'team_s': Schedule_Greece['HomeTeam'][i], 'opponent_s': Schedule_Greece['AwayTeam'][i],\n",
    "                                      'home_s':1},index=[1]))\n",
    "        Ch2_sec_half=poisson_model_sec_half.predict(pd.DataFrame(data={'team_s': Schedule_Greece['AwayTeam'][i], 'opponent_s': Schedule_Greece['HomeTeam'][i],\n",
    "                                       'home_s':0},index=[1]))       \n",
    "        Ch1_full_time=poisson_model_full_match.predict(pd.DataFrame(data={'team_f': Schedule_Greece['HomeTeam'][i], 'opponent_f': Schedule_Greece['AwayTeam'][i],\n",
    "                                      'home_f':1},index=[1]))\n",
    "        Ch2_full_time=poisson_model_full_match.predict(pd.DataFrame(data={'team_f': Schedule_Greece['AwayTeam'][i], 'opponent_f': Schedule_Greece['HomeTeam'][i],\n",
    "                                       'home_f':0},index=[1]))\n",
    "        \n",
    "        Results=Results.append({'Div':Schedule_Greece['Div'][i], 'Date':Schedule_Greece['Date'][i],'HomeTeam':Schedule_Greece['HomeTeam'][i],\n",
    "                                'AwayTeam':Schedule_Greece['AwayTeam'][i],'Total_Chance_first':Ch1_half_time[1]+Ch2_half_time[1],\n",
    "                                'HT_Chance_first':Ch1_half_time[1], 'AT_Chance_first':Ch2_half_time[1],'Diff_first':Ch1_half_time[1]-Ch2_half_time[1],\n",
    "                                'Total_Chance_sec':Ch1_sec_half[1]+Ch2_sec_half[1],'HT_Chance_sec':Ch1_sec_half[1], 'AT_Chance_sec':Ch2_sec_half[1],\n",
    "                                'Diff_sec':Ch1_sec_half[1]-Ch2_sec_half[1],\n",
    "                                'Total_Chance':Ch1_full_time[1]+Ch2_full_time[1],'HT_Chance_total':Ch1_full_time[1], 'AT_Chance_total':Ch2_full_time[1],\n",
    "                                'Diff_total':Ch1_full_time[1]-Ch2_full_time[1]},ignore_index=True)\n",
    "        \n",
    "            \n",
    "    except Exception:\n",
    "        k=1"
   ]
  },
  {
   "cell_type": "code",
   "execution_count": 28,
   "metadata": {},
   "outputs": [],
   "source": [
    "#Part_5 Italy\n",
    "playing_stat5=pd.DataFrame()\n",
    "playing_stat5 = pd.concat([raw_data_34,raw_data_35,\n",
    "                         raw_data_36,raw_data_37,raw_data_39\n",
    "                         ], ignore_index=True, sort=False)\n",
    "playing_stat5['HTSHR']=playing_stat5['FTHG']-playing_stat5['HTHG']\n",
    "playing_stat5['HTSAR']=playing_stat5['FTAG']-playing_stat5['HTAG']\n",
    "playing_stat5 = playing_stat5[columns]\n",
    "playing_stat5=playing_stat5.dropna()"
   ]
  },
  {
   "cell_type": "code",
   "execution_count": 29,
   "metadata": {},
   "outputs": [],
   "source": [
    "#Part_5 Italy first half\n",
    "goal_model_data_first_half = pd.concat([playing_stat5[['HomeTeam','AwayTeam','HTHG']].assign(home=1).rename(\n",
    "            columns={'HomeTeam':'team', 'AwayTeam':'opponent','HTHG':'goals'}),\n",
    "           playing_stat5[['AwayTeam','HomeTeam','HTAG']].assign(home=0).rename(\n",
    "            columns={'AwayTeam':'team', 'HomeTeam':'opponent','HTAG':'goals'})])\n",
    "\n",
    "poisson_model_first_half = smf.glm(formula=\"goals ~ home + team + opponent\", data=goal_model_data_first_half, \n",
    "                        family=sm.families.Poisson()).fit()\n",
    "# Italy second half\n",
    "goal_model_data_sec_half = pd.concat([playing_stat5[['HomeTeam','AwayTeam','HTSHR']].assign(home_s=1).rename(\n",
    "            columns={'HomeTeam':'team_s', 'AwayTeam':'opponent_s','HTSHR':'goals_s'}),\n",
    "           playing_stat5[['AwayTeam','HomeTeam','HTSAR']].assign(home_s=0).rename(\n",
    "            columns={'AwayTeam':'team_s', 'HomeTeam':'opponent_s','HTSAR':'goals_s'})])\n",
    "\n",
    "poisson_model_sec_half = smf.glm(formula=\"goals_s ~ home_s + team_s + opponent_s\", data=goal_model_data_sec_half, \n",
    "                        family=sm.families.Poisson()).fit()\n",
    "\n",
    "# Italy full time\n",
    "goal_model_data_full_match = pd.concat([playing_stat5[['HomeTeam','AwayTeam','FTHG']].assign(home_f=1).rename(\n",
    "            columns={'HomeTeam':'team_f', 'AwayTeam':'opponent_f','FTHG':'goals_f'}),\n",
    "           playing_stat5[['AwayTeam','HomeTeam','FTAG']].assign(home_f=0).rename(\n",
    "            columns={'AwayTeam':'team_f', 'HomeTeam':'opponent_f','FTAG':'goals_f'})])\n",
    "\n",
    "poisson_model_full_match = smf.glm(formula=\"goals_f ~ home_f + team_f + opponent_f\", data=goal_model_data_full_match, \n",
    "                        family=sm.families.Poisson()).fit()\n",
    "\n",
    "# Chances count\n",
    "for i in  range(Schedule_Italy.index.values.min(),Schedule_Italy.index.values.max()): \n",
    "    try:\n",
    "        Ch1_half_time=poisson_model_first_half.predict(pd.DataFrame(data={'team': Schedule_Italy['HomeTeam'][i], 'opponent': Schedule_Italy['AwayTeam'][i],\n",
    "                                      'home':1},index=[1]))\n",
    "        Ch2_half_time=poisson_model_first_half.predict(pd.DataFrame(data={'team': Schedule_Italy['AwayTeam'][i], 'opponent': Schedule_Italy['HomeTeam'][i],\n",
    "                                       'home':0},index=[1]))\n",
    "        Ch1_sec_half=poisson_model_sec_half.predict(pd.DataFrame(data={'team_s': Schedule_Italy['HomeTeam'][i], 'opponent_s': Schedule_Italy['AwayTeam'][i],\n",
    "                                      'home_s':1},index=[1]))\n",
    "        Ch2_sec_half=poisson_model_sec_half.predict(pd.DataFrame(data={'team_s': Schedule_Italy['AwayTeam'][i], 'opponent_s': Schedule_Italy['HomeTeam'][i],\n",
    "                                       'home_s':0},index=[1]))       \n",
    "        Ch1_full_time=poisson_model_full_match.predict(pd.DataFrame(data={'team_f': Schedule_Italy['HomeTeam'][i], 'opponent_f': Schedule_Italy['AwayTeam'][i],\n",
    "                                      'home_f':1},index=[1]))\n",
    "        Ch2_full_time=poisson_model_full_match.predict(pd.DataFrame(data={'team_f': Schedule_Italy['AwayTeam'][i], 'opponent_f': Schedule_Italy['HomeTeam'][i],\n",
    "                                       'home_f':0},index=[1]))\n",
    "        \n",
    "        Results=Results.append({'Div':Schedule_Italy['Div'][i], 'Date':Schedule_Italy['Date'][i],'HomeTeam':Schedule_Italy['HomeTeam'][i],\n",
    "                                'AwayTeam':Schedule_Italy['AwayTeam'][i],'Total_Chance_first':Ch1_half_time[1]+Ch2_half_time[1],\n",
    "                                'HT_Chance_first':Ch1_half_time[1], 'AT_Chance_first':Ch2_half_time[1],'Diff_first':Ch1_half_time[1]-Ch2_half_time[1],\n",
    "                                'Total_Chance_sec':Ch1_sec_half[1]+Ch2_sec_half[1],'HT_Chance_sec':Ch1_sec_half[1], 'AT_Chance_sec':Ch2_sec_half[1],\n",
    "                                'Diff_sec':Ch1_sec_half[1]-Ch2_sec_half[1],\n",
    "                                'Total_Chance':Ch1_full_time[1]+Ch2_full_time[1],'HT_Chance_total':Ch1_full_time[1], 'AT_Chance_total':Ch2_full_time[1],\n",
    "                                'Diff_total':Ch1_full_time[1]-Ch2_full_time[1]},ignore_index=True)\n",
    "        \n",
    "            \n",
    "    except Exception:\n",
    "        k=1"
   ]
  },
  {
   "cell_type": "code",
   "execution_count": 30,
   "metadata": {},
   "outputs": [],
   "source": [
    "#Part_6 Netherlands\n",
    "playing_stat6=pd.DataFrame()\n",
    "playing_stat6 = pd.concat([raw_data_40,\n",
    "                         raw_data_41,raw_data_42\n",
    "                         ], ignore_index=True, sort=False)\n",
    "playing_stat6['HTSHR']=playing_stat6['FTHG']-playing_stat6['HTHG']\n",
    "playing_stat6['HTSAR']=playing_stat6['FTAG']-playing_stat6['HTAG']\n",
    "playing_stat6 = playing_stat6[columns]\n",
    "playing_stat6=playing_stat6.dropna()"
   ]
  },
  {
   "cell_type": "code",
   "execution_count": 31,
   "metadata": {},
   "outputs": [],
   "source": [
    "# Netherlands first half\n",
    "goal_model_data_first_half = pd.concat([playing_stat6[['HomeTeam','AwayTeam','HTHG']].assign(home=1).rename(\n",
    "            columns={'HomeTeam':'team', 'AwayTeam':'opponent','HTHG':'goals'}),\n",
    "           playing_stat6[['AwayTeam','HomeTeam','HTAG']].assign(home=0).rename(\n",
    "            columns={'AwayTeam':'team', 'HomeTeam':'opponent','HTAG':'goals'})])\n",
    "\n",
    "poisson_model_first_half = smf.glm(formula=\"goals ~ home + team + opponent\", data=goal_model_data_first_half, \n",
    "                        family=sm.families.Poisson()).fit()\n",
    "# Netherlands second half\n",
    "goal_model_data_sec_half = pd.concat([playing_stat6[['HomeTeam','AwayTeam','HTSHR']].assign(home_s=1).rename(\n",
    "            columns={'HomeTeam':'team_s', 'AwayTeam':'opponent_s','HTSHR':'goals_s'}),\n",
    "           playing_stat6[['AwayTeam','HomeTeam','HTSAR']].assign(home_s=0).rename(\n",
    "            columns={'AwayTeam':'team_s', 'HomeTeam':'opponent_s','HTSAR':'goals_s'})])\n",
    "\n",
    "poisson_model_sec_half = smf.glm(formula=\"goals_s ~ home_s + team_s + opponent_s\", data=goal_model_data_sec_half, \n",
    "                        family=sm.families.Poisson()).fit()\n",
    "\n",
    "# Netherlands full time\n",
    "goal_model_data_full_match = pd.concat([playing_stat6[['HomeTeam','AwayTeam','FTHG']].assign(home_f=1).rename(\n",
    "            columns={'HomeTeam':'team_f', 'AwayTeam':'opponent_f','FTHG':'goals_f'}),\n",
    "           playing_stat6[['AwayTeam','HomeTeam','FTAG']].assign(home_f=0).rename(\n",
    "            columns={'AwayTeam':'team_f', 'HomeTeam':'opponent_f','FTAG':'goals_f'})])\n",
    "\n",
    "poisson_model_full_match = smf.glm(formula=\"goals_f ~ home_f + team_f + opponent_f\", data=goal_model_data_full_match, \n",
    "                        family=sm.families.Poisson()).fit()\n",
    "\n",
    "# Chances count\n",
    "for i in  range(Schedule_Netherlands.index.values.min(),Schedule_Netherlands.index.values.max()): \n",
    "    try:\n",
    "        Ch1_half_time=poisson_model_first_half.predict(pd.DataFrame(data={'team': Schedule_Netherlands['HomeTeam'][i], 'opponent': Schedule_Netherlands['AwayTeam'][i],\n",
    "                                      'home':1},index=[1]))\n",
    "        Ch2_half_time=poisson_model_first_half.predict(pd.DataFrame(data={'team': Schedule_Netherlands['AwayTeam'][i], 'opponent': Schedule_Netherlands['HomeTeam'][i],\n",
    "                                       'home':0},index=[1]))\n",
    "        Ch1_sec_half=poisson_model_sec_half.predict(pd.DataFrame(data={'team_s': Schedule_Netherlands['HomeTeam'][i], 'opponent_s': Schedule_Netherlands['AwayTeam'][i],\n",
    "                                      'home_s':1},index=[1]))\n",
    "        Ch2_sec_half=poisson_model_sec_half.predict(pd.DataFrame(data={'team_s': Schedule_Netherlands['AwayTeam'][i], 'opponent_s': Schedule_Netherlands['HomeTeam'][i],\n",
    "                                       'home_s':0},index=[1]))       \n",
    "        Ch1_full_time=poisson_model_full_match.predict(pd.DataFrame(data={'team_f': Schedule_Netherlands['HomeTeam'][i], 'opponent_f': Schedule_Netherlands['AwayTeam'][i],\n",
    "                                      'home_f':1},index=[1]))\n",
    "        Ch2_full_time=poisson_model_full_match.predict(pd.DataFrame(data={'team_f': Schedule_Netherlands['AwayTeam'][i], 'opponent_f': Schedule_Netherlands['HomeTeam'][i],\n",
    "                                       'home_f':0},index=[1]))\n",
    "        \n",
    "        Results=Results.append({'Div':Schedule_Netherlands['Div'][i], 'Date':Schedule_Netherlands['Date'][i],'HomeTeam':Schedule_Netherlands['HomeTeam'][i],\n",
    "                                'AwayTeam':Schedule_Netherlands['AwayTeam'][i],'Total_Chance_first':Ch1_half_time[1]+Ch2_half_time[1],\n",
    "                                'HT_Chance_first':Ch1_half_time[1], 'AT_Chance_first':Ch2_half_time[1],'Diff_first':Ch1_half_time[1]-Ch2_half_time[1],\n",
    "                                'Total_Chance_sec':Ch1_sec_half[1]+Ch2_sec_half[1],'HT_Chance_sec':Ch1_sec_half[1], 'AT_Chance_sec':Ch2_sec_half[1],\n",
    "                                'Diff_sec':Ch1_sec_half[1]-Ch2_sec_half[1],\n",
    "                                'Total_Chance':Ch1_full_time[1]+Ch2_full_time[1],'HT_Chance_total':Ch1_full_time[1], 'AT_Chance_total':Ch2_full_time[1],\n",
    "                                'Diff_total':Ch1_full_time[1]-Ch2_full_time[1]},ignore_index=True)\n",
    "        \n",
    "            \n",
    "    except Exception:\n",
    "        k=1"
   ]
  },
  {
   "cell_type": "code",
   "execution_count": 32,
   "metadata": {},
   "outputs": [],
   "source": [
    "#Part_ Portugal\n",
    "playing_stat11=pd.DataFrame()\n",
    "playing_stat11 = pd.concat([raw_data_43,raw_data_44,\n",
    "                         raw_data_45\n",
    "                         ], ignore_index=True, sort=False)\n",
    "playing_stat11['HTSHR']=playing_stat11['FTHG']-playing_stat11['HTHG']\n",
    "playing_stat11['HTSAR']=playing_stat11['FTAG']-playing_stat11['HTAG']\n",
    "playing_stat11 = playing_stat11[columns]\n",
    "playing_stat11=playing_stat11.dropna()"
   ]
  },
  {
   "cell_type": "code",
   "execution_count": 33,
   "metadata": {},
   "outputs": [],
   "source": [
    "#Part_ Portugal first half\n",
    "goal_model_data_first_half = pd.concat([playing_stat11[['HomeTeam','AwayTeam','HTHG']].assign(home=1).rename(\n",
    "            columns={'HomeTeam':'team', 'AwayTeam':'opponent','HTHG':'goals'}),\n",
    "           playing_stat11[['AwayTeam','HomeTeam','HTAG']].assign(home=0).rename(\n",
    "            columns={'AwayTeam':'team', 'HomeTeam':'opponent','HTAG':'goals'})])\n",
    "\n",
    "poisson_model_first_half = smf.glm(formula=\"goals ~ home + team + opponent\", data=goal_model_data_first_half, \n",
    "                        family=sm.families.Poisson()).fit()\n",
    "# Portugal second half\n",
    "goal_model_data_sec_half = pd.concat([playing_stat11[['HomeTeam','AwayTeam','HTSHR']].assign(home_s=1).rename(\n",
    "            columns={'HomeTeam':'team_s', 'AwayTeam':'opponent_s','HTSHR':'goals_s'}),\n",
    "           playing_stat11[['AwayTeam','HomeTeam','HTSAR']].assign(home_s=0).rename(\n",
    "            columns={'AwayTeam':'team_s', 'HomeTeam':'opponent_s','HTSAR':'goals_s'})])\n",
    "\n",
    "poisson_model_sec_half = smf.glm(formula=\"goals_s ~ home_s + team_s + opponent_s\", data=goal_model_data_sec_half, \n",
    "                        family=sm.families.Poisson()).fit()\n",
    "\n",
    "# Portugal full time\n",
    "goal_model_data_full_match = pd.concat([playing_stat11[['HomeTeam','AwayTeam','FTHG']].assign(home_f=1).rename(\n",
    "            columns={'HomeTeam':'team_f', 'AwayTeam':'opponent_f','FTHG':'goals_f'}),\n",
    "           playing_stat11[['AwayTeam','HomeTeam','FTAG']].assign(home_f=0).rename(\n",
    "            columns={'AwayTeam':'team_f', 'HomeTeam':'opponent_f','FTAG':'goals_f'})])\n",
    "\n",
    "poisson_model_full_match = smf.glm(formula=\"goals_f ~ home_f + team_f + opponent_f\", data=goal_model_data_full_match, \n",
    "                        family=sm.families.Poisson()).fit()\n",
    "\n",
    "# Chances count\n",
    "for i in  range(Schedule_Portugal.index.values.min(),Schedule_Portugal.index.values.max()): \n",
    "    try:\n",
    "        Ch1_half_time=poisson_model_first_half.predict(pd.DataFrame(data={'team': Schedule_Portugal['HomeTeam'][i], 'opponent': Schedule_Portugal['AwayTeam'][i],\n",
    "                                      'home':1},index=[1]))\n",
    "        Ch2_half_time=poisson_model_first_half.predict(pd.DataFrame(data={'team': Schedule_Portugal['AwayTeam'][i], 'opponent': Schedule_Portugal['HomeTeam'][i],\n",
    "                                       'home':0},index=[1]))\n",
    "        Ch1_sec_half=poisson_model_sec_half.predict(pd.DataFrame(data={'team_s': Schedule_Portugal['HomeTeam'][i], 'opponent_s': Schedule_Portugal['AwayTeam'][i],\n",
    "                                      'home_s':1},index=[1]))\n",
    "        Ch2_sec_half=poisson_model_sec_half.predict(pd.DataFrame(data={'team_s': Schedule_Portugal['AwayTeam'][i], 'opponent_s': Schedule_Portugal['HomeTeam'][i],\n",
    "                                       'home_s':0},index=[1]))       \n",
    "        Ch1_full_time=poisson_model_full_match.predict(pd.DataFrame(data={'team_f': Schedule_Portugal['HomeTeam'][i], 'opponent_f': Schedule_Portugal['AwayTeam'][i],\n",
    "                                      'home_f':1},index=[1]))\n",
    "        Ch2_full_time=poisson_model_full_match.predict(pd.DataFrame(data={'team_f': Schedule_Portugal['AwayTeam'][i], 'opponent_f': Schedule_Portugal['HomeTeam'][i],\n",
    "                                       'home_f':0},index=[1]))\n",
    "        \n",
    "        Results=Results.append({'Div':Schedule_Portugal['Div'][i], 'Date':Schedule_Portugal['Date'][i],'HomeTeam':Schedule_Portugal['HomeTeam'][i],\n",
    "                                'AwayTeam':Schedule_Portugal['AwayTeam'][i],'Total_Chance_first':Ch1_half_time[1]+Ch2_half_time[1],\n",
    "                                'HT_Chance_first':Ch1_half_time[1], 'AT_Chance_first':Ch2_half_time[1],'Diff_first':Ch1_half_time[1]-Ch2_half_time[1],\n",
    "                                'Total_Chance_sec':Ch1_sec_half[1]+Ch2_sec_half[1],'HT_Chance_sec':Ch1_sec_half[1], 'AT_Chance_sec':Ch2_sec_half[1],\n",
    "                                'Diff_sec':Ch1_sec_half[1]-Ch2_sec_half[1],\n",
    "                                'Total_Chance':Ch1_full_time[1]+Ch2_full_time[1],'HT_Chance_total':Ch1_full_time[1], 'AT_Chance_total':Ch2_full_time[1],\n",
    "                                'Diff_total':Ch1_full_time[1]-Ch2_full_time[1]},ignore_index=True)\n",
    "        \n",
    "            \n",
    "    except Exception:\n",
    "        k=1"
   ]
  },
  {
   "cell_type": "code",
   "execution_count": 34,
   "metadata": {},
   "outputs": [],
   "source": [
    "#Part_7 Scotland\n",
    "playing_stat7=pd.DataFrame()\n",
    "playing_stat7 = pd.concat([raw_data_46,raw_data_48,raw_data_49,\n",
    "                         raw_data_50,raw_data_51,raw_data_52,raw_data_53,\n",
    "                         raw_data_54,raw_data_55,raw_data_56,raw_data_57\n",
    "                         ], ignore_index=True,sort=False)\n",
    "playing_stat7['HTSHR']=playing_stat7['FTHG']-playing_stat7['HTHG']\n",
    "playing_stat7['HTSAR']=playing_stat7['FTAG']-playing_stat7['HTAG']\n",
    "playing_stat7 = playing_stat7[columns]\n",
    "playing_stat7=playing_stat7.dropna()"
   ]
  },
  {
   "cell_type": "code",
   "execution_count": 35,
   "metadata": {},
   "outputs": [],
   "source": [
    "#Part_7 Scotland first half\n",
    "goal_model_data_first_half = pd.concat([playing_stat7[['HomeTeam','AwayTeam','HTHG']].assign(home=1).rename(\n",
    "            columns={'HomeTeam':'team', 'AwayTeam':'opponent','HTHG':'goals'}),\n",
    "           playing_stat7[['AwayTeam','HomeTeam','HTAG']].assign(home=0).rename(\n",
    "            columns={'AwayTeam':'team', 'HomeTeam':'opponent','HTAG':'goals'})])\n",
    "\n",
    "poisson_model_first_half = smf.glm(formula=\"goals ~ home + team + opponent\", data=goal_model_data_first_half, \n",
    "                        family=sm.families.Poisson()).fit()\n",
    "# Scotland second half\n",
    "goal_model_data_sec_half = pd.concat([playing_stat7[['HomeTeam','AwayTeam','HTSHR']].assign(home_s=1).rename(\n",
    "            columns={'HomeTeam':'team_s', 'AwayTeam':'opponent_s','HTSHR':'goals_s'}),\n",
    "           playing_stat7[['AwayTeam','HomeTeam','HTSAR']].assign(home_s=0).rename(\n",
    "            columns={'AwayTeam':'team_s', 'HomeTeam':'opponent_s','HTSAR':'goals_s'})])\n",
    "\n",
    "poisson_model_sec_half = smf.glm(formula=\"goals_s ~ home_s + team_s + opponent_s\", data=goal_model_data_sec_half, \n",
    "                        family=sm.families.Poisson()).fit()\n",
    "\n",
    "# Scotland full time\n",
    "goal_model_data_full_match = pd.concat([playing_stat7[['HomeTeam','AwayTeam','FTHG']].assign(home_f=1).rename(\n",
    "            columns={'HomeTeam':'team_f', 'AwayTeam':'opponent_f','FTHG':'goals_f'}),\n",
    "           playing_stat7[['AwayTeam','HomeTeam','FTAG']].assign(home_f=0).rename(\n",
    "            columns={'AwayTeam':'team_f', 'HomeTeam':'opponent_f','FTAG':'goals_f'})])\n",
    "\n",
    "poisson_model_full_match = smf.glm(formula=\"goals_f ~ home_f + team_f + opponent_f\", data=goal_model_data_full_match, \n",
    "                        family=sm.families.Poisson()).fit()\n",
    "\n",
    "# Chances count\n",
    "for i in  range(Schedule_Scotland.index.values.min(),Schedule_Scotland.index.values.max()): \n",
    "    try:\n",
    "        Ch1_half_time=poisson_model_first_half.predict(pd.DataFrame(data={'team': Schedule_Scotland['HomeTeam'][i], 'opponent': Schedule_Scotland['AwayTeam'][i],\n",
    "                                      'home':1},index=[1]))\n",
    "        Ch2_half_time=poisson_model_first_half.predict(pd.DataFrame(data={'team': Schedule_Scotland['AwayTeam'][i], 'opponent': Schedule_Scotland['HomeTeam'][i],\n",
    "                                       'home':0},index=[1]))\n",
    "        Ch1_sec_half=poisson_model_sec_half.predict(pd.DataFrame(data={'team_s': Schedule_Scotland['HomeTeam'][i], 'opponent_s': Schedule_Scotland['AwayTeam'][i],\n",
    "                                      'home_s':1},index=[1]))\n",
    "        Ch2_sec_half=poisson_model_sec_half.predict(pd.DataFrame(data={'team_s': Schedule_Scotland['AwayTeam'][i], 'opponent_s': Schedule_Scotland['HomeTeam'][i],\n",
    "                                       'home_s':0},index=[1]))       \n",
    "        Ch1_full_time=poisson_model_full_match.predict(pd.DataFrame(data={'team_f': Schedule_Scotland['HomeTeam'][i], 'opponent_f': Schedule_Scotland['AwayTeam'][i],\n",
    "                                      'home_f':1},index=[1]))\n",
    "        Ch2_full_time=poisson_model_full_match.predict(pd.DataFrame(data={'team_f': Schedule_Scotland['AwayTeam'][i], 'opponent_f': Schedule_Scotland['HomeTeam'][i],\n",
    "                                       'home_f':0},index=[1]))\n",
    "        \n",
    "        Results=Results.append({'Div':Schedule_Scotland['Div'][i], 'Date':Schedule_Scotland['Date'][i],'HomeTeam':Schedule_Scotland['HomeTeam'][i],\n",
    "                                'AwayTeam':Schedule_Scotland['AwayTeam'][i],'Total_Chance_first':Ch1_half_time[1]+Ch2_half_time[1],\n",
    "                                'HT_Chance_first':Ch1_half_time[1], 'AT_Chance_first':Ch2_half_time[1],'Diff_first':Ch1_half_time[1]-Ch2_half_time[1],\n",
    "                                'Total_Chance_sec':Ch1_sec_half[1]+Ch2_sec_half[1],'HT_Chance_sec':Ch1_sec_half[1], 'AT_Chance_sec':Ch2_sec_half[1],\n",
    "                                'Diff_sec':Ch1_sec_half[1]-Ch2_sec_half[1],\n",
    "                                'Total_Chance':Ch1_full_time[1]+Ch2_full_time[1],'HT_Chance_total':Ch1_full_time[1], 'AT_Chance_total':Ch2_full_time[1],\n",
    "                                'Diff_total':Ch1_full_time[1]-Ch2_full_time[1]},ignore_index=True)\n",
    "        \n",
    "            \n",
    "    except Exception:\n",
    "        k=1"
   ]
  },
  {
   "cell_type": "code",
   "execution_count": 36,
   "metadata": {},
   "outputs": [],
   "source": [
    "#Part_8 Spain\n",
    "playing_stat8=pd.DataFrame()\n",
    "playing_stat8 = pd.concat([raw_data_58,raw_data_59,raw_data_60,raw_data_61,\n",
    "                         raw_data_62,raw_data_63\n",
    "                         ], ignore_index=True, sort=False)\n",
    "playing_stat8['HTSHR']=playing_stat8['FTHG']-playing_stat8['HTHG']\n",
    "playing_stat8['HTSAR']=playing_stat8['FTAG']-playing_stat8['HTAG']\n",
    "playing_stat8 = playing_stat8[columns]\n",
    "playing_stat8=playing_stat8.dropna()\n"
   ]
  },
  {
   "cell_type": "code",
   "execution_count": 37,
   "metadata": {},
   "outputs": [],
   "source": [
    "#Part_8 Spain first half\n",
    "goal_model_data_first_half = pd.concat([playing_stat8[['HomeTeam','AwayTeam','HTHG']].assign(home=1).rename(\n",
    "            columns={'HomeTeam':'team', 'AwayTeam':'opponent','HTHG':'goals'}),\n",
    "           playing_stat8[['AwayTeam','HomeTeam','HTAG']].assign(home=0).rename(\n",
    "            columns={'AwayTeam':'team', 'HomeTeam':'opponent','HTAG':'goals'})])\n",
    "\n",
    "poisson_model_first_half = smf.glm(formula=\"goals ~ home + team + opponent\", data=goal_model_data_first_half, \n",
    "                        family=sm.families.Poisson()).fit()\n",
    "# Spain second half\n",
    "goal_model_data_sec_half = pd.concat([playing_stat8[['HomeTeam','AwayTeam','HTSHR']].assign(home_s=1).rename(\n",
    "            columns={'HomeTeam':'team_s', 'AwayTeam':'opponent_s','HTSHR':'goals_s'}),\n",
    "           playing_stat8[['AwayTeam','HomeTeam','HTSAR']].assign(home_s=0).rename(\n",
    "            columns={'AwayTeam':'team_s', 'HomeTeam':'opponent_s','HTSAR':'goals_s'})])\n",
    "\n",
    "poisson_model_sec_half = smf.glm(formula=\"goals_s ~ home_s + team_s + opponent_s\", data=goal_model_data_sec_half, \n",
    "                        family=sm.families.Poisson()).fit()\n",
    "\n",
    "# Spain full time\n",
    "goal_model_data_full_match = pd.concat([playing_stat8[['HomeTeam','AwayTeam','FTHG']].assign(home_f=1).rename(\n",
    "            columns={'HomeTeam':'team_f', 'AwayTeam':'opponent_f','FTHG':'goals_f'}),\n",
    "           playing_stat8[['AwayTeam','HomeTeam','FTAG']].assign(home_f=0).rename(\n",
    "            columns={'AwayTeam':'team_f', 'HomeTeam':'opponent_f','FTAG':'goals_f'})])\n",
    "\n",
    "poisson_model_full_match = smf.glm(formula=\"goals_f ~ home_f + team_f + opponent_f\", data=goal_model_data_full_match, \n",
    "                        family=sm.families.Poisson()).fit()\n",
    "\n",
    "# Chances count\n",
    "for i in  range(Schedule_Spain.index.values.min(),Schedule_Spain.index.values.max()): \n",
    "    try:\n",
    "        Ch1_half_time=poisson_model_first_half.predict(pd.DataFrame(data={'team': Schedule_Spain['HomeTeam'][i], 'opponent': Schedule_Spain['AwayTeam'][i],\n",
    "                                      'home':1},index=[1]))\n",
    "        Ch2_half_time=poisson_model_first_half.predict(pd.DataFrame(data={'team': Schedule_Spain['AwayTeam'][i], 'opponent': Schedule_Spain['HomeTeam'][i],\n",
    "                                       'home':0},index=[1]))\n",
    "        Ch1_sec_half=poisson_model_sec_half.predict(pd.DataFrame(data={'team_s': Schedule_Spain['HomeTeam'][i], 'opponent_s': Schedule_Spain['AwayTeam'][i],\n",
    "                                      'home_s':1},index=[1]))\n",
    "        Ch2_sec_half=poisson_model_sec_half.predict(pd.DataFrame(data={'team_s': Schedule_Spain['AwayTeam'][i], 'opponent_s': Schedule_Spain['HomeTeam'][i],\n",
    "                                       'home_s':0},index=[1]))       \n",
    "        Ch1_full_time=poisson_model_full_match.predict(pd.DataFrame(data={'team_f': Schedule_Spain['HomeTeam'][i], 'opponent_f': Schedule_Spain['AwayTeam'][i],\n",
    "                                      'home_f':1},index=[1]))\n",
    "        Ch2_full_time=poisson_model_full_match.predict(pd.DataFrame(data={'team_f': Schedule_Spain['AwayTeam'][i], 'opponent_f': Schedule_Spain['HomeTeam'][i],\n",
    "                                       'home_f':0},index=[1]))\n",
    "        \n",
    "        Results=Results.append({'Div':Schedule_Spain['Div'][i], 'Date':Schedule_Spain['Date'][i],'HomeTeam':Schedule_Spain['HomeTeam'][i],\n",
    "                                'AwayTeam':Schedule_Spain['AwayTeam'][i],'Total_Chance_first':Ch1_half_time[1]+Ch2_half_time[1],\n",
    "                                'HT_Chance_first':Ch1_half_time[1], 'AT_Chance_first':Ch2_half_time[1],'Diff_first':Ch1_half_time[1]-Ch2_half_time[1],\n",
    "                                'Total_Chance_sec':Ch1_sec_half[1]+Ch2_sec_half[1],'HT_Chance_sec':Ch1_sec_half[1], 'AT_Chance_sec':Ch2_sec_half[1],\n",
    "                                'Diff_sec':Ch1_sec_half[1]-Ch2_sec_half[1],\n",
    "                                'Total_Chance':Ch1_full_time[1]+Ch2_full_time[1],'HT_Chance_total':Ch1_full_time[1], 'AT_Chance_total':Ch2_full_time[1],\n",
    "                                'Diff_total':Ch1_full_time[1]-Ch2_full_time[1]},ignore_index=True)\n",
    "        \n",
    "            \n",
    "    except Exception:\n",
    "        k=1"
   ]
  },
  {
   "cell_type": "code",
   "execution_count": 38,
   "metadata": {},
   "outputs": [],
   "source": [
    "#Part_9 Turkey\n",
    "playing_stat9=pd.DataFrame()\n",
    "playing_stat9 = pd.concat([raw_data_64,raw_data_65,raw_data_66\n",
    "                         ], ignore_index=True,sort=False)\n",
    "playing_stat9['HTSHR']=playing_stat9['FTHG']-playing_stat9['HTHG']\n",
    "playing_stat9['HTSAR']=playing_stat9['FTAG']-playing_stat9['HTAG']\n",
    "playing_stat9 = playing_stat9[columns]\n",
    "playing_stat9=playing_stat9.dropna()\n"
   ]
  },
  {
   "cell_type": "code",
   "execution_count": 39,
   "metadata": {},
   "outputs": [],
   "source": [
    "#Part_9 Turkey first half\n",
    "goal_model_data_first_half = pd.concat([playing_stat9[['HomeTeam','AwayTeam','HTHG']].assign(home=1).rename(\n",
    "            columns={'HomeTeam':'team', 'AwayTeam':'opponent','HTHG':'goals'}),\n",
    "           playing_stat9[['AwayTeam','HomeTeam','HTAG']].assign(home=0).rename(\n",
    "            columns={'AwayTeam':'team', 'HomeTeam':'opponent','HTAG':'goals'})])\n",
    "\n",
    "poisson_model_first_half = smf.glm(formula=\"goals ~ home + team + opponent\", data=goal_model_data_first_half, \n",
    "                        family=sm.families.Poisson()).fit()\n",
    "# Turkey second half\n",
    "goal_model_data_sec_half = pd.concat([playing_stat9[['HomeTeam','AwayTeam','HTSHR']].assign(home_s=1).rename(\n",
    "            columns={'HomeTeam':'team_s', 'AwayTeam':'opponent_s','HTSHR':'goals_s'}),\n",
    "           playing_stat9[['AwayTeam','HomeTeam','HTSAR']].assign(home_s=0).rename(\n",
    "            columns={'AwayTeam':'team_s', 'HomeTeam':'opponent_s','HTSAR':'goals_s'})])\n",
    "\n",
    "poisson_model_sec_half = smf.glm(formula=\"goals_s ~ home_s + team_s + opponent_s\", data=goal_model_data_sec_half, \n",
    "                        family=sm.families.Poisson()).fit()\n",
    "\n",
    "# Turkey full time\n",
    "goal_model_data_full_match = pd.concat([playing_stat9[['HomeTeam','AwayTeam','FTHG']].assign(home_f=1).rename(\n",
    "            columns={'HomeTeam':'team_f', 'AwayTeam':'opponent_f','FTHG':'goals_f'}),\n",
    "           playing_stat9[['AwayTeam','HomeTeam','FTAG']].assign(home_f=0).rename(\n",
    "            columns={'AwayTeam':'team_f', 'HomeTeam':'opponent_f','FTAG':'goals_f'})])\n",
    "\n",
    "poisson_model_full_match = smf.glm(formula=\"goals_f ~ home_f + team_f + opponent_f\", data=goal_model_data_full_match, \n",
    "                        family=sm.families.Poisson()).fit()\n",
    "\n",
    "# Chances count\n",
    "for i in  range(Schedule_Turkey.index.values.min(),Schedule_Turkey.index.values.max()): \n",
    "    try:\n",
    "        Ch1_half_time=poisson_model_first_half.predict(pd.DataFrame(data={'team': Schedule_Turkey['HomeTeam'][i], 'opponent': Schedule_Turkey['AwayTeam'][i],\n",
    "                                      'home':1},index=[1]))\n",
    "        Ch2_half_time=poisson_model_first_half.predict(pd.DataFrame(data={'team': Schedule_Turkey['AwayTeam'][i], 'opponent': Schedule_Turkey['HomeTeam'][i],\n",
    "                                       'home':0},index=[1]))\n",
    "        Ch1_sec_half=poisson_model_sec_half.predict(pd.DataFrame(data={'team_s': Schedule_Turkey['HomeTeam'][i], 'opponent_s': Schedule_Turkey['AwayTeam'][i],\n",
    "                                      'home_s':1},index=[1]))\n",
    "        Ch2_sec_half=poisson_model_sec_half.predict(pd.DataFrame(data={'team_s': Schedule_Turkey['AwayTeam'][i], 'opponent_s': Schedule_Turkey['HomeTeam'][i],\n",
    "                                       'home_s':0},index=[1]))       \n",
    "        Ch1_full_time=poisson_model_full_match.predict(pd.DataFrame(data={'team_f': Schedule_Turkey['HomeTeam'][i], 'opponent_f': Schedule_Turkey['AwayTeam'][i],\n",
    "                                      'home_f':1},index=[1]))\n",
    "        Ch2_full_time=poisson_model_full_match.predict(pd.DataFrame(data={'team_f': Schedule_Turkey['AwayTeam'][i], 'opponent_f': Schedule_Turkey['HomeTeam'][i],\n",
    "                                       'home_f':0},index=[1]))\n",
    "        \n",
    "        Results=Results.append({'Div':Schedule_Turkey['Div'][i], 'Date':Schedule_Turkey['Date'][i],'HomeTeam':Schedule_Turkey['HomeTeam'][i],\n",
    "                                'AwayTeam':Schedule_Turkey['AwayTeam'][i],'Total_Chance_first':Ch1_half_time[1]+Ch2_half_time[1],\n",
    "                                'HT_Chance_first':Ch1_half_time[1], 'AT_Chance_first':Ch2_half_time[1],'Diff_first':Ch1_half_time[1]-Ch2_half_time[1],\n",
    "                                'Total_Chance_sec':Ch1_sec_half[1]+Ch2_sec_half[1],'HT_Chance_sec':Ch1_sec_half[1], 'AT_Chance_sec':Ch2_sec_half[1],\n",
    "                                'Diff_sec':Ch1_sec_half[1]-Ch2_sec_half[1],\n",
    "                                'Total_Chance':Ch1_full_time[1]+Ch2_full_time[1],'HT_Chance_total':Ch1_full_time[1], 'AT_Chance_total':Ch2_full_time[1],\n",
    "                                'Diff_total':Ch1_full_time[1]-Ch2_full_time[1]},ignore_index=True)\n",
    "        \n",
    "            \n",
    "    except Exception:\n",
    "        k=1"
   ]
  },
  {
   "cell_type": "code",
   "execution_count": 40,
   "metadata": {},
   "outputs": [],
   "source": [
    "Schedule=Schedule[['Div', 'Date', 'Time', 'HomeTeam', 'AwayTeam', 'FTHG', 'FTAG', 'HTHG','HTAG','AvgH','AvgD','AvgA']]\n",
    "Schedule['HTR1']=Schedule['HTHG']+Schedule['HTAG']\n",
    "Schedule['FTR']=Schedule['FTHG']+Schedule['FTAG']\n",
    "Schedule['HTR2']=Schedule['FTR']-Schedule['HTR1']\n",
    "Schedule['For_join']=Schedule['HomeTeam']+Schedule['AwayTeam']+Schedule['Date'].dt.strftime('%Y-%m-%d')"
   ]
  },
  {
   "cell_type": "code",
   "execution_count": 41,
   "metadata": {},
   "outputs": [],
   "source": [
    "Schedule_join=Schedule[['For_join','HTR1','HTR2','FTR','AvgH','AvgD','AvgA']]"
   ]
  },
  {
   "cell_type": "code",
   "execution_count": 42,
   "metadata": {},
   "outputs": [
    {
     "data": {
      "text/plain": [
       "For_join    1842\n",
       "HTR1        1842\n",
       "HTR2        1842\n",
       "FTR         1842\n",
       "AvgH        1841\n",
       "AvgD        1841\n",
       "AvgA        1841\n",
       "dtype: int64"
      ]
     },
     "execution_count": 42,
     "metadata": {},
     "output_type": "execute_result"
    }
   ],
   "source": [
    "Schedule_join.count()"
   ]
  },
  {
   "cell_type": "code",
   "execution_count": 43,
   "metadata": {},
   "outputs": [],
   "source": [
    "Results=Results[['Div', 'Date','HomeTeam','AwayTeam','Total_Chance_first','HT_Chance_first','AT_Chance_first','Diff_first',\n",
    "                 'Total_Chance_sec','HT_Chance_sec','AT_Chance_sec','Diff_sec',\n",
    "                 'Total_Chance', 'HT_Chance_total','AT_Chance_total','Diff_total']]\n",
    "Results['For_join']=Results['HomeTeam']+Results['AwayTeam']+Results['Date'].dt.strftime('%Y-%m-%d')"
   ]
  },
  {
   "cell_type": "code",
   "execution_count": 44,
   "metadata": {},
   "outputs": [],
   "source": [
    "Results_join=Results[['For_join','Div', 'Date','HomeTeam','AwayTeam','Total_Chance_first','HT_Chance_first','AT_Chance_first','Diff_first',\n",
    "                 'Total_Chance_sec','HT_Chance_sec','AT_Chance_sec','Diff_sec',\n",
    "                 'Total_Chance', 'HT_Chance_total','AT_Chance_total','Diff_total']]"
   ]
  },
  {
   "cell_type": "code",
   "execution_count": 45,
   "metadata": {},
   "outputs": [
    {
     "name": "stdout",
     "output_type": "stream",
     "text": [
      "<class 'pandas.core.frame.DataFrame'>\n",
      "RangeIndex: 1832 entries, 0 to 1831\n",
      "Data columns (total 17 columns):\n",
      "For_join              1832 non-null object\n",
      "Div                   1832 non-null object\n",
      "Date                  1832 non-null datetime64[ns]\n",
      "HomeTeam              1832 non-null object\n",
      "AwayTeam              1832 non-null object\n",
      "Total_Chance_first    1832 non-null float64\n",
      "HT_Chance_first       1832 non-null float64\n",
      "AT_Chance_first       1832 non-null float64\n",
      "Diff_first            1832 non-null float64\n",
      "Total_Chance_sec      1832 non-null float64\n",
      "HT_Chance_sec         1832 non-null float64\n",
      "AT_Chance_sec         1832 non-null float64\n",
      "Diff_sec              1832 non-null float64\n",
      "Total_Chance          1832 non-null float64\n",
      "HT_Chance_total       1832 non-null float64\n",
      "AT_Chance_total       1832 non-null float64\n",
      "Diff_total            1832 non-null float64\n",
      "dtypes: datetime64[ns](1), float64(12), object(4)\n",
      "memory usage: 243.4+ KB\n"
     ]
    }
   ],
   "source": [
    "Results_join.info()"
   ]
  },
  {
   "cell_type": "code",
   "execution_count": 46,
   "metadata": {},
   "outputs": [],
   "source": [
    "Results_new=Results_join.merge(Schedule_join, left_on='For_join', right_on='For_join')"
   ]
  },
  {
   "cell_type": "code",
   "execution_count": 72,
   "metadata": {},
   "outputs": [
    {
     "data": {
      "text/html": [
       "<div>\n",
       "<style scoped>\n",
       "    .dataframe tbody tr th:only-of-type {\n",
       "        vertical-align: middle;\n",
       "    }\n",
       "\n",
       "    .dataframe tbody tr th {\n",
       "        vertical-align: top;\n",
       "    }\n",
       "\n",
       "    .dataframe thead th {\n",
       "        text-align: right;\n",
       "    }\n",
       "</style>\n",
       "<table border=\"1\" class=\"dataframe\">\n",
       "  <thead>\n",
       "    <tr style=\"text-align: right;\">\n",
       "      <th></th>\n",
       "      <th>For_join</th>\n",
       "      <th>Div</th>\n",
       "      <th>Date</th>\n",
       "      <th>HomeTeam</th>\n",
       "      <th>AwayTeam</th>\n",
       "      <th>Total_Chance_first</th>\n",
       "      <th>HT_Chance_first</th>\n",
       "      <th>AT_Chance_first</th>\n",
       "      <th>Diff_first</th>\n",
       "      <th>Total_Chance_sec</th>\n",
       "      <th>...</th>\n",
       "      <th>Total_Chance</th>\n",
       "      <th>HT_Chance_total</th>\n",
       "      <th>AT_Chance_total</th>\n",
       "      <th>Diff_total</th>\n",
       "      <th>HTR1</th>\n",
       "      <th>HTR2</th>\n",
       "      <th>FTR</th>\n",
       "      <th>AvgH</th>\n",
       "      <th>AvgD</th>\n",
       "      <th>AvgA</th>\n",
       "    </tr>\n",
       "  </thead>\n",
       "  <tbody>\n",
       "    <tr>\n",
       "      <th>1827</th>\n",
       "      <td>GoztepKayserispor2019-10-05</td>\n",
       "      <td>T1</td>\n",
       "      <td>2019-10-05</td>\n",
       "      <td>Goztep</td>\n",
       "      <td>Kayserispor</td>\n",
       "      <td>1.128986</td>\n",
       "      <td>0.754483</td>\n",
       "      <td>0.374503</td>\n",
       "      <td>0.379979</td>\n",
       "      <td>1.357035</td>\n",
       "      <td>...</td>\n",
       "      <td>2.491621</td>\n",
       "      <td>1.583192</td>\n",
       "      <td>0.908429</td>\n",
       "      <td>0.674763</td>\n",
       "      <td>3</td>\n",
       "      <td>1</td>\n",
       "      <td>4</td>\n",
       "      <td>1.75</td>\n",
       "      <td>3.55</td>\n",
       "      <td>4.66</td>\n",
       "    </tr>\n",
       "    <tr>\n",
       "      <th>1828</th>\n",
       "      <td>GenclerbirligiGalatasaray2019-10-05</td>\n",
       "      <td>T1</td>\n",
       "      <td>2019-10-05</td>\n",
       "      <td>Genclerbirligi</td>\n",
       "      <td>Galatasaray</td>\n",
       "      <td>1.089312</td>\n",
       "      <td>0.347140</td>\n",
       "      <td>0.742173</td>\n",
       "      <td>-0.395033</td>\n",
       "      <td>1.699429</td>\n",
       "      <td>...</td>\n",
       "      <td>2.798545</td>\n",
       "      <td>0.873600</td>\n",
       "      <td>1.924946</td>\n",
       "      <td>-1.051346</td>\n",
       "      <td>0</td>\n",
       "      <td>0</td>\n",
       "      <td>0</td>\n",
       "      <td>3.40</td>\n",
       "      <td>3.54</td>\n",
       "      <td>2.04</td>\n",
       "    </tr>\n",
       "    <tr>\n",
       "      <th>1829</th>\n",
       "      <td>SivassporAnkaragucu2019-10-06</td>\n",
       "      <td>T1</td>\n",
       "      <td>2019-10-06</td>\n",
       "      <td>Sivasspor</td>\n",
       "      <td>Ankaragucu</td>\n",
       "      <td>1.282911</td>\n",
       "      <td>0.777324</td>\n",
       "      <td>0.505587</td>\n",
       "      <td>0.271737</td>\n",
       "      <td>1.507005</td>\n",
       "      <td>...</td>\n",
       "      <td>2.791995</td>\n",
       "      <td>1.779695</td>\n",
       "      <td>1.012300</td>\n",
       "      <td>0.767395</td>\n",
       "      <td>2</td>\n",
       "      <td>2</td>\n",
       "      <td>4</td>\n",
       "      <td>1.39</td>\n",
       "      <td>4.71</td>\n",
       "      <td>7.27</td>\n",
       "    </tr>\n",
       "    <tr>\n",
       "      <th>1830</th>\n",
       "      <td>BesiktasAlanyaspor2019-10-06</td>\n",
       "      <td>T1</td>\n",
       "      <td>2019-10-06</td>\n",
       "      <td>Besiktas</td>\n",
       "      <td>Alanyaspor</td>\n",
       "      <td>1.444745</td>\n",
       "      <td>0.991887</td>\n",
       "      <td>0.452858</td>\n",
       "      <td>0.539029</td>\n",
       "      <td>1.957653</td>\n",
       "      <td>...</td>\n",
       "      <td>3.415510</td>\n",
       "      <td>2.391230</td>\n",
       "      <td>1.024280</td>\n",
       "      <td>1.366949</td>\n",
       "      <td>0</td>\n",
       "      <td>2</td>\n",
       "      <td>2</td>\n",
       "      <td>2.02</td>\n",
       "      <td>3.63</td>\n",
       "      <td>3.38</td>\n",
       "    </tr>\n",
       "    <tr>\n",
       "      <th>1831</th>\n",
       "      <td>GaziantepBuyuksehyr2019-10-06</td>\n",
       "      <td>T1</td>\n",
       "      <td>2019-10-06</td>\n",
       "      <td>Gaziantep</td>\n",
       "      <td>Buyuksehyr</td>\n",
       "      <td>1.349113</td>\n",
       "      <td>0.731855</td>\n",
       "      <td>0.617258</td>\n",
       "      <td>0.114597</td>\n",
       "      <td>1.631924</td>\n",
       "      <td>...</td>\n",
       "      <td>3.046839</td>\n",
       "      <td>1.300173</td>\n",
       "      <td>1.746666</td>\n",
       "      <td>-0.446493</td>\n",
       "      <td>2</td>\n",
       "      <td>1</td>\n",
       "      <td>3</td>\n",
       "      <td>3.90</td>\n",
       "      <td>3.34</td>\n",
       "      <td>1.96</td>\n",
       "    </tr>\n",
       "  </tbody>\n",
       "</table>\n",
       "<p>5 rows × 23 columns</p>\n",
       "</div>"
      ],
      "text/plain": [
       "                                 For_join Div       Date        HomeTeam  \\\n",
       "1827          GoztepKayserispor2019-10-05  T1 2019-10-05          Goztep   \n",
       "1828  GenclerbirligiGalatasaray2019-10-05  T1 2019-10-05  Genclerbirligi   \n",
       "1829        SivassporAnkaragucu2019-10-06  T1 2019-10-06       Sivasspor   \n",
       "1830         BesiktasAlanyaspor2019-10-06  T1 2019-10-06        Besiktas   \n",
       "1831        GaziantepBuyuksehyr2019-10-06  T1 2019-10-06       Gaziantep   \n",
       "\n",
       "         AwayTeam  Total_Chance_first  HT_Chance_first  AT_Chance_first  \\\n",
       "1827  Kayserispor            1.128986         0.754483         0.374503   \n",
       "1828  Galatasaray            1.089312         0.347140         0.742173   \n",
       "1829   Ankaragucu            1.282911         0.777324         0.505587   \n",
       "1830   Alanyaspor            1.444745         0.991887         0.452858   \n",
       "1831   Buyuksehyr            1.349113         0.731855         0.617258   \n",
       "\n",
       "      Diff_first  Total_Chance_sec  ...  Total_Chance  HT_Chance_total  \\\n",
       "1827    0.379979          1.357035  ...      2.491621         1.583192   \n",
       "1828   -0.395033          1.699429  ...      2.798545         0.873600   \n",
       "1829    0.271737          1.507005  ...      2.791995         1.779695   \n",
       "1830    0.539029          1.957653  ...      3.415510         2.391230   \n",
       "1831    0.114597          1.631924  ...      3.046839         1.300173   \n",
       "\n",
       "      AT_Chance_total  Diff_total  HTR1  HTR2  FTR  AvgH  AvgD  AvgA  \n",
       "1827         0.908429    0.674763     3     1    4  1.75  3.55  4.66  \n",
       "1828         1.924946   -1.051346     0     0    0  3.40  3.54  2.04  \n",
       "1829         1.012300    0.767395     2     2    4  1.39  4.71  7.27  \n",
       "1830         1.024280    1.366949     0     2    2  2.02  3.63  3.38  \n",
       "1831         1.746666   -0.446493     2     1    3  3.90  3.34  1.96  \n",
       "\n",
       "[5 rows x 23 columns]"
      ]
     },
     "execution_count": 72,
     "metadata": {},
     "output_type": "execute_result"
    }
   ],
   "source": [
    "Results_new.tail()"
   ]
  },
  {
   "cell_type": "code",
   "execution_count": 69,
   "metadata": {},
   "outputs": [
    {
     "data": {
      "text/plain": [
       "1832"
      ]
     },
     "execution_count": 69,
     "metadata": {},
     "output_type": "execute_result"
    }
   ],
   "source": [
    "Results_new.Div.count()"
   ]
  },
  {
   "cell_type": "code",
   "execution_count": 71,
   "metadata": {},
   "outputs": [
    {
     "data": {
      "text/plain": [
       "1275"
      ]
     },
     "execution_count": 71,
     "metadata": {},
     "output_type": "execute_result"
    }
   ],
   "source": [
    "Results_new[Results_new.HTR1>0].Div.count()"
   ]
  },
  {
   "cell_type": "code",
   "execution_count": 48,
   "metadata": {},
   "outputs": [],
   "source": [
    "# regression models"
   ]
  },
  {
   "cell_type": "code",
   "execution_count": 49,
   "metadata": {},
   "outputs": [],
   "source": [
    "from sklearn import preprocessing, svm, metrics, tree, decomposition, svm \n",
    "from sklearn.ensemble import RandomForestClassifier, ExtraTreesClassifier, GradientBoostingClassifier, AdaBoostClassifier \n",
    "from sklearn.linear_model import LogisticRegression, Perceptron, SGDClassifier, OrthogonalMatchingPursuit, RandomizedLogisticRegression \n",
    "from sklearn.neighbors.nearest_centroid import NearestCentroid \n",
    "from sklearn.naive_bayes import GaussianNB, MultinomialNB, BernoulliNB \n",
    "from sklearn.tree import DecisionTreeClassifier \n",
    "from sklearn.neighbors import KNeighborsClassifier\n",
    "\n",
    "from sklearn.linear_model import LinearRegression\n",
    "from sklearn.ensemble import RandomForestRegressor\n",
    "from sklearn.ensemble import GradientBoostingRegressor\n",
    "\n",
    "from sklearn.model_selection import train_test_split"
   ]
  },
  {
   "cell_type": "code",
   "execution_count": 50,
   "metadata": {},
   "outputs": [],
   "source": [
    "#full time goal prediction model\n",
    "X=Results_new[['Total_Chance_first','HT_Chance_first','AT_Chance_first','Diff_first',\n",
    "                 'Total_Chance_sec','HT_Chance_sec','AT_Chance_sec','Diff_sec',\n",
    "                 'Total_Chance', 'HT_Chance_total','AT_Chance_total','Diff_total']]\n",
    "Y=Results_new['FTR']\n",
    "X_train, X_test, Y_train, Y_test = train_test_split(X, Y, test_size=0.10, random_state=27)"
   ]
  },
  {
   "cell_type": "code",
   "execution_count": 51,
   "metadata": {},
   "outputs": [
    {
     "data": {
      "text/plain": [
       "LinearRegression(copy_X=True, fit_intercept=True, n_jobs=None,\n",
       "         normalize=False)"
      ]
     },
     "execution_count": 51,
     "metadata": {},
     "output_type": "execute_result"
    }
   ],
   "source": [
    "linreg = LinearRegression()\n",
    "linreg.fit(X_train, Y_train)"
   ]
  },
  {
   "cell_type": "code",
   "execution_count": 52,
   "metadata": {},
   "outputs": [
    {
     "data": {
      "text/plain": [
       "184"
      ]
     },
     "execution_count": 52,
     "metadata": {},
     "output_type": "execute_result"
    }
   ],
   "source": [
    "linreg_prediction=linreg.predict(X_test)\n",
    "Y_test.count()"
   ]
  },
  {
   "cell_type": "code",
   "execution_count": 53,
   "metadata": {},
   "outputs": [
    {
     "name": "stdout",
     "output_type": "stream",
     "text": [
      "Accuracy= 0.5294117647058824\n",
      "Bets= 17\n"
     ]
    }
   ],
   "source": [
    "cnt=0\n",
    "total_bets=0\n",
    "for i in range(0,len(linreg_prediction)):\n",
    "    if (linreg_prediction[i]>3.2): total_bets=total_bets+1\n",
    "    if (linreg_prediction[i]>3.2 and Y_test.values[i]>2):\n",
    "        cnt=cnt+1\n",
    "print('Accuracy=',cnt/total_bets)\n",
    "print('Bets=', total_bets)"
   ]
  },
  {
   "cell_type": "code",
   "execution_count": 54,
   "metadata": {},
   "outputs": [
    {
     "data": {
      "text/plain": [
       "RandomForestRegressor(bootstrap=True, criterion='mse', max_depth=2,\n",
       "           max_features='auto', max_leaf_nodes=None,\n",
       "           min_impurity_decrease=0.0, min_impurity_split=None,\n",
       "           min_samples_leaf=1, min_samples_split=2,\n",
       "           min_weight_fraction_leaf=0.0, n_estimators=100, n_jobs=None,\n",
       "           oob_score=False, random_state=0, verbose=0, warm_start=False)"
      ]
     },
     "execution_count": 54,
     "metadata": {},
     "output_type": "execute_result"
    }
   ],
   "source": [
    "regr = RandomForestRegressor(max_depth=2, random_state=0,\n",
    "                           n_estimators=100)\n",
    "regr.fit(X_train, Y_train) "
   ]
  },
  {
   "cell_type": "code",
   "execution_count": 55,
   "metadata": {},
   "outputs": [],
   "source": [
    "regr_prediction=regr.predict(X_test)"
   ]
  },
  {
   "cell_type": "code",
   "execution_count": 56,
   "metadata": {},
   "outputs": [
    {
     "name": "stdout",
     "output_type": "stream",
     "text": [
      "Accuracy= 0.6\n",
      "Bets= 15\n"
     ]
    }
   ],
   "source": [
    "cnt=0\n",
    "total_bets=0\n",
    "for i in range(0,len(regr_prediction)):\n",
    "    if (regr_prediction[i]>3.2): total_bets=total_bets+1\n",
    "    if (regr_prediction[i]>3.2 and Y_test.values[i]>2):\n",
    "        cnt=cnt+1\n",
    "print('Accuracy=',cnt/total_bets)\n",
    "print('Bets=', total_bets)"
   ]
  },
  {
   "cell_type": "code",
   "execution_count": 57,
   "metadata": {},
   "outputs": [
    {
     "data": {
      "text/plain": [
       "GradientBoostingRegressor(alpha=0.9, criterion='friedman_mse', init=None,\n",
       "             learning_rate=0.1, loss='ls', max_depth=3, max_features=None,\n",
       "             max_leaf_nodes=None, min_impurity_decrease=0.0,\n",
       "             min_impurity_split=None, min_samples_leaf=1,\n",
       "             min_samples_split=2, min_weight_fraction_leaf=0.0,\n",
       "             n_estimators=100, n_iter_no_change=None, presort='auto',\n",
       "             random_state=None, subsample=1.0, tol=0.0001,\n",
       "             validation_fraction=0.1, verbose=0, warm_start=False)"
      ]
     },
     "execution_count": 57,
     "metadata": {},
     "output_type": "execute_result"
    }
   ],
   "source": [
    "GBR=GradientBoostingRegressor()\n",
    "GBR.fit(X_train, Y_train)"
   ]
  },
  {
   "cell_type": "code",
   "execution_count": 58,
   "metadata": {},
   "outputs": [],
   "source": [
    "GBR_prediction=GBR.predict(X_test)"
   ]
  },
  {
   "cell_type": "code",
   "execution_count": 59,
   "metadata": {},
   "outputs": [
    {
     "name": "stdout",
     "output_type": "stream",
     "text": [
      "Accuracy= 0.5\n",
      "Bets= 20\n"
     ]
    }
   ],
   "source": [
    "cnt=0\n",
    "total_bets=0\n",
    "for i in range(0,len(GBR_prediction)):\n",
    "    if (GBR_prediction[i]>3.2): total_bets=total_bets+1\n",
    "    if (GBR_prediction[i]>3.2 and Y_test.values[i]>2):\n",
    "        cnt=cnt+1\n",
    "print('Accuracy=',cnt/total_bets)\n",
    "print('Bets=', total_bets)"
   ]
  },
  {
   "cell_type": "code",
   "execution_count": 60,
   "metadata": {},
   "outputs": [
    {
     "data": {
      "text/html": [
       "<div>\n",
       "<style scoped>\n",
       "    .dataframe tbody tr th:only-of-type {\n",
       "        vertical-align: middle;\n",
       "    }\n",
       "\n",
       "    .dataframe tbody tr th {\n",
       "        vertical-align: top;\n",
       "    }\n",
       "\n",
       "    .dataframe thead th {\n",
       "        text-align: right;\n",
       "    }\n",
       "</style>\n",
       "<table border=\"1\" class=\"dataframe\">\n",
       "  <thead>\n",
       "    <tr style=\"text-align: right;\">\n",
       "      <th></th>\n",
       "      <th>Unnamed: 0</th>\n",
       "      <th>Div</th>\n",
       "      <th>Date</th>\n",
       "      <th>HomeTeam</th>\n",
       "      <th>AwayTeam</th>\n",
       "      <th>TCHT</th>\n",
       "      <th>TCHT_HT</th>\n",
       "      <th>TCHT_AT</th>\n",
       "      <th>Diff_first</th>\n",
       "      <th>TCSHT</th>\n",
       "      <th>TCSHT_HT</th>\n",
       "      <th>TCSHT_AT</th>\n",
       "      <th>Diff_sec</th>\n",
       "      <th>TCFT</th>\n",
       "      <th>TCFT_HT</th>\n",
       "      <th>TCFT_AT</th>\n",
       "      <th>Diff_total</th>\n",
       "    </tr>\n",
       "  </thead>\n",
       "  <tbody>\n",
       "    <tr>\n",
       "      <th>0</th>\n",
       "      <td>0</td>\n",
       "      <td>EC</td>\n",
       "      <td>15/10/2019</td>\n",
       "      <td>Wrexham</td>\n",
       "      <td>Chesterfield</td>\n",
       "      <td>0.901719</td>\n",
       "      <td>0.567986</td>\n",
       "      <td>0.333733</td>\n",
       "      <td>0.234253</td>\n",
       "      <td>1.255799</td>\n",
       "      <td>0.755214</td>\n",
       "      <td>0.500585</td>\n",
       "      <td>0.254629</td>\n",
       "      <td>2.170857</td>\n",
       "      <td>1.323339</td>\n",
       "      <td>0.847518</td>\n",
       "      <td>0.475821</td>\n",
       "    </tr>\n",
       "    <tr>\n",
       "      <th>1</th>\n",
       "      <td>1</td>\n",
       "      <td>SP2</td>\n",
       "      <td>16/10/2019</td>\n",
       "      <td>Fuenlabrada</td>\n",
       "      <td>Zaragoza</td>\n",
       "      <td>1.212108</td>\n",
       "      <td>0.558202</td>\n",
       "      <td>0.653906</td>\n",
       "      <td>-0.095705</td>\n",
       "      <td>1.168749</td>\n",
       "      <td>0.977812</td>\n",
       "      <td>0.190937</td>\n",
       "      <td>0.786875</td>\n",
       "      <td>2.356374</td>\n",
       "      <td>1.547244</td>\n",
       "      <td>0.809129</td>\n",
       "      <td>0.738115</td>\n",
       "    </tr>\n",
       "  </tbody>\n",
       "</table>\n",
       "</div>"
      ],
      "text/plain": [
       "   Unnamed: 0  Div        Date     HomeTeam      AwayTeam      TCHT   TCHT_HT  \\\n",
       "0           0   EC  15/10/2019      Wrexham  Chesterfield  0.901719  0.567986   \n",
       "1           1  SP2  16/10/2019  Fuenlabrada      Zaragoza  1.212108  0.558202   \n",
       "\n",
       "    TCHT_AT  Diff_first     TCSHT  TCSHT_HT  TCSHT_AT  Diff_sec      TCFT  \\\n",
       "0  0.333733    0.234253  1.255799  0.755214  0.500585  0.254629  2.170857   \n",
       "1  0.653906   -0.095705  1.168749  0.977812  0.190937  0.786875  2.356374   \n",
       "\n",
       "    TCFT_HT   TCFT_AT  Diff_total  \n",
       "0  1.323339  0.847518    0.475821  \n",
       "1  1.547244  0.809129    0.738115  "
      ]
     },
     "execution_count": 60,
     "metadata": {},
     "output_type": "execute_result"
    }
   ],
   "source": [
    "# Full time for 2,5 more\n",
    "data_p=pd.read_excel('Results_FULL_output.xlsx')\n",
    "data_p.head()"
   ]
  },
  {
   "cell_type": "code",
   "execution_count": 61,
   "metadata": {},
   "outputs": [],
   "source": [
    "data_prediction=data_p[['TCHT','TCHT_HT','TCHT_AT','Diff_first',\n",
    "                 'TCSHT','TCSHT_HT','TCSHT_AT','Diff_sec',\n",
    "                 'TCFT', 'TCFT_HT','TCFT_AT','Diff_total']]"
   ]
  },
  {
   "cell_type": "code",
   "execution_count": 62,
   "metadata": {},
   "outputs": [],
   "source": [
    "data_p['Prediction_1']=linreg.predict(data_prediction)\n",
    "data_p['Prediction_2']=regr.predict(data_prediction)\n",
    "data_p['Prediction_3']=GBR.predict(data_prediction)\n",
    "data_p['Prediction']=(data_p['Prediction_1']+data_p['Prediction_2']+data_p['Prediction_3'])/3"
   ]
  },
  {
   "cell_type": "code",
   "execution_count": 63,
   "metadata": {},
   "outputs": [
    {
     "name": "stdout",
     "output_type": "stream",
     "text": [
      "Empty DataFrame\n",
      "Columns: [Div, Date, HomeTeam, AwayTeam, Prediction]\n",
      "Index: []\n"
     ]
    }
   ],
   "source": [
    "data_25=data_p[['Div','Date','HomeTeam','AwayTeam','Prediction']]\n",
    "print(data_25[data_25.Prediction>3.1])"
   ]
  },
  {
   "cell_type": "code",
   "execution_count": 64,
   "metadata": {},
   "outputs": [],
   "source": [
    "#Prediction 3,5 less"
   ]
  },
  {
   "cell_type": "code",
   "execution_count": 65,
   "metadata": {},
   "outputs": [
    {
     "name": "stdout",
     "output_type": "stream",
     "text": [
      "Accuracy= 0.7947019867549668\n",
      "Bets= 151\n"
     ]
    }
   ],
   "source": [
    "cnt=0\n",
    "total_bets=0\n",
    "for i in range(0,len(linreg_prediction)):\n",
    "    if (linreg_prediction[i]<3): total_bets=total_bets+1\n",
    "    if (linreg_prediction[i]<3 and Y_test.values[i]<4):\n",
    "        cnt=cnt+1\n",
    "print('Accuracy=',cnt/total_bets)\n",
    "print('Bets=', total_bets)"
   ]
  },
  {
   "cell_type": "code",
   "execution_count": 66,
   "metadata": {},
   "outputs": [
    {
     "name": "stdout",
     "output_type": "stream",
     "text": [
      "Accuracy= 0.7843137254901961\n",
      "Bets= 153\n"
     ]
    }
   ],
   "source": [
    "cnt=0\n",
    "total_bets=0\n",
    "for i in range(0,len(regr_prediction)):\n",
    "    if (regr_prediction[i]<3): total_bets=total_bets+1\n",
    "    if (regr_prediction[i]<3 and Y_test.values[i]<4):\n",
    "        cnt=cnt+1\n",
    "print('Accuracy=',cnt/total_bets)\n",
    "print('Bets=', total_bets)"
   ]
  },
  {
   "cell_type": "code",
   "execution_count": 67,
   "metadata": {},
   "outputs": [
    {
     "name": "stdout",
     "output_type": "stream",
     "text": [
      "Accuracy= 0.7785234899328859\n",
      "Bets= 149\n"
     ]
    }
   ],
   "source": [
    "cnt=0\n",
    "total_bets=0\n",
    "for i in range(0,len(GBR_prediction)):\n",
    "    if (GBR_prediction[i]<3): total_bets=total_bets+1\n",
    "    if (GBR_prediction[i]<3 and Y_test.values[i]<4):\n",
    "        cnt=cnt+1\n",
    "print('Accuracy=',cnt/total_bets)\n",
    "print('Bets=', total_bets)"
   ]
  },
  {
   "cell_type": "code",
   "execution_count": 68,
   "metadata": {},
   "outputs": [
    {
     "name": "stdout",
     "output_type": "stream",
     "text": [
      "   Div        Date     HomeTeam      AwayTeam  Prediction\n",
      "0   EC  15/10/2019      Wrexham  Chesterfield    2.230873\n",
      "1  SP2  16/10/2019  Fuenlabrada      Zaragoza    2.424944\n"
     ]
    }
   ],
   "source": [
    "print(data_25[data_25.Prediction<3])"
   ]
  },
  {
   "cell_type": "code",
   "execution_count": 66,
   "metadata": {},
   "outputs": [
    {
     "data": {
      "text/html": [
       "<div>\n",
       "<style scoped>\n",
       "    .dataframe tbody tr th:only-of-type {\n",
       "        vertical-align: middle;\n",
       "    }\n",
       "\n",
       "    .dataframe tbody tr th {\n",
       "        vertical-align: top;\n",
       "    }\n",
       "\n",
       "    .dataframe thead th {\n",
       "        text-align: right;\n",
       "    }\n",
       "</style>\n",
       "<table border=\"1\" class=\"dataframe\">\n",
       "  <thead>\n",
       "    <tr style=\"text-align: right;\">\n",
       "      <th></th>\n",
       "      <th>Div</th>\n",
       "      <th>Date</th>\n",
       "      <th>HomeTeam</th>\n",
       "      <th>AwayTeam</th>\n",
       "      <th>Total_Chance_first</th>\n",
       "      <th>HT_Chance_first</th>\n",
       "      <th>AT_Chance_first</th>\n",
       "      <th>Diff_first</th>\n",
       "      <th>HTR1</th>\n",
       "    </tr>\n",
       "  </thead>\n",
       "  <tbody>\n",
       "    <tr>\n",
       "      <th>0</th>\n",
       "      <td>E0</td>\n",
       "      <td>2019-08-09</td>\n",
       "      <td>Liverpool</td>\n",
       "      <td>Norwich</td>\n",
       "      <td>2.169210</td>\n",
       "      <td>1.957560</td>\n",
       "      <td>0.211650</td>\n",
       "      <td>1.745910</td>\n",
       "      <td>4</td>\n",
       "    </tr>\n",
       "    <tr>\n",
       "      <th>1</th>\n",
       "      <td>E0</td>\n",
       "      <td>2019-08-10</td>\n",
       "      <td>West Ham</td>\n",
       "      <td>Man City</td>\n",
       "      <td>1.519446</td>\n",
       "      <td>0.351252</td>\n",
       "      <td>1.168194</td>\n",
       "      <td>-0.816943</td>\n",
       "      <td>1</td>\n",
       "    </tr>\n",
       "    <tr>\n",
       "      <th>2</th>\n",
       "      <td>E0</td>\n",
       "      <td>2019-08-10</td>\n",
       "      <td>Bournemouth</td>\n",
       "      <td>Sheffield United</td>\n",
       "      <td>1.303443</td>\n",
       "      <td>0.766325</td>\n",
       "      <td>0.537118</td>\n",
       "      <td>0.229207</td>\n",
       "      <td>0</td>\n",
       "    </tr>\n",
       "    <tr>\n",
       "      <th>3</th>\n",
       "      <td>E0</td>\n",
       "      <td>2019-08-10</td>\n",
       "      <td>Burnley</td>\n",
       "      <td>Southampton</td>\n",
       "      <td>1.124254</td>\n",
       "      <td>0.734869</td>\n",
       "      <td>0.389386</td>\n",
       "      <td>0.345483</td>\n",
       "      <td>0</td>\n",
       "    </tr>\n",
       "    <tr>\n",
       "      <th>4</th>\n",
       "      <td>E0</td>\n",
       "      <td>2019-08-10</td>\n",
       "      <td>Crystal Palace</td>\n",
       "      <td>Everton</td>\n",
       "      <td>0.908838</td>\n",
       "      <td>0.477116</td>\n",
       "      <td>0.431722</td>\n",
       "      <td>0.045394</td>\n",
       "      <td>0</td>\n",
       "    </tr>\n",
       "  </tbody>\n",
       "</table>\n",
       "</div>"
      ],
      "text/plain": [
       "  Div       Date        HomeTeam          AwayTeam  Total_Chance_first  \\\n",
       "0  E0 2019-08-09       Liverpool           Norwich            2.169210   \n",
       "1  E0 2019-08-10        West Ham          Man City            1.519446   \n",
       "2  E0 2019-08-10     Bournemouth  Sheffield United            1.303443   \n",
       "3  E0 2019-08-10         Burnley       Southampton            1.124254   \n",
       "4  E0 2019-08-10  Crystal Palace           Everton            0.908838   \n",
       "\n",
       "   HT_Chance_first  AT_Chance_first  Diff_first  HTR1  \n",
       "0         1.957560         0.211650    1.745910     4  \n",
       "1         0.351252         1.168194   -0.816943     1  \n",
       "2         0.766325         0.537118    0.229207     0  \n",
       "3         0.734869         0.389386    0.345483     0  \n",
       "4         0.477116         0.431722    0.045394     0  "
      ]
     },
     "execution_count": 66,
     "metadata": {},
     "output_type": "execute_result"
    }
   ],
   "source": [
    "#First half goal prediction model 0,5\n",
    "Results_opt_1=Results_new[['Div', 'Date','HomeTeam','AwayTeam','Total_Chance_first','HT_Chance_first',\n",
    "                           'AT_Chance_first','Diff_first','HTR1']]\n",
    "Results_opt_1.head()"
   ]
  },
  {
   "cell_type": "code",
   "execution_count": 67,
   "metadata": {},
   "outputs": [],
   "source": [
    "# https://github.com/dssg/johnson-county-ddj-public/blob/master/pipeline/modeling/models.py"
   ]
  },
  {
   "cell_type": "code",
   "execution_count": 68,
   "metadata": {},
   "outputs": [],
   "source": [
    "X1=Results_opt_1[['Total_Chance_first','HT_Chance_first','AT_Chance_first','Diff_first']]\n",
    "Y1=Results_opt_1['HTR1']\n",
    "X1_train, X1_test, Y1_train, Y1_test = train_test_split(X1, Y1, test_size=0.20, random_state=27)"
   ]
  },
  {
   "cell_type": "code",
   "execution_count": 69,
   "metadata": {},
   "outputs": [
    {
     "data": {
      "text/plain": [
       "185"
      ]
     },
     "execution_count": 69,
     "metadata": {},
     "output_type": "execute_result"
    }
   ],
   "source": [
    "Y_test.count()"
   ]
  },
  {
   "cell_type": "code",
   "execution_count": 70,
   "metadata": {},
   "outputs": [
    {
     "data": {
      "text/plain": [
       "GradientBoostingRegressor(alpha=0.9, criterion='friedman_mse', init=None,\n",
       "             learning_rate=0.1, loss='ls', max_depth=3, max_features=None,\n",
       "             max_leaf_nodes=None, min_impurity_decrease=0.0,\n",
       "             min_impurity_split=None, min_samples_leaf=1,\n",
       "             min_samples_split=2, min_weight_fraction_leaf=0.0,\n",
       "             n_estimators=100, n_iter_no_change=None, presort='auto',\n",
       "             random_state=None, subsample=1.0, tol=0.0001,\n",
       "             validation_fraction=0.1, verbose=0, warm_start=False)"
      ]
     },
     "execution_count": 70,
     "metadata": {},
     "output_type": "execute_result"
    }
   ],
   "source": [
    "# Linear regression\n",
    "linreg1 = LinearRegression()\n",
    "linreg1.fit(X1_train, Y1_train)\n",
    "regr1 = RandomForestRegressor(max_depth=2, random_state=0,\n",
    "                           n_estimators=100)\n",
    "regr1.fit(X1_train, Y1_train) \n",
    "GBR1=GradientBoostingRegressor()\n",
    "GBR1.fit(X1_train, Y1_train)"
   ]
  },
  {
   "cell_type": "code",
   "execution_count": 71,
   "metadata": {},
   "outputs": [],
   "source": [
    "linreg1_prediction=linreg1.predict(X1_test)\n",
    "regr1_prediction=regr1.predict(X1_test)\n",
    "GBR1_prediction=GBR1.predict(X1_test)"
   ]
  },
  {
   "cell_type": "code",
   "execution_count": 72,
   "metadata": {},
   "outputs": [
    {
     "name": "stdout",
     "output_type": "stream",
     "text": [
      "Accuracy= 0.7692307692307693\n",
      "Bets= 234\n"
     ]
    }
   ],
   "source": [
    "cnt=0\n",
    "total_bets=0\n",
    "for i in range(0,len(linreg1_prediction)):\n",
    "    if (linreg1_prediction[i]>1.1): total_bets=total_bets+1\n",
    "    if (linreg1_prediction[i]>1.1 and Y1_test.values[i]>0):\n",
    "        cnt=cnt+1\n",
    "print('Accuracy=',cnt/total_bets)\n",
    "print('Bets=', total_bets)"
   ]
  },
  {
   "cell_type": "code",
   "execution_count": 73,
   "metadata": {},
   "outputs": [
    {
     "name": "stdout",
     "output_type": "stream",
     "text": [
      "Accuracy= 0.772972972972973\n",
      "Bets= 185\n"
     ]
    }
   ],
   "source": [
    "cnt=0\n",
    "total_bets=0\n",
    "for i in range(0,len(regr1_prediction)):\n",
    "    if (regr1_prediction[i]>1.1): total_bets=total_bets+1\n",
    "    if (regr1_prediction[i]>1.1 and Y1_test.values[i]>0):\n",
    "        cnt=cnt+1\n",
    "print('Accuracy=',cnt/total_bets)\n",
    "print('Bets=', total_bets)"
   ]
  },
  {
   "cell_type": "code",
   "execution_count": 74,
   "metadata": {},
   "outputs": [
    {
     "name": "stdout",
     "output_type": "stream",
     "text": [
      "Accuracy= 0.746606334841629\n",
      "Bets= 221\n"
     ]
    }
   ],
   "source": [
    "cnt=0\n",
    "total_bets=0\n",
    "for i in range(0,len(GBR1_prediction)):\n",
    "    if (GBR1_prediction[i]>1.1): total_bets=total_bets+1\n",
    "    if (GBR1_prediction[i]>1.1 and Y1_test.values[i]>0):\n",
    "        cnt=cnt+1\n",
    "print('Accuracy=',cnt/total_bets)\n",
    "print('Bets=', total_bets)"
   ]
  },
  {
   "cell_type": "code",
   "execution_count": 75,
   "metadata": {},
   "outputs": [],
   "source": [
    "data_prediction_first=data_p[['TCHT','TCHT_HT','TCHT_AT','Diff_first']]"
   ]
  },
  {
   "cell_type": "code",
   "execution_count": 76,
   "metadata": {},
   "outputs": [],
   "source": [
    "data_p['Prediction_first1']=linreg1.predict(data_prediction_first)\n",
    "data_p['Prediction_first2']=regr1.predict(data_prediction_first)\n",
    "data_p['Prediction_first3']=GBR1.predict(data_prediction_first)\n",
    "data_p['Prediction_first']=(data_p['Prediction_first1']+data_p['Prediction_first2']+data_p['Prediction_first3'])/3"
   ]
  },
  {
   "cell_type": "code",
   "execution_count": 77,
   "metadata": {},
   "outputs": [
    {
     "name": "stdout",
     "output_type": "stream",
     "text": [
      "    Div        Date       HomeTeam       AwayTeam  Prediction_first\n",
      "0   SP2  11/10/2019      Vallecano       Tenerife          1.643785\n",
      "3    EC  12/10/2019      Eastleigh        Chorley          1.497658\n",
      "4    EC  12/10/2019      Ebbsfleet     Maidenhead          1.222653\n",
      "5    EC  12/10/2019          Fylde         Sutton          1.184385\n",
      "7    EC  12/10/2019   Notts County        Torquay          1.106575\n",
      "8    EC  12/10/2019       Solihull        Bromley          1.151147\n",
      "9    EC  12/10/2019      Stockport    Dag and Red          1.271005\n",
      "10   EC  12/10/2019         Yeovil      Harrogate          1.102061\n",
      "11  SP2  12/10/2019         Girona          Elche          1.335494\n",
      "17   E3  12/10/2019        Swindon       Plymouth          1.451098\n",
      "18   EC  12/10/2019         Barnet         Woking          1.183704\n",
      "19   E3  12/10/2019     Scunthorpe    Northampton          1.312958\n",
      "21   E2  12/10/2019      Peterboro        Lincoln          1.437232\n",
      "22   E2  12/10/2019     Portsmouth     Gillingham          1.234853\n",
      "23   E2  12/10/2019       Rochdale     Accrington          1.234156\n",
      "24   E2  12/10/2019       Southend  AFC Wimbledon          1.101089\n",
      "26   E3  12/10/2019       Carlisle          Crewe          1.329610\n",
      "27   E3  12/10/2019   Crawley Town     Colchester          1.161607\n",
      "28   E3  12/10/2019         Exeter   Forest Green          1.170437\n",
      "29   E3  12/10/2019  Leyton Orient        Walsall          1.249169\n",
      "30   E3  12/10/2019   Macclesfield      Port Vale          1.120465\n",
      "33   E3  12/10/2019        Salford      Cambridge          1.169674\n",
      "37   E2  13/10/2019       Coventry       Tranmere          1.144446\n",
      "38  SP2  13/10/2019         Huesca      Santander          1.170579\n",
      "39  SP2  13/10/2019       Mirandes    Fuenlabrada          1.281694\n"
     ]
    }
   ],
   "source": [
    "data_05_first=data_p[['Div','Date','HomeTeam','AwayTeam','Prediction_first']]\n",
    "print(data_05_first[data_05_first.Prediction_first>1.1])"
   ]
  },
  {
   "cell_type": "code",
   "execution_count": 78,
   "metadata": {},
   "outputs": [],
   "source": [
    "data_p.to_excel(\"Results_FULL_output.xlsx\")"
   ]
  },
  {
   "cell_type": "code",
   "execution_count": null,
   "metadata": {},
   "outputs": [],
   "source": []
  },
  {
   "cell_type": "code",
   "execution_count": 104,
   "metadata": {},
   "outputs": [
    {
     "name": "stdout",
     "output_type": "stream",
     "text": [
      "Accuracy= 0.7142857142857143\n",
      "Bets= 7\n"
     ]
    }
   ],
   "source": [
    "# First half 1,5 more\n",
    "cnt=0\n",
    "total_bets=0\n",
    "for i in range(0,len(linreg1_prediction)):\n",
    "    if (linreg1_prediction[i]>2): total_bets=total_bets+1\n",
    "    if (linreg1_prediction[i]>2 and Y1_test.values[i]>1):\n",
    "        cnt=cnt+1\n",
    "print('Accuracy=',cnt/total_bets)\n",
    "print('Bets=', total_bets)"
   ]
  },
  {
   "cell_type": "code",
   "execution_count": 105,
   "metadata": {},
   "outputs": [
    {
     "name": "stdout",
     "output_type": "stream",
     "text": [
      "Accuracy= 0.5\n",
      "Bets= 6\n"
     ]
    }
   ],
   "source": [
    "cnt=0\n",
    "total_bets=0\n",
    "for i in range(0,len(regr1_prediction)):\n",
    "    if (regr1_prediction[i]>2): total_bets=total_bets+1\n",
    "    if (regr1_prediction[i]>2 and Y1_test.values[i]>1):\n",
    "        cnt=cnt+1\n",
    "print('Accuracy=',cnt/total_bets)\n",
    "print('Bets=', total_bets)"
   ]
  },
  {
   "cell_type": "code",
   "execution_count": 106,
   "metadata": {},
   "outputs": [
    {
     "name": "stdout",
     "output_type": "stream",
     "text": [
      "Accuracy= 0.5\n",
      "Bets= 14\n"
     ]
    }
   ],
   "source": [
    "cnt=0\n",
    "total_bets=0\n",
    "for i in range(0,len(GBR1_prediction)):\n",
    "    if (GBR1_prediction[i]>2): total_bets=total_bets+1\n",
    "    if (GBR1_prediction[i]>2and Y1_test.values[i]>1):\n",
    "        cnt=cnt+1\n",
    "print('Accuracy=',cnt/total_bets)\n",
    "print('Bets=', total_bets)"
   ]
  },
  {
   "cell_type": "code",
   "execution_count": 107,
   "metadata": {},
   "outputs": [
    {
     "name": "stdout",
     "output_type": "stream",
     "text": [
      "Empty DataFrame\n",
      "Columns: [Div, Date, HomeTeam, AwayTeam, Prediction_first]\n",
      "Index: []\n"
     ]
    }
   ],
   "source": [
    "print(data_05_first[data_05_first.Prediction_first>2])"
   ]
  },
  {
   "cell_type": "code",
   "execution_count": 168,
   "metadata": {},
   "outputs": [],
   "source": [
    "# models regression\n",
    "logreg_clf = LogisticRegression(solver='liblinear')\n",
    "KNN_model = KNeighborsClassifier(n_neighbors=5)\n",
    "Forest_model=RandomForestClassifier(n_estimators=50, n_jobs=7)\n",
    "SVC_model=svm.SVC(kernel='linear', probability=True, random_state=0)\n",
    "Gradient_model = GradientBoostingClassifier(learning_rate=0.05, subsample=0.5, max_depth=6, n_estimators=10)\n",
    "tree_model =DecisionTreeClassifier()"
   ]
  },
  {
   "cell_type": "code",
   "execution_count": 169,
   "metadata": {},
   "outputs": [
    {
     "name": "stderr",
     "output_type": "stream",
     "text": [
      "C:\\Users\\vova_oderii\\Anaconda3\\lib\\site-packages\\sklearn\\linear_model\\logistic.py:460: FutureWarning: Default multi_class will be changed to 'auto' in 0.22. Specify the multi_class option to silence this warning.\n",
      "  \"this warning.\", FutureWarning)\n"
     ]
    },
    {
     "data": {
      "text/plain": [
       "DecisionTreeClassifier(class_weight=None, criterion='gini', max_depth=None,\n",
       "            max_features=None, max_leaf_nodes=None,\n",
       "            min_impurity_decrease=0.0, min_impurity_split=None,\n",
       "            min_samples_leaf=1, min_samples_split=2,\n",
       "            min_weight_fraction_leaf=0.0, presort=False, random_state=None,\n",
       "            splitter='best')"
      ]
     },
     "execution_count": 169,
     "metadata": {},
     "output_type": "execute_result"
    }
   ],
   "source": [
    "logreg_clf.fit(X_train, Y_train) \n",
    "KNN_model.fit(X_train, Y_train)\n",
    "Forest_model.fit(X_train, Y_train)\n",
    "SVC_model.fit(X_train, Y_train)\n",
    "Gradient_model.fit(X_train, Y_train)\n",
    "tree_model.fit(X_train, Y_train)"
   ]
  },
  {
   "cell_type": "code",
   "execution_count": 170,
   "metadata": {},
   "outputs": [],
   "source": [
    "logreg_prediction= logreg_clf.predict(X_test)\n",
    "KNN_prediction = KNN_model.predict(X_test)\n",
    "Forest_model_prediction= Forest_model.predict(X_test)\n",
    "SVC_model_prediction=SVC_model.predict(X_test)\n",
    "Gradient_model_prediction=Gradient_model.predict(X_test)\n",
    "tree_model_prediction=tree_model.predict(X_test)"
   ]
  },
  {
   "cell_type": "code",
   "execution_count": 171,
   "metadata": {},
   "outputs": [
    {
     "data": {
      "text/plain": [
       "array([0.86890766, 1.26305224, 1.27535742, 1.28781461, 1.57528092,\n",
       "       1.32555289, 1.47312537, 1.24765102, 1.21742085, 0.95219206,\n",
       "       0.81714456, 1.15298346, 0.77608302, 1.15847915, 1.01188499,\n",
       "       1.35634958, 2.33434403, 1.22252006, 1.47146935, 1.05965366,\n",
       "       2.14362135, 1.20495909, 1.92707743, 1.55510986, 1.12640807,\n",
       "       1.1366305 , 0.94615437, 1.15005719, 1.19717723, 1.01079599,\n",
       "       0.8250062 , 1.16085164, 1.16168172, 1.3529454 , 0.86248885,\n",
       "       1.07625885, 1.23785345, 0.90445156, 0.80718544, 1.23833747,\n",
       "       0.92633604, 0.98422553, 1.10548297, 1.18105426, 1.0339022 ,\n",
       "       1.0869474 , 1.45388354, 0.82846437, 1.15349869, 1.2078066 ,\n",
       "       1.56619576, 0.90711791, 1.28697487, 1.31555051, 1.20115779,\n",
       "       0.95956994, 1.0781381 , 0.95528484, 1.53243614, 1.05548827,\n",
       "       1.46041409, 0.74458489, 1.34341549, 0.82415215, 1.06114624,\n",
       "       1.46567538, 1.0045431 , 1.13965773, 0.79642354, 1.18785179,\n",
       "       1.17200187, 1.13912092, 1.09847849, 1.05329494, 2.05271603,\n",
       "       0.69185964, 0.66345238, 1.45473583, 0.99630548, 1.30855173,\n",
       "       1.17118491, 1.42360066, 1.27681382, 0.9939452 , 1.14815754,\n",
       "       1.34884958, 0.98284666, 1.45273514, 1.23127599, 1.13533583,\n",
       "       1.31213129, 0.87661187, 1.23868941, 1.73875226, 1.04743229,\n",
       "       1.05042724, 1.40805006, 1.19207847, 1.20987909, 1.49179541,\n",
       "       1.04782591, 1.32635783, 0.95834159, 1.08611749, 1.28465078,\n",
       "       1.04754478, 0.99257585, 1.3002892 , 1.32934422, 1.34186829,\n",
       "       0.79669459, 1.09396952, 1.14030678, 0.98086858, 0.84328172,\n",
       "       0.99348936, 1.37303978, 1.47942   , 0.76648298, 0.97617688,\n",
       "       0.97832538, 1.20835061, 0.79315607, 1.05185709, 0.88353692,\n",
       "       1.10507399, 1.15249937, 0.89850738, 1.15361584, 1.13838063,\n",
       "       1.31692968, 1.08806756, 1.56893011, 1.86719561, 1.2064435 ,\n",
       "       1.01483717, 1.22597053, 1.20097669, 1.22166286, 1.16739457,\n",
       "       1.10707091, 1.13948474, 1.09751652, 1.17298979, 1.37969263,\n",
       "       0.60283358, 0.96583445, 1.17980183, 1.4197661 , 0.94514705,\n",
       "       0.98708606, 0.93899678, 1.11263929, 1.19709894, 1.94722043,\n",
       "       1.28487264, 0.90367111, 1.76166472, 0.95062124, 1.38920429,\n",
       "       1.03450297, 1.06431421, 0.85026525, 0.9735694 , 1.23803607,\n",
       "       1.27885237, 0.84797983, 1.55804628, 1.15748773, 1.21501321,\n",
       "       1.10456077, 0.85897198, 0.43139605, 1.73854559, 1.21323725,\n",
       "       0.82021459, 1.28078168, 0.72049635, 1.2043871 , 1.20900555,\n",
       "       1.20897846, 1.12554868, 1.19612194, 1.2934265 , 1.07116524,\n",
       "       1.35275934, 1.32614276, 0.97331092, 1.1088764 , 1.15486527,\n",
       "       0.84847093, 0.94687901, 1.67183185, 0.98373385, 1.12712512,\n",
       "       1.29006569, 1.36013509, 1.15038456, 1.45197425, 1.12278503,\n",
       "       0.9208869 , 0.94797886, 0.75868994, 0.74124822, 1.4112086 ,\n",
       "       0.76094935, 1.42490531, 1.1765612 , 1.2499531 , 1.57075181,\n",
       "       0.86305618, 1.50405036, 1.49191914, 0.75338978, 1.07037287,\n",
       "       2.24620766, 0.8572047 , 1.74117301, 1.41383583, 1.271625  ,\n",
       "       1.1388555 , 1.04851894, 0.95736003, 1.05286861, 1.00394631,\n",
       "       1.14808772, 0.79032613, 1.50293124, 1.08477665, 1.14412709,\n",
       "       1.05592451, 1.77920681, 1.03779599, 0.91666756, 1.25921389,\n",
       "       1.06539632, 1.29915086, 1.84227057, 1.37338605, 1.39337535,\n",
       "       0.84714875, 1.18141204, 1.55163676, 1.24760061, 1.07920021,\n",
       "       1.21535925, 2.58962705, 1.32293239, 1.0297872 , 1.06323267,\n",
       "       1.6786631 , 1.10593292, 1.23988987, 1.13386133, 0.92460092,\n",
       "       1.02277521, 0.85860711, 0.87007243, 0.76918212, 1.04089863,\n",
       "       0.7620364 , 0.96675471, 1.34120156, 1.11138085, 1.21568418,\n",
       "       1.3107634 , 0.51827275, 1.23267501, 1.57813712, 1.35252679,\n",
       "       0.92419468, 1.31544418, 1.14143103, 0.94820574, 1.16254735,\n",
       "       1.08718804, 1.47789919, 0.72607341, 0.94592528, 1.21284534,\n",
       "       1.31982855, 0.28481367, 0.75090724, 1.21423116, 2.28888325,\n",
       "       1.07749412, 1.17438497, 1.12871183, 1.34707724, 0.76006782,\n",
       "       1.26652461, 1.33221848, 1.33417569, 1.00974901, 1.23704811,\n",
       "       1.1438952 , 1.87625325, 1.35458059, 1.01940382, 1.23047241,\n",
       "       1.75954501, 1.2837508 , 1.05188175, 0.90050695, 1.09274077,\n",
       "       0.9778166 , 1.78762331, 1.1807546 , 1.10451469, 1.00812478,\n",
       "       1.49589832, 0.98806664, 0.99195717, 0.66277404, 1.698472  ,\n",
       "       1.04788662, 0.94217411, 1.678259  , 0.81592201, 0.9835664 ,\n",
       "       1.1650032 , 1.61806888, 1.0698317 , 1.07257014, 1.087584  ,\n",
       "       0.85090449, 1.22827118, 1.14359537])"
      ]
     },
     "execution_count": 171,
     "metadata": {},
     "output_type": "execute_result"
    }
   ],
   "source": [
    "X_test['Total_Chance_first'].values"
   ]
  },
  {
   "cell_type": "code",
   "execution_count": 172,
   "metadata": {},
   "outputs": [
    {
     "data": {
      "text/plain": [
       "328"
      ]
     },
     "execution_count": 172,
     "metadata": {},
     "output_type": "execute_result"
    }
   ],
   "source": [
    "Y_test.count()"
   ]
  },
  {
   "cell_type": "code",
   "execution_count": 174,
   "metadata": {},
   "outputs": [
    {
     "name": "stdout",
     "output_type": "stream",
     "text": [
      "Accuracy= 0.7947368421052632\n",
      "Bets= 190\n"
     ]
    }
   ],
   "source": [
    "cnt=0\n",
    "total_bets=0\n",
    "for i in range(0,len(X_test['Total_Chance_first'].values)):\n",
    "    if (X_test['Total_Chance_first'].values[i]>1.1): total_bets=total_bets+1\n",
    "    if (X_test['Total_Chance_first'].values[i]>1.1 and Y_test.values[i]>0):\n",
    "        cnt=cnt+1\n",
    "print('Accuracy=',cnt/total_bets)\n",
    "print('Bets=', total_bets)"
   ]
  },
  {
   "cell_type": "code",
   "execution_count": 175,
   "metadata": {},
   "outputs": [
    {
     "name": "stdout",
     "output_type": "stream",
     "text": [
      "Accuracy= 0.7323943661971831\n",
      "Bets= 284\n"
     ]
    }
   ],
   "source": [
    "cnt=0\n",
    "total_bets=0\n",
    "for i in range(0,len(logreg_prediction)):\n",
    "    if (logreg_prediction[i]>0): total_bets=total_bets+1\n",
    "    if (logreg_prediction[i]>0 and Y_test.values[i]>0):\n",
    "        cnt=cnt+1\n",
    "print('Accuracy=',cnt/total_bets)\n",
    "print('Bets=', total_bets)"
   ]
  },
  {
   "cell_type": "code",
   "execution_count": 176,
   "metadata": {},
   "outputs": [
    {
     "name": "stdout",
     "output_type": "stream",
     "text": [
      "Accuracy= 0.6929460580912863\n",
      "Bets= 241\n"
     ]
    }
   ],
   "source": [
    "cnt=0\n",
    "total_bets=0\n",
    "for i in range(0,len(Forest_model_prediction)):\n",
    "    if (Forest_model_prediction[i]>0): total_bets=total_bets+1\n",
    "    if (Forest_model_prediction[i]>0 and Y_test.values[i]>0):\n",
    "        cnt=cnt+1\n",
    "print('Accuracy=',cnt/total_bets)\n",
    "print('Bets=', total_bets)"
   ]
  },
  {
   "cell_type": "code",
   "execution_count": 177,
   "metadata": {},
   "outputs": [
    {
     "name": "stdout",
     "output_type": "stream",
     "text": [
      "Accuracy= 0.7101449275362319\n",
      "Bets= 207\n"
     ]
    }
   ],
   "source": [
    "cnt=0\n",
    "total_bets=0\n",
    "for i in range(0,len(KNN_prediction)):\n",
    "    if (KNN_prediction[i]>0): total_bets=total_bets+1\n",
    "    if (KNN_prediction[i]>0 and Y_test.values[i]>0):\n",
    "        cnt=cnt+1\n",
    "print('Accuracy=',cnt/total_bets)\n",
    "print('Bets=', total_bets)"
   ]
  },
  {
   "cell_type": "code",
   "execution_count": 178,
   "metadata": {},
   "outputs": [
    {
     "name": "stdout",
     "output_type": "stream",
     "text": [
      "Accuracy= 0.7042682926829268\n",
      "Bets= 328\n"
     ]
    }
   ],
   "source": [
    "cnt=0\n",
    "total_bets=0\n",
    "for i in range(0,len(SVC_model_prediction)):\n",
    "    if (SVC_model_prediction[i]>0): total_bets=total_bets+1\n",
    "    if (SVC_model_prediction[i]>0 and Y_test.values[i]>0):\n",
    "        cnt=cnt+1\n",
    "print('Accuracy=',cnt/total_bets)\n",
    "print('Bets=', total_bets)"
   ]
  },
  {
   "cell_type": "code",
   "execution_count": 179,
   "metadata": {},
   "outputs": [
    {
     "name": "stdout",
     "output_type": "stream",
     "text": [
      "Accuracy= 0.7172995780590717\n",
      "Bets= 237\n"
     ]
    }
   ],
   "source": [
    "cnt=0\n",
    "total_bets=0\n",
    "for i in range(0,len(Gradient_model_prediction)):\n",
    "    if (Gradient_model_prediction[i]>0): total_bets=total_bets+1\n",
    "    if (Gradient_model_prediction[i]>0 and Y_test.values[i]>0):\n",
    "        cnt=cnt+1\n",
    "print('Accuracy=',cnt/total_bets)\n",
    "print('Bets=', total_bets)"
   ]
  },
  {
   "cell_type": "code",
   "execution_count": 180,
   "metadata": {},
   "outputs": [
    {
     "name": "stdout",
     "output_type": "stream",
     "text": [
      "Accuracy= 0.691304347826087\n",
      "Bets= 230\n"
     ]
    }
   ],
   "source": [
    "cnt=0\n",
    "total_bets=0\n",
    "for i in range(0,len(tree_model_prediction)):\n",
    "    if (tree_model_prediction[i]>0): total_bets=total_bets+1\n",
    "    if (tree_model_prediction[i]>0 and Y_test.values[i]>0):\n",
    "        cnt=cnt+1\n",
    "print('Accuracy=',cnt/total_bets)\n",
    "print('Bets=', total_bets)"
   ]
  },
  {
   "cell_type": "code",
   "execution_count": null,
   "metadata": {},
   "outputs": [],
   "source": [
    "# Manual testing"
   ]
  },
  {
   "cell_type": "code",
   "execution_count": 225,
   "metadata": {},
   "outputs": [
    {
     "name": "stdout",
     "output_type": "stream",
     "text": [
      "<class 'pandas.core.frame.DataFrame'>\n",
      "Int64Index: 36 entries, 0 to 35\n",
      "Data columns (total 11 columns):\n",
      "For_join              36 non-null object\n",
      "Div                   36 non-null object\n",
      "Date                  36 non-null datetime64[ns]\n",
      "HomeTeam              36 non-null object\n",
      "AwayTeam              36 non-null object\n",
      "Total_Chance_first    36 non-null float64\n",
      "Total_Chance_sec      36 non-null float64\n",
      "Total_Chance          36 non-null float64\n",
      "HTR1                  36 non-null int64\n",
      "HTR2                  36 non-null int64\n",
      "FTR                   36 non-null int64\n",
      "dtypes: datetime64[ns](1), float64(3), int64(3), object(4)\n",
      "memory usage: 3.4+ KB\n"
     ]
    }
   ],
   "source": [
    "Results_new.info()"
   ]
  },
  {
   "cell_type": "code",
   "execution_count": 234,
   "metadata": {},
   "outputs": [
    {
     "data": {
      "text/html": [
       "<div>\n",
       "<style scoped>\n",
       "    .dataframe tbody tr th:only-of-type {\n",
       "        vertical-align: middle;\n",
       "    }\n",
       "\n",
       "    .dataframe tbody tr th {\n",
       "        vertical-align: top;\n",
       "    }\n",
       "\n",
       "    .dataframe thead th {\n",
       "        text-align: right;\n",
       "    }\n",
       "</style>\n",
       "<table border=\"1\" class=\"dataframe\">\n",
       "  <thead>\n",
       "    <tr style=\"text-align: right;\">\n",
       "      <th></th>\n",
       "      <th>Total_Chance_first</th>\n",
       "      <th>Total_Chance_sec</th>\n",
       "      <th>Total_Chance</th>\n",
       "      <th>HTR1</th>\n",
       "      <th>HTR2</th>\n",
       "      <th>FTR</th>\n",
       "    </tr>\n",
       "  </thead>\n",
       "  <tbody>\n",
       "    <tr>\n",
       "      <th>count</th>\n",
       "      <td>18.000000</td>\n",
       "      <td>18.000000</td>\n",
       "      <td>18.000000</td>\n",
       "      <td>18.000000</td>\n",
       "      <td>18.000000</td>\n",
       "      <td>18.000000</td>\n",
       "    </tr>\n",
       "    <tr>\n",
       "      <th>mean</th>\n",
       "      <td>1.337605</td>\n",
       "      <td>1.721304</td>\n",
       "      <td>3.062452</td>\n",
       "      <td>1.500000</td>\n",
       "      <td>2.444444</td>\n",
       "      <td>3.944444</td>\n",
       "    </tr>\n",
       "    <tr>\n",
       "      <th>std</th>\n",
       "      <td>0.233659</td>\n",
       "      <td>0.463370</td>\n",
       "      <td>0.672088</td>\n",
       "      <td>0.923548</td>\n",
       "      <td>0.783823</td>\n",
       "      <td>0.872604</td>\n",
       "    </tr>\n",
       "    <tr>\n",
       "      <th>min</th>\n",
       "      <td>0.963088</td>\n",
       "      <td>1.138312</td>\n",
       "      <td>2.213754</td>\n",
       "      <td>0.000000</td>\n",
       "      <td>1.000000</td>\n",
       "      <td>3.000000</td>\n",
       "    </tr>\n",
       "    <tr>\n",
       "      <th>25%</th>\n",
       "      <td>1.131133</td>\n",
       "      <td>1.331696</td>\n",
       "      <td>2.532494</td>\n",
       "      <td>1.000000</td>\n",
       "      <td>2.000000</td>\n",
       "      <td>3.000000</td>\n",
       "    </tr>\n",
       "    <tr>\n",
       "      <th>50%</th>\n",
       "      <td>1.319631</td>\n",
       "      <td>1.647950</td>\n",
       "      <td>2.993613</td>\n",
       "      <td>1.000000</td>\n",
       "      <td>2.000000</td>\n",
       "      <td>4.000000</td>\n",
       "    </tr>\n",
       "    <tr>\n",
       "      <th>75%</th>\n",
       "      <td>1.463309</td>\n",
       "      <td>1.891534</td>\n",
       "      <td>3.314299</td>\n",
       "      <td>2.000000</td>\n",
       "      <td>3.000000</td>\n",
       "      <td>5.000000</td>\n",
       "    </tr>\n",
       "    <tr>\n",
       "      <th>max</th>\n",
       "      <td>1.782200</td>\n",
       "      <td>2.658085</td>\n",
       "      <td>4.444062</td>\n",
       "      <td>3.000000</td>\n",
       "      <td>4.000000</td>\n",
       "      <td>5.000000</td>\n",
       "    </tr>\n",
       "  </tbody>\n",
       "</table>\n",
       "</div>"
      ],
      "text/plain": [
       "       Total_Chance_first  Total_Chance_sec  Total_Chance       HTR1  \\\n",
       "count           18.000000         18.000000     18.000000  18.000000   \n",
       "mean             1.337605          1.721304      3.062452   1.500000   \n",
       "std              0.233659          0.463370      0.672088   0.923548   \n",
       "min              0.963088          1.138312      2.213754   0.000000   \n",
       "25%              1.131133          1.331696      2.532494   1.000000   \n",
       "50%              1.319631          1.647950      2.993613   1.000000   \n",
       "75%              1.463309          1.891534      3.314299   2.000000   \n",
       "max              1.782200          2.658085      4.444062   3.000000   \n",
       "\n",
       "            HTR2        FTR  \n",
       "count  18.000000  18.000000  \n",
       "mean    2.444444   3.944444  \n",
       "std     0.783823   0.872604  \n",
       "min     1.000000   3.000000  \n",
       "25%     2.000000   3.000000  \n",
       "50%     2.000000   4.000000  \n",
       "75%     3.000000   5.000000  \n",
       "max     4.000000   5.000000  "
      ]
     },
     "execution_count": 234,
     "metadata": {},
     "output_type": "execute_result"
    }
   ],
   "source": [
    "Results_won=Results_new[Results_new.FTR>2]\n",
    "Results_won.describe()"
   ]
  },
  {
   "cell_type": "code",
   "execution_count": 227,
   "metadata": {},
   "outputs": [
    {
     "name": "stdout",
     "output_type": "stream",
     "text": [
      "Kef= 1.0 Win percent= 0.8214285714285714 Games= 23\n",
      "Kef= 1.02 Win percent= 0.8214285714285714 Games= 23\n",
      "Kef= 1.04 Win percent= 0.8518518518518519 Games= 23\n",
      "Kef= 1.06 Win percent= 0.8846153846153846 Games= 23\n",
      "Kef= 1.08 Win percent= 0.88 Games= 22\n",
      "Kef= 1.1 Win percent= 0.88 Games= 22\n",
      "Kef= 1.12 Win percent= 0.9130434782608695 Games= 21\n",
      "Kef= 1.1400000000000001 Win percent= 0.95 Games= 19\n",
      "Kef= 1.1600000000000001 Win percent= 0.95 Games= 19\n",
      "Kef= 1.1800000000000002 Win percent= 0.95 Games= 19\n",
      "Kef= 1.2000000000000002 Win percent= 0.95 Games= 19\n",
      "Kef= 1.2200000000000002 Win percent= 1.0 Games= 19\n",
      "Kef= 1.2400000000000002 Win percent= 1.0 Games= 19\n",
      "Kef= 1.2600000000000002 Win percent= 1.0 Games= 19\n",
      "Kef= 1.2800000000000002 Win percent= 1.0 Games= 16\n",
      "Kef= 1.3000000000000003 Win percent= 1.0 Games= 16\n",
      "Kef= 1.3200000000000003 Win percent= 1.0 Games= 15\n",
      "Kef= 1.3400000000000003 Win percent= 1.0 Games= 13\n",
      "Kef= 1.3600000000000003 Win percent= 1.0 Games= 11\n",
      "Kef= 1.3800000000000003 Win percent= 1.0 Games= 11\n",
      "Kef= 1.4000000000000004 Win percent= 1.0 Games= 11\n",
      "Kef= 1.4200000000000004 Win percent= 1.0 Games= 10\n",
      "Kef= 1.4400000000000004 Win percent= 1.0 Games= 9\n",
      "Kef= 1.4600000000000004 Win percent= 1.0 Games= 9\n",
      "Kef= 1.4800000000000004 Win percent= 1.0 Games= 8\n",
      "Kef= 1.5000000000000004 Win percent= 1.0 Games= 8\n",
      "Kef= 1.5200000000000005 Win percent= 1.0 Games= 8\n",
      "Kef= 1.5400000000000005 Win percent= 1.0 Games= 8\n",
      "Kef= 1.5600000000000005 Win percent= 1.0 Games= 7\n",
      "Kef= 1.5800000000000005 Win percent= 1.0 Games= 6\n",
      "Kef= 1.6000000000000005 Win percent= 1.0 Games= 5\n",
      "Kef= 1.6200000000000006 Win percent= 1.0 Games= 5\n",
      "Kef= 1.6400000000000006 Win percent= 1.0 Games= 5\n",
      "Kef= 1.6600000000000006 Win percent= 1.0 Games= 5\n",
      "Kef= 1.6800000000000006 Win percent= 1.0 Games= 4\n",
      "Kef= 1.7000000000000006 Win percent= 1.0 Games= 4\n",
      "Kef= 1.7200000000000006 Win percent= 1.0 Games= 3\n",
      "Kef= 1.7400000000000007 Win percent= 1.0 Games= 3\n",
      "Kef= 1.7600000000000007 Win percent= 1.0 Games= 3\n",
      "Kef= 1.7800000000000007 Win percent= 1.0 Games= 2\n",
      "Kef= 1.8000000000000007 Win percent= 1.0 Games= 1\n",
      "Kef= 1.8200000000000007 Win percent= 1.0 Games= 1\n",
      "Kef= 1.8400000000000007 Win percent= 1.0 Games= 1\n"
     ]
    },
    {
     "name": "stderr",
     "output_type": "stream",
     "text": [
      "C:\\Users\\vova_oderii\\Anaconda3\\lib\\site-packages\\ipykernel_launcher.py:5: RuntimeWarning: invalid value encountered in longlong_scalars\n",
      "  \"\"\"\n"
     ]
    }
   ],
   "source": [
    "for k in np.arange(1, 2, 0.02):\n",
    "    Res_anal=Results_new[Results_new['Total_Chance_first']>k]\n",
    "    am_tot=Res_anal.count()\n",
    "    am_won=Res_anal[Res_anal.HTR1>0].count()\n",
    "    if (am_won[0]/am_tot[0]>0.79):\n",
    "        print('Kef=',k,'Win percent=',am_won[0]/am_tot[0],'Games=',am_won[0])"
   ]
  },
  {
   "cell_type": "code",
   "execution_count": 228,
   "metadata": {},
   "outputs": [
    {
     "name": "stdout",
     "output_type": "stream",
     "text": [
      "Kef= 0.92 Win percent= 0.8 Games= 28\n",
      "Kef= 0.9400000000000001 Win percent= 0.8 Games= 28\n",
      "Kef= 0.9600000000000001 Win percent= 0.8 Games= 28\n",
      "Kef= 0.9800000000000001 Win percent= 0.8 Games= 28\n",
      "Kef= 1.0 Win percent= 0.7941176470588235 Games= 27\n",
      "Kef= 1.02 Win percent= 0.7941176470588235 Games= 27\n",
      "Kef= 1.3000000000000003 Win percent= 0.8148148148148148 Games= 22\n",
      "Kef= 1.3200000000000003 Win percent= 0.8148148148148148 Games= 22\n",
      "Kef= 1.3400000000000003 Win percent= 0.7916666666666666 Games= 19\n",
      "Kef= 1.3600000000000003 Win percent= 0.7916666666666666 Games= 19\n",
      "Kef= 1.3800000000000003 Win percent= 0.7916666666666666 Games= 19\n"
     ]
    }
   ],
   "source": [
    "for k in np.arange(0.9, 2, 0.02):\n",
    "    Res_anal=Results_new[Results_new['Total_Chance_sec']>k]\n",
    "    am_tot=Res_anal.count()\n",
    "    am_won=Res_anal[Res_anal.HTR2>0].count()\n",
    "    if (am_won[0]/am_tot[0]>0.79):\n",
    "        print('Kef=',k,'Win percent=',am_won[0]/am_tot[0],'Games=',am_won[0])"
   ]
  },
  {
   "cell_type": "code",
   "execution_count": 229,
   "metadata": {},
   "outputs": [
    {
     "name": "stdout",
     "output_type": "stream",
     "text": [
      "Kef= 1.1400000000000001 Win percent= 0.7714285714285715 Games= 27\n",
      "Kef= 1.1600000000000001 Win percent= 0.7714285714285715 Games= 27\n",
      "Kef= 1.1800000000000002 Win percent= 0.7714285714285715 Games= 27\n",
      "Kef= 1.2000000000000002 Win percent= 0.7714285714285715 Games= 27\n",
      "Kef= 1.2200000000000002 Win percent= 0.7941176470588235 Games= 27\n",
      "Kef= 1.2400000000000002 Win percent= 0.7941176470588235 Games= 27\n",
      "Kef= 1.2600000000000002 Win percent= 0.7941176470588235 Games= 27\n",
      "Kef= 1.2800000000000002 Win percent= 0.7941176470588235 Games= 27\n",
      "Kef= 1.3000000000000003 Win percent= 0.7878787878787878 Games= 26\n",
      "Kef= 1.3200000000000003 Win percent= 0.7878787878787878 Games= 26\n",
      "Kef= 1.3400000000000003 Win percent= 0.7878787878787878 Games= 26\n",
      "Kef= 1.3600000000000003 Win percent= 0.7878787878787878 Games= 26\n",
      "Kef= 1.3800000000000003 Win percent= 0.78125 Games= 25\n",
      "Kef= 1.4000000000000004 Win percent= 0.78125 Games= 25\n",
      "Kef= 1.4200000000000004 Win percent= 0.78125 Games= 25\n",
      "Kef= 1.4400000000000004 Win percent= 0.78125 Games= 25\n",
      "Kef= 1.4600000000000004 Win percent= 0.78125 Games= 25\n",
      "Kef= 1.4800000000000004 Win percent= 0.78125 Games= 25\n",
      "Kef= 1.5000000000000004 Win percent= 0.78125 Games= 25\n",
      "Kef= 1.5200000000000005 Win percent= 0.78125 Games= 25\n",
      "Kef= 1.5400000000000005 Win percent= 0.78125 Games= 25\n",
      "Kef= 1.5600000000000005 Win percent= 0.78125 Games= 25\n",
      "Kef= 1.5800000000000005 Win percent= 0.78125 Games= 25\n",
      "Kef= 1.6000000000000005 Win percent= 0.78125 Games= 25\n",
      "Kef= 1.6200000000000006 Win percent= 0.78125 Games= 25\n",
      "Kef= 1.6400000000000006 Win percent= 0.78125 Games= 25\n",
      "Kef= 1.6600000000000006 Win percent= 0.78125 Games= 25\n",
      "Kef= 1.6800000000000006 Win percent= 0.78125 Games= 25\n",
      "Kef= 1.7000000000000006 Win percent= 0.78125 Games= 25\n",
      "Kef= 1.7200000000000006 Win percent= 0.78125 Games= 25\n",
      "Kef= 1.7400000000000007 Win percent= 0.78125 Games= 25\n",
      "Kef= 1.7600000000000007 Win percent= 0.78125 Games= 25\n",
      "Kef= 1.7800000000000007 Win percent= 0.78125 Games= 25\n",
      "Kef= 1.8000000000000007 Win percent= 0.78125 Games= 25\n",
      "Kef= 1.8200000000000007 Win percent= 0.78125 Games= 25\n",
      "Kef= 1.8400000000000007 Win percent= 0.78125 Games= 25\n",
      "Kef= 1.8600000000000008 Win percent= 0.78125 Games= 25\n",
      "Kef= 1.8800000000000008 Win percent= 0.78125 Games= 25\n",
      "Kef= 1.9000000000000008 Win percent= 0.78125 Games= 25\n",
      "Kef= 1.9200000000000008 Win percent= 0.78125 Games= 25\n",
      "Kef= 1.9400000000000008 Win percent= 0.78125 Games= 25\n",
      "Kef= 1.9600000000000009 Win percent= 0.78125 Games= 25\n",
      "Kef= 1.9800000000000009 Win percent= 0.78125 Games= 25\n",
      "Kef= 2.000000000000001 Win percent= 0.78125 Games= 25\n",
      "Kef= 2.020000000000001 Win percent= 0.78125 Games= 25\n",
      "Kef= 2.040000000000001 Win percent= 0.78125 Games= 25\n",
      "Kef= 2.060000000000001 Win percent= 0.78125 Games= 25\n",
      "Kef= 2.080000000000001 Win percent= 0.78125 Games= 25\n",
      "Kef= 2.100000000000001 Win percent= 0.78125 Games= 25\n",
      "Kef= 2.120000000000001 Win percent= 0.78125 Games= 25\n",
      "Kef= 2.140000000000001 Win percent= 0.78125 Games= 25\n",
      "Kef= 2.160000000000001 Win percent= 0.8064516129032258 Games= 25\n",
      "Kef= 2.180000000000001 Win percent= 0.8064516129032258 Games= 25\n",
      "Kef= 2.200000000000001 Win percent= 0.8064516129032258 Games= 25\n",
      "Kef= 2.220000000000001 Win percent= 0.8 Games= 24\n",
      "Kef= 2.240000000000001 Win percent= 0.8 Games= 24\n",
      "Kef= 2.260000000000001 Win percent= 0.8 Games= 24\n",
      "Kef= 2.280000000000001 Win percent= 0.8 Games= 24\n",
      "Kef= 2.300000000000001 Win percent= 0.7931034482758621 Games= 23\n",
      "Kef= 2.320000000000001 Win percent= 0.7931034482758621 Games= 23\n",
      "Kef= 2.340000000000001 Win percent= 0.7931034482758621 Games= 23\n",
      "Kef= 2.360000000000001 Win percent= 0.7931034482758621 Games= 23\n",
      "Kef= 2.3800000000000012 Win percent= 0.7857142857142857 Games= 22\n",
      "Kef= 2.4000000000000012 Win percent= 0.7777777777777778 Games= 21\n",
      "Kef= 2.4200000000000013 Win percent= 0.7777777777777778 Games= 21\n",
      "Kef= 2.4400000000000013 Win percent= 0.7777777777777778 Games= 21\n",
      "Kef= 2.4600000000000013 Win percent= 0.7692307692307693 Games= 20\n",
      "Kef= 2.4800000000000013 Win percent= 0.76 Games= 19\n",
      "Kef= 2.5000000000000013 Win percent= 0.76 Games= 19\n",
      "Kef= 2.5200000000000014 Win percent= 0.7916666666666666 Games= 19\n",
      "Kef= 2.5400000000000014 Win percent= 0.7916666666666666 Games= 19\n",
      "Kef= 2.5600000000000014 Win percent= 0.8260869565217391 Games= 19\n",
      "Kef= 2.5800000000000014 Win percent= 0.8260869565217391 Games= 19\n",
      "Kef= 2.6000000000000014 Win percent= 0.8260869565217391 Games= 19\n",
      "Kef= 2.6200000000000014 Win percent= 0.8636363636363636 Games= 19\n",
      "Kef= 2.6400000000000015 Win percent= 0.8636363636363636 Games= 19\n",
      "Kef= 2.6600000000000015 Win percent= 0.8636363636363636 Games= 19\n",
      "Kef= 2.6800000000000015 Win percent= 0.8636363636363636 Games= 19\n",
      "Kef= 2.7000000000000015 Win percent= 0.8421052631578947 Games= 16\n",
      "Kef= 2.7200000000000015 Win percent= 0.8421052631578947 Games= 16\n",
      "Kef= 2.7400000000000015 Win percent= 0.8333333333333334 Games= 15\n",
      "Kef= 2.7600000000000016 Win percent= 0.8823529411764706 Games= 15\n",
      "Kef= 2.7800000000000016 Win percent= 0.8823529411764706 Games= 15\n",
      "Kef= 2.8000000000000016 Win percent= 0.8823529411764706 Games= 15\n",
      "Kef= 2.8200000000000016 Win percent= 0.8823529411764706 Games= 15\n",
      "Kef= 2.8400000000000016 Win percent= 0.8823529411764706 Games= 15\n",
      "Kef= 2.8600000000000017 Win percent= 0.8823529411764706 Games= 15\n",
      "Kef= 2.8800000000000017 Win percent= 0.8823529411764706 Games= 15\n",
      "Kef= 2.9000000000000017 Win percent= 0.8823529411764706 Games= 15\n",
      "Kef= 2.9200000000000017 Win percent= 0.875 Games= 14\n",
      "Kef= 2.9400000000000017 Win percent= 0.875 Games= 14\n",
      "Kef= 2.9600000000000017 Win percent= 0.875 Games= 14\n",
      "Kef= 2.9800000000000018 Win percent= 0.875 Games= 14\n",
      "Kef= 3.0000000000000018 Win percent= 0.8571428571428571 Games= 12\n",
      "Kef= 3.020000000000002 Win percent= 0.8571428571428571 Games= 12\n",
      "Kef= 3.040000000000002 Win percent= 0.8461538461538461 Games= 11\n",
      "Kef= 3.060000000000002 Win percent= 0.8461538461538461 Games= 11\n",
      "Kef= 3.080000000000002 Win percent= 0.8461538461538461 Games= 11\n",
      "Kef= 3.100000000000002 Win percent= 0.8461538461538461 Games= 11\n",
      "Kef= 3.120000000000002 Win percent= 0.9166666666666666 Games= 11\n",
      "Kef= 3.140000000000002 Win percent= 0.9166666666666666 Games= 11\n",
      "Kef= 3.160000000000002 Win percent= 0.9090909090909091 Games= 10\n",
      "Kef= 3.180000000000002 Win percent= 0.9090909090909091 Games= 10\n",
      "Kef= 3.200000000000002 Win percent= 0.9090909090909091 Games= 10\n",
      "Kef= 3.220000000000002 Win percent= 0.9090909090909091 Games= 10\n",
      "Kef= 3.240000000000002 Win percent= 0.9 Games= 9\n",
      "Kef= 3.260000000000002 Win percent= 0.8888888888888888 Games= 8\n",
      "Kef= 3.280000000000002 Win percent= 0.8888888888888888 Games= 8\n",
      "Kef= 3.300000000000002 Win percent= 0.8888888888888888 Games= 8\n",
      "Kef= 3.320000000000002 Win percent= 0.8888888888888888 Games= 8\n",
      "Kef= 3.340000000000002 Win percent= 0.8888888888888888 Games= 8\n",
      "Kef= 3.360000000000002 Win percent= 0.875 Games= 7\n",
      "Kef= 3.380000000000002 Win percent= 0.875 Games= 7\n",
      "Kef= 3.400000000000002 Win percent= 0.875 Games= 7\n",
      "Kef= 3.420000000000002 Win percent= 0.875 Games= 7\n",
      "Kef= 3.440000000000002 Win percent= 0.8571428571428571 Games= 6\n",
      "Kef= 3.460000000000002 Win percent= 0.8571428571428571 Games= 6\n",
      "Kef= 3.480000000000002 Win percent= 0.8333333333333334 Games= 5\n",
      "Kef= 3.500000000000002 Win percent= 0.8333333333333334 Games= 5\n",
      "Kef= 3.5200000000000022 Win percent= 0.8333333333333334 Games= 5\n",
      "Kef= 3.5400000000000023 Win percent= 0.8333333333333334 Games= 5\n",
      "Kef= 3.5600000000000023 Win percent= 0.8333333333333334 Games= 5\n",
      "Kef= 3.5800000000000023 Win percent= 0.8333333333333334 Games= 5\n",
      "Kef= 3.6000000000000023 Win percent= 0.8333333333333334 Games= 5\n",
      "Kef= 3.6200000000000023 Win percent= 0.8333333333333334 Games= 5\n",
      "Kef= 3.6400000000000023 Win percent= 0.8333333333333334 Games= 5\n",
      "Kef= 3.6600000000000024 Win percent= 0.8333333333333334 Games= 5\n",
      "Kef= 3.6800000000000024 Win percent= 0.8333333333333334 Games= 5\n",
      "Kef= 3.7000000000000024 Win percent= 0.8333333333333334 Games= 5\n",
      "Kef= 3.7200000000000024 Win percent= 0.8333333333333334 Games= 5\n",
      "Kef= 3.7400000000000024 Win percent= 0.8333333333333334 Games= 5\n",
      "Kef= 3.7600000000000025 Win percent= 0.8333333333333334 Games= 5\n",
      "Kef= 3.7800000000000025 Win percent= 0.8333333333333334 Games= 5\n",
      "Kef= 3.8000000000000025 Win percent= 0.8333333333333334 Games= 5\n",
      "Kef= 3.8200000000000025 Win percent= 0.8333333333333334 Games= 5\n"
     ]
    },
    {
     "name": "stdout",
     "output_type": "stream",
     "text": [
      "Kef= 3.8400000000000025 Win percent= 0.8 Games= 4\n",
      "Kef= 3.8600000000000025 Win percent= 0.8 Games= 4\n",
      "Kef= 3.8800000000000026 Win percent= 0.8 Games= 4\n",
      "Kef= 3.9000000000000026 Win percent= 0.8 Games= 4\n",
      "Kef= 3.9200000000000026 Win percent= 0.8 Games= 4\n",
      "Kef= 3.9400000000000026 Win percent= 0.8 Games= 4\n",
      "Kef= 3.9600000000000026 Win percent= 0.8 Games= 4\n"
     ]
    }
   ],
   "source": [
    "for k in np.arange(1, 4, 0.02):\n",
    "    Res_anal=Results_new[Results_new['Total_Chance']>k]\n",
    "    am_tot=Res_anal.count()\n",
    "    am_won=Res_anal[Res_anal.FTR>1].count()\n",
    "    if (am_won[0]/am_tot[0]>0.75):\n",
    "        print('Kef=',k,'Win percent=',am_won[0]/am_tot[0],'Games=',am_won[0])"
   ]
  },
  {
   "cell_type": "code",
   "execution_count": 230,
   "metadata": {},
   "outputs": [
    {
     "name": "stdout",
     "output_type": "stream",
     "text": [
      "Kef= 1.1400000000000001 Win percent= 0.5142857142857142 Games= 18\n",
      "Kef= 1.1600000000000001 Win percent= 0.5142857142857142 Games= 18\n",
      "Kef= 1.1800000000000002 Win percent= 0.5142857142857142 Games= 18\n",
      "Kef= 1.2000000000000002 Win percent= 0.5142857142857142 Games= 18\n",
      "Kef= 1.2200000000000002 Win percent= 0.5294117647058824 Games= 18\n",
      "Kef= 1.2400000000000002 Win percent= 0.5294117647058824 Games= 18\n",
      "Kef= 1.2600000000000002 Win percent= 0.5294117647058824 Games= 18\n",
      "Kef= 1.2800000000000002 Win percent= 0.5294117647058824 Games= 18\n",
      "Kef= 1.3000000000000003 Win percent= 0.5454545454545454 Games= 18\n",
      "Kef= 1.3200000000000003 Win percent= 0.5454545454545454 Games= 18\n",
      "Kef= 1.3400000000000003 Win percent= 0.5454545454545454 Games= 18\n",
      "Kef= 1.3600000000000003 Win percent= 0.5454545454545454 Games= 18\n",
      "Kef= 1.3800000000000003 Win percent= 0.5625 Games= 18\n",
      "Kef= 1.4000000000000004 Win percent= 0.5625 Games= 18\n",
      "Kef= 1.4200000000000004 Win percent= 0.5625 Games= 18\n",
      "Kef= 1.4400000000000004 Win percent= 0.5625 Games= 18\n",
      "Kef= 1.4600000000000004 Win percent= 0.5625 Games= 18\n",
      "Kef= 1.4800000000000004 Win percent= 0.5625 Games= 18\n",
      "Kef= 1.5000000000000004 Win percent= 0.5625 Games= 18\n",
      "Kef= 1.5200000000000005 Win percent= 0.5625 Games= 18\n",
      "Kef= 1.5400000000000005 Win percent= 0.5625 Games= 18\n",
      "Kef= 1.5600000000000005 Win percent= 0.5625 Games= 18\n",
      "Kef= 1.5800000000000005 Win percent= 0.5625 Games= 18\n",
      "Kef= 1.6000000000000005 Win percent= 0.5625 Games= 18\n",
      "Kef= 1.6200000000000006 Win percent= 0.5625 Games= 18\n",
      "Kef= 1.6400000000000006 Win percent= 0.5625 Games= 18\n",
      "Kef= 1.6600000000000006 Win percent= 0.5625 Games= 18\n",
      "Kef= 1.6800000000000006 Win percent= 0.5625 Games= 18\n",
      "Kef= 1.7000000000000006 Win percent= 0.5625 Games= 18\n",
      "Kef= 1.7200000000000006 Win percent= 0.5625 Games= 18\n",
      "Kef= 1.7400000000000007 Win percent= 0.5625 Games= 18\n",
      "Kef= 1.7600000000000007 Win percent= 0.5625 Games= 18\n",
      "Kef= 1.7800000000000007 Win percent= 0.5625 Games= 18\n",
      "Kef= 1.8000000000000007 Win percent= 0.5625 Games= 18\n",
      "Kef= 1.8200000000000007 Win percent= 0.5625 Games= 18\n",
      "Kef= 1.8400000000000007 Win percent= 0.5625 Games= 18\n",
      "Kef= 1.8600000000000008 Win percent= 0.5625 Games= 18\n",
      "Kef= 1.8800000000000008 Win percent= 0.5625 Games= 18\n",
      "Kef= 1.9000000000000008 Win percent= 0.5625 Games= 18\n",
      "Kef= 1.9200000000000008 Win percent= 0.5625 Games= 18\n",
      "Kef= 1.9400000000000008 Win percent= 0.5625 Games= 18\n",
      "Kef= 1.9600000000000009 Win percent= 0.5625 Games= 18\n",
      "Kef= 1.9800000000000009 Win percent= 0.5625 Games= 18\n",
      "Kef= 2.000000000000001 Win percent= 0.5625 Games= 18\n",
      "Kef= 2.020000000000001 Win percent= 0.5625 Games= 18\n",
      "Kef= 2.040000000000001 Win percent= 0.5625 Games= 18\n",
      "Kef= 2.060000000000001 Win percent= 0.5625 Games= 18\n",
      "Kef= 2.080000000000001 Win percent= 0.5625 Games= 18\n",
      "Kef= 2.100000000000001 Win percent= 0.5625 Games= 18\n",
      "Kef= 2.120000000000001 Win percent= 0.5625 Games= 18\n",
      "Kef= 2.140000000000001 Win percent= 0.5625 Games= 18\n",
      "Kef= 2.160000000000001 Win percent= 0.5806451612903226 Games= 18\n",
      "Kef= 2.180000000000001 Win percent= 0.5806451612903226 Games= 18\n",
      "Kef= 2.200000000000001 Win percent= 0.5806451612903226 Games= 18\n",
      "Kef= 2.220000000000001 Win percent= 0.5666666666666667 Games= 17\n",
      "Kef= 2.240000000000001 Win percent= 0.5666666666666667 Games= 17\n",
      "Kef= 2.260000000000001 Win percent= 0.5666666666666667 Games= 17\n",
      "Kef= 2.280000000000001 Win percent= 0.5666666666666667 Games= 17\n",
      "Kef= 2.300000000000001 Win percent= 0.5517241379310345 Games= 16\n",
      "Kef= 2.320000000000001 Win percent= 0.5517241379310345 Games= 16\n",
      "Kef= 2.340000000000001 Win percent= 0.5517241379310345 Games= 16\n",
      "Kef= 2.360000000000001 Win percent= 0.5517241379310345 Games= 16\n",
      "Kef= 2.3800000000000012 Win percent= 0.5357142857142857 Games= 15\n",
      "Kef= 2.4000000000000012 Win percent= 0.5185185185185185 Games= 14\n",
      "Kef= 2.4200000000000013 Win percent= 0.5185185185185185 Games= 14\n",
      "Kef= 2.4400000000000013 Win percent= 0.5185185185185185 Games= 14\n",
      "Kef= 2.4600000000000013 Win percent= 0.5384615384615384 Games= 14\n",
      "Kef= 2.4800000000000013 Win percent= 0.52 Games= 13\n",
      "Kef= 2.5000000000000013 Win percent= 0.52 Games= 13\n",
      "Kef= 2.5200000000000014 Win percent= 0.5416666666666666 Games= 13\n",
      "Kef= 2.5400000000000014 Win percent= 0.5416666666666666 Games= 13\n",
      "Kef= 2.5600000000000014 Win percent= 0.5652173913043478 Games= 13\n",
      "Kef= 2.5800000000000014 Win percent= 0.5652173913043478 Games= 13\n",
      "Kef= 2.6000000000000014 Win percent= 0.5652173913043478 Games= 13\n",
      "Kef= 2.6200000000000014 Win percent= 0.5909090909090909 Games= 13\n",
      "Kef= 2.6400000000000015 Win percent= 0.5909090909090909 Games= 13\n",
      "Kef= 2.6600000000000015 Win percent= 0.5909090909090909 Games= 13\n",
      "Kef= 2.6800000000000015 Win percent= 0.5909090909090909 Games= 13\n",
      "Kef= 2.7000000000000015 Win percent= 0.631578947368421 Games= 12\n",
      "Kef= 2.7200000000000015 Win percent= 0.631578947368421 Games= 12\n",
      "Kef= 2.7400000000000015 Win percent= 0.6111111111111112 Games= 11\n",
      "Kef= 2.7600000000000016 Win percent= 0.6470588235294118 Games= 11\n",
      "Kef= 2.7800000000000016 Win percent= 0.6470588235294118 Games= 11\n",
      "Kef= 2.8000000000000016 Win percent= 0.6470588235294118 Games= 11\n",
      "Kef= 2.8200000000000016 Win percent= 0.6470588235294118 Games= 11\n",
      "Kef= 2.8400000000000016 Win percent= 0.6470588235294118 Games= 11\n",
      "Kef= 2.8600000000000017 Win percent= 0.6470588235294118 Games= 11\n",
      "Kef= 2.8800000000000017 Win percent= 0.6470588235294118 Games= 11\n",
      "Kef= 2.9000000000000017 Win percent= 0.6470588235294118 Games= 11\n",
      "Kef= 2.9200000000000017 Win percent= 0.625 Games= 10\n",
      "Kef= 2.9400000000000017 Win percent= 0.625 Games= 10\n",
      "Kef= 2.9600000000000017 Win percent= 0.625 Games= 10\n",
      "Kef= 2.9800000000000018 Win percent= 0.625 Games= 10\n",
      "Kef= 3.0000000000000018 Win percent= 0.5714285714285714 Games= 8\n",
      "Kef= 3.020000000000002 Win percent= 0.5714285714285714 Games= 8\n",
      "Kef= 3.040000000000002 Win percent= 0.5384615384615384 Games= 7\n",
      "Kef= 3.060000000000002 Win percent= 0.5384615384615384 Games= 7\n",
      "Kef= 3.080000000000002 Win percent= 0.5384615384615384 Games= 7\n",
      "Kef= 3.100000000000002 Win percent= 0.5384615384615384 Games= 7\n",
      "Kef= 3.120000000000002 Win percent= 0.5833333333333334 Games= 7\n",
      "Kef= 3.140000000000002 Win percent= 0.5833333333333334 Games= 7\n",
      "Kef= 3.160000000000002 Win percent= 0.5454545454545454 Games= 6\n",
      "Kef= 3.180000000000002 Win percent= 0.5454545454545454 Games= 6\n",
      "Kef= 3.200000000000002 Win percent= 0.5454545454545454 Games= 6\n",
      "Kef= 3.220000000000002 Win percent= 0.5454545454545454 Games= 6\n",
      "Kef= 3.260000000000002 Win percent= 0.5555555555555556 Games= 5\n",
      "Kef= 3.280000000000002 Win percent= 0.5555555555555556 Games= 5\n",
      "Kef= 3.300000000000002 Win percent= 0.5555555555555556 Games= 5\n",
      "Kef= 3.320000000000002 Win percent= 0.5555555555555556 Games= 5\n",
      "Kef= 3.340000000000002 Win percent= 0.5555555555555556 Games= 5\n",
      "Kef= 3.440000000000002 Win percent= 0.5714285714285714 Games= 4\n",
      "Kef= 3.460000000000002 Win percent= 0.5714285714285714 Games= 4\n",
      "Kef= 3.8400000000000025 Win percent= 0.6 Games= 3\n",
      "Kef= 3.8600000000000025 Win percent= 0.6 Games= 3\n",
      "Kef= 3.8800000000000026 Win percent= 0.6 Games= 3\n",
      "Kef= 3.9000000000000026 Win percent= 0.6 Games= 3\n",
      "Kef= 3.9200000000000026 Win percent= 0.6 Games= 3\n",
      "Kef= 3.9400000000000026 Win percent= 0.6 Games= 3\n",
      "Kef= 3.9600000000000026 Win percent= 0.6 Games= 3\n"
     ]
    }
   ],
   "source": [
    "for k in np.arange(1, 4, 0.02):\n",
    "    Res_anal=Results_new[Results_new['Total_Chance']>k]\n",
    "    am_tot=Res_anal.count()\n",
    "    am_won=Res_anal[Res_anal.FTR>2].count()\n",
    "    if (am_won[0]/am_tot[0]>0.5):\n",
    "        print('Kef=',k,'Win percent=',am_won[0]/am_tot[0],'Games=',am_won[0])"
   ]
  },
  {
   "cell_type": "code",
   "execution_count": 231,
   "metadata": {},
   "outputs": [
    {
     "name": "stderr",
     "output_type": "stream",
     "text": [
      "C:\\Users\\vova_oderii\\Anaconda3\\lib\\site-packages\\ipykernel_launcher.py:5: RuntimeWarning: invalid value encountered in longlong_scalars\n",
      "  \"\"\"\n"
     ]
    },
    {
     "name": "stdout",
     "output_type": "stream",
     "text": [
      "Kef= 1.1400000000000003 Win percent= 1.0 Games= 1\n",
      "Kef= 1.1600000000000004 Win percent= 1.0 Games= 1\n",
      "Kef= 1.1800000000000004 Win percent= 1.0 Games= 1\n",
      "Kef= 1.2000000000000004 Win percent= 1.0 Games= 1\n",
      "Kef= 1.2200000000000002 Win percent= 1.0 Games= 2\n",
      "Kef= 1.2400000000000002 Win percent= 1.0 Games= 2\n",
      "Kef= 1.2600000000000002 Win percent= 1.0 Games= 2\n",
      "Kef= 1.2800000000000002 Win percent= 1.0 Games= 2\n",
      "Kef= 1.3000000000000003 Win percent= 1.0 Games= 3\n",
      "Kef= 1.3200000000000003 Win percent= 1.0 Games= 3\n",
      "Kef= 1.3400000000000003 Win percent= 1.0 Games= 3\n",
      "Kef= 1.3600000000000003 Win percent= 1.0 Games= 3\n",
      "Kef= 1.3800000000000003 Win percent= 1.0 Games= 4\n",
      "Kef= 1.4000000000000004 Win percent= 1.0 Games= 4\n",
      "Kef= 1.4200000000000004 Win percent= 1.0 Games= 4\n",
      "Kef= 1.4400000000000004 Win percent= 1.0 Games= 4\n",
      "Kef= 1.4600000000000004 Win percent= 1.0 Games= 4\n",
      "Kef= 1.4800000000000004 Win percent= 1.0 Games= 4\n",
      "Kef= 1.5000000000000004 Win percent= 1.0 Games= 4\n",
      "Kef= 1.5200000000000005 Win percent= 1.0 Games= 4\n",
      "Kef= 1.5400000000000005 Win percent= 1.0 Games= 4\n",
      "Kef= 1.5600000000000003 Win percent= 1.0 Games= 4\n",
      "Kef= 1.5800000000000003 Win percent= 1.0 Games= 4\n",
      "Kef= 1.6000000000000003 Win percent= 1.0 Games= 4\n",
      "Kef= 1.6200000000000003 Win percent= 1.0 Games= 4\n",
      "Kef= 1.6400000000000003 Win percent= 1.0 Games= 4\n",
      "Kef= 1.6600000000000004 Win percent= 1.0 Games= 4\n",
      "Kef= 1.6800000000000004 Win percent= 1.0 Games= 4\n",
      "Kef= 1.7000000000000004 Win percent= 1.0 Games= 4\n",
      "Kef= 1.7200000000000004 Win percent= 1.0 Games= 4\n",
      "Kef= 1.7400000000000004 Win percent= 1.0 Games= 4\n",
      "Kef= 1.7600000000000005 Win percent= 1.0 Games= 4\n",
      "Kef= 1.7800000000000005 Win percent= 1.0 Games= 4\n",
      "Kef= 1.8000000000000005 Win percent= 1.0 Games= 4\n",
      "Kef= 1.8200000000000005 Win percent= 1.0 Games= 4\n",
      "Kef= 1.8400000000000005 Win percent= 1.0 Games= 4\n",
      "Kef= 1.8600000000000003 Win percent= 1.0 Games= 4\n",
      "Kef= 1.8800000000000003 Win percent= 1.0 Games= 4\n",
      "Kef= 1.9000000000000004 Win percent= 1.0 Games= 4\n",
      "Kef= 1.9200000000000004 Win percent= 1.0 Games= 4\n",
      "Kef= 1.9400000000000004 Win percent= 1.0 Games= 4\n",
      "Kef= 1.9600000000000004 Win percent= 1.0 Games= 4\n",
      "Kef= 1.9800000000000004 Win percent= 1.0 Games= 4\n",
      "Kef= 2.0000000000000004 Win percent= 1.0 Games= 4\n",
      "Kef= 2.0200000000000005 Win percent= 1.0 Games= 4\n",
      "Kef= 2.0400000000000005 Win percent= 1.0 Games= 4\n",
      "Kef= 2.0600000000000005 Win percent= 1.0 Games= 4\n",
      "Kef= 2.0800000000000005 Win percent= 1.0 Games= 4\n",
      "Kef= 2.1000000000000005 Win percent= 1.0 Games= 4\n",
      "Kef= 2.1200000000000006 Win percent= 1.0 Games= 4\n",
      "Kef= 2.1400000000000006 Win percent= 1.0 Games= 4\n",
      "Kef= 2.1600000000000006 Win percent= 1.0 Games= 5\n",
      "Kef= 2.1800000000000006 Win percent= 1.0 Games= 5\n",
      "Kef= 2.2000000000000006 Win percent= 1.0 Games= 5\n",
      "Kef= 2.2200000000000006 Win percent= 0.8333333333333334 Games= 5\n",
      "Kef= 2.2400000000000007 Win percent= 0.8333333333333334 Games= 5\n",
      "Kef= 2.2600000000000007 Win percent= 0.8333333333333334 Games= 5\n",
      "Kef= 2.2800000000000007 Win percent= 0.8333333333333334 Games= 5\n",
      "Kef= 2.3000000000000007 Win percent= 0.7142857142857143 Games= 5\n",
      "Kef= 2.3200000000000007 Win percent= 0.7142857142857143 Games= 5\n",
      "Kef= 2.3400000000000003 Win percent= 0.7142857142857143 Games= 5\n",
      "Kef= 2.3600000000000003 Win percent= 0.7142857142857143 Games= 5\n",
      "Kef= 2.3800000000000003 Win percent= 0.625 Games= 5\n",
      "Kef= 2.4000000000000004 Win percent= 0.5555555555555556 Games= 5\n",
      "Kef= 2.4200000000000004 Win percent= 0.5555555555555556 Games= 5\n",
      "Kef= 2.4400000000000004 Win percent= 0.5555555555555556 Games= 5\n",
      "Kef= 2.4600000000000004 Win percent= 0.6 Games= 6\n",
      "Kef= 2.4800000000000004 Win percent= 0.5454545454545454 Games= 6\n",
      "Kef= 2.5000000000000004 Win percent= 0.5454545454545454 Games= 6\n",
      "Kef= 2.5200000000000005 Win percent= 0.5833333333333334 Games= 7\n",
      "Kef= 2.5400000000000005 Win percent= 0.5833333333333334 Games= 7\n",
      "Kef= 2.5600000000000005 Win percent= 0.6153846153846154 Games= 8\n",
      "Kef= 2.5800000000000005 Win percent= 0.6153846153846154 Games= 8\n",
      "Kef= 2.6000000000000005 Win percent= 0.6153846153846154 Games= 8\n",
      "Kef= 2.6200000000000006 Win percent= 0.6428571428571429 Games= 9\n",
      "Kef= 2.6400000000000006 Win percent= 0.6428571428571429 Games= 9\n",
      "Kef= 2.6600000000000006 Win percent= 0.6428571428571429 Games= 9\n",
      "Kef= 2.6800000000000006 Win percent= 0.6428571428571429 Games= 9\n",
      "Kef= 2.7000000000000006 Win percent= 0.6470588235294118 Games= 11\n",
      "Kef= 2.7200000000000006 Win percent= 0.6470588235294118 Games= 11\n",
      "Kef= 2.7400000000000007 Win percent= 0.6111111111111112 Games= 11\n",
      "Kef= 2.7600000000000007 Win percent= 0.631578947368421 Games= 12\n",
      "Kef= 2.7800000000000007 Win percent= 0.631578947368421 Games= 12\n",
      "Kef= 2.8000000000000007 Win percent= 0.631578947368421 Games= 12\n",
      "Kef= 2.8200000000000007 Win percent= 0.631578947368421 Games= 12\n",
      "Kef= 2.8400000000000007 Win percent= 0.631578947368421 Games= 12\n",
      "Kef= 2.8600000000000008 Win percent= 0.631578947368421 Games= 12\n",
      "Kef= 2.880000000000001 Win percent= 0.631578947368421 Games= 12\n",
      "Kef= 2.900000000000001 Win percent= 0.631578947368421 Games= 12\n",
      "Kef= 2.920000000000001 Win percent= 0.6 Games= 12\n",
      "Kef= 2.940000000000001 Win percent= 0.6 Games= 12\n",
      "Kef= 2.960000000000001 Win percent= 0.6 Games= 12\n",
      "Kef= 2.980000000000001 Win percent= 0.6 Games= 12\n",
      "Kef= 3.0000000000000004 Win percent= 0.5454545454545454 Games= 12\n",
      "Kef= 3.0200000000000005 Win percent= 0.5454545454545454 Games= 12\n",
      "Kef= 3.0400000000000005 Win percent= 0.5217391304347826 Games= 12\n",
      "Kef= 3.0600000000000005 Win percent= 0.5217391304347826 Games= 12\n",
      "Kef= 3.0800000000000005 Win percent= 0.5217391304347826 Games= 12\n",
      "Kef= 3.1000000000000005 Win percent= 0.5217391304347826 Games= 12\n",
      "Kef= 3.1200000000000006 Win percent= 0.5416666666666666 Games= 13\n",
      "Kef= 3.1400000000000006 Win percent= 0.5416666666666666 Games= 13\n",
      "Kef= 3.1600000000000006 Win percent= 0.52 Games= 13\n",
      "Kef= 3.1800000000000006 Win percent= 0.52 Games= 13\n",
      "Kef= 3.2000000000000006 Win percent= 0.52 Games= 13\n",
      "Kef= 3.2200000000000006 Win percent= 0.52 Games= 13\n",
      "Kef= 3.2400000000000007 Win percent= 0.5 Games= 13\n",
      "Kef= 3.2600000000000007 Win percent= 0.5185185185185185 Games= 14\n",
      "Kef= 3.2800000000000007 Win percent= 0.5185185185185185 Games= 14\n",
      "Kef= 3.3000000000000007 Win percent= 0.5185185185185185 Games= 14\n",
      "Kef= 3.3200000000000007 Win percent= 0.5185185185185185 Games= 14\n",
      "Kef= 3.3400000000000007 Win percent= 0.5185185185185185 Games= 14\n",
      "Kef= 3.3600000000000008 Win percent= 0.5 Games= 14\n",
      "Kef= 3.380000000000001 Win percent= 0.5 Games= 14\n",
      "Kef= 3.400000000000001 Win percent= 0.5 Games= 14\n",
      "Kef= 3.420000000000001 Win percent= 0.5 Games= 14\n",
      "Kef= 3.440000000000001 Win percent= 0.5172413793103449 Games= 15\n",
      "Kef= 3.460000000000001 Win percent= 0.5172413793103449 Games= 15\n",
      "Kef= 3.480000000000001 Win percent= 0.5 Games= 15\n",
      "Kef= 3.500000000000001 Win percent= 0.5 Games= 15\n",
      "Kef= 3.520000000000001 Win percent= 0.5 Games= 15\n",
      "Kef= 3.540000000000001 Win percent= 0.5 Games= 15\n",
      "Kef= 3.560000000000001 Win percent= 0.5 Games= 15\n",
      "Kef= 3.580000000000001 Win percent= 0.5 Games= 15\n",
      "Kef= 3.600000000000001 Win percent= 0.5 Games= 15\n",
      "Kef= 3.6200000000000006 Win percent= 0.5 Games= 15\n",
      "Kef= 3.6400000000000006 Win percent= 0.5 Games= 15\n",
      "Kef= 3.6600000000000006 Win percent= 0.5 Games= 15\n",
      "Kef= 3.6800000000000006 Win percent= 0.5 Games= 15\n",
      "Kef= 3.7000000000000006 Win percent= 0.5 Games= 15\n",
      "Kef= 3.7200000000000006 Win percent= 0.5 Games= 15\n",
      "Kef= 3.7400000000000007 Win percent= 0.5 Games= 15\n",
      "Kef= 3.7600000000000007 Win percent= 0.5 Games= 15\n",
      "Kef= 3.7800000000000007 Win percent= 0.5 Games= 15\n",
      "Kef= 3.8000000000000007 Win percent= 0.5 Games= 15\n",
      "Kef= 3.8200000000000007 Win percent= 0.5 Games= 15\n",
      "Kef= 3.8400000000000007 Win percent= 0.5161290322580645 Games= 16\n",
      "Kef= 3.8600000000000008 Win percent= 0.5161290322580645 Games= 16\n",
      "Kef= 3.880000000000001 Win percent= 0.5161290322580645 Games= 16\n",
      "Kef= 3.900000000000001 Win percent= 0.5161290322580645 Games= 16\n",
      "Kef= 3.920000000000001 Win percent= 0.5161290322580645 Games= 16\n",
      "Kef= 3.940000000000001 Win percent= 0.5161290322580645 Games= 16\n",
      "Kef= 3.960000000000001 Win percent= 0.5161290322580645 Games= 16\n",
      "Kef= 3.980000000000001 Win percent= 0.5 Games= 16\n"
     ]
    }
   ],
   "source": [
    "for k in np.arange(0.1, 4, 0.02):\n",
    "    Res_anal=Results_new[Results_new['Total_Chance']<=k]\n",
    "    am_tot=Res_anal.count()\n",
    "    am_won=Res_anal[Res_anal.FTR<=2].count()\n",
    "    if (am_won[0]/am_tot[0]>0.45):\n",
    "        print('Kef=',k,'Win percent=',am_won[0]/am_tot[0],'Games=',am_won[0])"
   ]
  },
  {
   "cell_type": "code",
   "execution_count": 232,
   "metadata": {},
   "outputs": [
    {
     "name": "stderr",
     "output_type": "stream",
     "text": [
      "C:\\Users\\vova_oderii\\Anaconda3\\lib\\site-packages\\ipykernel_launcher.py:5: RuntimeWarning: invalid value encountered in longlong_scalars\n",
      "  \"\"\"\n"
     ]
    },
    {
     "name": "stdout",
     "output_type": "stream",
     "text": [
      "Kef= 1.1400000000000003 Win percent= 1.0 Games= 1\n",
      "Kef= 1.1600000000000004 Win percent= 1.0 Games= 1\n",
      "Kef= 1.1800000000000004 Win percent= 1.0 Games= 1\n",
      "Kef= 1.2000000000000004 Win percent= 1.0 Games= 1\n",
      "Kef= 1.2200000000000002 Win percent= 1.0 Games= 2\n",
      "Kef= 1.2400000000000002 Win percent= 1.0 Games= 2\n",
      "Kef= 1.2600000000000002 Win percent= 1.0 Games= 2\n",
      "Kef= 1.2800000000000002 Win percent= 1.0 Games= 2\n",
      "Kef= 1.3000000000000003 Win percent= 1.0 Games= 3\n",
      "Kef= 1.3200000000000003 Win percent= 1.0 Games= 3\n",
      "Kef= 1.3400000000000003 Win percent= 1.0 Games= 3\n",
      "Kef= 1.3600000000000003 Win percent= 1.0 Games= 3\n",
      "Kef= 1.3800000000000003 Win percent= 1.0 Games= 4\n",
      "Kef= 1.4000000000000004 Win percent= 1.0 Games= 4\n",
      "Kef= 1.4200000000000004 Win percent= 1.0 Games= 4\n",
      "Kef= 1.4400000000000004 Win percent= 1.0 Games= 4\n",
      "Kef= 1.4600000000000004 Win percent= 1.0 Games= 4\n",
      "Kef= 1.4800000000000004 Win percent= 1.0 Games= 4\n",
      "Kef= 1.5000000000000004 Win percent= 1.0 Games= 4\n",
      "Kef= 1.5200000000000005 Win percent= 1.0 Games= 4\n",
      "Kef= 1.5400000000000005 Win percent= 1.0 Games= 4\n",
      "Kef= 1.5600000000000003 Win percent= 1.0 Games= 4\n",
      "Kef= 1.5800000000000003 Win percent= 1.0 Games= 4\n",
      "Kef= 1.6000000000000003 Win percent= 1.0 Games= 4\n",
      "Kef= 1.6200000000000003 Win percent= 1.0 Games= 4\n",
      "Kef= 1.6400000000000003 Win percent= 1.0 Games= 4\n",
      "Kef= 1.6600000000000004 Win percent= 1.0 Games= 4\n",
      "Kef= 1.6800000000000004 Win percent= 1.0 Games= 4\n",
      "Kef= 1.7000000000000004 Win percent= 1.0 Games= 4\n",
      "Kef= 1.7200000000000004 Win percent= 1.0 Games= 4\n",
      "Kef= 1.7400000000000004 Win percent= 1.0 Games= 4\n",
      "Kef= 1.7600000000000005 Win percent= 1.0 Games= 4\n",
      "Kef= 1.7800000000000005 Win percent= 1.0 Games= 4\n",
      "Kef= 1.8000000000000005 Win percent= 1.0 Games= 4\n",
      "Kef= 1.8200000000000005 Win percent= 1.0 Games= 4\n",
      "Kef= 1.8400000000000005 Win percent= 1.0 Games= 4\n",
      "Kef= 1.8600000000000003 Win percent= 1.0 Games= 4\n",
      "Kef= 1.8800000000000003 Win percent= 1.0 Games= 4\n",
      "Kef= 1.9000000000000004 Win percent= 1.0 Games= 4\n",
      "Kef= 1.9200000000000004 Win percent= 1.0 Games= 4\n",
      "Kef= 1.9400000000000004 Win percent= 1.0 Games= 4\n",
      "Kef= 1.9600000000000004 Win percent= 1.0 Games= 4\n",
      "Kef= 1.9800000000000004 Win percent= 1.0 Games= 4\n",
      "Kef= 2.0000000000000004 Win percent= 1.0 Games= 4\n",
      "Kef= 2.0200000000000005 Win percent= 1.0 Games= 4\n",
      "Kef= 2.0400000000000005 Win percent= 1.0 Games= 4\n",
      "Kef= 2.0600000000000005 Win percent= 1.0 Games= 4\n",
      "Kef= 2.0800000000000005 Win percent= 1.0 Games= 4\n",
      "Kef= 2.1000000000000005 Win percent= 1.0 Games= 4\n",
      "Kef= 2.1200000000000006 Win percent= 1.0 Games= 4\n",
      "Kef= 2.1400000000000006 Win percent= 1.0 Games= 4\n",
      "Kef= 2.1600000000000006 Win percent= 1.0 Games= 5\n",
      "Kef= 2.1800000000000006 Win percent= 1.0 Games= 5\n",
      "Kef= 2.2000000000000006 Win percent= 1.0 Games= 5\n",
      "Kef= 2.2200000000000006 Win percent= 1.0 Games= 6\n",
      "Kef= 2.2400000000000007 Win percent= 1.0 Games= 6\n",
      "Kef= 2.2600000000000007 Win percent= 1.0 Games= 6\n",
      "Kef= 2.2800000000000007 Win percent= 1.0 Games= 6\n",
      "Kef= 2.3000000000000007 Win percent= 1.0 Games= 7\n",
      "Kef= 2.3200000000000007 Win percent= 1.0 Games= 7\n",
      "Kef= 2.3400000000000003 Win percent= 1.0 Games= 7\n",
      "Kef= 2.3600000000000003 Win percent= 1.0 Games= 7\n",
      "Kef= 2.3800000000000003 Win percent= 0.875 Games= 7\n",
      "Kef= 2.4000000000000004 Win percent= 0.7777777777777778 Games= 7\n",
      "Kef= 2.4200000000000004 Win percent= 0.7777777777777778 Games= 7\n",
      "Kef= 2.4400000000000004 Win percent= 0.7777777777777778 Games= 7\n",
      "Kef= 2.4600000000000004 Win percent= 0.8 Games= 8\n",
      "Kef= 2.4800000000000004 Win percent= 0.8181818181818182 Games= 9\n",
      "Kef= 2.5000000000000004 Win percent= 0.8181818181818182 Games= 9\n",
      "Kef= 2.5200000000000005 Win percent= 0.8333333333333334 Games= 10\n",
      "Kef= 2.5400000000000005 Win percent= 0.8333333333333334 Games= 10\n",
      "Kef= 2.5600000000000005 Win percent= 0.8461538461538461 Games= 11\n",
      "Kef= 2.5800000000000005 Win percent= 0.8461538461538461 Games= 11\n",
      "Kef= 2.6000000000000005 Win percent= 0.8461538461538461 Games= 11\n",
      "Kef= 2.6200000000000006 Win percent= 0.8571428571428571 Games= 12\n",
      "Kef= 2.6400000000000006 Win percent= 0.8571428571428571 Games= 12\n",
      "Kef= 2.6600000000000006 Win percent= 0.8571428571428571 Games= 12\n",
      "Kef= 2.6800000000000006 Win percent= 0.8571428571428571 Games= 12\n",
      "Kef= 2.7000000000000006 Win percent= 0.8235294117647058 Games= 14\n",
      "Kef= 2.7200000000000006 Win percent= 0.8235294117647058 Games= 14\n",
      "Kef= 2.7400000000000007 Win percent= 0.7777777777777778 Games= 14\n",
      "Kef= 2.7600000000000007 Win percent= 0.7894736842105263 Games= 15\n",
      "Kef= 2.7800000000000007 Win percent= 0.7894736842105263 Games= 15\n",
      "Kef= 2.8000000000000007 Win percent= 0.7894736842105263 Games= 15\n",
      "Kef= 2.8200000000000007 Win percent= 0.7894736842105263 Games= 15\n",
      "Kef= 2.8400000000000007 Win percent= 0.7894736842105263 Games= 15\n",
      "Kef= 2.8600000000000008 Win percent= 0.7894736842105263 Games= 15\n",
      "Kef= 2.880000000000001 Win percent= 0.7894736842105263 Games= 15\n",
      "Kef= 2.900000000000001 Win percent= 0.7894736842105263 Games= 15\n",
      "Kef= 2.920000000000001 Win percent= 0.8 Games= 16\n",
      "Kef= 2.940000000000001 Win percent= 0.8 Games= 16\n",
      "Kef= 2.960000000000001 Win percent= 0.8 Games= 16\n",
      "Kef= 2.980000000000001 Win percent= 0.8 Games= 16\n",
      "Kef= 3.1600000000000006 Win percent= 0.76 Games= 19\n",
      "Kef= 3.1800000000000006 Win percent= 0.76 Games= 19\n",
      "Kef= 3.2000000000000006 Win percent= 0.76 Games= 19\n",
      "Kef= 3.2200000000000006 Win percent= 0.76 Games= 19\n",
      "Kef= 3.2400000000000007 Win percent= 0.7692307692307693 Games= 20\n",
      "Kef= 3.2600000000000007 Win percent= 0.7777777777777778 Games= 21\n",
      "Kef= 3.2800000000000007 Win percent= 0.7777777777777778 Games= 21\n",
      "Kef= 3.3000000000000007 Win percent= 0.7777777777777778 Games= 21\n",
      "Kef= 3.3200000000000007 Win percent= 0.7777777777777778 Games= 21\n",
      "Kef= 3.3400000000000007 Win percent= 0.7777777777777778 Games= 21\n",
      "Kef= 3.440000000000001 Win percent= 0.7586206896551724 Games= 22\n",
      "Kef= 3.460000000000001 Win percent= 0.7586206896551724 Games= 22\n"
     ]
    }
   ],
   "source": [
    "for k in np.arange(0.1, 4, 0.02):\n",
    "    Res_anal=Results_new[Results_new['Total_Chance']<=k]\n",
    "    am_tot=Res_anal.count()\n",
    "    am_won=Res_anal[Res_anal.FTR<=3].count()\n",
    "    if (am_won[0]/am_tot[0]>0.75):\n",
    "        print('Kef=',k,'Win percent=',am_won[0]/am_tot[0],'Games=',am_won[0])"
   ]
  },
  {
   "cell_type": "code",
   "execution_count": 58,
   "metadata": {},
   "outputs": [],
   "source": [
    "#Results.to_excel(\"Results_both_output.xlsx\")"
   ]
  },
  {
   "cell_type": "code",
   "execution_count": null,
   "metadata": {},
   "outputs": [],
   "source": [
    "# End of poisson model"
   ]
  }
 ],
 "metadata": {
  "kernelspec": {
   "display_name": "Python 3",
   "language": "python",
   "name": "python3"
  },
  "language_info": {
   "codemirror_mode": {
    "name": "ipython",
    "version": 3
   },
   "file_extension": ".py",
   "mimetype": "text/x-python",
   "name": "python",
   "nbconvert_exporter": "python",
   "pygments_lexer": "ipython3",
   "version": "3.7.3"
  }
 },
 "nbformat": 4,
 "nbformat_minor": 2
}
