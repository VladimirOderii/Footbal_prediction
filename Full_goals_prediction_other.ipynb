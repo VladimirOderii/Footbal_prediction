{
 "cells": [
  {
   "cell_type": "code",
   "execution_count": 1,
   "metadata": {},
   "outputs": [],
   "source": [
    "# Import all the necessary libraries\n",
    "\n",
    "import numpy as np\n",
    "import pandas as pd\n",
    "from datetime import datetime as dt\n",
    "import itertools\n",
    "import seaborn as sns\n",
    "import statsmodels.api as sm\n",
    "import statsmodels.formula.api as smf\n",
    "\n",
    "%matplotlib inline"
   ]
  },
  {
   "cell_type": "code",
   "execution_count": 2,
   "metadata": {},
   "outputs": [],
   "source": [
    "loc = 'C:/Users/vova_oderii/Desktop/Data_science/Football_prediction/Data/'"
   ]
  },
  {
   "cell_type": "code",
   "execution_count": 3,
   "metadata": {},
   "outputs": [],
   "source": [
    "# Argentina\n",
    "playing_stat1=pd.read_csv(loc + 'ARG.csv')"
   ]
  },
  {
   "cell_type": "code",
   "execution_count": 4,
   "metadata": {},
   "outputs": [],
   "source": [
    "# Left only game related data\n",
    "columns = ['Home',\n",
    " 'Away',\n",
    " 'HG',\n",
    " 'AG']"
   ]
  },
  {
   "cell_type": "code",
   "execution_count": 5,
   "metadata": {},
   "outputs": [],
   "source": [
    "#Gets all the statistics related to gameplay\n",
    "playing_stat1 = playing_stat1[columns]\n",
    "playing_stat1=playing_stat1.dropna()"
   ]
  },
  {
   "cell_type": "code",
   "execution_count": 6,
   "metadata": {},
   "outputs": [],
   "source": [
    "Schedule = pd.read_csv(loc + 'new_league_fixtures.csv')"
   ]
  },
  {
   "cell_type": "code",
   "execution_count": 7,
   "metadata": {},
   "outputs": [],
   "source": [
    "Results=pd.DataFrame()"
   ]
  },
  {
   "cell_type": "code",
   "execution_count": 8,
   "metadata": {
    "scrolled": false
   },
   "outputs": [],
   "source": [
    "# Simulation Argentina\n",
    "\n",
    "# Argentina full time\n",
    "goal_model_data_full_match = pd.concat([playing_stat1[['Home','Away','HG']].assign(home_f=1).rename(\n",
    "            columns={'Home':'team_f', 'Away':'opponent_f','HG':'goals_f'}),\n",
    "           playing_stat1[['Away','Home','AG']].assign(home_f=0).rename(\n",
    "            columns={'Away':'team_f', 'Home':'opponent_f','AG':'goals_f'})])\n",
    "\n",
    "poisson_model_full_match = smf.glm(formula=\"goals_f ~ home_f + team_f + opponent_f\", data=goal_model_data_full_match, \n",
    "                        family=sm.families.Poisson()).fit()\n",
    "\n",
    "# Chances count\n",
    "for i in  range(len(Schedule['Home'])): \n",
    "    try:  \n",
    "        Ch1_full_time=poisson_model_full_match.predict(pd.DataFrame(data={'team_f': Schedule['Home'][i], 'opponent_f': Schedule['Away'][i],\n",
    "                                      'home_f':1},index=[1]))\n",
    "        Ch2_full_time=poisson_model_full_match.predict(pd.DataFrame(data={'team_f': Schedule['Away'][i], 'opponent_f': Schedule['Home'][i],\n",
    "                                       'home_f':0},index=[1]))\n",
    "        \n",
    "        Results=Results.append({'Div':Schedule['Country'][i], 'Date':Schedule['Date'][i],'Time':Schedule['Time'][i],'Home':Schedule['Home'][i],\n",
    "                                'Away':Schedule['Away'][i],\n",
    "                                'Total_Chance':Ch1_full_time[1]+Ch2_full_time[1],'HT_Chance_total':Ch1_full_time[1], 'AT_Chance_total':Ch2_full_time[1],\n",
    "                                'Diff_total':Ch1_full_time[1]-Ch2_full_time[1]},ignore_index=True)\n",
    "        \n",
    "            \n",
    "    except Exception:\n",
    "        k=1"
   ]
  },
  {
   "cell_type": "code",
   "execution_count": 9,
   "metadata": {},
   "outputs": [],
   "source": [
    "#AUSTRIA\n",
    "playing_stat2=pd.read_csv(loc + 'AUT.csv')\n",
    "playing_stat2 = playing_stat2[columns]\n",
    "playing_stat2=playing_stat2.dropna()"
   ]
  },
  {
   "cell_type": "code",
   "execution_count": 10,
   "metadata": {},
   "outputs": [],
   "source": [
    "# AUSTRIA full time\n",
    "goal_model_data_full_match = pd.concat([playing_stat2[['Home','Away','HG']].assign(home_f=1).rename(\n",
    "            columns={'Home':'team_f', 'Away':'opponent_f','HG':'goals_f'}),\n",
    "           playing_stat2[['Away','Home','AG']].assign(home_f=0).rename(\n",
    "            columns={'Away':'team_f', 'Home':'opponent_f','AG':'goals_f'})])\n",
    "\n",
    "poisson_model_full_match = smf.glm(formula=\"goals_f ~ home_f + team_f + opponent_f\", data=goal_model_data_full_match, \n",
    "                        family=sm.families.Poisson()).fit()\n",
    "\n",
    "# Chances count\n",
    "for i in  range(len(Schedule['Home'])): \n",
    "    try:  \n",
    "        Ch1_full_time=poisson_model_full_match.predict(pd.DataFrame(data={'team_f': Schedule['Home'][i], 'opponent_f': Schedule['Away'][i],\n",
    "                                      'home_f':1},index=[1]))\n",
    "        Ch2_full_time=poisson_model_full_match.predict(pd.DataFrame(data={'team_f': Schedule['Away'][i], 'opponent_f': Schedule['Home'][i],\n",
    "                                       'home_f':0},index=[1]))\n",
    "        \n",
    "        Results=Results.append({'Div':Schedule['Country'][i], 'Date':Schedule['Date'][i],'Time':Schedule['Time'][i],'Home':Schedule['Home'][i],\n",
    "                                'Away':Schedule['Away'][i],\n",
    "                                'Total_Chance':Ch1_full_time[1]+Ch2_full_time[1],'HT_Chance_total':Ch1_full_time[1], 'AT_Chance_total':Ch2_full_time[1],\n",
    "                                'Diff_total':Ch1_full_time[1]-Ch2_full_time[1]},ignore_index=True)\n",
    "        \n",
    "            \n",
    "    except Exception:\n",
    "        k=1"
   ]
  },
  {
   "cell_type": "code",
   "execution_count": 11,
   "metadata": {},
   "outputs": [],
   "source": [
    "#BRAZIL\n",
    "playing_stat12=pd.read_csv(loc + 'BRA.csv')\n",
    "playing_stat12 = playing_stat12[columns]\n",
    "playing_stat12=playing_stat12.dropna()"
   ]
  },
  {
   "cell_type": "code",
   "execution_count": 12,
   "metadata": {},
   "outputs": [],
   "source": [
    "#  BRAZIL full time\n",
    "goal_model_data_full_match = pd.concat([playing_stat12[['Home','Away','HG']].assign(home_f=1).rename(\n",
    "            columns={'Home':'team_f', 'Away':'opponent_f','HG':'goals_f'}),\n",
    "           playing_stat12[['Away','Home','AG']].assign(home_f=0).rename(\n",
    "            columns={'Away':'team_f', 'Home':'opponent_f','AG':'goals_f'})])\n",
    "\n",
    "poisson_model_full_match = smf.glm(formula=\"goals_f ~ home_f + team_f + opponent_f\", data=goal_model_data_full_match, \n",
    "                        family=sm.families.Poisson()).fit()\n",
    "\n",
    "# Chances count\n",
    "for i in  range(len(Schedule['Home'])): \n",
    "    try:  \n",
    "        Ch1_full_time=poisson_model_full_match.predict(pd.DataFrame(data={'team_f': Schedule['Home'][i], 'opponent_f': Schedule['Away'][i],\n",
    "                                      'home_f':1},index=[1]))\n",
    "        Ch2_full_time=poisson_model_full_match.predict(pd.DataFrame(data={'team_f': Schedule['Away'][i], 'opponent_f': Schedule['Home'][i],\n",
    "                                       'home_f':0},index=[1]))\n",
    "        \n",
    "        Results=Results.append({'Div':Schedule['Country'][i], 'Date':Schedule['Date'][i],'Time':Schedule['Time'][i],'Home':Schedule['Home'][i],\n",
    "                                'Away':Schedule['Away'][i],\n",
    "                                'Total_Chance':Ch1_full_time[1]+Ch2_full_time[1],'HT_Chance_total':Ch1_full_time[1], 'AT_Chance_total':Ch2_full_time[1],\n",
    "                                'Diff_total':Ch1_full_time[1]-Ch2_full_time[1]},ignore_index=True)\n",
    "        \n",
    "            \n",
    "    except Exception:\n",
    "        k=1"
   ]
  },
  {
   "cell_type": "code",
   "execution_count": 13,
   "metadata": {},
   "outputs": [],
   "source": [
    "#CHINA\n",
    "playing_stat3=pd.read_csv(loc + 'CHN.csv')\n",
    "playing_stat3 = playing_stat3[columns]\n",
    "playing_stat3=playing_stat3.dropna()"
   ]
  },
  {
   "cell_type": "code",
   "execution_count": 14,
   "metadata": {},
   "outputs": [],
   "source": [
    "# CHINA full time\n",
    "goal_model_data_full_match = pd.concat([playing_stat3[['Home','Away','HG']].assign(home_f=1).rename(\n",
    "            columns={'Home':'team_f', 'Away':'opponent_f','HG':'goals_f'}),\n",
    "           playing_stat3[['Away','Home','AG']].assign(home_f=0).rename(\n",
    "            columns={'Away':'team_f', 'Home':'opponent_f','AG':'goals_f'})])\n",
    "\n",
    "poisson_model_full_match = smf.glm(formula=\"goals_f ~ home_f + team_f + opponent_f\", data=goal_model_data_full_match, \n",
    "                        family=sm.families.Poisson()).fit()\n",
    "\n",
    "# Chances count\n",
    "for i in  range(len(Schedule['Home'])): \n",
    "    try:  \n",
    "        Ch1_full_time=poisson_model_full_match.predict(pd.DataFrame(data={'team_f': Schedule['Home'][i], 'opponent_f': Schedule['Away'][i],\n",
    "                                      'home_f':1},index=[1]))\n",
    "        Ch2_full_time=poisson_model_full_match.predict(pd.DataFrame(data={'team_f': Schedule['Away'][i], 'opponent_f': Schedule['Home'][i],\n",
    "                                       'home_f':0},index=[1]))\n",
    "        \n",
    "        Results=Results.append({'Div':Schedule['Country'][i], 'Date':Schedule['Date'][i],'Time':Schedule['Time'][i],'Home':Schedule['Home'][i],\n",
    "                                'Away':Schedule['Away'][i],\n",
    "                                'Total_Chance':Ch1_full_time[1]+Ch2_full_time[1],'HT_Chance_total':Ch1_full_time[1], 'AT_Chance_total':Ch2_full_time[1],\n",
    "                                'Diff_total':Ch1_full_time[1]-Ch2_full_time[1]},ignore_index=True)\n",
    "        \n",
    "            \n",
    "    except Exception:\n",
    "        k=1"
   ]
  },
  {
   "cell_type": "code",
   "execution_count": 15,
   "metadata": {},
   "outputs": [],
   "source": [
    "#Part_4 DENMARK\n",
    "playing_stat4=pd.read_csv(loc + 'DNK.csv')\n",
    "playing_stat4 = playing_stat4[columns]\n",
    "playing_stat4=playing_stat4.dropna()"
   ]
  },
  {
   "cell_type": "code",
   "execution_count": 16,
   "metadata": {},
   "outputs": [],
   "source": [
    "#Part_4 DENMARK first half\n",
    "goal_model_data_full_match = pd.concat([playing_stat4[['Home','Away','HG']].assign(home_f=1).rename(\n",
    "            columns={'Home':'team_f', 'Away':'opponent_f','HG':'goals_f'}),\n",
    "           playing_stat4[['Away','Home','AG']].assign(home_f=0).rename(\n",
    "            columns={'Away':'team_f', 'Home':'opponent_f','AG':'goals_f'})])\n",
    "\n",
    "poisson_model_full_match = smf.glm(formula=\"goals_f ~ home_f + team_f + opponent_f\", data=goal_model_data_full_match, \n",
    "                        family=sm.families.Poisson()).fit()\n",
    "\n",
    "# Chances count\n",
    "for i in  range(len(Schedule['Home'])): \n",
    "    try:  \n",
    "        Ch1_full_time=poisson_model_full_match.predict(pd.DataFrame(data={'team_f': Schedule['Home'][i], 'opponent_f': Schedule['Away'][i],\n",
    "                                      'home_f':1},index=[1]))\n",
    "        Ch2_full_time=poisson_model_full_match.predict(pd.DataFrame(data={'team_f': Schedule['Away'][i], 'opponent_f': Schedule['Home'][i],\n",
    "                                       'home_f':0},index=[1]))\n",
    "        \n",
    "        Results=Results.append({'Div':Schedule['Country'][i], 'Date':Schedule['Date'][i],'Time':Schedule['Time'][i],'Home':Schedule['Home'][i],\n",
    "                                'Away':Schedule['Away'][i],\n",
    "                                'Total_Chance':Ch1_full_time[1]+Ch2_full_time[1],'HT_Chance_total':Ch1_full_time[1], 'AT_Chance_total':Ch2_full_time[1],\n",
    "                                'Diff_total':Ch1_full_time[1]-Ch2_full_time[1]},ignore_index=True)\n",
    "        \n",
    "            \n",
    "    except Exception:\n",
    "        k=1"
   ]
  },
  {
   "cell_type": "code",
   "execution_count": 17,
   "metadata": {},
   "outputs": [],
   "source": [
    "#Part_5 FINLAND\n",
    "playing_stat5=pd.read_csv(loc + 'FIN.csv')\n",
    "playing_stat5 = playing_stat5[columns]\n",
    "playing_stat5=playing_stat5.dropna()"
   ]
  },
  {
   "cell_type": "code",
   "execution_count": 18,
   "metadata": {},
   "outputs": [],
   "source": [
    "#Part_5 FINLAND \n",
    "goal_model_data_full_match = pd.concat([playing_stat5[['Home','Away','HG']].assign(home_f=1).rename(\n",
    "            columns={'Home':'team_f', 'Away':'opponent_f','HG':'goals_f'}),\n",
    "           playing_stat5[['Away','Home','AG']].assign(home_f=0).rename(\n",
    "            columns={'Away':'team_f', 'Home':'opponent_f','AG':'goals_f'})])\n",
    "\n",
    "poisson_model_full_match = smf.glm(formula=\"goals_f ~ home_f + team_f + opponent_f\", data=goal_model_data_full_match, \n",
    "                        family=sm.families.Poisson()).fit()\n",
    "\n",
    "# Chances count\n",
    "for i in  range(len(Schedule['Home'])): \n",
    "    try:  \n",
    "        Ch1_full_time=poisson_model_full_match.predict(pd.DataFrame(data={'team_f': Schedule['Home'][i], 'opponent_f': Schedule['Away'][i],\n",
    "                                      'home_f':1},index=[1]))\n",
    "        Ch2_full_time=poisson_model_full_match.predict(pd.DataFrame(data={'team_f': Schedule['Away'][i], 'opponent_f': Schedule['Home'][i],\n",
    "                                       'home_f':0},index=[1]))\n",
    "        \n",
    "        Results=Results.append({'Div':Schedule['Country'][i], 'Date':Schedule['Date'][i],'Time':Schedule['Time'][i],'Home':Schedule['Home'][i],\n",
    "                                'Away':Schedule['Away'][i],\n",
    "                                'Total_Chance':Ch1_full_time[1]+Ch2_full_time[1],'HT_Chance_total':Ch1_full_time[1], 'AT_Chance_total':Ch2_full_time[1],\n",
    "                                'Diff_total':Ch1_full_time[1]-Ch2_full_time[1]},ignore_index=True)\n",
    "        \n",
    "            \n",
    "    except Exception:\n",
    "        k=1"
   ]
  },
  {
   "cell_type": "code",
   "execution_count": 19,
   "metadata": {},
   "outputs": [],
   "source": [
    "#Part_5 IRELAND\n",
    "playing_stat6=pd.read_csv(loc + 'IRL.csv')\n",
    "playing_stat6 = playing_stat6[columns]\n",
    "playing_stat6=playing_stat6.dropna()"
   ]
  },
  {
   "cell_type": "code",
   "execution_count": 20,
   "metadata": {},
   "outputs": [],
   "source": [
    "#Part_5 IRELAND \n",
    "goal_model_data_full_match = pd.concat([playing_stat6[['Home','Away','HG']].assign(home_f=1).rename(\n",
    "            columns={'Home':'team_f', 'Away':'opponent_f','HG':'goals_f'}),\n",
    "           playing_stat6[['Away','Home','AG']].assign(home_f=0).rename(\n",
    "            columns={'Away':'team_f', 'Home':'opponent_f','AG':'goals_f'})])\n",
    "\n",
    "poisson_model_full_match = smf.glm(formula=\"goals_f ~ home_f + team_f + opponent_f\", data=goal_model_data_full_match, \n",
    "                        family=sm.families.Poisson()).fit()\n",
    "\n",
    "# Chances count\n",
    "for i in  range(len(Schedule['Home'])): \n",
    "    try:  \n",
    "        Ch1_full_time=poisson_model_full_match.predict(pd.DataFrame(data={'team_f': Schedule['Home'][i], 'opponent_f': Schedule['Away'][i],\n",
    "                                      'home_f':1},index=[1]))\n",
    "        Ch2_full_time=poisson_model_full_match.predict(pd.DataFrame(data={'team_f': Schedule['Away'][i], 'opponent_f': Schedule['Home'][i],\n",
    "                                       'home_f':0},index=[1]))\n",
    "        \n",
    "        Results=Results.append({'Div':Schedule['Country'][i], 'Date':Schedule['Date'][i],'Time':Schedule['Time'][i],'Home':Schedule['Home'][i],\n",
    "                                'Away':Schedule['Away'][i],\n",
    "                                'Total_Chance':Ch1_full_time[1]+Ch2_full_time[1],'HT_Chance_total':Ch1_full_time[1], 'AT_Chance_total':Ch2_full_time[1],\n",
    "                                'Diff_total':Ch1_full_time[1]-Ch2_full_time[1]},ignore_index=True)\n",
    "        \n",
    "            \n",
    "    except Exception:\n",
    "        k=1"
   ]
  },
  {
   "cell_type": "code",
   "execution_count": 21,
   "metadata": {},
   "outputs": [],
   "source": [
    "#Part_ JAPAN\n",
    "playing_stat11=pd.read_csv(loc + 'JPN.csv')\n",
    "playing_stat11 = playing_stat11[columns]\n",
    "playing_stat11=playing_stat11.dropna()"
   ]
  },
  {
   "cell_type": "code",
   "execution_count": 22,
   "metadata": {},
   "outputs": [],
   "source": [
    "#Part_5 JAPAN \n",
    "goal_model_data_full_match = pd.concat([playing_stat11[['Home','Away','HG']].assign(home_f=1).rename(\n",
    "            columns={'Home':'team_f', 'Away':'opponent_f','HG':'goals_f'}),\n",
    "           playing_stat11[['Away','Home','AG']].assign(home_f=0).rename(\n",
    "            columns={'Away':'team_f', 'Home':'opponent_f','AG':'goals_f'})])\n",
    "\n",
    "poisson_model_full_match = smf.glm(formula=\"goals_f ~ home_f + team_f + opponent_f\", data=goal_model_data_full_match, \n",
    "                        family=sm.families.Poisson()).fit()\n",
    "\n",
    "# Chances count\n",
    "for i in  range(len(Schedule['Home'])): \n",
    "    try:  \n",
    "        Ch1_full_time=poisson_model_full_match.predict(pd.DataFrame(data={'team_f': Schedule['Home'][i], 'opponent_f': Schedule['Away'][i],\n",
    "                                      'home_f':1},index=[1]))\n",
    "        Ch2_full_time=poisson_model_full_match.predict(pd.DataFrame(data={'team_f': Schedule['Away'][i], 'opponent_f': Schedule['Home'][i],\n",
    "                                       'home_f':0},index=[1]))\n",
    "        \n",
    "        Results=Results.append({'Div':Schedule['Country'][i], 'Date':Schedule['Date'][i],'Time':Schedule['Time'][i],'Home':Schedule['Home'][i],\n",
    "                                'Away':Schedule['Away'][i],\n",
    "                                'Total_Chance':Ch1_full_time[1]+Ch2_full_time[1],'HT_Chance_total':Ch1_full_time[1], 'AT_Chance_total':Ch2_full_time[1],\n",
    "                                'Diff_total':Ch1_full_time[1]-Ch2_full_time[1]},ignore_index=True)\n",
    "        \n",
    "            \n",
    "    except Exception:\n",
    "        k=1"
   ]
  },
  {
   "cell_type": "code",
   "execution_count": 23,
   "metadata": {},
   "outputs": [],
   "source": [
    "#Part_7 MEXICO\n",
    "playing_stat7=pd.read_csv(loc + 'MEX.csv')\n",
    "playing_stat7 = playing_stat7[columns]\n",
    "playing_stat7=playing_stat7.dropna()"
   ]
  },
  {
   "cell_type": "code",
   "execution_count": 24,
   "metadata": {},
   "outputs": [],
   "source": [
    "#Part_5 MEXICO \n",
    "goal_model_data_full_match = pd.concat([playing_stat7[['Home','Away','HG']].assign(home_f=1).rename(\n",
    "            columns={'Home':'team_f', 'Away':'opponent_f','HG':'goals_f'}),\n",
    "           playing_stat7[['Away','Home','AG']].assign(home_f=0).rename(\n",
    "            columns={'Away':'team_f', 'Home':'opponent_f','AG':'goals_f'})])\n",
    "\n",
    "poisson_model_full_match = smf.glm(formula=\"goals_f ~ home_f + team_f + opponent_f\", data=goal_model_data_full_match, \n",
    "                        family=sm.families.Poisson()).fit()\n",
    "\n",
    "# Chances count\n",
    "for i in  range(len(Schedule['Home'])): \n",
    "    try:  \n",
    "        Ch1_full_time=poisson_model_full_match.predict(pd.DataFrame(data={'team_f': Schedule['Home'][i], 'opponent_f': Schedule['Away'][i],\n",
    "                                      'home_f':1},index=[1]))\n",
    "        Ch2_full_time=poisson_model_full_match.predict(pd.DataFrame(data={'team_f': Schedule['Away'][i], 'opponent_f': Schedule['Home'][i],\n",
    "                                       'home_f':0},index=[1]))\n",
    "        \n",
    "        Results=Results.append({'Div':Schedule['Country'][i], 'Date':Schedule['Date'][i],'Time':Schedule['Time'][i],'Home':Schedule['Home'][i],\n",
    "                                'Away':Schedule['Away'][i],\n",
    "                                'Total_Chance':Ch1_full_time[1]+Ch2_full_time[1],'HT_Chance_total':Ch1_full_time[1], 'AT_Chance_total':Ch2_full_time[1],\n",
    "                                'Diff_total':Ch1_full_time[1]-Ch2_full_time[1]},ignore_index=True)\n",
    "        \n",
    "            \n",
    "    except Exception:\n",
    "        k=1"
   ]
  },
  {
   "cell_type": "code",
   "execution_count": 25,
   "metadata": {},
   "outputs": [],
   "source": [
    "#Part_8 NORWAY\n",
    "playing_stat8=pd.read_csv(loc + 'NOR.csv')\n",
    "playing_stat8 = playing_stat8[columns]\n",
    "playing_stat8=playing_stat8.dropna()\n"
   ]
  },
  {
   "cell_type": "code",
   "execution_count": 26,
   "metadata": {},
   "outputs": [],
   "source": [
    "#Part_5 NORWAY \n",
    "goal_model_data_full_match = pd.concat([playing_stat8[['Home','Away','HG']].assign(home_f=1).rename(\n",
    "            columns={'Home':'team_f', 'Away':'opponent_f','HG':'goals_f'}),\n",
    "           playing_stat8[['Away','Home','AG']].assign(home_f=0).rename(\n",
    "            columns={'Away':'team_f', 'Home':'opponent_f','AG':'goals_f'})])\n",
    "\n",
    "poisson_model_full_match = smf.glm(formula=\"goals_f ~ home_f + team_f + opponent_f\", data=goal_model_data_full_match, \n",
    "                        family=sm.families.Poisson()).fit()\n",
    "\n",
    "# Chances count\n",
    "for i in  range(len(Schedule['Home'])): \n",
    "    try:  \n",
    "        Ch1_full_time=poisson_model_full_match.predict(pd.DataFrame(data={'team_f': Schedule['Home'][i], 'opponent_f': Schedule['Away'][i],\n",
    "                                      'home_f':1},index=[1]))\n",
    "        Ch2_full_time=poisson_model_full_match.predict(pd.DataFrame(data={'team_f': Schedule['Away'][i], 'opponent_f': Schedule['Home'][i],\n",
    "                                       'home_f':0},index=[1]))\n",
    "        \n",
    "        Results=Results.append({'Div':Schedule['Country'][i], 'Date':Schedule['Date'][i],'Time':Schedule['Time'][i],'Home':Schedule['Home'][i],\n",
    "                                'Away':Schedule['Away'][i],\n",
    "                                'Total_Chance':Ch1_full_time[1]+Ch2_full_time[1],'HT_Chance_total':Ch1_full_time[1], 'AT_Chance_total':Ch2_full_time[1],\n",
    "                                'Diff_total':Ch1_full_time[1]-Ch2_full_time[1]},ignore_index=True)\n",
    "        \n",
    "            \n",
    "    except Exception:\n",
    "        k=1"
   ]
  },
  {
   "cell_type": "code",
   "execution_count": 27,
   "metadata": {},
   "outputs": [],
   "source": [
    "#Part_9 POLAND\n",
    "playing_stat9=pd.read_csv(loc + 'POL.csv')\n",
    "playing_stat9 = playing_stat9[columns]\n",
    "playing_stat9=playing_stat9.dropna()\n"
   ]
  },
  {
   "cell_type": "code",
   "execution_count": 28,
   "metadata": {},
   "outputs": [],
   "source": [
    "#Part_5 POLAND \n",
    "goal_model_data_full_match = pd.concat([playing_stat9[['Home','Away','HG']].assign(home_f=1).rename(\n",
    "            columns={'Home':'team_f', 'Away':'opponent_f','HG':'goals_f'}),\n",
    "           playing_stat9[['Away','Home','AG']].assign(home_f=0).rename(\n",
    "            columns={'Away':'team_f', 'Home':'opponent_f','AG':'goals_f'})])\n",
    "\n",
    "poisson_model_full_match = smf.glm(formula=\"goals_f ~ home_f + team_f + opponent_f\", data=goal_model_data_full_match, \n",
    "                        family=sm.families.Poisson()).fit()\n",
    "\n",
    "# Chances count\n",
    "for i in  range(len(Schedule['Home'])): \n",
    "    try:  \n",
    "        Ch1_full_time=poisson_model_full_match.predict(pd.DataFrame(data={'team_f': Schedule['Home'][i], 'opponent_f': Schedule['Away'][i],\n",
    "                                      'home_f':1},index=[1]))\n",
    "        Ch2_full_time=poisson_model_full_match.predict(pd.DataFrame(data={'team_f': Schedule['Away'][i], 'opponent_f': Schedule['Home'][i],\n",
    "                                       'home_f':0},index=[1]))\n",
    "        \n",
    "        Results=Results.append({'Div':Schedule['Country'][i], 'Date':Schedule['Date'][i],'Time':Schedule['Time'][i],'Home':Schedule['Home'][i],\n",
    "                                'Away':Schedule['Away'][i],\n",
    "                                'Total_Chance':Ch1_full_time[1]+Ch2_full_time[1],'HT_Chance_total':Ch1_full_time[1], 'AT_Chance_total':Ch2_full_time[1],\n",
    "                                'Diff_total':Ch1_full_time[1]-Ch2_full_time[1]},ignore_index=True)\n",
    "        \n",
    "            \n",
    "    except Exception:\n",
    "        k=1"
   ]
  },
  {
   "cell_type": "code",
   "execution_count": 29,
   "metadata": {},
   "outputs": [],
   "source": [
    "#Part_10 ROMANIA\n",
    "playing_stat10=pd.read_csv(loc + 'ROU.csv')\n",
    "playing_stat10 = playing_stat10[columns]\n",
    "playing_stat10=playing_stat10.dropna()"
   ]
  },
  {
   "cell_type": "code",
   "execution_count": 30,
   "metadata": {},
   "outputs": [],
   "source": [
    "#Part_5 ROMANIA \n",
    "goal_model_data_full_match = pd.concat([playing_stat10[['Home','Away','HG']].assign(home_f=1).rename(\n",
    "            columns={'Home':'team_f', 'Away':'opponent_f','HG':'goals_f'}),\n",
    "           playing_stat10[['Away','Home','AG']].assign(home_f=0).rename(\n",
    "            columns={'Away':'team_f', 'Home':'opponent_f','AG':'goals_f'})])\n",
    "\n",
    "poisson_model_full_match = smf.glm(formula=\"goals_f ~ home_f + team_f + opponent_f\", data=goal_model_data_full_match, \n",
    "                        family=sm.families.Poisson()).fit()\n",
    "\n",
    "# Chances count\n",
    "for i in  range(len(Schedule['Home'])): \n",
    "    try:  \n",
    "        Ch1_full_time=poisson_model_full_match.predict(pd.DataFrame(data={'team_f': Schedule['Home'][i], 'opponent_f': Schedule['Away'][i],\n",
    "                                      'home_f':1},index=[1]))\n",
    "        Ch2_full_time=poisson_model_full_match.predict(pd.DataFrame(data={'team_f': Schedule['Away'][i], 'opponent_f': Schedule['Home'][i],\n",
    "                                       'home_f':0},index=[1]))\n",
    "        \n",
    "        Results=Results.append({'Div':Schedule['Country'][i], 'Date':Schedule['Date'][i],'Time':Schedule['Time'][i],'Home':Schedule['Home'][i],\n",
    "                                'Away':Schedule['Away'][i],\n",
    "                                'Total_Chance':Ch1_full_time[1]+Ch2_full_time[1],'HT_Chance_total':Ch1_full_time[1], 'AT_Chance_total':Ch2_full_time[1],\n",
    "                                'Diff_total':Ch1_full_time[1]-Ch2_full_time[1]},ignore_index=True)\n",
    "        \n",
    "            \n",
    "    except Exception:\n",
    "        k=1"
   ]
  },
  {
   "cell_type": "code",
   "execution_count": 31,
   "metadata": {},
   "outputs": [],
   "source": [
    "#Part RUSSIA\n",
    "playing_stat21=pd.read_csv(loc + 'RUS.csv')\n",
    "playing_stat21 = playing_stat21[columns]\n",
    "playing_stat21=playing_stat21.dropna()"
   ]
  },
  {
   "cell_type": "code",
   "execution_count": 32,
   "metadata": {},
   "outputs": [],
   "source": [
    "# RUSSIA \n",
    "goal_model_data_full_match = pd.concat([playing_stat21[['Home','Away','HG']].assign(home_f=1).rename(\n",
    "            columns={'Home':'team_f', 'Away':'opponent_f','HG':'goals_f'}),\n",
    "           playing_stat21[['Away','Home','AG']].assign(home_f=0).rename(\n",
    "            columns={'Away':'team_f', 'Home':'opponent_f','AG':'goals_f'})])\n",
    "\n",
    "poisson_model_full_match = smf.glm(formula=\"goals_f ~ home_f + team_f + opponent_f\", data=goal_model_data_full_match, \n",
    "                        family=sm.families.Poisson()).fit()\n",
    "\n",
    "# Chances count\n",
    "for i in  range(len(Schedule['Home'])): \n",
    "    try:  \n",
    "        Ch1_full_time=poisson_model_full_match.predict(pd.DataFrame(data={'team_f': Schedule['Home'][i], 'opponent_f': Schedule['Away'][i],\n",
    "                                      'home_f':1},index=[1]))\n",
    "        Ch2_full_time=poisson_model_full_match.predict(pd.DataFrame(data={'team_f': Schedule['Away'][i], 'opponent_f': Schedule['Home'][i],\n",
    "                                       'home_f':0},index=[1]))\n",
    "        \n",
    "        Results=Results.append({'Div':Schedule['Country'][i], 'Date':Schedule['Date'][i],'Time':Schedule['Time'][i],'Home':Schedule['Home'][i],\n",
    "                                'Away':Schedule['Away'][i],\n",
    "                                'Total_Chance':Ch1_full_time[1]+Ch2_full_time[1],'HT_Chance_total':Ch1_full_time[1], 'AT_Chance_total':Ch2_full_time[1],\n",
    "                                'Diff_total':Ch1_full_time[1]-Ch2_full_time[1]},ignore_index=True)\n",
    "        \n",
    "            \n",
    "    except Exception:\n",
    "        k=1"
   ]
  },
  {
   "cell_type": "code",
   "execution_count": 33,
   "metadata": {},
   "outputs": [],
   "source": [
    "#Part SWEDEN\n",
    "playing_stat22=pd.read_csv(loc + 'SWE.csv')\n",
    "playing_stat22 = playing_stat22[columns]\n",
    "playing_stat22=playing_stat22.dropna()"
   ]
  },
  {
   "cell_type": "code",
   "execution_count": 34,
   "metadata": {},
   "outputs": [],
   "source": [
    "# SWEDEN \n",
    "goal_model_data_full_match = pd.concat([playing_stat22[['Home','Away','HG']].assign(home_f=1).rename(\n",
    "            columns={'Home':'team_f', 'Away':'opponent_f','HG':'goals_f'}),\n",
    "           playing_stat22[['Away','Home','AG']].assign(home_f=0).rename(\n",
    "            columns={'Away':'team_f', 'Home':'opponent_f','AG':'goals_f'})])\n",
    "\n",
    "poisson_model_full_match = smf.glm(formula=\"goals_f ~ home_f + team_f + opponent_f\", data=goal_model_data_full_match, \n",
    "                        family=sm.families.Poisson()).fit()\n",
    "\n",
    "# Chances count\n",
    "for i in  range(len(Schedule['Home'])): \n",
    "    try:  \n",
    "        Ch1_full_time=poisson_model_full_match.predict(pd.DataFrame(data={'team_f': Schedule['Home'][i], 'opponent_f': Schedule['Away'][i],\n",
    "                                      'home_f':1},index=[1]))\n",
    "        Ch2_full_time=poisson_model_full_match.predict(pd.DataFrame(data={'team_f': Schedule['Away'][i], 'opponent_f': Schedule['Home'][i],\n",
    "                                       'home_f':0},index=[1]))\n",
    "        \n",
    "        Results=Results.append({'Div':Schedule['Country'][i], 'Date':Schedule['Date'][i],'Time':Schedule['Time'][i],'Home':Schedule['Home'][i],\n",
    "                                'Away':Schedule['Away'][i],\n",
    "                                'Total_Chance':Ch1_full_time[1]+Ch2_full_time[1],'HT_Chance_total':Ch1_full_time[1], 'AT_Chance_total':Ch2_full_time[1],\n",
    "                                'Diff_total':Ch1_full_time[1]-Ch2_full_time[1]},ignore_index=True)\n",
    "        \n",
    "            \n",
    "    except Exception:\n",
    "        k=1"
   ]
  },
  {
   "cell_type": "code",
   "execution_count": 35,
   "metadata": {},
   "outputs": [],
   "source": [
    "#Part SWITZELAND\n",
    "playing_stat23=pd.read_csv(loc + 'SWZ.csv')\n",
    "playing_stat23 = playing_stat23[columns]\n",
    "playing_stat23=playing_stat23.dropna()"
   ]
  },
  {
   "cell_type": "code",
   "execution_count": 36,
   "metadata": {},
   "outputs": [],
   "source": [
    "# SWITZELAND \n",
    "goal_model_data_full_match = pd.concat([playing_stat23[['Home','Away','HG']].assign(home_f=1).rename(\n",
    "            columns={'Home':'team_f', 'Away':'opponent_f','HG':'goals_f'}),\n",
    "           playing_stat23[['Away','Home','AG']].assign(home_f=0).rename(\n",
    "            columns={'Away':'team_f', 'Home':'opponent_f','AG':'goals_f'})])\n",
    "\n",
    "poisson_model_full_match = smf.glm(formula=\"goals_f ~ home_f + team_f + opponent_f\", data=goal_model_data_full_match, \n",
    "                        family=sm.families.Poisson()).fit()\n",
    "\n",
    "# Chances count\n",
    "for i in  range(len(Schedule['Home'])): \n",
    "    try:  \n",
    "        Ch1_full_time=poisson_model_full_match.predict(pd.DataFrame(data={'team_f': Schedule['Home'][i], 'opponent_f': Schedule['Away'][i],\n",
    "                                      'home_f':1},index=[1]))\n",
    "        Ch2_full_time=poisson_model_full_match.predict(pd.DataFrame(data={'team_f': Schedule['Away'][i], 'opponent_f': Schedule['Home'][i],\n",
    "                                       'home_f':0},index=[1]))\n",
    "        \n",
    "        Results=Results.append({'Div':Schedule['Country'][i], 'Date':Schedule['Date'][i],'Time':Schedule['Time'][i],'Home':Schedule['Home'][i],\n",
    "                                'Away':Schedule['Away'][i],\n",
    "                                'Total_Chance':Ch1_full_time[1]+Ch2_full_time[1],'HT_Chance_total':Ch1_full_time[1], 'AT_Chance_total':Ch2_full_time[1],\n",
    "                                'Diff_total':Ch1_full_time[1]-Ch2_full_time[1]},ignore_index=True)\n",
    "        \n",
    "            \n",
    "    except Exception:\n",
    "        k=1"
   ]
  },
  {
   "cell_type": "code",
   "execution_count": 37,
   "metadata": {},
   "outputs": [],
   "source": [
    "#Part USA\n",
    "playing_stat24=pd.read_csv(loc + 'USA.csv')\n",
    "playing_stat24 = playing_stat24[columns]\n",
    "playing_stat24=playing_stat24.dropna()"
   ]
  },
  {
   "cell_type": "code",
   "execution_count": 38,
   "metadata": {},
   "outputs": [],
   "source": [
    "# USA \n",
    "goal_model_data_full_match = pd.concat([playing_stat24[['Home','Away','HG']].assign(home_f=1).rename(\n",
    "            columns={'Home':'team_f', 'Away':'opponent_f','HG':'goals_f'}),\n",
    "           playing_stat24[['Away','Home','AG']].assign(home_f=0).rename(\n",
    "            columns={'Away':'team_f', 'Home':'opponent_f','AG':'goals_f'})])\n",
    "\n",
    "poisson_model_full_match = smf.glm(formula=\"goals_f ~ home_f + team_f + opponent_f\", data=goal_model_data_full_match, \n",
    "                        family=sm.families.Poisson()).fit()\n",
    "\n",
    "# Chances count\n",
    "for i in  range(len(Schedule['Home'])): \n",
    "    try:  \n",
    "        Ch1_full_time=poisson_model_full_match.predict(pd.DataFrame(data={'team_f': Schedule['Home'][i], 'opponent_f': Schedule['Away'][i],\n",
    "                                      'home_f':1},index=[1]))\n",
    "        Ch2_full_time=poisson_model_full_match.predict(pd.DataFrame(data={'team_f': Schedule['Away'][i], 'opponent_f': Schedule['Home'][i],\n",
    "                                       'home_f':0},index=[1]))\n",
    "        \n",
    "        Results=Results.append({'Div':Schedule['Country'][i], 'Date':Schedule['Date'][i],'Time':Schedule['Time'][i],'Home':Schedule['Home'][i],\n",
    "                                'Away':Schedule['Away'][i],\n",
    "                                'Total_Chance':Ch1_full_time[1]+Ch2_full_time[1],'HT_Chance_total':Ch1_full_time[1], 'AT_Chance_total':Ch2_full_time[1],\n",
    "                                'Diff_total':Ch1_full_time[1]-Ch2_full_time[1]},ignore_index=True)\n",
    "        \n",
    "            \n",
    "    except Exception:\n",
    "        k=1"
   ]
  },
  {
   "cell_type": "code",
   "execution_count": 39,
   "metadata": {},
   "outputs": [],
   "source": [
    "Results=Results[['Div','Date','Time','Home','Away','Total_Chance','HT_Chance_total','AT_Chance_total','Diff_total']]\n",
    "Results=Results.rename(columns={\"Total_Chance\":\"TCFT\",\"HT_Chance_total\":\"TCFT_HT\",\"AT_Chance_total\":\"TCFT_AT\"})\n",
    "Results=Results.sort_values(by=['Date'])"
   ]
  },
  {
   "cell_type": "code",
   "execution_count": 40,
   "metadata": {},
   "outputs": [],
   "source": [
    "Results.to_excel(\"Results_FULL_output_other.xlsx\")"
   ]
  },
  {
   "cell_type": "code",
   "execution_count": null,
   "metadata": {},
   "outputs": [],
   "source": [
    "# End of poisson model"
   ]
  }
 ],
 "metadata": {
  "kernelspec": {
   "display_name": "Python 3",
   "language": "python",
   "name": "python3"
  },
  "language_info": {
   "codemirror_mode": {
    "name": "ipython",
    "version": 3
   },
   "file_extension": ".py",
   "mimetype": "text/x-python",
   "name": "python",
   "nbconvert_exporter": "python",
   "pygments_lexer": "ipython3",
   "version": "3.7.3"
  }
 },
 "nbformat": 4,
 "nbformat_minor": 2
}
