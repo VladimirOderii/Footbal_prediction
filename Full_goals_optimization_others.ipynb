{
 "cells": [
  {
   "cell_type": "code",
   "execution_count": 1,
   "metadata": {},
   "outputs": [],
   "source": [
    "# Import all the necessary libraries\n",
    "\n",
    "import numpy as np\n",
    "import pandas as pd\n",
    "from datetime import datetime as dt\n",
    "import itertools\n",
    "import seaborn as sns\n",
    "import statsmodels.api as sm\n",
    "import statsmodels.formula.api as smf\n",
    "\n",
    "%matplotlib inline"
   ]
  },
  {
   "cell_type": "code",
   "execution_count": 2,
   "metadata": {},
   "outputs": [],
   "source": [
    "loc = 'C:/Users/vova_oderii/Desktop/Data_science/Football_prediction/Data/'"
   ]
  },
  {
   "cell_type": "code",
   "execution_count": 3,
   "metadata": {},
   "outputs": [],
   "source": [
    "# Argentina\n",
    "playing_stat1=pd.read_csv(loc + 'ARG.csv')"
   ]
  },
  {
   "cell_type": "code",
   "execution_count": 4,
   "metadata": {},
   "outputs": [],
   "source": [
    "# Left only game related data\n",
    "columns = ['Home',\n",
    " 'Away',\n",
    " 'HG',\n",
    " 'AG']"
   ]
  },
  {
   "cell_type": "code",
   "execution_count": 5,
   "metadata": {},
   "outputs": [],
   "source": [
    "#Gets all the statistics related to gameplay\n",
    "playing_stat1 = playing_stat1[columns]\n",
    "playing_stat1=playing_stat1.dropna()"
   ]
  },
  {
   "cell_type": "code",
   "execution_count": 6,
   "metadata": {},
   "outputs": [
    {
     "name": "stdout",
     "output_type": "stream",
     "text": [
      "['ARG', 'AUT', 'BRA', 'CHN', 'DNK', 'FIN', 'IRL', 'JPN', 'MEX', 'NOR', 'POL', 'ROU', 'RUS', 'SWE', 'SWZ', 'USA']\n"
     ]
    }
   ],
   "source": [
    "dfname=pd.ExcelFile(loc + 'new_leagues_data.xlsx')\n",
    "print(dfname.sheet_names)\n",
    "Schedule=pd.read_excel(loc + 'new_leagues_data.xlsx')\n",
    "for items in dfname.sheet_names[1:]:\n",
    "    dfnew=pd.read_excel(loc + 'new_leagues_data.xlsx',sheet_name=items)\n",
    "    Schedule=Schedule.append(dfnew, ignore_index=True, sort=False)"
   ]
  },
  {
   "cell_type": "code",
   "execution_count": 7,
   "metadata": {},
   "outputs": [],
   "source": [
    "Schedule_ARG=Schedule[Schedule.Country=='Argentina']"
   ]
  },
  {
   "cell_type": "code",
   "execution_count": 8,
   "metadata": {},
   "outputs": [],
   "source": [
    "Schedule_AUT=Schedule[Schedule.Country=='Austria']"
   ]
  },
  {
   "cell_type": "code",
   "execution_count": 9,
   "metadata": {},
   "outputs": [],
   "source": [
    "Schedule_BRA=Schedule[Schedule.Country=='Brazil']"
   ]
  },
  {
   "cell_type": "code",
   "execution_count": 10,
   "metadata": {},
   "outputs": [],
   "source": [
    "Schedule_CHN=Schedule[Schedule.Country=='China']"
   ]
  },
  {
   "cell_type": "code",
   "execution_count": 11,
   "metadata": {},
   "outputs": [],
   "source": [
    "Schedule_DNK=Schedule[(Schedule.Country=='Denmark') | (Schedule.Country=='Denmark ')]"
   ]
  },
  {
   "cell_type": "code",
   "execution_count": 12,
   "metadata": {},
   "outputs": [],
   "source": [
    "Schedule_FIN=Schedule[(Schedule.Country=='Finland')| (Schedule.Country=='Finland ')]"
   ]
  },
  {
   "cell_type": "code",
   "execution_count": 13,
   "metadata": {},
   "outputs": [],
   "source": [
    "Schedule_IRL=Schedule[(Schedule.Country=='Ireland')| (Schedule.Country=='Ireland ')]"
   ]
  },
  {
   "cell_type": "code",
   "execution_count": 14,
   "metadata": {},
   "outputs": [],
   "source": [
    "Schedule_JPN=Schedule[Schedule.Country=='Japan']"
   ]
  },
  {
   "cell_type": "code",
   "execution_count": 15,
   "metadata": {},
   "outputs": [],
   "source": [
    "Schedule_MEX=Schedule[Schedule.Country=='Mexico']"
   ]
  },
  {
   "cell_type": "code",
   "execution_count": 16,
   "metadata": {},
   "outputs": [],
   "source": [
    "Schedule_NOR=Schedule[Schedule.Country=='Norway']"
   ]
  },
  {
   "cell_type": "code",
   "execution_count": 17,
   "metadata": {},
   "outputs": [],
   "source": [
    "Schedule_POL=Schedule[Schedule.Country=='Poland']"
   ]
  },
  {
   "cell_type": "code",
   "execution_count": 18,
   "metadata": {},
   "outputs": [],
   "source": [
    "Schedule_ROU=Schedule[Schedule.Country=='Romania']"
   ]
  },
  {
   "cell_type": "code",
   "execution_count": 19,
   "metadata": {},
   "outputs": [],
   "source": [
    "Schedule_RUS=Schedule[Schedule.Country=='Russia']"
   ]
  },
  {
   "cell_type": "code",
   "execution_count": 20,
   "metadata": {},
   "outputs": [],
   "source": [
    "Schedule_SWE=Schedule[(Schedule.Country=='Sweden')| (Schedule.Country=='Sweden ')]"
   ]
  },
  {
   "cell_type": "code",
   "execution_count": 21,
   "metadata": {},
   "outputs": [],
   "source": [
    "Schedule_SWZ=Schedule[Schedule.Country=='Switzerland']"
   ]
  },
  {
   "cell_type": "code",
   "execution_count": 22,
   "metadata": {},
   "outputs": [],
   "source": [
    "Schedule_USA=Schedule[Schedule.Country=='USA']"
   ]
  },
  {
   "cell_type": "code",
   "execution_count": 23,
   "metadata": {},
   "outputs": [],
   "source": [
    "Results=pd.DataFrame()"
   ]
  },
  {
   "cell_type": "code",
   "execution_count": 24,
   "metadata": {
    "scrolled": false
   },
   "outputs": [],
   "source": [
    "# Simulation Argentina\n",
    "\n",
    "# Argentina full time\n",
    "goal_model_data_full_match = pd.concat([playing_stat1[['Home','Away','HG']].assign(home_f=1).rename(\n",
    "            columns={'Home':'team_f', 'Away':'opponent_f','HG':'goals_f'}),\n",
    "           playing_stat1[['Away','Home','AG']].assign(home_f=0).rename(\n",
    "            columns={'Away':'team_f', 'Home':'opponent_f','AG':'goals_f'})])\n",
    "\n",
    "poisson_model_full_match = smf.glm(formula=\"goals_f ~ home_f + team_f + opponent_f\", data=goal_model_data_full_match, \n",
    "                        family=sm.families.Poisson()).fit()\n",
    "\n",
    "# Chances count\n",
    "for i in  range(Schedule_ARG.index.values.min(),Schedule_ARG.index.values.max()): \n",
    "    try:  \n",
    "        Ch1_full_time=poisson_model_full_match.predict(pd.DataFrame(data={'team_f': Schedule_ARG['Home'][i], 'opponent_f': Schedule_ARG['Away'][i],\n",
    "                                      'home_f':1},index=[1]))\n",
    "        Ch2_full_time=poisson_model_full_match.predict(pd.DataFrame(data={'team_f': Schedule_ARG['Away'][i], 'opponent_f': Schedule_ARG['Home'][i],\n",
    "                                       'home_f':0},index=[1]))\n",
    "        \n",
    "        Results=Results.append({'Div':Schedule_ARG['Country'][i], 'Date':Schedule_ARG['Date'][i],'Time':Schedule_ARG['Time'][i],'Home':Schedule_ARG['Home'][i],\n",
    "                                'Away':Schedule_ARG['Away'][i],\n",
    "                                'Total_Chance':Ch1_full_time[1]+Ch2_full_time[1],'HT_Chance_total':Ch1_full_time[1], 'AT_Chance_total':Ch2_full_time[1],\n",
    "                                'Diff_total':Ch1_full_time[1]-Ch2_full_time[1]},ignore_index=True)\n",
    "        \n",
    "            \n",
    "    except Exception:\n",
    "        k=1"
   ]
  },
  {
   "cell_type": "code",
   "execution_count": 25,
   "metadata": {},
   "outputs": [],
   "source": [
    "#AUSTRIA\n",
    "playing_stat2=pd.read_csv(loc + 'AUT.csv')\n",
    "playing_stat2 = playing_stat2[columns]\n",
    "playing_stat2=playing_stat2.dropna()"
   ]
  },
  {
   "cell_type": "code",
   "execution_count": 26,
   "metadata": {},
   "outputs": [],
   "source": [
    "# AUSTRIA full time\n",
    "goal_model_data_full_match = pd.concat([playing_stat2[['Home','Away','HG']].assign(home_f=1).rename(\n",
    "            columns={'Home':'team_f', 'Away':'opponent_f','HG':'goals_f'}),\n",
    "           playing_stat2[['Away','Home','AG']].assign(home_f=0).rename(\n",
    "            columns={'Away':'team_f', 'Home':'opponent_f','AG':'goals_f'})])\n",
    "\n",
    "poisson_model_full_match = smf.glm(formula=\"goals_f ~ home_f + team_f + opponent_f\", data=goal_model_data_full_match, \n",
    "                        family=sm.families.Poisson()).fit()\n",
    "\n",
    "# Chances count\n",
    "for i in  range(Schedule_AUT.index.values.min(),Schedule_AUT.index.values.max()): \n",
    "    try:  \n",
    "        Ch1_full_time=poisson_model_full_match.predict(pd.DataFrame(data={'team_f': Schedule_AUT['Home'][i], 'opponent_f': Schedule_AUT['Away'][i],\n",
    "                                      'home_f':1},index=[1]))\n",
    "        Ch2_full_time=poisson_model_full_match.predict(pd.DataFrame(data={'team_f': Schedule_AUT['Away'][i], 'opponent_f': Schedule_AUT['Home'][i],\n",
    "                                       'home_f':0},index=[1]))\n",
    "        \n",
    "        Results=Results.append({'Div':Schedule_AUT['Country'][i], 'Date':Schedule_AUT['Date'][i],'Time':Schedule_AUT['Time'][i],'Home':Schedule_AUT['Home'][i],\n",
    "                                'Away':Schedule_AUT['Away'][i],\n",
    "                                'Total_Chance':Ch1_full_time[1]+Ch2_full_time[1],'HT_Chance_total':Ch1_full_time[1], 'AT_Chance_total':Ch2_full_time[1],\n",
    "                                'Diff_total':Ch1_full_time[1]-Ch2_full_time[1]},ignore_index=True)\n",
    "        \n",
    "            \n",
    "    except Exception:\n",
    "        k=1"
   ]
  },
  {
   "cell_type": "code",
   "execution_count": 27,
   "metadata": {},
   "outputs": [],
   "source": [
    "#BRAZIL\n",
    "playing_stat12=pd.read_csv(loc + 'BRA.csv')\n",
    "playing_stat12 = playing_stat12[columns]\n",
    "playing_stat12=playing_stat12.dropna()"
   ]
  },
  {
   "cell_type": "code",
   "execution_count": 28,
   "metadata": {},
   "outputs": [],
   "source": [
    "#  BRAZIL full time\n",
    "goal_model_data_full_match = pd.concat([playing_stat12[['Home','Away','HG']].assign(home_f=1).rename(\n",
    "            columns={'Home':'team_f', 'Away':'opponent_f','HG':'goals_f'}),\n",
    "           playing_stat12[['Away','Home','AG']].assign(home_f=0).rename(\n",
    "            columns={'Away':'team_f', 'Home':'opponent_f','AG':'goals_f'})])\n",
    "\n",
    "poisson_model_full_match = smf.glm(formula=\"goals_f ~ home_f + team_f + opponent_f\", data=goal_model_data_full_match, \n",
    "                        family=sm.families.Poisson()).fit()\n",
    "\n",
    "# Chances count\n",
    "for i in  range(Schedule_BRA.index.values.min(),Schedule_BRA.index.values.max()): \n",
    "    try:  \n",
    "        Ch1_full_time=poisson_model_full_match.predict(pd.DataFrame(data={'team_f': Schedule_BRA['Home'][i], 'opponent_f': Schedule_BRA['Away'][i],\n",
    "                                      'home_f':1},index=[1]))\n",
    "        Ch2_full_time=poisson_model_full_match.predict(pd.DataFrame(data={'team_f': Schedule_BRA['Away'][i], 'opponent_f': Schedule_BRA['Home'][i],\n",
    "                                       'home_f':0},index=[1]))\n",
    "        \n",
    "        Results=Results.append({'Div':Schedule_BRA['Country'][i], 'Date':Schedule_BRA['Date'][i],'Time':Schedule_BRA['Time'][i],'Home':Schedule_BRA['Home'][i],\n",
    "                                'Away':Schedule_BRA['Away'][i],\n",
    "                                'Total_Chance':Ch1_full_time[1]+Ch2_full_time[1],'HT_Chance_total':Ch1_full_time[1], 'AT_Chance_total':Ch2_full_time[1],\n",
    "                                'Diff_total':Ch1_full_time[1]-Ch2_full_time[1]},ignore_index=True)\n",
    "        \n",
    "            \n",
    "    except Exception:\n",
    "        k=1"
   ]
  },
  {
   "cell_type": "code",
   "execution_count": 29,
   "metadata": {},
   "outputs": [],
   "source": [
    "#CHINA\n",
    "playing_stat3=pd.read_csv(loc + 'CHN.csv')\n",
    "playing_stat3 = playing_stat3[columns]\n",
    "playing_stat3=playing_stat3.dropna()"
   ]
  },
  {
   "cell_type": "code",
   "execution_count": 30,
   "metadata": {},
   "outputs": [],
   "source": [
    "# CHINA full time\n",
    "goal_model_data_full_match = pd.concat([playing_stat3[['Home','Away','HG']].assign(home_f=1).rename(\n",
    "            columns={'Home':'team_f', 'Away':'opponent_f','HG':'goals_f'}),\n",
    "           playing_stat3[['Away','Home','AG']].assign(home_f=0).rename(\n",
    "            columns={'Away':'team_f', 'Home':'opponent_f','AG':'goals_f'})])\n",
    "\n",
    "poisson_model_full_match = smf.glm(formula=\"goals_f ~ home_f + team_f + opponent_f\", data=goal_model_data_full_match, \n",
    "                        family=sm.families.Poisson()).fit()\n",
    "\n",
    "# Chances count\n",
    "for i in  range(Schedule_CHN.index.values.min(),Schedule_CHN.index.values.max()): \n",
    "    try:  \n",
    "        Ch1_full_time=poisson_model_full_match.predict(pd.DataFrame(data={'team_f': Schedule_CHN['Home'][i], 'opponent_f': Schedule_CHN['Away'][i],\n",
    "                                      'home_f':1},index=[1]))\n",
    "        Ch2_full_time=poisson_model_full_match.predict(pd.DataFrame(data={'team_f': Schedule_CHN['Away'][i], 'opponent_f': Schedule_CHN['Home'][i],\n",
    "                                       'home_f':0},index=[1]))\n",
    "        \n",
    "        Results=Results.append({'Div':Schedule_CHN['Country'][i], 'Date':Schedule_CHN['Date'][i],'Time':Schedule_CHN['Time'][i],'Home':Schedule_CHN['Home'][i],\n",
    "                                'Away':Schedule_CHN['Away'][i],\n",
    "                                'Total_Chance':Ch1_full_time[1]+Ch2_full_time[1],'HT_Chance_total':Ch1_full_time[1], 'AT_Chance_total':Ch2_full_time[1],\n",
    "                                'Diff_total':Ch1_full_time[1]-Ch2_full_time[1]},ignore_index=True)\n",
    "        \n",
    "            \n",
    "    except Exception:\n",
    "        k=1"
   ]
  },
  {
   "cell_type": "code",
   "execution_count": 31,
   "metadata": {},
   "outputs": [],
   "source": [
    "#Part_4 DENMARK\n",
    "playing_stat4=pd.read_csv(loc + 'DNK.csv')\n",
    "playing_stat4 = playing_stat4[columns]\n",
    "playing_stat4=playing_stat4.dropna()"
   ]
  },
  {
   "cell_type": "code",
   "execution_count": 32,
   "metadata": {},
   "outputs": [],
   "source": [
    "#Part_4 DENMARK first half\n",
    "goal_model_data_full_match = pd.concat([playing_stat4[['Home','Away','HG']].assign(home_f=1).rename(\n",
    "            columns={'Home':'team_f', 'Away':'opponent_f','HG':'goals_f'}),\n",
    "           playing_stat4[['Away','Home','AG']].assign(home_f=0).rename(\n",
    "            columns={'Away':'team_f', 'Home':'opponent_f','AG':'goals_f'})])\n",
    "\n",
    "poisson_model_full_match = smf.glm(formula=\"goals_f ~ home_f + team_f + opponent_f\", data=goal_model_data_full_match, \n",
    "                        family=sm.families.Poisson()).fit()\n",
    "\n",
    "# Chances count\n",
    "for i in  range(Schedule_DNK.index.values.min(),Schedule_DNK.index.values.max()): \n",
    "    try:  \n",
    "        Ch1_full_time=poisson_model_full_match.predict(pd.DataFrame(data={'team_f': Schedule_DNK['Home'][i], 'opponent_f': Schedule_DNK['Away'][i],\n",
    "                                      'home_f':1},index=[1]))\n",
    "        Ch2_full_time=poisson_model_full_match.predict(pd.DataFrame(data={'team_f': Schedule_DNK['Away'][i], 'opponent_f': Schedule_DNK['Home'][i],\n",
    "                                       'home_f':0},index=[1]))\n",
    "        \n",
    "        Results=Results.append({'Div':Schedule_DNK['Country'][i], 'Date':Schedule_DNK['Date'][i],'Time':Schedule_DNK['Time'][i],'Home':Schedule_DNK['Home'][i],\n",
    "                                'Away':Schedule_DNK['Away'][i],\n",
    "                                'Total_Chance':Ch1_full_time[1]+Ch2_full_time[1],'HT_Chance_total':Ch1_full_time[1], 'AT_Chance_total':Ch2_full_time[1],\n",
    "                                'Diff_total':Ch1_full_time[1]-Ch2_full_time[1]},ignore_index=True)\n",
    "        \n",
    "            \n",
    "    except Exception:\n",
    "        k=1"
   ]
  },
  {
   "cell_type": "code",
   "execution_count": 33,
   "metadata": {},
   "outputs": [],
   "source": [
    "#Part_5 FINLAND\n",
    "playing_stat5=pd.read_csv(loc + 'FIN.csv')\n",
    "playing_stat5 = playing_stat5[columns]\n",
    "playing_stat5=playing_stat5.dropna()"
   ]
  },
  {
   "cell_type": "code",
   "execution_count": 34,
   "metadata": {},
   "outputs": [],
   "source": [
    "#Part_5 FINLAND \n",
    "goal_model_data_full_match = pd.concat([playing_stat5[['Home','Away','HG']].assign(home_f=1).rename(\n",
    "            columns={'Home':'team_f', 'Away':'opponent_f','HG':'goals_f'}),\n",
    "           playing_stat5[['Away','Home','AG']].assign(home_f=0).rename(\n",
    "            columns={'Away':'team_f', 'Home':'opponent_f','AG':'goals_f'})])\n",
    "\n",
    "poisson_model_full_match = smf.glm(formula=\"goals_f ~ home_f + team_f + opponent_f\", data=goal_model_data_full_match, \n",
    "                        family=sm.families.Poisson()).fit()\n",
    "\n",
    "# Chances count\n",
    "for i in  range(Schedule_FIN.index.values.min(),Schedule_FIN.index.values.max()): \n",
    "    try:  \n",
    "        Ch1_full_time=poisson_model_full_match.predict(pd.DataFrame(data={'team_f': Schedule_FIN['Home'][i], 'opponent_f': Schedule_FIN['Away'][i],\n",
    "                                      'home_f':1},index=[1]))\n",
    "        Ch2_full_time=poisson_model_full_match.predict(pd.DataFrame(data={'team_f': Schedule_FIN['Away'][i], 'opponent_f': Schedule_FIN['Home'][i],\n",
    "                                       'home_f':0},index=[1]))\n",
    "        \n",
    "        Results=Results.append({'Div':Schedule_FIN['Country'][i], 'Date':Schedule_FIN['Date'][i],'Time':Schedule_FIN['Time'][i],'Home':Schedule_FIN['Home'][i],\n",
    "                                'Away':Schedule_FIN['Away'][i],\n",
    "                                'Total_Chance':Ch1_full_time[1]+Ch2_full_time[1],'HT_Chance_total':Ch1_full_time[1], 'AT_Chance_total':Ch2_full_time[1],\n",
    "                                'Diff_total':Ch1_full_time[1]-Ch2_full_time[1]},ignore_index=True)\n",
    "        \n",
    "            \n",
    "    except Exception:\n",
    "        k=1"
   ]
  },
  {
   "cell_type": "code",
   "execution_count": 35,
   "metadata": {},
   "outputs": [],
   "source": [
    "#Part_5 IRELAND\n",
    "playing_stat6=pd.read_csv(loc + 'IRL.csv')\n",
    "playing_stat6 = playing_stat6[columns]\n",
    "playing_stat6=playing_stat6.dropna()"
   ]
  },
  {
   "cell_type": "code",
   "execution_count": 36,
   "metadata": {},
   "outputs": [],
   "source": [
    "#Part_5 IRELAND \n",
    "goal_model_data_full_match = pd.concat([playing_stat6[['Home','Away','HG']].assign(home_f=1).rename(\n",
    "            columns={'Home':'team_f', 'Away':'opponent_f','HG':'goals_f'}),\n",
    "           playing_stat6[['Away','Home','AG']].assign(home_f=0).rename(\n",
    "            columns={'Away':'team_f', 'Home':'opponent_f','AG':'goals_f'})])\n",
    "\n",
    "poisson_model_full_match = smf.glm(formula=\"goals_f ~ home_f + team_f + opponent_f\", data=goal_model_data_full_match, \n",
    "                        family=sm.families.Poisson()).fit()\n",
    "\n",
    "# Chances count\n",
    "for i in  range(Schedule_IRL.index.values.min(),Schedule_IRL.index.values.max()): \n",
    "    try:  \n",
    "        Ch1_full_time=poisson_model_full_match.predict(pd.DataFrame(data={'team_f': Schedule_IRL['Home'][i], 'opponent_f': Schedule_IRL['Away'][i],\n",
    "                                      'home_f':1},index=[1]))\n",
    "        Ch2_full_time=poisson_model_full_match.predict(pd.DataFrame(data={'team_f': Schedule_IRL['Away'][i], 'opponent_f': Schedule_IRL['Home'][i],\n",
    "                                       'home_f':0},index=[1]))\n",
    "        \n",
    "        Results=Results.append({'Div':Schedule_IRL['Country'][i], 'Date':Schedule_IRL['Date'][i],'Time':Schedule_IRL['Time'][i],'Home':Schedule_IRL['Home'][i],\n",
    "                                'Away':Schedule_IRL['Away'][i],\n",
    "                                'Total_Chance':Ch1_full_time[1]+Ch2_full_time[1],'HT_Chance_total':Ch1_full_time[1], 'AT_Chance_total':Ch2_full_time[1],\n",
    "                                'Diff_total':Ch1_full_time[1]-Ch2_full_time[1]},ignore_index=True)\n",
    "        \n",
    "            \n",
    "    except Exception:\n",
    "        k=1"
   ]
  },
  {
   "cell_type": "code",
   "execution_count": 37,
   "metadata": {},
   "outputs": [],
   "source": [
    "#Part_ JAPAN\n",
    "playing_stat11=pd.read_csv(loc + 'JPN.csv')\n",
    "playing_stat11 = playing_stat11[columns]\n",
    "playing_stat11=playing_stat11.dropna()"
   ]
  },
  {
   "cell_type": "code",
   "execution_count": 38,
   "metadata": {},
   "outputs": [],
   "source": [
    "#Part_5 JAPAN \n",
    "goal_model_data_full_match = pd.concat([playing_stat11[['Home','Away','HG']].assign(home_f=1).rename(\n",
    "            columns={'Home':'team_f', 'Away':'opponent_f','HG':'goals_f'}),\n",
    "           playing_stat11[['Away','Home','AG']].assign(home_f=0).rename(\n",
    "            columns={'Away':'team_f', 'Home':'opponent_f','AG':'goals_f'})])\n",
    "\n",
    "poisson_model_full_match = smf.glm(formula=\"goals_f ~ home_f + team_f + opponent_f\", data=goal_model_data_full_match, \n",
    "                        family=sm.families.Poisson()).fit()\n",
    "\n",
    "# Chances count\n",
    "for i in  range(Schedule_JPN.index.values.min(),Schedule_JPN.index.values.max()): \n",
    "    try:  \n",
    "        Ch1_full_time=poisson_model_full_match.predict(pd.DataFrame(data={'team_f': Schedule_JPN['Home'][i], 'opponent_f': Schedule_JPN['Away'][i],\n",
    "                                      'home_f':1},index=[1]))\n",
    "        Ch2_full_time=poisson_model_full_match.predict(pd.DataFrame(data={'team_f': Schedule_JPN['Away'][i], 'opponent_f': Schedule_JPN['Home'][i],\n",
    "                                       'home_f':0},index=[1]))\n",
    "        \n",
    "        Results=Results.append({'Div':Schedule_JPN['Country'][i], 'Date':Schedule_JPN['Date'][i],'Time':Schedule_JPN['Time'][i],'Home':Schedule_JPN['Home'][i],\n",
    "                                'Away':Schedule_JPN['Away'][i],\n",
    "                                'Total_Chance':Ch1_full_time[1]+Ch2_full_time[1],'HT_Chance_total':Ch1_full_time[1], 'AT_Chance_total':Ch2_full_time[1],\n",
    "                                'Diff_total':Ch1_full_time[1]-Ch2_full_time[1]},ignore_index=True)\n",
    "        \n",
    "            \n",
    "    except Exception:\n",
    "        k=1"
   ]
  },
  {
   "cell_type": "code",
   "execution_count": 39,
   "metadata": {},
   "outputs": [],
   "source": [
    "#Part_7 MEXICO\n",
    "playing_stat7=pd.read_csv(loc + 'MEX.csv')\n",
    "playing_stat7 = playing_stat7[columns]\n",
    "playing_stat7=playing_stat7.dropna()"
   ]
  },
  {
   "cell_type": "code",
   "execution_count": 40,
   "metadata": {},
   "outputs": [],
   "source": [
    "#Part_5 MEXICO \n",
    "goal_model_data_full_match = pd.concat([playing_stat7[['Home','Away','HG']].assign(home_f=1).rename(\n",
    "            columns={'Home':'team_f', 'Away':'opponent_f','HG':'goals_f'}),\n",
    "           playing_stat7[['Away','Home','AG']].assign(home_f=0).rename(\n",
    "            columns={'Away':'team_f', 'Home':'opponent_f','AG':'goals_f'})])\n",
    "\n",
    "poisson_model_full_match = smf.glm(formula=\"goals_f ~ home_f + team_f + opponent_f\", data=goal_model_data_full_match, \n",
    "                        family=sm.families.Poisson()).fit()\n",
    "\n",
    "# Chances count\n",
    "for i in  range(Schedule_MEX.index.values.min(),Schedule_MEX.index.values.max()): \n",
    "    try:  \n",
    "        Ch1_full_time=poisson_model_full_match.predict(pd.DataFrame(data={'team_f': Schedule_MEX['Home'][i], 'opponent_f': Schedule_MEX['Away'][i],\n",
    "                                      'home_f':1},index=[1]))\n",
    "        Ch2_full_time=poisson_model_full_match.predict(pd.DataFrame(data={'team_f': Schedule_MEX['Away'][i], 'opponent_f': Schedule_MEX['Home'][i],\n",
    "                                       'home_f':0},index=[1]))\n",
    "        \n",
    "        Results=Results.append({'Div':Schedule_MEX['Country'][i], 'Date':Schedule_MEX['Date'][i],'Time':Schedule_MEX['Time'][i],'Home':Schedule_MEX['Home'][i],\n",
    "                                'Away':Schedule_MEX['Away'][i],\n",
    "                                'Total_Chance':Ch1_full_time[1]+Ch2_full_time[1],'HT_Chance_total':Ch1_full_time[1], 'AT_Chance_total':Ch2_full_time[1],\n",
    "                                'Diff_total':Ch1_full_time[1]-Ch2_full_time[1]},ignore_index=True)\n",
    "        \n",
    "            \n",
    "    except Exception:\n",
    "        k=1"
   ]
  },
  {
   "cell_type": "code",
   "execution_count": 41,
   "metadata": {},
   "outputs": [],
   "source": [
    "#Part_8 NORWAY\n",
    "playing_stat8=pd.read_csv(loc + 'NOR.csv')\n",
    "playing_stat8 = playing_stat8[columns]\n",
    "playing_stat8=playing_stat8.dropna()\n"
   ]
  },
  {
   "cell_type": "code",
   "execution_count": 42,
   "metadata": {},
   "outputs": [],
   "source": [
    "#Part_5 NORWAY \n",
    "goal_model_data_full_match = pd.concat([playing_stat8[['Home','Away','HG']].assign(home_f=1).rename(\n",
    "            columns={'Home':'team_f', 'Away':'opponent_f','HG':'goals_f'}),\n",
    "           playing_stat8[['Away','Home','AG']].assign(home_f=0).rename(\n",
    "            columns={'Away':'team_f', 'Home':'opponent_f','AG':'goals_f'})])\n",
    "\n",
    "poisson_model_full_match = smf.glm(formula=\"goals_f ~ home_f + team_f + opponent_f\", data=goal_model_data_full_match, \n",
    "                        family=sm.families.Poisson()).fit()\n",
    "\n",
    "# Chances count\n",
    "for i in  range(Schedule_NOR.index.values.min(),Schedule_NOR.index.values.max()): \n",
    "    try:  \n",
    "        Ch1_full_time=poisson_model_full_match.predict(pd.DataFrame(data={'team_f': Schedule_NOR['Home'][i], 'opponent_f': Schedule_NOR['Away'][i],\n",
    "                                      'home_f':1},index=[1]))\n",
    "        Ch2_full_time=poisson_model_full_match.predict(pd.DataFrame(data={'team_f': Schedule_NOR['Away'][i], 'opponent_f': Schedule_NOR['Home'][i],\n",
    "                                       'home_f':0},index=[1]))\n",
    "        \n",
    "        Results=Results.append({'Div':Schedule_NOR['Country'][i], 'Date':Schedule_NOR['Date'][i],'Time':Schedule_NOR['Time'][i],'Home':Schedule_NOR['Home'][i],\n",
    "                                'Away':Schedule_NOR['Away'][i],\n",
    "                                'Total_Chance':Ch1_full_time[1]+Ch2_full_time[1],'HT_Chance_total':Ch1_full_time[1], 'AT_Chance_total':Ch2_full_time[1],\n",
    "                                'Diff_total':Ch1_full_time[1]-Ch2_full_time[1]},ignore_index=True)\n",
    "        \n",
    "            \n",
    "    except Exception:\n",
    "        k=1"
   ]
  },
  {
   "cell_type": "code",
   "execution_count": 43,
   "metadata": {},
   "outputs": [],
   "source": [
    "#Part_9 POLAND\n",
    "playing_stat9=pd.read_csv(loc + 'POL.csv')\n",
    "playing_stat9 = playing_stat9[columns]\n",
    "playing_stat9=playing_stat9.dropna()\n"
   ]
  },
  {
   "cell_type": "code",
   "execution_count": 44,
   "metadata": {},
   "outputs": [],
   "source": [
    "#Part_5 POLAND \n",
    "goal_model_data_full_match = pd.concat([playing_stat9[['Home','Away','HG']].assign(home_f=1).rename(\n",
    "            columns={'Home':'team_f', 'Away':'opponent_f','HG':'goals_f'}),\n",
    "           playing_stat9[['Away','Home','AG']].assign(home_f=0).rename(\n",
    "            columns={'Away':'team_f', 'Home':'opponent_f','AG':'goals_f'})])\n",
    "\n",
    "poisson_model_full_match = smf.glm(formula=\"goals_f ~ home_f + team_f + opponent_f\", data=goal_model_data_full_match, \n",
    "                        family=sm.families.Poisson()).fit()\n",
    "\n",
    "# Chances count\n",
    "for i in  range(Schedule_POL.index.values.min(),Schedule_POL.index.values.max()): \n",
    "    try:  \n",
    "        Ch1_full_time=poisson_model_full_match.predict(pd.DataFrame(data={'team_f': Schedule_POL['Home'][i], 'opponent_f': Schedule_POL['Away'][i],\n",
    "                                      'home_f':1},index=[1]))\n",
    "        Ch2_full_time=poisson_model_full_match.predict(pd.DataFrame(data={'team_f': Schedule_POL['Away'][i], 'opponent_f': Schedule_POL['Home'][i],\n",
    "                                       'home_f':0},index=[1]))\n",
    "        \n",
    "        Results=Results.append({'Div':Schedule_POL['Country'][i], 'Date':Schedule_POL['Date'][i],'Time':Schedule_POL['Time'][i],'Home':Schedule_POL['Home'][i],\n",
    "                                'Away':Schedule_POL['Away'][i],\n",
    "                                'Total_Chance':Ch1_full_time[1]+Ch2_full_time[1],'HT_Chance_total':Ch1_full_time[1], 'AT_Chance_total':Ch2_full_time[1],\n",
    "                                'Diff_total':Ch1_full_time[1]-Ch2_full_time[1]},ignore_index=True)\n",
    "        \n",
    "            \n",
    "    except Exception:\n",
    "        k=1"
   ]
  },
  {
   "cell_type": "code",
   "execution_count": 45,
   "metadata": {},
   "outputs": [],
   "source": [
    "#Part_10 ROMANIA\n",
    "playing_stat10=pd.read_csv(loc + 'ROU.csv')\n",
    "playing_stat10 = playing_stat10[columns]\n",
    "playing_stat10=playing_stat10.dropna()"
   ]
  },
  {
   "cell_type": "code",
   "execution_count": 46,
   "metadata": {},
   "outputs": [],
   "source": [
    "#Part_5 ROMANIA \n",
    "goal_model_data_full_match = pd.concat([playing_stat10[['Home','Away','HG']].assign(home_f=1).rename(\n",
    "            columns={'Home':'team_f', 'Away':'opponent_f','HG':'goals_f'}),\n",
    "           playing_stat10[['Away','Home','AG']].assign(home_f=0).rename(\n",
    "            columns={'Away':'team_f', 'Home':'opponent_f','AG':'goals_f'})])\n",
    "\n",
    "poisson_model_full_match = smf.glm(formula=\"goals_f ~ home_f + team_f + opponent_f\", data=goal_model_data_full_match, \n",
    "                        family=sm.families.Poisson()).fit()\n",
    "\n",
    "# Chances count\n",
    "for i in  range(Schedule_ROU.index.values.min(),Schedule_ROU.index.values.max()): \n",
    "    try:  \n",
    "        Ch1_full_time=poisson_model_full_match.predict(pd.DataFrame(data={'team_f': Schedule_ROU['Home'][i], 'opponent_f': Schedule_ROU['Away'][i],\n",
    "                                      'home_f':1},index=[1]))\n",
    "        Ch2_full_time=poisson_model_full_match.predict(pd.DataFrame(data={'team_f': Schedule_ROU['Away'][i], 'opponent_f': Schedule_ROU['Home'][i],\n",
    "                                       'home_f':0},index=[1]))\n",
    "        \n",
    "        Results=Results.append({'Div':Schedule_ROU['Country'][i], 'Date':Schedule_ROU['Date'][i],'Time':Schedule_ROU['Time'][i],'Home':Schedule_ROU['Home'][i],\n",
    "                                'Away':Schedule_ROU['Away'][i],\n",
    "                                'Total_Chance':Ch1_full_time[1]+Ch2_full_time[1],'HT_Chance_total':Ch1_full_time[1], 'AT_Chance_total':Ch2_full_time[1],\n",
    "                                'Diff_total':Ch1_full_time[1]-Ch2_full_time[1]},ignore_index=True)\n",
    "        \n",
    "            \n",
    "    except Exception:\n",
    "        k=1"
   ]
  },
  {
   "cell_type": "code",
   "execution_count": 47,
   "metadata": {},
   "outputs": [],
   "source": [
    "#Part RUSSIA\n",
    "playing_stat21=pd.read_csv(loc + 'RUS.csv')\n",
    "playing_stat21 = playing_stat21[columns]\n",
    "playing_stat21=playing_stat21.dropna()"
   ]
  },
  {
   "cell_type": "code",
   "execution_count": 48,
   "metadata": {},
   "outputs": [],
   "source": [
    "# RUSSIA \n",
    "goal_model_data_full_match = pd.concat([playing_stat21[['Home','Away','HG']].assign(home_f=1).rename(\n",
    "            columns={'Home':'team_f', 'Away':'opponent_f','HG':'goals_f'}),\n",
    "           playing_stat21[['Away','Home','AG']].assign(home_f=0).rename(\n",
    "            columns={'Away':'team_f', 'Home':'opponent_f','AG':'goals_f'})])\n",
    "\n",
    "poisson_model_full_match = smf.glm(formula=\"goals_f ~ home_f + team_f + opponent_f\", data=goal_model_data_full_match, \n",
    "                        family=sm.families.Poisson()).fit()\n",
    "\n",
    "# Chances count\n",
    "for i in  range(Schedule_RUS.index.values.min(),Schedule_RUS.index.values.max()): \n",
    "    try:  \n",
    "        Ch1_full_time=poisson_model_full_match.predict(pd.DataFrame(data={'team_f': Schedule_RUS['Home'][i], 'opponent_f': Schedule_RUS['Away'][i],\n",
    "                                      'home_f':1},index=[1]))\n",
    "        Ch2_full_time=poisson_model_full_match.predict(pd.DataFrame(data={'team_f': Schedule_RUS['Away'][i], 'opponent_f': Schedule_RUS['Home'][i],\n",
    "                                       'home_f':0},index=[1]))\n",
    "        \n",
    "        Results=Results.append({'Div':Schedule_RUS['Country'][i], 'Date':Schedule_RUS['Date'][i],'Time':Schedule_RUS['Time'][i],'Home':Schedule_RUS['Home'][i],\n",
    "                                'Away':Schedule_RUS['Away'][i],\n",
    "                                'Total_Chance':Ch1_full_time[1]+Ch2_full_time[1],'HT_Chance_total':Ch1_full_time[1], 'AT_Chance_total':Ch2_full_time[1],\n",
    "                                'Diff_total':Ch1_full_time[1]-Ch2_full_time[1]},ignore_index=True)\n",
    "        \n",
    "            \n",
    "    except Exception:\n",
    "        k=1"
   ]
  },
  {
   "cell_type": "code",
   "execution_count": 49,
   "metadata": {},
   "outputs": [],
   "source": [
    "#Part SWEDEN\n",
    "playing_stat22=pd.read_csv(loc + 'SWE.csv')\n",
    "playing_stat22 = playing_stat22[columns]\n",
    "playing_stat22=playing_stat22.dropna()"
   ]
  },
  {
   "cell_type": "code",
   "execution_count": 50,
   "metadata": {},
   "outputs": [],
   "source": [
    "# SWEDEN \n",
    "goal_model_data_full_match = pd.concat([playing_stat22[['Home','Away','HG']].assign(home_f=1).rename(\n",
    "            columns={'Home':'team_f', 'Away':'opponent_f','HG':'goals_f'}),\n",
    "           playing_stat22[['Away','Home','AG']].assign(home_f=0).rename(\n",
    "            columns={'Away':'team_f', 'Home':'opponent_f','AG':'goals_f'})])\n",
    "\n",
    "poisson_model_full_match = smf.glm(formula=\"goals_f ~ home_f + team_f + opponent_f\", data=goal_model_data_full_match, \n",
    "                        family=sm.families.Poisson()).fit()\n",
    "\n",
    "# Chances count\n",
    "for i in  range(Schedule_SWE.index.values.min(),Schedule_SWE.index.values.max()): \n",
    "    try:  \n",
    "        Ch1_full_time=poisson_model_full_match.predict(pd.DataFrame(data={'team_f': Schedule_SWE['Home'][i], 'opponent_f': Schedule_SWE['Away'][i],\n",
    "                                      'home_f':1},index=[1]))\n",
    "        Ch2_full_time=poisson_model_full_match.predict(pd.DataFrame(data={'team_f': Schedule_SWE['Away'][i], 'opponent_f': Schedule_SWE['Home'][i],\n",
    "                                       'home_f':0},index=[1]))\n",
    "        \n",
    "        Results=Results.append({'Div':Schedule_SWE['Country'][i], 'Date':Schedule_SWE['Date'][i],'Time':Schedule_SWE['Time'][i],'Home':Schedule_SWE['Home'][i],\n",
    "                                'Away':Schedule_SWE['Away'][i],\n",
    "                                'Total_Chance':Ch1_full_time[1]+Ch2_full_time[1],'HT_Chance_total':Ch1_full_time[1], 'AT_Chance_total':Ch2_full_time[1],\n",
    "                                'Diff_total':Ch1_full_time[1]-Ch2_full_time[1]},ignore_index=True)\n",
    "        \n",
    "            \n",
    "    except Exception:\n",
    "        k=1"
   ]
  },
  {
   "cell_type": "code",
   "execution_count": 51,
   "metadata": {},
   "outputs": [],
   "source": [
    "#Part SWITZELAND\n",
    "playing_stat23=pd.read_csv(loc + 'SWZ.csv')\n",
    "playing_stat23 = playing_stat23[columns]\n",
    "playing_stat23=playing_stat23.dropna()"
   ]
  },
  {
   "cell_type": "code",
   "execution_count": 52,
   "metadata": {},
   "outputs": [],
   "source": [
    "# SWITZELAND \n",
    "goal_model_data_full_match = pd.concat([playing_stat23[['Home','Away','HG']].assign(home_f=1).rename(\n",
    "            columns={'Home':'team_f', 'Away':'opponent_f','HG':'goals_f'}),\n",
    "           playing_stat23[['Away','Home','AG']].assign(home_f=0).rename(\n",
    "            columns={'Away':'team_f', 'Home':'opponent_f','AG':'goals_f'})])\n",
    "\n",
    "poisson_model_full_match = smf.glm(formula=\"goals_f ~ home_f + team_f + opponent_f\", data=goal_model_data_full_match, \n",
    "                        family=sm.families.Poisson()).fit()\n",
    "\n",
    "# Chances count\n",
    "for i in  range(Schedule_SWZ.index.values.min(),Schedule_SWZ.index.values.max()): \n",
    "    try:  \n",
    "        Ch1_full_time=poisson_model_full_match.predict(pd.DataFrame(data={'team_f': Schedule_SWZ['Home'][i], 'opponent_f': Schedule_SWZ['Away'][i],\n",
    "                                      'home_f':1},index=[1]))\n",
    "        Ch2_full_time=poisson_model_full_match.predict(pd.DataFrame(data={'team_f': Schedule_SWZ['Away'][i], 'opponent_f': Schedule_SWZ['Home'][i],\n",
    "                                       'home_f':0},index=[1]))\n",
    "        \n",
    "        Results=Results.append({'Div':Schedule_SWZ['Country'][i], 'Date':Schedule_SWZ['Date'][i],'Time':Schedule_SWZ['Time'][i],'Home':Schedule_SWZ['Home'][i],\n",
    "                                'Away':Schedule_SWZ['Away'][i],\n",
    "                                'Total_Chance':Ch1_full_time[1]+Ch2_full_time[1],'HT_Chance_total':Ch1_full_time[1], 'AT_Chance_total':Ch2_full_time[1],\n",
    "                                'Diff_total':Ch1_full_time[1]-Ch2_full_time[1]},ignore_index=True)\n",
    "        \n",
    "            \n",
    "    except Exception:\n",
    "        k=1"
   ]
  },
  {
   "cell_type": "code",
   "execution_count": 53,
   "metadata": {},
   "outputs": [],
   "source": [
    "#Part USA\n",
    "playing_stat24=pd.read_csv(loc + 'USA.csv')\n",
    "playing_stat24 = playing_stat24[columns]\n",
    "playing_stat24=playing_stat24.dropna()"
   ]
  },
  {
   "cell_type": "code",
   "execution_count": 54,
   "metadata": {},
   "outputs": [],
   "source": [
    "# USA \n",
    "goal_model_data_full_match = pd.concat([playing_stat24[['Home','Away','HG']].assign(home_f=1).rename(\n",
    "            columns={'Home':'team_f', 'Away':'opponent_f','HG':'goals_f'}),\n",
    "           playing_stat24[['Away','Home','AG']].assign(home_f=0).rename(\n",
    "            columns={'Away':'team_f', 'Home':'opponent_f','AG':'goals_f'})])\n",
    "\n",
    "poisson_model_full_match = smf.glm(formula=\"goals_f ~ home_f + team_f + opponent_f\", data=goal_model_data_full_match, \n",
    "                        family=sm.families.Poisson()).fit()\n",
    "\n",
    "# Chances count\n",
    "for i in  range(Schedule_USA.index.values.min(),Schedule_USA.index.values.max()): \n",
    "    try:  \n",
    "        Ch1_full_time=poisson_model_full_match.predict(pd.DataFrame(data={'team_f': Schedule_USA['Home'][i], 'opponent_f': Schedule_USA['Away'][i],\n",
    "                                      'home_f':1},index=[1]))\n",
    "        Ch2_full_time=poisson_model_full_match.predict(pd.DataFrame(data={'team_f': Schedule_USA['Away'][i], 'opponent_f': Schedule_USA['Home'][i],\n",
    "                                       'home_f':0},index=[1]))\n",
    "        \n",
    "        Results=Results.append({'Div':Schedule_USA['Country'][i], 'Date':Schedule_USA['Date'][i],'Time':Schedule_USA['Time'][i],'Home':Schedule_USA['Home'][i],\n",
    "                                'Away':Schedule_USA['Away'][i],\n",
    "                                'Total_Chance':Ch1_full_time[1]+Ch2_full_time[1],'HT_Chance_total':Ch1_full_time[1], 'AT_Chance_total':Ch2_full_time[1],\n",
    "                                'Diff_total':Ch1_full_time[1]-Ch2_full_time[1]},ignore_index=True)\n",
    "        \n",
    "            \n",
    "    except Exception:\n",
    "        k=1"
   ]
  },
  {
   "cell_type": "code",
   "execution_count": 55,
   "metadata": {},
   "outputs": [],
   "source": [
    "Schedule=Schedule[['Country', 'Date', 'Time', 'Home', 'Away', 'HG', 'AG','AvgH','AvgD','AvgA']]\n",
    "Schedule['FTR']=Schedule['HG']+Schedule['AG']\n",
    "Schedule['For_join']=Schedule['Home']+Schedule['Away']+Schedule['Date'].dt.strftime('%Y-%m-%d')"
   ]
  },
  {
   "cell_type": "code",
   "execution_count": 56,
   "metadata": {},
   "outputs": [],
   "source": [
    "Schedule_join=Schedule[['For_join','HG','AG','FTR','AvgH','AvgD','AvgA']]"
   ]
  },
  {
   "cell_type": "code",
   "execution_count": 57,
   "metadata": {},
   "outputs": [],
   "source": [
    "Results=Results[['Div', 'Date','Home','Away',\n",
    "                 'Total_Chance', 'HT_Chance_total','AT_Chance_total','Diff_total']]\n",
    "Results['For_join']=Results['Home']+Results['Away']+Results['Date'].dt.strftime('%Y-%m-%d')"
   ]
  },
  {
   "cell_type": "code",
   "execution_count": 58,
   "metadata": {},
   "outputs": [],
   "source": [
    "Results_join=Results[['For_join','Div', 'Date','Home','Away',\n",
    "                 'Total_Chance', 'HT_Chance_total','AT_Chance_total','Diff_total']]"
   ]
  },
  {
   "cell_type": "code",
   "execution_count": 59,
   "metadata": {},
   "outputs": [
    {
     "name": "stdout",
     "output_type": "stream",
     "text": [
      "<class 'pandas.core.frame.DataFrame'>\n",
      "RangeIndex: 11139 entries, 0 to 11138\n",
      "Data columns (total 7 columns):\n",
      "For_join    11139 non-null object\n",
      "HG          11139 non-null int64\n",
      "AG          11139 non-null int64\n",
      "FTR         11139 non-null int64\n",
      "AvgH        11139 non-null float64\n",
      "AvgD        11139 non-null float64\n",
      "AvgA        11139 non-null float64\n",
      "dtypes: float64(3), int64(3), object(1)\n",
      "memory usage: 609.2+ KB\n"
     ]
    }
   ],
   "source": [
    "Schedule_join.info()"
   ]
  },
  {
   "cell_type": "code",
   "execution_count": 60,
   "metadata": {},
   "outputs": [
    {
     "name": "stdout",
     "output_type": "stream",
     "text": [
      "<class 'pandas.core.frame.DataFrame'>\n",
      "RangeIndex: 11123 entries, 0 to 11122\n",
      "Data columns (total 9 columns):\n",
      "For_join           11123 non-null object\n",
      "Div                11123 non-null object\n",
      "Date               11123 non-null datetime64[ns]\n",
      "Home               11123 non-null object\n",
      "Away               11123 non-null object\n",
      "Total_Chance       11123 non-null float64\n",
      "HT_Chance_total    11123 non-null float64\n",
      "AT_Chance_total    11123 non-null float64\n",
      "Diff_total         11123 non-null float64\n",
      "dtypes: datetime64[ns](1), float64(4), object(4)\n",
      "memory usage: 782.2+ KB\n"
     ]
    }
   ],
   "source": [
    "Results_join.info()"
   ]
  },
  {
   "cell_type": "code",
   "execution_count": 61,
   "metadata": {},
   "outputs": [],
   "source": [
    "Results_new=pd.DataFrame()"
   ]
  },
  {
   "cell_type": "code",
   "execution_count": 62,
   "metadata": {},
   "outputs": [],
   "source": [
    "Results_new=Results_join.merge(Schedule_join, how='inner')"
   ]
  },
  {
   "cell_type": "code",
   "execution_count": 65,
   "metadata": {},
   "outputs": [
    {
     "data": {
      "text/html": [
       "<div>\n",
       "<style scoped>\n",
       "    .dataframe tbody tr th:only-of-type {\n",
       "        vertical-align: middle;\n",
       "    }\n",
       "\n",
       "    .dataframe tbody tr th {\n",
       "        vertical-align: top;\n",
       "    }\n",
       "\n",
       "    .dataframe thead th {\n",
       "        text-align: right;\n",
       "    }\n",
       "</style>\n",
       "<table border=\"1\" class=\"dataframe\">\n",
       "  <thead>\n",
       "    <tr style=\"text-align: right;\">\n",
       "      <th></th>\n",
       "      <th>For_join</th>\n",
       "      <th>Div</th>\n",
       "      <th>Date</th>\n",
       "      <th>Home</th>\n",
       "      <th>Away</th>\n",
       "      <th>Total_Chance</th>\n",
       "      <th>HT_Chance_total</th>\n",
       "      <th>AT_Chance_total</th>\n",
       "      <th>Diff_total</th>\n",
       "      <th>HG</th>\n",
       "      <th>AG</th>\n",
       "      <th>FTR</th>\n",
       "      <th>AvgH</th>\n",
       "      <th>AvgD</th>\n",
       "      <th>AvgA</th>\n",
       "    </tr>\n",
       "  </thead>\n",
       "  <tbody>\n",
       "    <tr>\n",
       "      <th>0</th>\n",
       "      <td>TigreVelez Sarsfield2017-08-25</td>\n",
       "      <td>Argentina</td>\n",
       "      <td>2017-08-25</td>\n",
       "      <td>Tigre</td>\n",
       "      <td>Velez Sarsfield</td>\n",
       "      <td>2.424310</td>\n",
       "      <td>1.261483</td>\n",
       "      <td>1.162827</td>\n",
       "      <td>0.098656</td>\n",
       "      <td>0</td>\n",
       "      <td>3</td>\n",
       "      <td>3</td>\n",
       "      <td>2.36</td>\n",
       "      <td>3.12</td>\n",
       "      <td>3.06</td>\n",
       "    </tr>\n",
       "    <tr>\n",
       "      <th>1</th>\n",
       "      <td>BanfieldBelgrano2017-08-26</td>\n",
       "      <td>Argentina</td>\n",
       "      <td>2017-08-26</td>\n",
       "      <td>Banfield</td>\n",
       "      <td>Belgrano</td>\n",
       "      <td>2.030000</td>\n",
       "      <td>1.177075</td>\n",
       "      <td>0.852925</td>\n",
       "      <td>0.324150</td>\n",
       "      <td>2</td>\n",
       "      <td>1</td>\n",
       "      <td>3</td>\n",
       "      <td>2.06</td>\n",
       "      <td>3.18</td>\n",
       "      <td>3.68</td>\n",
       "    </tr>\n",
       "    <tr>\n",
       "      <th>2</th>\n",
       "      <td>Defensa y JusticiaGimnasia L.P.2017-08-26</td>\n",
       "      <td>Argentina</td>\n",
       "      <td>2017-08-26</td>\n",
       "      <td>Defensa y Justicia</td>\n",
       "      <td>Gimnasia L.P.</td>\n",
       "      <td>2.202583</td>\n",
       "      <td>1.358368</td>\n",
       "      <td>0.844215</td>\n",
       "      <td>0.514152</td>\n",
       "      <td>4</td>\n",
       "      <td>4</td>\n",
       "      <td>8</td>\n",
       "      <td>1.73</td>\n",
       "      <td>3.29</td>\n",
       "      <td>5.33</td>\n",
       "    </tr>\n",
       "    <tr>\n",
       "      <th>3</th>\n",
       "      <td>Colon Santa FERosario Central2017-08-26</td>\n",
       "      <td>Argentina</td>\n",
       "      <td>2017-08-26</td>\n",
       "      <td>Colon Santa FE</td>\n",
       "      <td>Rosario Central</td>\n",
       "      <td>2.139907</td>\n",
       "      <td>1.118611</td>\n",
       "      <td>1.021296</td>\n",
       "      <td>0.097315</td>\n",
       "      <td>1</td>\n",
       "      <td>1</td>\n",
       "      <td>2</td>\n",
       "      <td>2.73</td>\n",
       "      <td>3.02</td>\n",
       "      <td>2.67</td>\n",
       "    </tr>\n",
       "    <tr>\n",
       "      <th>4</th>\n",
       "      <td>Talleres CordobaLanus2017-08-26</td>\n",
       "      <td>Argentina</td>\n",
       "      <td>2017-08-26</td>\n",
       "      <td>Talleres Cordoba</td>\n",
       "      <td>Lanus</td>\n",
       "      <td>2.018108</td>\n",
       "      <td>1.154365</td>\n",
       "      <td>0.863743</td>\n",
       "      <td>0.290623</td>\n",
       "      <td>5</td>\n",
       "      <td>2</td>\n",
       "      <td>7</td>\n",
       "      <td>2.31</td>\n",
       "      <td>2.97</td>\n",
       "      <td>3.31</td>\n",
       "    </tr>\n",
       "  </tbody>\n",
       "</table>\n",
       "</div>"
      ],
      "text/plain": [
       "                                    For_join        Div       Date  \\\n",
       "0             TigreVelez Sarsfield2017-08-25  Argentina 2017-08-25   \n",
       "1                 BanfieldBelgrano2017-08-26  Argentina 2017-08-26   \n",
       "2  Defensa y JusticiaGimnasia L.P.2017-08-26  Argentina 2017-08-26   \n",
       "3    Colon Santa FERosario Central2017-08-26  Argentina 2017-08-26   \n",
       "4            Talleres CordobaLanus2017-08-26  Argentina 2017-08-26   \n",
       "\n",
       "                 Home             Away  Total_Chance  HT_Chance_total  \\\n",
       "0               Tigre  Velez Sarsfield      2.424310         1.261483   \n",
       "1            Banfield         Belgrano      2.030000         1.177075   \n",
       "2  Defensa y Justicia    Gimnasia L.P.      2.202583         1.358368   \n",
       "3      Colon Santa FE  Rosario Central      2.139907         1.118611   \n",
       "4    Talleres Cordoba            Lanus      2.018108         1.154365   \n",
       "\n",
       "   AT_Chance_total  Diff_total  HG  AG  FTR  AvgH  AvgD  AvgA  \n",
       "0         1.162827    0.098656   0   3    3  2.36  3.12  3.06  \n",
       "1         0.852925    0.324150   2   1    3  2.06  3.18  3.68  \n",
       "2         0.844215    0.514152   4   4    8  1.73  3.29  5.33  \n",
       "3         1.021296    0.097315   1   1    2  2.73  3.02  2.67  \n",
       "4         0.863743    0.290623   5   2    7  2.31  2.97  3.31  "
      ]
     },
     "execution_count": 65,
     "metadata": {},
     "output_type": "execute_result"
    }
   ],
   "source": [
    "Results_new.head()"
   ]
  },
  {
   "cell_type": "code",
   "execution_count": 67,
   "metadata": {},
   "outputs": [
    {
     "data": {
      "text/plain": [
       "5580"
      ]
     },
     "execution_count": 67,
     "metadata": {},
     "output_type": "execute_result"
    }
   ],
   "source": [
    "Results_new[Results_new.FTR>2].Div.count()"
   ]
  },
  {
   "cell_type": "code",
   "execution_count": null,
   "metadata": {},
   "outputs": [],
   "source": []
  },
  {
   "cell_type": "code",
   "execution_count": null,
   "metadata": {},
   "outputs": [],
   "source": []
  },
  {
   "cell_type": "code",
   "execution_count": 63,
   "metadata": {},
   "outputs": [
    {
     "data": {
      "text/plain": [
       "For_join           11123\n",
       "Div                11123\n",
       "Date               11123\n",
       "Home               11123\n",
       "Away               11123\n",
       "Total_Chance       11123\n",
       "HT_Chance_total    11123\n",
       "AT_Chance_total    11123\n",
       "Diff_total         11123\n",
       "HG                 11123\n",
       "AG                 11123\n",
       "FTR                11123\n",
       "AvgH               11123\n",
       "AvgD               11123\n",
       "AvgA               11123\n",
       "dtype: int64"
      ]
     },
     "execution_count": 63,
     "metadata": {},
     "output_type": "execute_result"
    }
   ],
   "source": [
    "Res_both=Results_new[(Results_new['HT_Chance_total']>1.2)&(Results_new['AT_Chance_total']>1.2)]\n",
    "Results_new.count()"
   ]
  },
  {
   "cell_type": "code",
   "execution_count": 64,
   "metadata": {},
   "outputs": [
    {
     "data": {
      "text/plain": [
       "2621"
      ]
     },
     "execution_count": 64,
     "metadata": {},
     "output_type": "execute_result"
    }
   ],
   "source": [
    "Res_both['Div'].count()"
   ]
  },
  {
   "cell_type": "code",
   "execution_count": 248,
   "metadata": {},
   "outputs": [
    {
     "data": {
      "text/plain": [
       "For_join           9236\n",
       "Div                9236\n",
       "Date               9236\n",
       "Home               9236\n",
       "Away               9236\n",
       "Total_Chance       9236\n",
       "HT_Chance_total    9236\n",
       "AT_Chance_total    9236\n",
       "Diff_total         9236\n",
       "HG                 9236\n",
       "AG                 9236\n",
       "FTR                9236\n",
       "AvgH               9236\n",
       "AvgD               9236\n",
       "AvgA               9236\n",
       "dtype: int64"
      ]
     },
     "execution_count": 248,
     "metadata": {},
     "output_type": "execute_result"
    }
   ],
   "source": [
    "Res_more_25=Results_new[Results_new['Total_Chance']>2.3]\n",
    "Res_more_25.count()"
   ]
  },
  {
   "cell_type": "code",
   "execution_count": 249,
   "metadata": {},
   "outputs": [
    {
     "data": {
      "text/plain": [
       "For_join           7132\n",
       "Div                7132\n",
       "Date               7132\n",
       "Home               7132\n",
       "Away               7132\n",
       "Total_Chance       7132\n",
       "HT_Chance_total    7132\n",
       "AT_Chance_total    7132\n",
       "Diff_total         7132\n",
       "HG                 7132\n",
       "AG                 7132\n",
       "FTR                7132\n",
       "AvgH               7132\n",
       "AvgD               7132\n",
       "AvgA               7132\n",
       "dtype: int64"
      ]
     },
     "execution_count": 249,
     "metadata": {},
     "output_type": "execute_result"
    }
   ],
   "source": [
    "Res_more_25[Res_more_25.FTR>1].count()"
   ]
  },
  {
   "cell_type": "code",
   "execution_count": 250,
   "metadata": {},
   "outputs": [],
   "source": [
    "# regression models"
   ]
  },
  {
   "cell_type": "code",
   "execution_count": 251,
   "metadata": {},
   "outputs": [],
   "source": [
    "from sklearn import preprocessing, svm, metrics, tree, decomposition, svm \n",
    "from sklearn.ensemble import RandomForestClassifier, ExtraTreesClassifier, GradientBoostingClassifier, AdaBoostClassifier \n",
    "from sklearn.linear_model import LogisticRegression, Perceptron, SGDClassifier, OrthogonalMatchingPursuit, RandomizedLogisticRegression \n",
    "from sklearn.neighbors.nearest_centroid import NearestCentroid \n",
    "from sklearn.naive_bayes import GaussianNB, MultinomialNB, BernoulliNB \n",
    "from sklearn.tree import DecisionTreeClassifier \n",
    "from sklearn.neighbors import KNeighborsClassifier\n",
    "\n",
    "from sklearn.linear_model import LinearRegression\n",
    "from sklearn.ensemble import RandomForestRegressor\n",
    "from sklearn.ensemble import GradientBoostingRegressor\n",
    "\n",
    "from sklearn.model_selection import train_test_split"
   ]
  },
  {
   "cell_type": "code",
   "execution_count": 252,
   "metadata": {},
   "outputs": [],
   "source": [
    "#full time goal prediction model\n",
    "X=Results_new[['Total_Chance', 'HT_Chance_total','AT_Chance_total','Diff_total']]\n",
    "Y=Results_new['FTR']\n",
    "X_train, X_test, Y_train, Y_test = train_test_split(X, Y, test_size=0.10, random_state=27)"
   ]
  },
  {
   "cell_type": "code",
   "execution_count": 253,
   "metadata": {},
   "outputs": [
    {
     "data": {
      "text/plain": [
       "LinearRegression(copy_X=True, fit_intercept=True, n_jobs=None,\n",
       "         normalize=False)"
      ]
     },
     "execution_count": 253,
     "metadata": {},
     "output_type": "execute_result"
    }
   ],
   "source": [
    "linreg = LinearRegression()\n",
    "linreg.fit(X_train, Y_train)"
   ]
  },
  {
   "cell_type": "code",
   "execution_count": 254,
   "metadata": {},
   "outputs": [
    {
     "data": {
      "text/plain": [
       "1113"
      ]
     },
     "execution_count": 254,
     "metadata": {},
     "output_type": "execute_result"
    }
   ],
   "source": [
    "linreg_prediction=linreg.predict(X_test)\n",
    "Y_test.count()"
   ]
  },
  {
   "cell_type": "code",
   "execution_count": 256,
   "metadata": {},
   "outputs": [
    {
     "name": "stdout",
     "output_type": "stream",
     "text": [
      "Accuracy= 0.6698113207547169\n",
      "Bets= 106\n"
     ]
    }
   ],
   "source": [
    "cnt=0\n",
    "total_bets=0\n",
    "for i in range(0,len(linreg_prediction)):\n",
    "    if (linreg_prediction[i]>3.2): total_bets=total_bets+1\n",
    "    if (linreg_prediction[i]>3.2 and Y_test.values[i]>2):\n",
    "        cnt=cnt+1\n",
    "print('Accuracy=',cnt/total_bets)\n",
    "print('Bets=', total_bets)"
   ]
  },
  {
   "cell_type": "code",
   "execution_count": 257,
   "metadata": {},
   "outputs": [
    {
     "data": {
      "text/plain": [
       "RandomForestRegressor(bootstrap=True, criterion='mse', max_depth=2,\n",
       "           max_features='auto', max_leaf_nodes=None,\n",
       "           min_impurity_decrease=0.0, min_impurity_split=None,\n",
       "           min_samples_leaf=1, min_samples_split=2,\n",
       "           min_weight_fraction_leaf=0.0, n_estimators=100, n_jobs=None,\n",
       "           oob_score=False, random_state=0, verbose=0, warm_start=False)"
      ]
     },
     "execution_count": 257,
     "metadata": {},
     "output_type": "execute_result"
    }
   ],
   "source": [
    "regr = RandomForestRegressor(max_depth=2, random_state=0,\n",
    "                           n_estimators=100)\n",
    "regr.fit(X_train, Y_train) "
   ]
  },
  {
   "cell_type": "code",
   "execution_count": 258,
   "metadata": {},
   "outputs": [],
   "source": [
    "regr_prediction=regr.predict(X_test)"
   ]
  },
  {
   "cell_type": "code",
   "execution_count": 260,
   "metadata": {},
   "outputs": [
    {
     "name": "stdout",
     "output_type": "stream",
     "text": [
      "Accuracy= 0.673469387755102\n",
      "Bets= 98\n"
     ]
    }
   ],
   "source": [
    "cnt=0\n",
    "total_bets=0\n",
    "for i in range(0,len(regr_prediction)):\n",
    "    if (regr_prediction[i]>3.2): total_bets=total_bets+1\n",
    "    if (regr_prediction[i]>3.2 and Y_test.values[i]>2):\n",
    "        cnt=cnt+1\n",
    "print('Accuracy=',cnt/total_bets)\n",
    "print('Bets=', total_bets)"
   ]
  },
  {
   "cell_type": "code",
   "execution_count": 261,
   "metadata": {},
   "outputs": [
    {
     "data": {
      "text/plain": [
       "GradientBoostingRegressor(alpha=0.9, criterion='friedman_mse', init=None,\n",
       "             learning_rate=0.1, loss='ls', max_depth=3, max_features=None,\n",
       "             max_leaf_nodes=None, min_impurity_decrease=0.0,\n",
       "             min_impurity_split=None, min_samples_leaf=1,\n",
       "             min_samples_split=2, min_weight_fraction_leaf=0.0,\n",
       "             n_estimators=100, n_iter_no_change=None, presort='auto',\n",
       "             random_state=None, subsample=1.0, tol=0.0001,\n",
       "             validation_fraction=0.1, verbose=0, warm_start=False)"
      ]
     },
     "execution_count": 261,
     "metadata": {},
     "output_type": "execute_result"
    }
   ],
   "source": [
    "GBR=GradientBoostingRegressor()\n",
    "GBR.fit(X_train, Y_train)"
   ]
  },
  {
   "cell_type": "code",
   "execution_count": 262,
   "metadata": {},
   "outputs": [],
   "source": [
    "GBR_prediction=GBR.predict(X_test)"
   ]
  },
  {
   "cell_type": "code",
   "execution_count": 264,
   "metadata": {},
   "outputs": [
    {
     "name": "stdout",
     "output_type": "stream",
     "text": [
      "Accuracy= 0.6938775510204082\n",
      "Bets= 98\n"
     ]
    }
   ],
   "source": [
    "cnt=0\n",
    "total_bets=0\n",
    "for i in range(0,len(GBR_prediction)):\n",
    "    if (GBR_prediction[i]>3.2): total_bets=total_bets+1\n",
    "    if (GBR_prediction[i]>3.2 and Y_test.values[i]>2):\n",
    "        cnt=cnt+1\n",
    "print('Accuracy=',cnt/total_bets)\n",
    "print('Bets=', total_bets)"
   ]
  },
  {
   "cell_type": "code",
   "execution_count": 265,
   "metadata": {},
   "outputs": [
    {
     "data": {
      "text/html": [
       "<div>\n",
       "<style scoped>\n",
       "    .dataframe tbody tr th:only-of-type {\n",
       "        vertical-align: middle;\n",
       "    }\n",
       "\n",
       "    .dataframe tbody tr th {\n",
       "        vertical-align: top;\n",
       "    }\n",
       "\n",
       "    .dataframe thead th {\n",
       "        text-align: right;\n",
       "    }\n",
       "</style>\n",
       "<table border=\"1\" class=\"dataframe\">\n",
       "  <thead>\n",
       "    <tr style=\"text-align: right;\">\n",
       "      <th></th>\n",
       "      <th>Unnamed: 0</th>\n",
       "      <th>Unnamed: 0.1</th>\n",
       "      <th>Div</th>\n",
       "      <th>Date</th>\n",
       "      <th>Time</th>\n",
       "      <th>Home</th>\n",
       "      <th>Away</th>\n",
       "      <th>TCFT</th>\n",
       "      <th>TCFT_HT</th>\n",
       "      <th>TCFT_AT</th>\n",
       "      <th>...</th>\n",
       "      <th>Bet 0,5 more</th>\n",
       "      <th>Kef</th>\n",
       "      <th>Bet 1,5 more</th>\n",
       "      <th>Kef.1</th>\n",
       "      <th>Bey 2,5 more</th>\n",
       "      <th>Kef.2</th>\n",
       "      <th>Bey 3,5 less</th>\n",
       "      <th>Kef.3</th>\n",
       "      <th>Bey 4,5 less</th>\n",
       "      <th>Kef.4</th>\n",
       "    </tr>\n",
       "  </thead>\n",
       "  <tbody>\n",
       "    <tr>\n",
       "      <th>0</th>\n",
       "      <td>0</td>\n",
       "      <td>11</td>\n",
       "      <td>Ireland</td>\n",
       "      <td>11/10/2019</td>\n",
       "      <td>19:45</td>\n",
       "      <td>Bohemians</td>\n",
       "      <td>Dundalk</td>\n",
       "      <td>2.441883e+00</td>\n",
       "      <td>8.882777e-01</td>\n",
       "      <td>1.553606e+00</td>\n",
       "      <td>...</td>\n",
       "      <td>NaN</td>\n",
       "      <td>NaN</td>\n",
       "      <td>1.0</td>\n",
       "      <td>1.48</td>\n",
       "      <td>NaN</td>\n",
       "      <td>NaN</td>\n",
       "      <td>NaN</td>\n",
       "      <td>NaN</td>\n",
       "      <td>NaN</td>\n",
       "      <td>NaN</td>\n",
       "    </tr>\n",
       "    <tr>\n",
       "      <th>1</th>\n",
       "      <td>1</td>\n",
       "      <td>12</td>\n",
       "      <td>Ireland</td>\n",
       "      <td>11/10/2019</td>\n",
       "      <td>19:45</td>\n",
       "      <td>Cork City</td>\n",
       "      <td>UC Dublin</td>\n",
       "      <td>3.325587e+00</td>\n",
       "      <td>2.667960e+00</td>\n",
       "      <td>6.576267e-01</td>\n",
       "      <td>...</td>\n",
       "      <td>NaN</td>\n",
       "      <td>NaN</td>\n",
       "      <td>NaN</td>\n",
       "      <td>NaN</td>\n",
       "      <td>1.0</td>\n",
       "      <td>1.95</td>\n",
       "      <td>NaN</td>\n",
       "      <td>NaN</td>\n",
       "      <td>NaN</td>\n",
       "      <td>NaN</td>\n",
       "    </tr>\n",
       "    <tr>\n",
       "      <th>2</th>\n",
       "      <td>2</td>\n",
       "      <td>13</td>\n",
       "      <td>Ireland</td>\n",
       "      <td>11/10/2019</td>\n",
       "      <td>19:45</td>\n",
       "      <td>Longford</td>\n",
       "      <td>Cabinteely</td>\n",
       "      <td>2.787413e-09</td>\n",
       "      <td>1.675868e-09</td>\n",
       "      <td>1.111545e-09</td>\n",
       "      <td>...</td>\n",
       "      <td>NaN</td>\n",
       "      <td>NaN</td>\n",
       "      <td>NaN</td>\n",
       "      <td>NaN</td>\n",
       "      <td>NaN</td>\n",
       "      <td>NaN</td>\n",
       "      <td>NaN</td>\n",
       "      <td>NaN</td>\n",
       "      <td>NaN</td>\n",
       "      <td>NaN</td>\n",
       "    </tr>\n",
       "    <tr>\n",
       "      <th>3</th>\n",
       "      <td>3</td>\n",
       "      <td>14</td>\n",
       "      <td>Ireland</td>\n",
       "      <td>11/10/2019</td>\n",
       "      <td>20:00</td>\n",
       "      <td>Shamrock Rovers</td>\n",
       "      <td>Finn Harps</td>\n",
       "      <td>2.599314e+00</td>\n",
       "      <td>2.060031e+00</td>\n",
       "      <td>5.392836e-01</td>\n",
       "      <td>...</td>\n",
       "      <td>NaN</td>\n",
       "      <td>NaN</td>\n",
       "      <td>1.0</td>\n",
       "      <td>0.00</td>\n",
       "      <td>NaN</td>\n",
       "      <td>NaN</td>\n",
       "      <td>NaN</td>\n",
       "      <td>NaN</td>\n",
       "      <td>NaN</td>\n",
       "      <td>NaN</td>\n",
       "    </tr>\n",
       "    <tr>\n",
       "      <th>4</th>\n",
       "      <td>4</td>\n",
       "      <td>0</td>\n",
       "      <td>Brazil</td>\n",
       "      <td>12/10/2019</td>\n",
       "      <td>21:00</td>\n",
       "      <td>Goias</td>\n",
       "      <td>CSA</td>\n",
       "      <td>2.174719e+00</td>\n",
       "      <td>1.677487e+00</td>\n",
       "      <td>4.972319e-01</td>\n",
       "      <td>...</td>\n",
       "      <td>1.0</td>\n",
       "      <td>1.11</td>\n",
       "      <td>NaN</td>\n",
       "      <td>NaN</td>\n",
       "      <td>NaN</td>\n",
       "      <td>NaN</td>\n",
       "      <td>NaN</td>\n",
       "      <td>NaN</td>\n",
       "      <td>NaN</td>\n",
       "      <td>NaN</td>\n",
       "    </tr>\n",
       "  </tbody>\n",
       "</table>\n",
       "<p>5 rows × 22 columns</p>\n",
       "</div>"
      ],
      "text/plain": [
       "   Unnamed: 0  Unnamed: 0.1      Div        Date   Time             Home  \\\n",
       "0           0            11  Ireland  11/10/2019  19:45        Bohemians   \n",
       "1           1            12  Ireland  11/10/2019  19:45        Cork City   \n",
       "2           2            13  Ireland  11/10/2019  19:45         Longford   \n",
       "3           3            14  Ireland  11/10/2019  20:00  Shamrock Rovers   \n",
       "4           4             0   Brazil  12/10/2019  21:00            Goias   \n",
       "\n",
       "         Away          TCFT       TCFT_HT       TCFT_AT  ...  Bet 0,5 more  \\\n",
       "0     Dundalk  2.441883e+00  8.882777e-01  1.553606e+00  ...           NaN   \n",
       "1   UC Dublin  3.325587e+00  2.667960e+00  6.576267e-01  ...           NaN   \n",
       "2  Cabinteely  2.787413e-09  1.675868e-09  1.111545e-09  ...           NaN   \n",
       "3  Finn Harps  2.599314e+00  2.060031e+00  5.392836e-01  ...           NaN   \n",
       "4         CSA  2.174719e+00  1.677487e+00  4.972319e-01  ...           1.0   \n",
       "\n",
       "    Kef  Bet 1,5 more  Kef.1  Bey 2,5 more  Kef.2  Bey 3,5 less  Kef.3  \\\n",
       "0   NaN           1.0   1.48           NaN    NaN           NaN    NaN   \n",
       "1   NaN           NaN    NaN           1.0   1.95           NaN    NaN   \n",
       "2   NaN           NaN    NaN           NaN    NaN           NaN    NaN   \n",
       "3   NaN           1.0   0.00           NaN    NaN           NaN    NaN   \n",
       "4  1.11           NaN    NaN           NaN    NaN           NaN    NaN   \n",
       "\n",
       "   Bey 4,5 less  Kef.4  \n",
       "0           NaN    NaN  \n",
       "1           NaN    NaN  \n",
       "2           NaN    NaN  \n",
       "3           NaN    NaN  \n",
       "4           NaN    NaN  \n",
       "\n",
       "[5 rows x 22 columns]"
      ]
     },
     "execution_count": 265,
     "metadata": {},
     "output_type": "execute_result"
    }
   ],
   "source": [
    "# Full time for 2,5 more\n",
    "data_p=pd.read_excel('Results_FULL_output_other.xlsx')\n",
    "data_p.head()"
   ]
  },
  {
   "cell_type": "code",
   "execution_count": 266,
   "metadata": {},
   "outputs": [],
   "source": [
    "data_prediction=data_p[['TCFT', 'TCFT_HT','TCFT_AT','Diff_total']]"
   ]
  },
  {
   "cell_type": "code",
   "execution_count": 267,
   "metadata": {},
   "outputs": [],
   "source": [
    "data_p['Prediction_1']=linreg.predict(data_prediction)\n",
    "data_p['Prediction_2']=regr.predict(data_prediction)\n",
    "data_p['Prediction_3']=GBR.predict(data_prediction)\n",
    "data_p['Prediction']=(data_p['Prediction_1']+data_p['Prediction_2']+data_p['Prediction_3'])/3"
   ]
  },
  {
   "cell_type": "code",
   "execution_count": 74,
   "metadata": {},
   "outputs": [],
   "source": [
    "data_p.to_excel(\"Results_FULL_output_Other.xlsx\")"
   ]
  },
  {
   "cell_type": "code",
   "execution_count": null,
   "metadata": {},
   "outputs": [],
   "source": []
  },
  {
   "cell_type": "code",
   "execution_count": 268,
   "metadata": {},
   "outputs": [
    {
     "name": "stdout",
     "output_type": "stream",
     "text": [
      "       Div        Date       Home       Away  Prediction\n",
      "1  Ireland  11/10/2019  Cork City  UC Dublin    3.303907\n"
     ]
    }
   ],
   "source": [
    "data_25=data_p[['Div','Date','Home','Away','Prediction']]\n",
    "print(data_25[data_25.Prediction>3.1])"
   ]
  },
  {
   "cell_type": "code",
   "execution_count": 68,
   "metadata": {},
   "outputs": [],
   "source": [
    "#Prediction 3,5 less"
   ]
  },
  {
   "cell_type": "code",
   "execution_count": 69,
   "metadata": {},
   "outputs": [
    {
     "name": "stdout",
     "output_type": "stream",
     "text": [
      "Accuracy= 0.7410102739726028\n",
      "Bets= 2336\n"
     ]
    }
   ],
   "source": [
    "cnt=0\n",
    "total_bets=0\n",
    "for i in range(0,len(linreg_prediction)):\n",
    "    if (linreg_prediction[i]<3): total_bets=total_bets+1\n",
    "    if (linreg_prediction[i]<3 and Y_test.values[i]<4):\n",
    "        cnt=cnt+1\n",
    "print('Accuracy=',cnt/total_bets)\n",
    "print('Bets=', total_bets)"
   ]
  },
  {
   "cell_type": "code",
   "execution_count": 70,
   "metadata": {},
   "outputs": [
    {
     "name": "stdout",
     "output_type": "stream",
     "text": [
      "Accuracy= 0.7330424434748116\n",
      "Bets= 2521\n"
     ]
    }
   ],
   "source": [
    "cnt=0\n",
    "total_bets=0\n",
    "for i in range(0,len(regr_prediction)):\n",
    "    if (regr_prediction[i]<3): total_bets=total_bets+1\n",
    "    if (regr_prediction[i]<3 and Y_test.values[i]<4):\n",
    "        cnt=cnt+1\n",
    "print('Accuracy=',cnt/total_bets)\n",
    "print('Bets=', total_bets)"
   ]
  },
  {
   "cell_type": "code",
   "execution_count": 71,
   "metadata": {},
   "outputs": [
    {
     "name": "stdout",
     "output_type": "stream",
     "text": [
      "Accuracy= 0.7478595890410958\n",
      "Bets= 2336\n"
     ]
    }
   ],
   "source": [
    "cnt=0\n",
    "total_bets=0\n",
    "for i in range(0,len(GBR_prediction)):\n",
    "    if (GBR_prediction[i]<3): total_bets=total_bets+1\n",
    "    if (GBR_prediction[i]<3 and Y_test.values[i]<4):\n",
    "        cnt=cnt+1\n",
    "print('Accuracy=',cnt/total_bets)\n",
    "print('Bets=', total_bets)"
   ]
  },
  {
   "cell_type": "code",
   "execution_count": 72,
   "metadata": {},
   "outputs": [
    {
     "name": "stdout",
     "output_type": "stream",
     "text": [
      "        Div        Date             Home             Away  Prediction\n",
      "0   Ireland  11/10/2019        Bohemians          Dundalk    2.397533\n",
      "2   Ireland  11/10/2019         Longford       Cabinteely    1.009943\n",
      "3   Ireland  11/10/2019  Shamrock Rovers       Finn Harps    2.783216\n",
      "4    Brazil  12/10/2019            Goias              CSA    2.152278\n",
      "5    Brazil  12/10/2019       Fluminense            Bahia    2.154616\n",
      "6    Brazil  13/10/2019        Palmeiras      Botafogo RJ    2.502998\n",
      "7    Brazil  13/10/2019     Athletico-PR      Flamengo RJ    2.499546\n",
      "8    Brazil  13/10/2019            Ceara             Avai    1.948366\n",
      "9    Brazil  13/10/2019    Internacional           Santos    2.102281\n",
      "10   Brazil  13/10/2019            Vasco        Fortaleza    2.486915\n",
      "11   Brazil  13/10/2019        Sao Paulo      Corinthians    1.974630\n",
      "12   Brazil  13/10/2019      Atletico-MG           Gremio    2.379911\n",
      "13   Brazil  13/10/2019   Chapecoense-SC         Cruzeiro    2.423364\n",
      "14    China  13/10/2019    Beijing Renhe  Chongqing Lifan    2.544685\n"
     ]
    }
   ],
   "source": [
    "print(data_25[data_25.Prediction<3])"
   ]
  },
  {
   "cell_type": "code",
   "execution_count": 73,
   "metadata": {},
   "outputs": [],
   "source": [
    "# https://github.com/dssg/johnson-county-ddj-public/blob/master/pipeline/modeling/models.py"
   ]
  },
  {
   "cell_type": "code",
   "execution_count": null,
   "metadata": {},
   "outputs": [],
   "source": []
  },
  {
   "cell_type": "code",
   "execution_count": 104,
   "metadata": {},
   "outputs": [
    {
     "name": "stdout",
     "output_type": "stream",
     "text": [
      "Accuracy= 0.7142857142857143\n",
      "Bets= 7\n"
     ]
    }
   ],
   "source": [
    "# First half 1,5 more\n",
    "cnt=0\n",
    "total_bets=0\n",
    "for i in range(0,len(linreg1_prediction)):\n",
    "    if (linreg1_prediction[i]>2): total_bets=total_bets+1\n",
    "    if (linreg1_prediction[i]>2 and Y1_test.values[i]>1):\n",
    "        cnt=cnt+1\n",
    "print('Accuracy=',cnt/total_bets)\n",
    "print('Bets=', total_bets)"
   ]
  },
  {
   "cell_type": "code",
   "execution_count": 105,
   "metadata": {},
   "outputs": [
    {
     "name": "stdout",
     "output_type": "stream",
     "text": [
      "Accuracy= 0.5\n",
      "Bets= 6\n"
     ]
    }
   ],
   "source": [
    "cnt=0\n",
    "total_bets=0\n",
    "for i in range(0,len(regr1_prediction)):\n",
    "    if (regr1_prediction[i]>2): total_bets=total_bets+1\n",
    "    if (regr1_prediction[i]>2 and Y1_test.values[i]>1):\n",
    "        cnt=cnt+1\n",
    "print('Accuracy=',cnt/total_bets)\n",
    "print('Bets=', total_bets)"
   ]
  },
  {
   "cell_type": "code",
   "execution_count": 106,
   "metadata": {},
   "outputs": [
    {
     "name": "stdout",
     "output_type": "stream",
     "text": [
      "Accuracy= 0.5\n",
      "Bets= 14\n"
     ]
    }
   ],
   "source": [
    "cnt=0\n",
    "total_bets=0\n",
    "for i in range(0,len(GBR1_prediction)):\n",
    "    if (GBR1_prediction[i]>2): total_bets=total_bets+1\n",
    "    if (GBR1_prediction[i]>2and Y1_test.values[i]>1):\n",
    "        cnt=cnt+1\n",
    "print('Accuracy=',cnt/total_bets)\n",
    "print('Bets=', total_bets)"
   ]
  },
  {
   "cell_type": "code",
   "execution_count": 107,
   "metadata": {},
   "outputs": [
    {
     "name": "stdout",
     "output_type": "stream",
     "text": [
      "Empty DataFrame\n",
      "Columns: [Div, Date, HomeTeam, AwayTeam, Prediction_first]\n",
      "Index: []\n"
     ]
    }
   ],
   "source": [
    "print(data_05_first[data_05_first.Prediction_first>2])"
   ]
  },
  {
   "cell_type": "code",
   "execution_count": 168,
   "metadata": {},
   "outputs": [],
   "source": [
    "# models regression\n",
    "logreg_clf = LogisticRegression(solver='liblinear')\n",
    "KNN_model = KNeighborsClassifier(n_neighbors=5)\n",
    "Forest_model=RandomForestClassifier(n_estimators=50, n_jobs=7)\n",
    "SVC_model=svm.SVC(kernel='linear', probability=True, random_state=0)\n",
    "Gradient_model = GradientBoostingClassifier(learning_rate=0.05, subsample=0.5, max_depth=6, n_estimators=10)\n",
    "tree_model =DecisionTreeClassifier()"
   ]
  },
  {
   "cell_type": "code",
   "execution_count": 169,
   "metadata": {},
   "outputs": [
    {
     "name": "stderr",
     "output_type": "stream",
     "text": [
      "C:\\Users\\vova_oderii\\Anaconda3\\lib\\site-packages\\sklearn\\linear_model\\logistic.py:460: FutureWarning: Default multi_class will be changed to 'auto' in 0.22. Specify the multi_class option to silence this warning.\n",
      "  \"this warning.\", FutureWarning)\n"
     ]
    },
    {
     "data": {
      "text/plain": [
       "DecisionTreeClassifier(class_weight=None, criterion='gini', max_depth=None,\n",
       "            max_features=None, max_leaf_nodes=None,\n",
       "            min_impurity_decrease=0.0, min_impurity_split=None,\n",
       "            min_samples_leaf=1, min_samples_split=2,\n",
       "            min_weight_fraction_leaf=0.0, presort=False, random_state=None,\n",
       "            splitter='best')"
      ]
     },
     "execution_count": 169,
     "metadata": {},
     "output_type": "execute_result"
    }
   ],
   "source": [
    "logreg_clf.fit(X_train, Y_train) \n",
    "KNN_model.fit(X_train, Y_train)\n",
    "Forest_model.fit(X_train, Y_train)\n",
    "SVC_model.fit(X_train, Y_train)\n",
    "Gradient_model.fit(X_train, Y_train)\n",
    "tree_model.fit(X_train, Y_train)"
   ]
  },
  {
   "cell_type": "code",
   "execution_count": 170,
   "metadata": {},
   "outputs": [],
   "source": [
    "logreg_prediction= logreg_clf.predict(X_test)\n",
    "KNN_prediction = KNN_model.predict(X_test)\n",
    "Forest_model_prediction= Forest_model.predict(X_test)\n",
    "SVC_model_prediction=SVC_model.predict(X_test)\n",
    "Gradient_model_prediction=Gradient_model.predict(X_test)\n",
    "tree_model_prediction=tree_model.predict(X_test)"
   ]
  },
  {
   "cell_type": "code",
   "execution_count": 171,
   "metadata": {},
   "outputs": [
    {
     "data": {
      "text/plain": [
       "array([0.86890766, 1.26305224, 1.27535742, 1.28781461, 1.57528092,\n",
       "       1.32555289, 1.47312537, 1.24765102, 1.21742085, 0.95219206,\n",
       "       0.81714456, 1.15298346, 0.77608302, 1.15847915, 1.01188499,\n",
       "       1.35634958, 2.33434403, 1.22252006, 1.47146935, 1.05965366,\n",
       "       2.14362135, 1.20495909, 1.92707743, 1.55510986, 1.12640807,\n",
       "       1.1366305 , 0.94615437, 1.15005719, 1.19717723, 1.01079599,\n",
       "       0.8250062 , 1.16085164, 1.16168172, 1.3529454 , 0.86248885,\n",
       "       1.07625885, 1.23785345, 0.90445156, 0.80718544, 1.23833747,\n",
       "       0.92633604, 0.98422553, 1.10548297, 1.18105426, 1.0339022 ,\n",
       "       1.0869474 , 1.45388354, 0.82846437, 1.15349869, 1.2078066 ,\n",
       "       1.56619576, 0.90711791, 1.28697487, 1.31555051, 1.20115779,\n",
       "       0.95956994, 1.0781381 , 0.95528484, 1.53243614, 1.05548827,\n",
       "       1.46041409, 0.74458489, 1.34341549, 0.82415215, 1.06114624,\n",
       "       1.46567538, 1.0045431 , 1.13965773, 0.79642354, 1.18785179,\n",
       "       1.17200187, 1.13912092, 1.09847849, 1.05329494, 2.05271603,\n",
       "       0.69185964, 0.66345238, 1.45473583, 0.99630548, 1.30855173,\n",
       "       1.17118491, 1.42360066, 1.27681382, 0.9939452 , 1.14815754,\n",
       "       1.34884958, 0.98284666, 1.45273514, 1.23127599, 1.13533583,\n",
       "       1.31213129, 0.87661187, 1.23868941, 1.73875226, 1.04743229,\n",
       "       1.05042724, 1.40805006, 1.19207847, 1.20987909, 1.49179541,\n",
       "       1.04782591, 1.32635783, 0.95834159, 1.08611749, 1.28465078,\n",
       "       1.04754478, 0.99257585, 1.3002892 , 1.32934422, 1.34186829,\n",
       "       0.79669459, 1.09396952, 1.14030678, 0.98086858, 0.84328172,\n",
       "       0.99348936, 1.37303978, 1.47942   , 0.76648298, 0.97617688,\n",
       "       0.97832538, 1.20835061, 0.79315607, 1.05185709, 0.88353692,\n",
       "       1.10507399, 1.15249937, 0.89850738, 1.15361584, 1.13838063,\n",
       "       1.31692968, 1.08806756, 1.56893011, 1.86719561, 1.2064435 ,\n",
       "       1.01483717, 1.22597053, 1.20097669, 1.22166286, 1.16739457,\n",
       "       1.10707091, 1.13948474, 1.09751652, 1.17298979, 1.37969263,\n",
       "       0.60283358, 0.96583445, 1.17980183, 1.4197661 , 0.94514705,\n",
       "       0.98708606, 0.93899678, 1.11263929, 1.19709894, 1.94722043,\n",
       "       1.28487264, 0.90367111, 1.76166472, 0.95062124, 1.38920429,\n",
       "       1.03450297, 1.06431421, 0.85026525, 0.9735694 , 1.23803607,\n",
       "       1.27885237, 0.84797983, 1.55804628, 1.15748773, 1.21501321,\n",
       "       1.10456077, 0.85897198, 0.43139605, 1.73854559, 1.21323725,\n",
       "       0.82021459, 1.28078168, 0.72049635, 1.2043871 , 1.20900555,\n",
       "       1.20897846, 1.12554868, 1.19612194, 1.2934265 , 1.07116524,\n",
       "       1.35275934, 1.32614276, 0.97331092, 1.1088764 , 1.15486527,\n",
       "       0.84847093, 0.94687901, 1.67183185, 0.98373385, 1.12712512,\n",
       "       1.29006569, 1.36013509, 1.15038456, 1.45197425, 1.12278503,\n",
       "       0.9208869 , 0.94797886, 0.75868994, 0.74124822, 1.4112086 ,\n",
       "       0.76094935, 1.42490531, 1.1765612 , 1.2499531 , 1.57075181,\n",
       "       0.86305618, 1.50405036, 1.49191914, 0.75338978, 1.07037287,\n",
       "       2.24620766, 0.8572047 , 1.74117301, 1.41383583, 1.271625  ,\n",
       "       1.1388555 , 1.04851894, 0.95736003, 1.05286861, 1.00394631,\n",
       "       1.14808772, 0.79032613, 1.50293124, 1.08477665, 1.14412709,\n",
       "       1.05592451, 1.77920681, 1.03779599, 0.91666756, 1.25921389,\n",
       "       1.06539632, 1.29915086, 1.84227057, 1.37338605, 1.39337535,\n",
       "       0.84714875, 1.18141204, 1.55163676, 1.24760061, 1.07920021,\n",
       "       1.21535925, 2.58962705, 1.32293239, 1.0297872 , 1.06323267,\n",
       "       1.6786631 , 1.10593292, 1.23988987, 1.13386133, 0.92460092,\n",
       "       1.02277521, 0.85860711, 0.87007243, 0.76918212, 1.04089863,\n",
       "       0.7620364 , 0.96675471, 1.34120156, 1.11138085, 1.21568418,\n",
       "       1.3107634 , 0.51827275, 1.23267501, 1.57813712, 1.35252679,\n",
       "       0.92419468, 1.31544418, 1.14143103, 0.94820574, 1.16254735,\n",
       "       1.08718804, 1.47789919, 0.72607341, 0.94592528, 1.21284534,\n",
       "       1.31982855, 0.28481367, 0.75090724, 1.21423116, 2.28888325,\n",
       "       1.07749412, 1.17438497, 1.12871183, 1.34707724, 0.76006782,\n",
       "       1.26652461, 1.33221848, 1.33417569, 1.00974901, 1.23704811,\n",
       "       1.1438952 , 1.87625325, 1.35458059, 1.01940382, 1.23047241,\n",
       "       1.75954501, 1.2837508 , 1.05188175, 0.90050695, 1.09274077,\n",
       "       0.9778166 , 1.78762331, 1.1807546 , 1.10451469, 1.00812478,\n",
       "       1.49589832, 0.98806664, 0.99195717, 0.66277404, 1.698472  ,\n",
       "       1.04788662, 0.94217411, 1.678259  , 0.81592201, 0.9835664 ,\n",
       "       1.1650032 , 1.61806888, 1.0698317 , 1.07257014, 1.087584  ,\n",
       "       0.85090449, 1.22827118, 1.14359537])"
      ]
     },
     "execution_count": 171,
     "metadata": {},
     "output_type": "execute_result"
    }
   ],
   "source": [
    "X_test['Total_Chance_first'].values"
   ]
  },
  {
   "cell_type": "code",
   "execution_count": 172,
   "metadata": {},
   "outputs": [
    {
     "data": {
      "text/plain": [
       "328"
      ]
     },
     "execution_count": 172,
     "metadata": {},
     "output_type": "execute_result"
    }
   ],
   "source": [
    "Y_test.count()"
   ]
  },
  {
   "cell_type": "code",
   "execution_count": 174,
   "metadata": {},
   "outputs": [
    {
     "name": "stdout",
     "output_type": "stream",
     "text": [
      "Accuracy= 0.7947368421052632\n",
      "Bets= 190\n"
     ]
    }
   ],
   "source": [
    "cnt=0\n",
    "total_bets=0\n",
    "for i in range(0,len(X_test['Total_Chance_first'].values)):\n",
    "    if (X_test['Total_Chance_first'].values[i]>1.1): total_bets=total_bets+1\n",
    "    if (X_test['Total_Chance_first'].values[i]>1.1 and Y_test.values[i]>0):\n",
    "        cnt=cnt+1\n",
    "print('Accuracy=',cnt/total_bets)\n",
    "print('Bets=', total_bets)"
   ]
  },
  {
   "cell_type": "code",
   "execution_count": 175,
   "metadata": {},
   "outputs": [
    {
     "name": "stdout",
     "output_type": "stream",
     "text": [
      "Accuracy= 0.7323943661971831\n",
      "Bets= 284\n"
     ]
    }
   ],
   "source": [
    "cnt=0\n",
    "total_bets=0\n",
    "for i in range(0,len(logreg_prediction)):\n",
    "    if (logreg_prediction[i]>0): total_bets=total_bets+1\n",
    "    if (logreg_prediction[i]>0 and Y_test.values[i]>0):\n",
    "        cnt=cnt+1\n",
    "print('Accuracy=',cnt/total_bets)\n",
    "print('Bets=', total_bets)"
   ]
  },
  {
   "cell_type": "code",
   "execution_count": 176,
   "metadata": {},
   "outputs": [
    {
     "name": "stdout",
     "output_type": "stream",
     "text": [
      "Accuracy= 0.6929460580912863\n",
      "Bets= 241\n"
     ]
    }
   ],
   "source": [
    "cnt=0\n",
    "total_bets=0\n",
    "for i in range(0,len(Forest_model_prediction)):\n",
    "    if (Forest_model_prediction[i]>0): total_bets=total_bets+1\n",
    "    if (Forest_model_prediction[i]>0 and Y_test.values[i]>0):\n",
    "        cnt=cnt+1\n",
    "print('Accuracy=',cnt/total_bets)\n",
    "print('Bets=', total_bets)"
   ]
  },
  {
   "cell_type": "code",
   "execution_count": 177,
   "metadata": {},
   "outputs": [
    {
     "name": "stdout",
     "output_type": "stream",
     "text": [
      "Accuracy= 0.7101449275362319\n",
      "Bets= 207\n"
     ]
    }
   ],
   "source": [
    "cnt=0\n",
    "total_bets=0\n",
    "for i in range(0,len(KNN_prediction)):\n",
    "    if (KNN_prediction[i]>0): total_bets=total_bets+1\n",
    "    if (KNN_prediction[i]>0 and Y_test.values[i]>0):\n",
    "        cnt=cnt+1\n",
    "print('Accuracy=',cnt/total_bets)\n",
    "print('Bets=', total_bets)"
   ]
  },
  {
   "cell_type": "code",
   "execution_count": 178,
   "metadata": {},
   "outputs": [
    {
     "name": "stdout",
     "output_type": "stream",
     "text": [
      "Accuracy= 0.7042682926829268\n",
      "Bets= 328\n"
     ]
    }
   ],
   "source": [
    "cnt=0\n",
    "total_bets=0\n",
    "for i in range(0,len(SVC_model_prediction)):\n",
    "    if (SVC_model_prediction[i]>0): total_bets=total_bets+1\n",
    "    if (SVC_model_prediction[i]>0 and Y_test.values[i]>0):\n",
    "        cnt=cnt+1\n",
    "print('Accuracy=',cnt/total_bets)\n",
    "print('Bets=', total_bets)"
   ]
  },
  {
   "cell_type": "code",
   "execution_count": 179,
   "metadata": {},
   "outputs": [
    {
     "name": "stdout",
     "output_type": "stream",
     "text": [
      "Accuracy= 0.7172995780590717\n",
      "Bets= 237\n"
     ]
    }
   ],
   "source": [
    "cnt=0\n",
    "total_bets=0\n",
    "for i in range(0,len(Gradient_model_prediction)):\n",
    "    if (Gradient_model_prediction[i]>0): total_bets=total_bets+1\n",
    "    if (Gradient_model_prediction[i]>0 and Y_test.values[i]>0):\n",
    "        cnt=cnt+1\n",
    "print('Accuracy=',cnt/total_bets)\n",
    "print('Bets=', total_bets)"
   ]
  },
  {
   "cell_type": "code",
   "execution_count": 180,
   "metadata": {},
   "outputs": [
    {
     "name": "stdout",
     "output_type": "stream",
     "text": [
      "Accuracy= 0.691304347826087\n",
      "Bets= 230\n"
     ]
    }
   ],
   "source": [
    "cnt=0\n",
    "total_bets=0\n",
    "for i in range(0,len(tree_model_prediction)):\n",
    "    if (tree_model_prediction[i]>0): total_bets=total_bets+1\n",
    "    if (tree_model_prediction[i]>0 and Y_test.values[i]>0):\n",
    "        cnt=cnt+1\n",
    "print('Accuracy=',cnt/total_bets)\n",
    "print('Bets=', total_bets)"
   ]
  },
  {
   "cell_type": "code",
   "execution_count": null,
   "metadata": {},
   "outputs": [],
   "source": [
    "# Manual testing"
   ]
  },
  {
   "cell_type": "code",
   "execution_count": 225,
   "metadata": {},
   "outputs": [
    {
     "name": "stdout",
     "output_type": "stream",
     "text": [
      "<class 'pandas.core.frame.DataFrame'>\n",
      "Int64Index: 36 entries, 0 to 35\n",
      "Data columns (total 11 columns):\n",
      "For_join              36 non-null object\n",
      "Div                   36 non-null object\n",
      "Date                  36 non-null datetime64[ns]\n",
      "HomeTeam              36 non-null object\n",
      "AwayTeam              36 non-null object\n",
      "Total_Chance_first    36 non-null float64\n",
      "Total_Chance_sec      36 non-null float64\n",
      "Total_Chance          36 non-null float64\n",
      "HTR1                  36 non-null int64\n",
      "HTR2                  36 non-null int64\n",
      "FTR                   36 non-null int64\n",
      "dtypes: datetime64[ns](1), float64(3), int64(3), object(4)\n",
      "memory usage: 3.4+ KB\n"
     ]
    }
   ],
   "source": [
    "Results_new.info()"
   ]
  },
  {
   "cell_type": "code",
   "execution_count": 234,
   "metadata": {},
   "outputs": [
    {
     "data": {
      "text/html": [
       "<div>\n",
       "<style scoped>\n",
       "    .dataframe tbody tr th:only-of-type {\n",
       "        vertical-align: middle;\n",
       "    }\n",
       "\n",
       "    .dataframe tbody tr th {\n",
       "        vertical-align: top;\n",
       "    }\n",
       "\n",
       "    .dataframe thead th {\n",
       "        text-align: right;\n",
       "    }\n",
       "</style>\n",
       "<table border=\"1\" class=\"dataframe\">\n",
       "  <thead>\n",
       "    <tr style=\"text-align: right;\">\n",
       "      <th></th>\n",
       "      <th>Total_Chance_first</th>\n",
       "      <th>Total_Chance_sec</th>\n",
       "      <th>Total_Chance</th>\n",
       "      <th>HTR1</th>\n",
       "      <th>HTR2</th>\n",
       "      <th>FTR</th>\n",
       "    </tr>\n",
       "  </thead>\n",
       "  <tbody>\n",
       "    <tr>\n",
       "      <th>count</th>\n",
       "      <td>18.000000</td>\n",
       "      <td>18.000000</td>\n",
       "      <td>18.000000</td>\n",
       "      <td>18.000000</td>\n",
       "      <td>18.000000</td>\n",
       "      <td>18.000000</td>\n",
       "    </tr>\n",
       "    <tr>\n",
       "      <th>mean</th>\n",
       "      <td>1.337605</td>\n",
       "      <td>1.721304</td>\n",
       "      <td>3.062452</td>\n",
       "      <td>1.500000</td>\n",
       "      <td>2.444444</td>\n",
       "      <td>3.944444</td>\n",
       "    </tr>\n",
       "    <tr>\n",
       "      <th>std</th>\n",
       "      <td>0.233659</td>\n",
       "      <td>0.463370</td>\n",
       "      <td>0.672088</td>\n",
       "      <td>0.923548</td>\n",
       "      <td>0.783823</td>\n",
       "      <td>0.872604</td>\n",
       "    </tr>\n",
       "    <tr>\n",
       "      <th>min</th>\n",
       "      <td>0.963088</td>\n",
       "      <td>1.138312</td>\n",
       "      <td>2.213754</td>\n",
       "      <td>0.000000</td>\n",
       "      <td>1.000000</td>\n",
       "      <td>3.000000</td>\n",
       "    </tr>\n",
       "    <tr>\n",
       "      <th>25%</th>\n",
       "      <td>1.131133</td>\n",
       "      <td>1.331696</td>\n",
       "      <td>2.532494</td>\n",
       "      <td>1.000000</td>\n",
       "      <td>2.000000</td>\n",
       "      <td>3.000000</td>\n",
       "    </tr>\n",
       "    <tr>\n",
       "      <th>50%</th>\n",
       "      <td>1.319631</td>\n",
       "      <td>1.647950</td>\n",
       "      <td>2.993613</td>\n",
       "      <td>1.000000</td>\n",
       "      <td>2.000000</td>\n",
       "      <td>4.000000</td>\n",
       "    </tr>\n",
       "    <tr>\n",
       "      <th>75%</th>\n",
       "      <td>1.463309</td>\n",
       "      <td>1.891534</td>\n",
       "      <td>3.314299</td>\n",
       "      <td>2.000000</td>\n",
       "      <td>3.000000</td>\n",
       "      <td>5.000000</td>\n",
       "    </tr>\n",
       "    <tr>\n",
       "      <th>max</th>\n",
       "      <td>1.782200</td>\n",
       "      <td>2.658085</td>\n",
       "      <td>4.444062</td>\n",
       "      <td>3.000000</td>\n",
       "      <td>4.000000</td>\n",
       "      <td>5.000000</td>\n",
       "    </tr>\n",
       "  </tbody>\n",
       "</table>\n",
       "</div>"
      ],
      "text/plain": [
       "       Total_Chance_first  Total_Chance_sec  Total_Chance       HTR1  \\\n",
       "count           18.000000         18.000000     18.000000  18.000000   \n",
       "mean             1.337605          1.721304      3.062452   1.500000   \n",
       "std              0.233659          0.463370      0.672088   0.923548   \n",
       "min              0.963088          1.138312      2.213754   0.000000   \n",
       "25%              1.131133          1.331696      2.532494   1.000000   \n",
       "50%              1.319631          1.647950      2.993613   1.000000   \n",
       "75%              1.463309          1.891534      3.314299   2.000000   \n",
       "max              1.782200          2.658085      4.444062   3.000000   \n",
       "\n",
       "            HTR2        FTR  \n",
       "count  18.000000  18.000000  \n",
       "mean    2.444444   3.944444  \n",
       "std     0.783823   0.872604  \n",
       "min     1.000000   3.000000  \n",
       "25%     2.000000   3.000000  \n",
       "50%     2.000000   4.000000  \n",
       "75%     3.000000   5.000000  \n",
       "max     4.000000   5.000000  "
      ]
     },
     "execution_count": 234,
     "metadata": {},
     "output_type": "execute_result"
    }
   ],
   "source": [
    "Results_won=Results_new[Results_new.FTR>2]\n",
    "Results_won.describe()"
   ]
  },
  {
   "cell_type": "code",
   "execution_count": 227,
   "metadata": {},
   "outputs": [
    {
     "name": "stdout",
     "output_type": "stream",
     "text": [
      "Kef= 1.0 Win percent= 0.8214285714285714 Games= 23\n",
      "Kef= 1.02 Win percent= 0.8214285714285714 Games= 23\n",
      "Kef= 1.04 Win percent= 0.8518518518518519 Games= 23\n",
      "Kef= 1.06 Win percent= 0.8846153846153846 Games= 23\n",
      "Kef= 1.08 Win percent= 0.88 Games= 22\n",
      "Kef= 1.1 Win percent= 0.88 Games= 22\n",
      "Kef= 1.12 Win percent= 0.9130434782608695 Games= 21\n",
      "Kef= 1.1400000000000001 Win percent= 0.95 Games= 19\n",
      "Kef= 1.1600000000000001 Win percent= 0.95 Games= 19\n",
      "Kef= 1.1800000000000002 Win percent= 0.95 Games= 19\n",
      "Kef= 1.2000000000000002 Win percent= 0.95 Games= 19\n",
      "Kef= 1.2200000000000002 Win percent= 1.0 Games= 19\n",
      "Kef= 1.2400000000000002 Win percent= 1.0 Games= 19\n",
      "Kef= 1.2600000000000002 Win percent= 1.0 Games= 19\n",
      "Kef= 1.2800000000000002 Win percent= 1.0 Games= 16\n",
      "Kef= 1.3000000000000003 Win percent= 1.0 Games= 16\n",
      "Kef= 1.3200000000000003 Win percent= 1.0 Games= 15\n",
      "Kef= 1.3400000000000003 Win percent= 1.0 Games= 13\n",
      "Kef= 1.3600000000000003 Win percent= 1.0 Games= 11\n",
      "Kef= 1.3800000000000003 Win percent= 1.0 Games= 11\n",
      "Kef= 1.4000000000000004 Win percent= 1.0 Games= 11\n",
      "Kef= 1.4200000000000004 Win percent= 1.0 Games= 10\n",
      "Kef= 1.4400000000000004 Win percent= 1.0 Games= 9\n",
      "Kef= 1.4600000000000004 Win percent= 1.0 Games= 9\n",
      "Kef= 1.4800000000000004 Win percent= 1.0 Games= 8\n",
      "Kef= 1.5000000000000004 Win percent= 1.0 Games= 8\n",
      "Kef= 1.5200000000000005 Win percent= 1.0 Games= 8\n",
      "Kef= 1.5400000000000005 Win percent= 1.0 Games= 8\n",
      "Kef= 1.5600000000000005 Win percent= 1.0 Games= 7\n",
      "Kef= 1.5800000000000005 Win percent= 1.0 Games= 6\n",
      "Kef= 1.6000000000000005 Win percent= 1.0 Games= 5\n",
      "Kef= 1.6200000000000006 Win percent= 1.0 Games= 5\n",
      "Kef= 1.6400000000000006 Win percent= 1.0 Games= 5\n",
      "Kef= 1.6600000000000006 Win percent= 1.0 Games= 5\n",
      "Kef= 1.6800000000000006 Win percent= 1.0 Games= 4\n",
      "Kef= 1.7000000000000006 Win percent= 1.0 Games= 4\n",
      "Kef= 1.7200000000000006 Win percent= 1.0 Games= 3\n",
      "Kef= 1.7400000000000007 Win percent= 1.0 Games= 3\n",
      "Kef= 1.7600000000000007 Win percent= 1.0 Games= 3\n",
      "Kef= 1.7800000000000007 Win percent= 1.0 Games= 2\n",
      "Kef= 1.8000000000000007 Win percent= 1.0 Games= 1\n",
      "Kef= 1.8200000000000007 Win percent= 1.0 Games= 1\n",
      "Kef= 1.8400000000000007 Win percent= 1.0 Games= 1\n"
     ]
    },
    {
     "name": "stderr",
     "output_type": "stream",
     "text": [
      "C:\\Users\\vova_oderii\\Anaconda3\\lib\\site-packages\\ipykernel_launcher.py:5: RuntimeWarning: invalid value encountered in longlong_scalars\n",
      "  \"\"\"\n"
     ]
    }
   ],
   "source": [
    "for k in np.arange(1, 2, 0.02):\n",
    "    Res_anal=Results_new[Results_new['Total_Chance_first']>k]\n",
    "    am_tot=Res_anal.count()\n",
    "    am_won=Res_anal[Res_anal.HTR1>0].count()\n",
    "    if (am_won[0]/am_tot[0]>0.79):\n",
    "        print('Kef=',k,'Win percent=',am_won[0]/am_tot[0],'Games=',am_won[0])"
   ]
  },
  {
   "cell_type": "code",
   "execution_count": 228,
   "metadata": {},
   "outputs": [
    {
     "name": "stdout",
     "output_type": "stream",
     "text": [
      "Kef= 0.92 Win percent= 0.8 Games= 28\n",
      "Kef= 0.9400000000000001 Win percent= 0.8 Games= 28\n",
      "Kef= 0.9600000000000001 Win percent= 0.8 Games= 28\n",
      "Kef= 0.9800000000000001 Win percent= 0.8 Games= 28\n",
      "Kef= 1.0 Win percent= 0.7941176470588235 Games= 27\n",
      "Kef= 1.02 Win percent= 0.7941176470588235 Games= 27\n",
      "Kef= 1.3000000000000003 Win percent= 0.8148148148148148 Games= 22\n",
      "Kef= 1.3200000000000003 Win percent= 0.8148148148148148 Games= 22\n",
      "Kef= 1.3400000000000003 Win percent= 0.7916666666666666 Games= 19\n",
      "Kef= 1.3600000000000003 Win percent= 0.7916666666666666 Games= 19\n",
      "Kef= 1.3800000000000003 Win percent= 0.7916666666666666 Games= 19\n"
     ]
    }
   ],
   "source": [
    "for k in np.arange(0.9, 2, 0.02):\n",
    "    Res_anal=Results_new[Results_new['Total_Chance_sec']>k]\n",
    "    am_tot=Res_anal.count()\n",
    "    am_won=Res_anal[Res_anal.HTR2>0].count()\n",
    "    if (am_won[0]/am_tot[0]>0.79):\n",
    "        print('Kef=',k,'Win percent=',am_won[0]/am_tot[0],'Games=',am_won[0])"
   ]
  },
  {
   "cell_type": "code",
   "execution_count": 229,
   "metadata": {},
   "outputs": [
    {
     "name": "stdout",
     "output_type": "stream",
     "text": [
      "Kef= 1.1400000000000001 Win percent= 0.7714285714285715 Games= 27\n",
      "Kef= 1.1600000000000001 Win percent= 0.7714285714285715 Games= 27\n",
      "Kef= 1.1800000000000002 Win percent= 0.7714285714285715 Games= 27\n",
      "Kef= 1.2000000000000002 Win percent= 0.7714285714285715 Games= 27\n",
      "Kef= 1.2200000000000002 Win percent= 0.7941176470588235 Games= 27\n",
      "Kef= 1.2400000000000002 Win percent= 0.7941176470588235 Games= 27\n",
      "Kef= 1.2600000000000002 Win percent= 0.7941176470588235 Games= 27\n",
      "Kef= 1.2800000000000002 Win percent= 0.7941176470588235 Games= 27\n",
      "Kef= 1.3000000000000003 Win percent= 0.7878787878787878 Games= 26\n",
      "Kef= 1.3200000000000003 Win percent= 0.7878787878787878 Games= 26\n",
      "Kef= 1.3400000000000003 Win percent= 0.7878787878787878 Games= 26\n",
      "Kef= 1.3600000000000003 Win percent= 0.7878787878787878 Games= 26\n",
      "Kef= 1.3800000000000003 Win percent= 0.78125 Games= 25\n",
      "Kef= 1.4000000000000004 Win percent= 0.78125 Games= 25\n",
      "Kef= 1.4200000000000004 Win percent= 0.78125 Games= 25\n",
      "Kef= 1.4400000000000004 Win percent= 0.78125 Games= 25\n",
      "Kef= 1.4600000000000004 Win percent= 0.78125 Games= 25\n",
      "Kef= 1.4800000000000004 Win percent= 0.78125 Games= 25\n",
      "Kef= 1.5000000000000004 Win percent= 0.78125 Games= 25\n",
      "Kef= 1.5200000000000005 Win percent= 0.78125 Games= 25\n",
      "Kef= 1.5400000000000005 Win percent= 0.78125 Games= 25\n",
      "Kef= 1.5600000000000005 Win percent= 0.78125 Games= 25\n",
      "Kef= 1.5800000000000005 Win percent= 0.78125 Games= 25\n",
      "Kef= 1.6000000000000005 Win percent= 0.78125 Games= 25\n",
      "Kef= 1.6200000000000006 Win percent= 0.78125 Games= 25\n",
      "Kef= 1.6400000000000006 Win percent= 0.78125 Games= 25\n",
      "Kef= 1.6600000000000006 Win percent= 0.78125 Games= 25\n",
      "Kef= 1.6800000000000006 Win percent= 0.78125 Games= 25\n",
      "Kef= 1.7000000000000006 Win percent= 0.78125 Games= 25\n",
      "Kef= 1.7200000000000006 Win percent= 0.78125 Games= 25\n",
      "Kef= 1.7400000000000007 Win percent= 0.78125 Games= 25\n",
      "Kef= 1.7600000000000007 Win percent= 0.78125 Games= 25\n",
      "Kef= 1.7800000000000007 Win percent= 0.78125 Games= 25\n",
      "Kef= 1.8000000000000007 Win percent= 0.78125 Games= 25\n",
      "Kef= 1.8200000000000007 Win percent= 0.78125 Games= 25\n",
      "Kef= 1.8400000000000007 Win percent= 0.78125 Games= 25\n",
      "Kef= 1.8600000000000008 Win percent= 0.78125 Games= 25\n",
      "Kef= 1.8800000000000008 Win percent= 0.78125 Games= 25\n",
      "Kef= 1.9000000000000008 Win percent= 0.78125 Games= 25\n",
      "Kef= 1.9200000000000008 Win percent= 0.78125 Games= 25\n",
      "Kef= 1.9400000000000008 Win percent= 0.78125 Games= 25\n",
      "Kef= 1.9600000000000009 Win percent= 0.78125 Games= 25\n",
      "Kef= 1.9800000000000009 Win percent= 0.78125 Games= 25\n",
      "Kef= 2.000000000000001 Win percent= 0.78125 Games= 25\n",
      "Kef= 2.020000000000001 Win percent= 0.78125 Games= 25\n",
      "Kef= 2.040000000000001 Win percent= 0.78125 Games= 25\n",
      "Kef= 2.060000000000001 Win percent= 0.78125 Games= 25\n",
      "Kef= 2.080000000000001 Win percent= 0.78125 Games= 25\n",
      "Kef= 2.100000000000001 Win percent= 0.78125 Games= 25\n",
      "Kef= 2.120000000000001 Win percent= 0.78125 Games= 25\n",
      "Kef= 2.140000000000001 Win percent= 0.78125 Games= 25\n",
      "Kef= 2.160000000000001 Win percent= 0.8064516129032258 Games= 25\n",
      "Kef= 2.180000000000001 Win percent= 0.8064516129032258 Games= 25\n",
      "Kef= 2.200000000000001 Win percent= 0.8064516129032258 Games= 25\n",
      "Kef= 2.220000000000001 Win percent= 0.8 Games= 24\n",
      "Kef= 2.240000000000001 Win percent= 0.8 Games= 24\n",
      "Kef= 2.260000000000001 Win percent= 0.8 Games= 24\n",
      "Kef= 2.280000000000001 Win percent= 0.8 Games= 24\n",
      "Kef= 2.300000000000001 Win percent= 0.7931034482758621 Games= 23\n",
      "Kef= 2.320000000000001 Win percent= 0.7931034482758621 Games= 23\n",
      "Kef= 2.340000000000001 Win percent= 0.7931034482758621 Games= 23\n",
      "Kef= 2.360000000000001 Win percent= 0.7931034482758621 Games= 23\n",
      "Kef= 2.3800000000000012 Win percent= 0.7857142857142857 Games= 22\n",
      "Kef= 2.4000000000000012 Win percent= 0.7777777777777778 Games= 21\n",
      "Kef= 2.4200000000000013 Win percent= 0.7777777777777778 Games= 21\n",
      "Kef= 2.4400000000000013 Win percent= 0.7777777777777778 Games= 21\n",
      "Kef= 2.4600000000000013 Win percent= 0.7692307692307693 Games= 20\n",
      "Kef= 2.4800000000000013 Win percent= 0.76 Games= 19\n",
      "Kef= 2.5000000000000013 Win percent= 0.76 Games= 19\n",
      "Kef= 2.5200000000000014 Win percent= 0.7916666666666666 Games= 19\n",
      "Kef= 2.5400000000000014 Win percent= 0.7916666666666666 Games= 19\n",
      "Kef= 2.5600000000000014 Win percent= 0.8260869565217391 Games= 19\n",
      "Kef= 2.5800000000000014 Win percent= 0.8260869565217391 Games= 19\n",
      "Kef= 2.6000000000000014 Win percent= 0.8260869565217391 Games= 19\n",
      "Kef= 2.6200000000000014 Win percent= 0.8636363636363636 Games= 19\n",
      "Kef= 2.6400000000000015 Win percent= 0.8636363636363636 Games= 19\n",
      "Kef= 2.6600000000000015 Win percent= 0.8636363636363636 Games= 19\n",
      "Kef= 2.6800000000000015 Win percent= 0.8636363636363636 Games= 19\n",
      "Kef= 2.7000000000000015 Win percent= 0.8421052631578947 Games= 16\n",
      "Kef= 2.7200000000000015 Win percent= 0.8421052631578947 Games= 16\n",
      "Kef= 2.7400000000000015 Win percent= 0.8333333333333334 Games= 15\n",
      "Kef= 2.7600000000000016 Win percent= 0.8823529411764706 Games= 15\n",
      "Kef= 2.7800000000000016 Win percent= 0.8823529411764706 Games= 15\n",
      "Kef= 2.8000000000000016 Win percent= 0.8823529411764706 Games= 15\n",
      "Kef= 2.8200000000000016 Win percent= 0.8823529411764706 Games= 15\n",
      "Kef= 2.8400000000000016 Win percent= 0.8823529411764706 Games= 15\n",
      "Kef= 2.8600000000000017 Win percent= 0.8823529411764706 Games= 15\n",
      "Kef= 2.8800000000000017 Win percent= 0.8823529411764706 Games= 15\n",
      "Kef= 2.9000000000000017 Win percent= 0.8823529411764706 Games= 15\n",
      "Kef= 2.9200000000000017 Win percent= 0.875 Games= 14\n",
      "Kef= 2.9400000000000017 Win percent= 0.875 Games= 14\n",
      "Kef= 2.9600000000000017 Win percent= 0.875 Games= 14\n",
      "Kef= 2.9800000000000018 Win percent= 0.875 Games= 14\n",
      "Kef= 3.0000000000000018 Win percent= 0.8571428571428571 Games= 12\n",
      "Kef= 3.020000000000002 Win percent= 0.8571428571428571 Games= 12\n",
      "Kef= 3.040000000000002 Win percent= 0.8461538461538461 Games= 11\n",
      "Kef= 3.060000000000002 Win percent= 0.8461538461538461 Games= 11\n",
      "Kef= 3.080000000000002 Win percent= 0.8461538461538461 Games= 11\n",
      "Kef= 3.100000000000002 Win percent= 0.8461538461538461 Games= 11\n",
      "Kef= 3.120000000000002 Win percent= 0.9166666666666666 Games= 11\n",
      "Kef= 3.140000000000002 Win percent= 0.9166666666666666 Games= 11\n",
      "Kef= 3.160000000000002 Win percent= 0.9090909090909091 Games= 10\n",
      "Kef= 3.180000000000002 Win percent= 0.9090909090909091 Games= 10\n",
      "Kef= 3.200000000000002 Win percent= 0.9090909090909091 Games= 10\n",
      "Kef= 3.220000000000002 Win percent= 0.9090909090909091 Games= 10\n",
      "Kef= 3.240000000000002 Win percent= 0.9 Games= 9\n",
      "Kef= 3.260000000000002 Win percent= 0.8888888888888888 Games= 8\n",
      "Kef= 3.280000000000002 Win percent= 0.8888888888888888 Games= 8\n",
      "Kef= 3.300000000000002 Win percent= 0.8888888888888888 Games= 8\n",
      "Kef= 3.320000000000002 Win percent= 0.8888888888888888 Games= 8\n",
      "Kef= 3.340000000000002 Win percent= 0.8888888888888888 Games= 8\n",
      "Kef= 3.360000000000002 Win percent= 0.875 Games= 7\n",
      "Kef= 3.380000000000002 Win percent= 0.875 Games= 7\n",
      "Kef= 3.400000000000002 Win percent= 0.875 Games= 7\n",
      "Kef= 3.420000000000002 Win percent= 0.875 Games= 7\n",
      "Kef= 3.440000000000002 Win percent= 0.8571428571428571 Games= 6\n",
      "Kef= 3.460000000000002 Win percent= 0.8571428571428571 Games= 6\n",
      "Kef= 3.480000000000002 Win percent= 0.8333333333333334 Games= 5\n",
      "Kef= 3.500000000000002 Win percent= 0.8333333333333334 Games= 5\n",
      "Kef= 3.5200000000000022 Win percent= 0.8333333333333334 Games= 5\n",
      "Kef= 3.5400000000000023 Win percent= 0.8333333333333334 Games= 5\n",
      "Kef= 3.5600000000000023 Win percent= 0.8333333333333334 Games= 5\n",
      "Kef= 3.5800000000000023 Win percent= 0.8333333333333334 Games= 5\n",
      "Kef= 3.6000000000000023 Win percent= 0.8333333333333334 Games= 5\n",
      "Kef= 3.6200000000000023 Win percent= 0.8333333333333334 Games= 5\n",
      "Kef= 3.6400000000000023 Win percent= 0.8333333333333334 Games= 5\n",
      "Kef= 3.6600000000000024 Win percent= 0.8333333333333334 Games= 5\n",
      "Kef= 3.6800000000000024 Win percent= 0.8333333333333334 Games= 5\n",
      "Kef= 3.7000000000000024 Win percent= 0.8333333333333334 Games= 5\n",
      "Kef= 3.7200000000000024 Win percent= 0.8333333333333334 Games= 5\n",
      "Kef= 3.7400000000000024 Win percent= 0.8333333333333334 Games= 5\n",
      "Kef= 3.7600000000000025 Win percent= 0.8333333333333334 Games= 5\n",
      "Kef= 3.7800000000000025 Win percent= 0.8333333333333334 Games= 5\n",
      "Kef= 3.8000000000000025 Win percent= 0.8333333333333334 Games= 5\n",
      "Kef= 3.8200000000000025 Win percent= 0.8333333333333334 Games= 5\n"
     ]
    },
    {
     "name": "stdout",
     "output_type": "stream",
     "text": [
      "Kef= 3.8400000000000025 Win percent= 0.8 Games= 4\n",
      "Kef= 3.8600000000000025 Win percent= 0.8 Games= 4\n",
      "Kef= 3.8800000000000026 Win percent= 0.8 Games= 4\n",
      "Kef= 3.9000000000000026 Win percent= 0.8 Games= 4\n",
      "Kef= 3.9200000000000026 Win percent= 0.8 Games= 4\n",
      "Kef= 3.9400000000000026 Win percent= 0.8 Games= 4\n",
      "Kef= 3.9600000000000026 Win percent= 0.8 Games= 4\n"
     ]
    }
   ],
   "source": [
    "for k in np.arange(1, 4, 0.02):\n",
    "    Res_anal=Results_new[Results_new['Total_Chance']>k]\n",
    "    am_tot=Res_anal.count()\n",
    "    am_won=Res_anal[Res_anal.FTR>1].count()\n",
    "    if (am_won[0]/am_tot[0]>0.75):\n",
    "        print('Kef=',k,'Win percent=',am_won[0]/am_tot[0],'Games=',am_won[0])"
   ]
  },
  {
   "cell_type": "code",
   "execution_count": 230,
   "metadata": {},
   "outputs": [
    {
     "name": "stdout",
     "output_type": "stream",
     "text": [
      "Kef= 1.1400000000000001 Win percent= 0.5142857142857142 Games= 18\n",
      "Kef= 1.1600000000000001 Win percent= 0.5142857142857142 Games= 18\n",
      "Kef= 1.1800000000000002 Win percent= 0.5142857142857142 Games= 18\n",
      "Kef= 1.2000000000000002 Win percent= 0.5142857142857142 Games= 18\n",
      "Kef= 1.2200000000000002 Win percent= 0.5294117647058824 Games= 18\n",
      "Kef= 1.2400000000000002 Win percent= 0.5294117647058824 Games= 18\n",
      "Kef= 1.2600000000000002 Win percent= 0.5294117647058824 Games= 18\n",
      "Kef= 1.2800000000000002 Win percent= 0.5294117647058824 Games= 18\n",
      "Kef= 1.3000000000000003 Win percent= 0.5454545454545454 Games= 18\n",
      "Kef= 1.3200000000000003 Win percent= 0.5454545454545454 Games= 18\n",
      "Kef= 1.3400000000000003 Win percent= 0.5454545454545454 Games= 18\n",
      "Kef= 1.3600000000000003 Win percent= 0.5454545454545454 Games= 18\n",
      "Kef= 1.3800000000000003 Win percent= 0.5625 Games= 18\n",
      "Kef= 1.4000000000000004 Win percent= 0.5625 Games= 18\n",
      "Kef= 1.4200000000000004 Win percent= 0.5625 Games= 18\n",
      "Kef= 1.4400000000000004 Win percent= 0.5625 Games= 18\n",
      "Kef= 1.4600000000000004 Win percent= 0.5625 Games= 18\n",
      "Kef= 1.4800000000000004 Win percent= 0.5625 Games= 18\n",
      "Kef= 1.5000000000000004 Win percent= 0.5625 Games= 18\n",
      "Kef= 1.5200000000000005 Win percent= 0.5625 Games= 18\n",
      "Kef= 1.5400000000000005 Win percent= 0.5625 Games= 18\n",
      "Kef= 1.5600000000000005 Win percent= 0.5625 Games= 18\n",
      "Kef= 1.5800000000000005 Win percent= 0.5625 Games= 18\n",
      "Kef= 1.6000000000000005 Win percent= 0.5625 Games= 18\n",
      "Kef= 1.6200000000000006 Win percent= 0.5625 Games= 18\n",
      "Kef= 1.6400000000000006 Win percent= 0.5625 Games= 18\n",
      "Kef= 1.6600000000000006 Win percent= 0.5625 Games= 18\n",
      "Kef= 1.6800000000000006 Win percent= 0.5625 Games= 18\n",
      "Kef= 1.7000000000000006 Win percent= 0.5625 Games= 18\n",
      "Kef= 1.7200000000000006 Win percent= 0.5625 Games= 18\n",
      "Kef= 1.7400000000000007 Win percent= 0.5625 Games= 18\n",
      "Kef= 1.7600000000000007 Win percent= 0.5625 Games= 18\n",
      "Kef= 1.7800000000000007 Win percent= 0.5625 Games= 18\n",
      "Kef= 1.8000000000000007 Win percent= 0.5625 Games= 18\n",
      "Kef= 1.8200000000000007 Win percent= 0.5625 Games= 18\n",
      "Kef= 1.8400000000000007 Win percent= 0.5625 Games= 18\n",
      "Kef= 1.8600000000000008 Win percent= 0.5625 Games= 18\n",
      "Kef= 1.8800000000000008 Win percent= 0.5625 Games= 18\n",
      "Kef= 1.9000000000000008 Win percent= 0.5625 Games= 18\n",
      "Kef= 1.9200000000000008 Win percent= 0.5625 Games= 18\n",
      "Kef= 1.9400000000000008 Win percent= 0.5625 Games= 18\n",
      "Kef= 1.9600000000000009 Win percent= 0.5625 Games= 18\n",
      "Kef= 1.9800000000000009 Win percent= 0.5625 Games= 18\n",
      "Kef= 2.000000000000001 Win percent= 0.5625 Games= 18\n",
      "Kef= 2.020000000000001 Win percent= 0.5625 Games= 18\n",
      "Kef= 2.040000000000001 Win percent= 0.5625 Games= 18\n",
      "Kef= 2.060000000000001 Win percent= 0.5625 Games= 18\n",
      "Kef= 2.080000000000001 Win percent= 0.5625 Games= 18\n",
      "Kef= 2.100000000000001 Win percent= 0.5625 Games= 18\n",
      "Kef= 2.120000000000001 Win percent= 0.5625 Games= 18\n",
      "Kef= 2.140000000000001 Win percent= 0.5625 Games= 18\n",
      "Kef= 2.160000000000001 Win percent= 0.5806451612903226 Games= 18\n",
      "Kef= 2.180000000000001 Win percent= 0.5806451612903226 Games= 18\n",
      "Kef= 2.200000000000001 Win percent= 0.5806451612903226 Games= 18\n",
      "Kef= 2.220000000000001 Win percent= 0.5666666666666667 Games= 17\n",
      "Kef= 2.240000000000001 Win percent= 0.5666666666666667 Games= 17\n",
      "Kef= 2.260000000000001 Win percent= 0.5666666666666667 Games= 17\n",
      "Kef= 2.280000000000001 Win percent= 0.5666666666666667 Games= 17\n",
      "Kef= 2.300000000000001 Win percent= 0.5517241379310345 Games= 16\n",
      "Kef= 2.320000000000001 Win percent= 0.5517241379310345 Games= 16\n",
      "Kef= 2.340000000000001 Win percent= 0.5517241379310345 Games= 16\n",
      "Kef= 2.360000000000001 Win percent= 0.5517241379310345 Games= 16\n",
      "Kef= 2.3800000000000012 Win percent= 0.5357142857142857 Games= 15\n",
      "Kef= 2.4000000000000012 Win percent= 0.5185185185185185 Games= 14\n",
      "Kef= 2.4200000000000013 Win percent= 0.5185185185185185 Games= 14\n",
      "Kef= 2.4400000000000013 Win percent= 0.5185185185185185 Games= 14\n",
      "Kef= 2.4600000000000013 Win percent= 0.5384615384615384 Games= 14\n",
      "Kef= 2.4800000000000013 Win percent= 0.52 Games= 13\n",
      "Kef= 2.5000000000000013 Win percent= 0.52 Games= 13\n",
      "Kef= 2.5200000000000014 Win percent= 0.5416666666666666 Games= 13\n",
      "Kef= 2.5400000000000014 Win percent= 0.5416666666666666 Games= 13\n",
      "Kef= 2.5600000000000014 Win percent= 0.5652173913043478 Games= 13\n",
      "Kef= 2.5800000000000014 Win percent= 0.5652173913043478 Games= 13\n",
      "Kef= 2.6000000000000014 Win percent= 0.5652173913043478 Games= 13\n",
      "Kef= 2.6200000000000014 Win percent= 0.5909090909090909 Games= 13\n",
      "Kef= 2.6400000000000015 Win percent= 0.5909090909090909 Games= 13\n",
      "Kef= 2.6600000000000015 Win percent= 0.5909090909090909 Games= 13\n",
      "Kef= 2.6800000000000015 Win percent= 0.5909090909090909 Games= 13\n",
      "Kef= 2.7000000000000015 Win percent= 0.631578947368421 Games= 12\n",
      "Kef= 2.7200000000000015 Win percent= 0.631578947368421 Games= 12\n",
      "Kef= 2.7400000000000015 Win percent= 0.6111111111111112 Games= 11\n",
      "Kef= 2.7600000000000016 Win percent= 0.6470588235294118 Games= 11\n",
      "Kef= 2.7800000000000016 Win percent= 0.6470588235294118 Games= 11\n",
      "Kef= 2.8000000000000016 Win percent= 0.6470588235294118 Games= 11\n",
      "Kef= 2.8200000000000016 Win percent= 0.6470588235294118 Games= 11\n",
      "Kef= 2.8400000000000016 Win percent= 0.6470588235294118 Games= 11\n",
      "Kef= 2.8600000000000017 Win percent= 0.6470588235294118 Games= 11\n",
      "Kef= 2.8800000000000017 Win percent= 0.6470588235294118 Games= 11\n",
      "Kef= 2.9000000000000017 Win percent= 0.6470588235294118 Games= 11\n",
      "Kef= 2.9200000000000017 Win percent= 0.625 Games= 10\n",
      "Kef= 2.9400000000000017 Win percent= 0.625 Games= 10\n",
      "Kef= 2.9600000000000017 Win percent= 0.625 Games= 10\n",
      "Kef= 2.9800000000000018 Win percent= 0.625 Games= 10\n",
      "Kef= 3.0000000000000018 Win percent= 0.5714285714285714 Games= 8\n",
      "Kef= 3.020000000000002 Win percent= 0.5714285714285714 Games= 8\n",
      "Kef= 3.040000000000002 Win percent= 0.5384615384615384 Games= 7\n",
      "Kef= 3.060000000000002 Win percent= 0.5384615384615384 Games= 7\n",
      "Kef= 3.080000000000002 Win percent= 0.5384615384615384 Games= 7\n",
      "Kef= 3.100000000000002 Win percent= 0.5384615384615384 Games= 7\n",
      "Kef= 3.120000000000002 Win percent= 0.5833333333333334 Games= 7\n",
      "Kef= 3.140000000000002 Win percent= 0.5833333333333334 Games= 7\n",
      "Kef= 3.160000000000002 Win percent= 0.5454545454545454 Games= 6\n",
      "Kef= 3.180000000000002 Win percent= 0.5454545454545454 Games= 6\n",
      "Kef= 3.200000000000002 Win percent= 0.5454545454545454 Games= 6\n",
      "Kef= 3.220000000000002 Win percent= 0.5454545454545454 Games= 6\n",
      "Kef= 3.260000000000002 Win percent= 0.5555555555555556 Games= 5\n",
      "Kef= 3.280000000000002 Win percent= 0.5555555555555556 Games= 5\n",
      "Kef= 3.300000000000002 Win percent= 0.5555555555555556 Games= 5\n",
      "Kef= 3.320000000000002 Win percent= 0.5555555555555556 Games= 5\n",
      "Kef= 3.340000000000002 Win percent= 0.5555555555555556 Games= 5\n",
      "Kef= 3.440000000000002 Win percent= 0.5714285714285714 Games= 4\n",
      "Kef= 3.460000000000002 Win percent= 0.5714285714285714 Games= 4\n",
      "Kef= 3.8400000000000025 Win percent= 0.6 Games= 3\n",
      "Kef= 3.8600000000000025 Win percent= 0.6 Games= 3\n",
      "Kef= 3.8800000000000026 Win percent= 0.6 Games= 3\n",
      "Kef= 3.9000000000000026 Win percent= 0.6 Games= 3\n",
      "Kef= 3.9200000000000026 Win percent= 0.6 Games= 3\n",
      "Kef= 3.9400000000000026 Win percent= 0.6 Games= 3\n",
      "Kef= 3.9600000000000026 Win percent= 0.6 Games= 3\n"
     ]
    }
   ],
   "source": [
    "for k in np.arange(1, 4, 0.02):\n",
    "    Res_anal=Results_new[Results_new['Total_Chance']>k]\n",
    "    am_tot=Res_anal.count()\n",
    "    am_won=Res_anal[Res_anal.FTR>2].count()\n",
    "    if (am_won[0]/am_tot[0]>0.5):\n",
    "        print('Kef=',k,'Win percent=',am_won[0]/am_tot[0],'Games=',am_won[0])"
   ]
  },
  {
   "cell_type": "code",
   "execution_count": 231,
   "metadata": {},
   "outputs": [
    {
     "name": "stderr",
     "output_type": "stream",
     "text": [
      "C:\\Users\\vova_oderii\\Anaconda3\\lib\\site-packages\\ipykernel_launcher.py:5: RuntimeWarning: invalid value encountered in longlong_scalars\n",
      "  \"\"\"\n"
     ]
    },
    {
     "name": "stdout",
     "output_type": "stream",
     "text": [
      "Kef= 1.1400000000000003 Win percent= 1.0 Games= 1\n",
      "Kef= 1.1600000000000004 Win percent= 1.0 Games= 1\n",
      "Kef= 1.1800000000000004 Win percent= 1.0 Games= 1\n",
      "Kef= 1.2000000000000004 Win percent= 1.0 Games= 1\n",
      "Kef= 1.2200000000000002 Win percent= 1.0 Games= 2\n",
      "Kef= 1.2400000000000002 Win percent= 1.0 Games= 2\n",
      "Kef= 1.2600000000000002 Win percent= 1.0 Games= 2\n",
      "Kef= 1.2800000000000002 Win percent= 1.0 Games= 2\n",
      "Kef= 1.3000000000000003 Win percent= 1.0 Games= 3\n",
      "Kef= 1.3200000000000003 Win percent= 1.0 Games= 3\n",
      "Kef= 1.3400000000000003 Win percent= 1.0 Games= 3\n",
      "Kef= 1.3600000000000003 Win percent= 1.0 Games= 3\n",
      "Kef= 1.3800000000000003 Win percent= 1.0 Games= 4\n",
      "Kef= 1.4000000000000004 Win percent= 1.0 Games= 4\n",
      "Kef= 1.4200000000000004 Win percent= 1.0 Games= 4\n",
      "Kef= 1.4400000000000004 Win percent= 1.0 Games= 4\n",
      "Kef= 1.4600000000000004 Win percent= 1.0 Games= 4\n",
      "Kef= 1.4800000000000004 Win percent= 1.0 Games= 4\n",
      "Kef= 1.5000000000000004 Win percent= 1.0 Games= 4\n",
      "Kef= 1.5200000000000005 Win percent= 1.0 Games= 4\n",
      "Kef= 1.5400000000000005 Win percent= 1.0 Games= 4\n",
      "Kef= 1.5600000000000003 Win percent= 1.0 Games= 4\n",
      "Kef= 1.5800000000000003 Win percent= 1.0 Games= 4\n",
      "Kef= 1.6000000000000003 Win percent= 1.0 Games= 4\n",
      "Kef= 1.6200000000000003 Win percent= 1.0 Games= 4\n",
      "Kef= 1.6400000000000003 Win percent= 1.0 Games= 4\n",
      "Kef= 1.6600000000000004 Win percent= 1.0 Games= 4\n",
      "Kef= 1.6800000000000004 Win percent= 1.0 Games= 4\n",
      "Kef= 1.7000000000000004 Win percent= 1.0 Games= 4\n",
      "Kef= 1.7200000000000004 Win percent= 1.0 Games= 4\n",
      "Kef= 1.7400000000000004 Win percent= 1.0 Games= 4\n",
      "Kef= 1.7600000000000005 Win percent= 1.0 Games= 4\n",
      "Kef= 1.7800000000000005 Win percent= 1.0 Games= 4\n",
      "Kef= 1.8000000000000005 Win percent= 1.0 Games= 4\n",
      "Kef= 1.8200000000000005 Win percent= 1.0 Games= 4\n",
      "Kef= 1.8400000000000005 Win percent= 1.0 Games= 4\n",
      "Kef= 1.8600000000000003 Win percent= 1.0 Games= 4\n",
      "Kef= 1.8800000000000003 Win percent= 1.0 Games= 4\n",
      "Kef= 1.9000000000000004 Win percent= 1.0 Games= 4\n",
      "Kef= 1.9200000000000004 Win percent= 1.0 Games= 4\n",
      "Kef= 1.9400000000000004 Win percent= 1.0 Games= 4\n",
      "Kef= 1.9600000000000004 Win percent= 1.0 Games= 4\n",
      "Kef= 1.9800000000000004 Win percent= 1.0 Games= 4\n",
      "Kef= 2.0000000000000004 Win percent= 1.0 Games= 4\n",
      "Kef= 2.0200000000000005 Win percent= 1.0 Games= 4\n",
      "Kef= 2.0400000000000005 Win percent= 1.0 Games= 4\n",
      "Kef= 2.0600000000000005 Win percent= 1.0 Games= 4\n",
      "Kef= 2.0800000000000005 Win percent= 1.0 Games= 4\n",
      "Kef= 2.1000000000000005 Win percent= 1.0 Games= 4\n",
      "Kef= 2.1200000000000006 Win percent= 1.0 Games= 4\n",
      "Kef= 2.1400000000000006 Win percent= 1.0 Games= 4\n",
      "Kef= 2.1600000000000006 Win percent= 1.0 Games= 5\n",
      "Kef= 2.1800000000000006 Win percent= 1.0 Games= 5\n",
      "Kef= 2.2000000000000006 Win percent= 1.0 Games= 5\n",
      "Kef= 2.2200000000000006 Win percent= 0.8333333333333334 Games= 5\n",
      "Kef= 2.2400000000000007 Win percent= 0.8333333333333334 Games= 5\n",
      "Kef= 2.2600000000000007 Win percent= 0.8333333333333334 Games= 5\n",
      "Kef= 2.2800000000000007 Win percent= 0.8333333333333334 Games= 5\n",
      "Kef= 2.3000000000000007 Win percent= 0.7142857142857143 Games= 5\n",
      "Kef= 2.3200000000000007 Win percent= 0.7142857142857143 Games= 5\n",
      "Kef= 2.3400000000000003 Win percent= 0.7142857142857143 Games= 5\n",
      "Kef= 2.3600000000000003 Win percent= 0.7142857142857143 Games= 5\n",
      "Kef= 2.3800000000000003 Win percent= 0.625 Games= 5\n",
      "Kef= 2.4000000000000004 Win percent= 0.5555555555555556 Games= 5\n",
      "Kef= 2.4200000000000004 Win percent= 0.5555555555555556 Games= 5\n",
      "Kef= 2.4400000000000004 Win percent= 0.5555555555555556 Games= 5\n",
      "Kef= 2.4600000000000004 Win percent= 0.6 Games= 6\n",
      "Kef= 2.4800000000000004 Win percent= 0.5454545454545454 Games= 6\n",
      "Kef= 2.5000000000000004 Win percent= 0.5454545454545454 Games= 6\n",
      "Kef= 2.5200000000000005 Win percent= 0.5833333333333334 Games= 7\n",
      "Kef= 2.5400000000000005 Win percent= 0.5833333333333334 Games= 7\n",
      "Kef= 2.5600000000000005 Win percent= 0.6153846153846154 Games= 8\n",
      "Kef= 2.5800000000000005 Win percent= 0.6153846153846154 Games= 8\n",
      "Kef= 2.6000000000000005 Win percent= 0.6153846153846154 Games= 8\n",
      "Kef= 2.6200000000000006 Win percent= 0.6428571428571429 Games= 9\n",
      "Kef= 2.6400000000000006 Win percent= 0.6428571428571429 Games= 9\n",
      "Kef= 2.6600000000000006 Win percent= 0.6428571428571429 Games= 9\n",
      "Kef= 2.6800000000000006 Win percent= 0.6428571428571429 Games= 9\n",
      "Kef= 2.7000000000000006 Win percent= 0.6470588235294118 Games= 11\n",
      "Kef= 2.7200000000000006 Win percent= 0.6470588235294118 Games= 11\n",
      "Kef= 2.7400000000000007 Win percent= 0.6111111111111112 Games= 11\n",
      "Kef= 2.7600000000000007 Win percent= 0.631578947368421 Games= 12\n",
      "Kef= 2.7800000000000007 Win percent= 0.631578947368421 Games= 12\n",
      "Kef= 2.8000000000000007 Win percent= 0.631578947368421 Games= 12\n",
      "Kef= 2.8200000000000007 Win percent= 0.631578947368421 Games= 12\n",
      "Kef= 2.8400000000000007 Win percent= 0.631578947368421 Games= 12\n",
      "Kef= 2.8600000000000008 Win percent= 0.631578947368421 Games= 12\n",
      "Kef= 2.880000000000001 Win percent= 0.631578947368421 Games= 12\n",
      "Kef= 2.900000000000001 Win percent= 0.631578947368421 Games= 12\n",
      "Kef= 2.920000000000001 Win percent= 0.6 Games= 12\n",
      "Kef= 2.940000000000001 Win percent= 0.6 Games= 12\n",
      "Kef= 2.960000000000001 Win percent= 0.6 Games= 12\n",
      "Kef= 2.980000000000001 Win percent= 0.6 Games= 12\n",
      "Kef= 3.0000000000000004 Win percent= 0.5454545454545454 Games= 12\n",
      "Kef= 3.0200000000000005 Win percent= 0.5454545454545454 Games= 12\n",
      "Kef= 3.0400000000000005 Win percent= 0.5217391304347826 Games= 12\n",
      "Kef= 3.0600000000000005 Win percent= 0.5217391304347826 Games= 12\n",
      "Kef= 3.0800000000000005 Win percent= 0.5217391304347826 Games= 12\n",
      "Kef= 3.1000000000000005 Win percent= 0.5217391304347826 Games= 12\n",
      "Kef= 3.1200000000000006 Win percent= 0.5416666666666666 Games= 13\n",
      "Kef= 3.1400000000000006 Win percent= 0.5416666666666666 Games= 13\n",
      "Kef= 3.1600000000000006 Win percent= 0.52 Games= 13\n",
      "Kef= 3.1800000000000006 Win percent= 0.52 Games= 13\n",
      "Kef= 3.2000000000000006 Win percent= 0.52 Games= 13\n",
      "Kef= 3.2200000000000006 Win percent= 0.52 Games= 13\n",
      "Kef= 3.2400000000000007 Win percent= 0.5 Games= 13\n",
      "Kef= 3.2600000000000007 Win percent= 0.5185185185185185 Games= 14\n",
      "Kef= 3.2800000000000007 Win percent= 0.5185185185185185 Games= 14\n",
      "Kef= 3.3000000000000007 Win percent= 0.5185185185185185 Games= 14\n",
      "Kef= 3.3200000000000007 Win percent= 0.5185185185185185 Games= 14\n",
      "Kef= 3.3400000000000007 Win percent= 0.5185185185185185 Games= 14\n",
      "Kef= 3.3600000000000008 Win percent= 0.5 Games= 14\n",
      "Kef= 3.380000000000001 Win percent= 0.5 Games= 14\n",
      "Kef= 3.400000000000001 Win percent= 0.5 Games= 14\n",
      "Kef= 3.420000000000001 Win percent= 0.5 Games= 14\n",
      "Kef= 3.440000000000001 Win percent= 0.5172413793103449 Games= 15\n",
      "Kef= 3.460000000000001 Win percent= 0.5172413793103449 Games= 15\n",
      "Kef= 3.480000000000001 Win percent= 0.5 Games= 15\n",
      "Kef= 3.500000000000001 Win percent= 0.5 Games= 15\n",
      "Kef= 3.520000000000001 Win percent= 0.5 Games= 15\n",
      "Kef= 3.540000000000001 Win percent= 0.5 Games= 15\n",
      "Kef= 3.560000000000001 Win percent= 0.5 Games= 15\n",
      "Kef= 3.580000000000001 Win percent= 0.5 Games= 15\n",
      "Kef= 3.600000000000001 Win percent= 0.5 Games= 15\n",
      "Kef= 3.6200000000000006 Win percent= 0.5 Games= 15\n",
      "Kef= 3.6400000000000006 Win percent= 0.5 Games= 15\n",
      "Kef= 3.6600000000000006 Win percent= 0.5 Games= 15\n",
      "Kef= 3.6800000000000006 Win percent= 0.5 Games= 15\n",
      "Kef= 3.7000000000000006 Win percent= 0.5 Games= 15\n",
      "Kef= 3.7200000000000006 Win percent= 0.5 Games= 15\n",
      "Kef= 3.7400000000000007 Win percent= 0.5 Games= 15\n",
      "Kef= 3.7600000000000007 Win percent= 0.5 Games= 15\n",
      "Kef= 3.7800000000000007 Win percent= 0.5 Games= 15\n",
      "Kef= 3.8000000000000007 Win percent= 0.5 Games= 15\n",
      "Kef= 3.8200000000000007 Win percent= 0.5 Games= 15\n",
      "Kef= 3.8400000000000007 Win percent= 0.5161290322580645 Games= 16\n",
      "Kef= 3.8600000000000008 Win percent= 0.5161290322580645 Games= 16\n",
      "Kef= 3.880000000000001 Win percent= 0.5161290322580645 Games= 16\n",
      "Kef= 3.900000000000001 Win percent= 0.5161290322580645 Games= 16\n",
      "Kef= 3.920000000000001 Win percent= 0.5161290322580645 Games= 16\n",
      "Kef= 3.940000000000001 Win percent= 0.5161290322580645 Games= 16\n",
      "Kef= 3.960000000000001 Win percent= 0.5161290322580645 Games= 16\n",
      "Kef= 3.980000000000001 Win percent= 0.5 Games= 16\n"
     ]
    }
   ],
   "source": [
    "for k in np.arange(0.1, 4, 0.02):\n",
    "    Res_anal=Results_new[Results_new['Total_Chance']<=k]\n",
    "    am_tot=Res_anal.count()\n",
    "    am_won=Res_anal[Res_anal.FTR<=2].count()\n",
    "    if (am_won[0]/am_tot[0]>0.45):\n",
    "        print('Kef=',k,'Win percent=',am_won[0]/am_tot[0],'Games=',am_won[0])"
   ]
  },
  {
   "cell_type": "code",
   "execution_count": 232,
   "metadata": {},
   "outputs": [
    {
     "name": "stderr",
     "output_type": "stream",
     "text": [
      "C:\\Users\\vova_oderii\\Anaconda3\\lib\\site-packages\\ipykernel_launcher.py:5: RuntimeWarning: invalid value encountered in longlong_scalars\n",
      "  \"\"\"\n"
     ]
    },
    {
     "name": "stdout",
     "output_type": "stream",
     "text": [
      "Kef= 1.1400000000000003 Win percent= 1.0 Games= 1\n",
      "Kef= 1.1600000000000004 Win percent= 1.0 Games= 1\n",
      "Kef= 1.1800000000000004 Win percent= 1.0 Games= 1\n",
      "Kef= 1.2000000000000004 Win percent= 1.0 Games= 1\n",
      "Kef= 1.2200000000000002 Win percent= 1.0 Games= 2\n",
      "Kef= 1.2400000000000002 Win percent= 1.0 Games= 2\n",
      "Kef= 1.2600000000000002 Win percent= 1.0 Games= 2\n",
      "Kef= 1.2800000000000002 Win percent= 1.0 Games= 2\n",
      "Kef= 1.3000000000000003 Win percent= 1.0 Games= 3\n",
      "Kef= 1.3200000000000003 Win percent= 1.0 Games= 3\n",
      "Kef= 1.3400000000000003 Win percent= 1.0 Games= 3\n",
      "Kef= 1.3600000000000003 Win percent= 1.0 Games= 3\n",
      "Kef= 1.3800000000000003 Win percent= 1.0 Games= 4\n",
      "Kef= 1.4000000000000004 Win percent= 1.0 Games= 4\n",
      "Kef= 1.4200000000000004 Win percent= 1.0 Games= 4\n",
      "Kef= 1.4400000000000004 Win percent= 1.0 Games= 4\n",
      "Kef= 1.4600000000000004 Win percent= 1.0 Games= 4\n",
      "Kef= 1.4800000000000004 Win percent= 1.0 Games= 4\n",
      "Kef= 1.5000000000000004 Win percent= 1.0 Games= 4\n",
      "Kef= 1.5200000000000005 Win percent= 1.0 Games= 4\n",
      "Kef= 1.5400000000000005 Win percent= 1.0 Games= 4\n",
      "Kef= 1.5600000000000003 Win percent= 1.0 Games= 4\n",
      "Kef= 1.5800000000000003 Win percent= 1.0 Games= 4\n",
      "Kef= 1.6000000000000003 Win percent= 1.0 Games= 4\n",
      "Kef= 1.6200000000000003 Win percent= 1.0 Games= 4\n",
      "Kef= 1.6400000000000003 Win percent= 1.0 Games= 4\n",
      "Kef= 1.6600000000000004 Win percent= 1.0 Games= 4\n",
      "Kef= 1.6800000000000004 Win percent= 1.0 Games= 4\n",
      "Kef= 1.7000000000000004 Win percent= 1.0 Games= 4\n",
      "Kef= 1.7200000000000004 Win percent= 1.0 Games= 4\n",
      "Kef= 1.7400000000000004 Win percent= 1.0 Games= 4\n",
      "Kef= 1.7600000000000005 Win percent= 1.0 Games= 4\n",
      "Kef= 1.7800000000000005 Win percent= 1.0 Games= 4\n",
      "Kef= 1.8000000000000005 Win percent= 1.0 Games= 4\n",
      "Kef= 1.8200000000000005 Win percent= 1.0 Games= 4\n",
      "Kef= 1.8400000000000005 Win percent= 1.0 Games= 4\n",
      "Kef= 1.8600000000000003 Win percent= 1.0 Games= 4\n",
      "Kef= 1.8800000000000003 Win percent= 1.0 Games= 4\n",
      "Kef= 1.9000000000000004 Win percent= 1.0 Games= 4\n",
      "Kef= 1.9200000000000004 Win percent= 1.0 Games= 4\n",
      "Kef= 1.9400000000000004 Win percent= 1.0 Games= 4\n",
      "Kef= 1.9600000000000004 Win percent= 1.0 Games= 4\n",
      "Kef= 1.9800000000000004 Win percent= 1.0 Games= 4\n",
      "Kef= 2.0000000000000004 Win percent= 1.0 Games= 4\n",
      "Kef= 2.0200000000000005 Win percent= 1.0 Games= 4\n",
      "Kef= 2.0400000000000005 Win percent= 1.0 Games= 4\n",
      "Kef= 2.0600000000000005 Win percent= 1.0 Games= 4\n",
      "Kef= 2.0800000000000005 Win percent= 1.0 Games= 4\n",
      "Kef= 2.1000000000000005 Win percent= 1.0 Games= 4\n",
      "Kef= 2.1200000000000006 Win percent= 1.0 Games= 4\n",
      "Kef= 2.1400000000000006 Win percent= 1.0 Games= 4\n",
      "Kef= 2.1600000000000006 Win percent= 1.0 Games= 5\n",
      "Kef= 2.1800000000000006 Win percent= 1.0 Games= 5\n",
      "Kef= 2.2000000000000006 Win percent= 1.0 Games= 5\n",
      "Kef= 2.2200000000000006 Win percent= 1.0 Games= 6\n",
      "Kef= 2.2400000000000007 Win percent= 1.0 Games= 6\n",
      "Kef= 2.2600000000000007 Win percent= 1.0 Games= 6\n",
      "Kef= 2.2800000000000007 Win percent= 1.0 Games= 6\n",
      "Kef= 2.3000000000000007 Win percent= 1.0 Games= 7\n",
      "Kef= 2.3200000000000007 Win percent= 1.0 Games= 7\n",
      "Kef= 2.3400000000000003 Win percent= 1.0 Games= 7\n",
      "Kef= 2.3600000000000003 Win percent= 1.0 Games= 7\n",
      "Kef= 2.3800000000000003 Win percent= 0.875 Games= 7\n",
      "Kef= 2.4000000000000004 Win percent= 0.7777777777777778 Games= 7\n",
      "Kef= 2.4200000000000004 Win percent= 0.7777777777777778 Games= 7\n",
      "Kef= 2.4400000000000004 Win percent= 0.7777777777777778 Games= 7\n",
      "Kef= 2.4600000000000004 Win percent= 0.8 Games= 8\n",
      "Kef= 2.4800000000000004 Win percent= 0.8181818181818182 Games= 9\n",
      "Kef= 2.5000000000000004 Win percent= 0.8181818181818182 Games= 9\n",
      "Kef= 2.5200000000000005 Win percent= 0.8333333333333334 Games= 10\n",
      "Kef= 2.5400000000000005 Win percent= 0.8333333333333334 Games= 10\n",
      "Kef= 2.5600000000000005 Win percent= 0.8461538461538461 Games= 11\n",
      "Kef= 2.5800000000000005 Win percent= 0.8461538461538461 Games= 11\n",
      "Kef= 2.6000000000000005 Win percent= 0.8461538461538461 Games= 11\n",
      "Kef= 2.6200000000000006 Win percent= 0.8571428571428571 Games= 12\n",
      "Kef= 2.6400000000000006 Win percent= 0.8571428571428571 Games= 12\n",
      "Kef= 2.6600000000000006 Win percent= 0.8571428571428571 Games= 12\n",
      "Kef= 2.6800000000000006 Win percent= 0.8571428571428571 Games= 12\n",
      "Kef= 2.7000000000000006 Win percent= 0.8235294117647058 Games= 14\n",
      "Kef= 2.7200000000000006 Win percent= 0.8235294117647058 Games= 14\n",
      "Kef= 2.7400000000000007 Win percent= 0.7777777777777778 Games= 14\n",
      "Kef= 2.7600000000000007 Win percent= 0.7894736842105263 Games= 15\n",
      "Kef= 2.7800000000000007 Win percent= 0.7894736842105263 Games= 15\n",
      "Kef= 2.8000000000000007 Win percent= 0.7894736842105263 Games= 15\n",
      "Kef= 2.8200000000000007 Win percent= 0.7894736842105263 Games= 15\n",
      "Kef= 2.8400000000000007 Win percent= 0.7894736842105263 Games= 15\n",
      "Kef= 2.8600000000000008 Win percent= 0.7894736842105263 Games= 15\n",
      "Kef= 2.880000000000001 Win percent= 0.7894736842105263 Games= 15\n",
      "Kef= 2.900000000000001 Win percent= 0.7894736842105263 Games= 15\n",
      "Kef= 2.920000000000001 Win percent= 0.8 Games= 16\n",
      "Kef= 2.940000000000001 Win percent= 0.8 Games= 16\n",
      "Kef= 2.960000000000001 Win percent= 0.8 Games= 16\n",
      "Kef= 2.980000000000001 Win percent= 0.8 Games= 16\n",
      "Kef= 3.1600000000000006 Win percent= 0.76 Games= 19\n",
      "Kef= 3.1800000000000006 Win percent= 0.76 Games= 19\n",
      "Kef= 3.2000000000000006 Win percent= 0.76 Games= 19\n",
      "Kef= 3.2200000000000006 Win percent= 0.76 Games= 19\n",
      "Kef= 3.2400000000000007 Win percent= 0.7692307692307693 Games= 20\n",
      "Kef= 3.2600000000000007 Win percent= 0.7777777777777778 Games= 21\n",
      "Kef= 3.2800000000000007 Win percent= 0.7777777777777778 Games= 21\n",
      "Kef= 3.3000000000000007 Win percent= 0.7777777777777778 Games= 21\n",
      "Kef= 3.3200000000000007 Win percent= 0.7777777777777778 Games= 21\n",
      "Kef= 3.3400000000000007 Win percent= 0.7777777777777778 Games= 21\n",
      "Kef= 3.440000000000001 Win percent= 0.7586206896551724 Games= 22\n",
      "Kef= 3.460000000000001 Win percent= 0.7586206896551724 Games= 22\n"
     ]
    }
   ],
   "source": [
    "for k in np.arange(0.1, 4, 0.02):\n",
    "    Res_anal=Results_new[Results_new['Total_Chance']<=k]\n",
    "    am_tot=Res_anal.count()\n",
    "    am_won=Res_anal[Res_anal.FTR<=3].count()\n",
    "    if (am_won[0]/am_tot[0]>0.75):\n",
    "        print('Kef=',k,'Win percent=',am_won[0]/am_tot[0],'Games=',am_won[0])"
   ]
  },
  {
   "cell_type": "code",
   "execution_count": 58,
   "metadata": {},
   "outputs": [],
   "source": [
    "#Results.to_excel(\"Results_both_output.xlsx\")"
   ]
  },
  {
   "cell_type": "code",
   "execution_count": null,
   "metadata": {},
   "outputs": [],
   "source": [
    "# End of poisson model"
   ]
  }
 ],
 "metadata": {
  "kernelspec": {
   "display_name": "Python 3",
   "language": "python",
   "name": "python3"
  },
  "language_info": {
   "codemirror_mode": {
    "name": "ipython",
    "version": 3
   },
   "file_extension": ".py",
   "mimetype": "text/x-python",
   "name": "python",
   "nbconvert_exporter": "python",
   "pygments_lexer": "ipython3",
   "version": "3.7.3"
  }
 },
 "nbformat": 4,
 "nbformat_minor": 2
}
